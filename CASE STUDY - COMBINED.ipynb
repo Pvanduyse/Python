{
 "cells": [
  {
   "cell_type": "markdown",
   "id": "32a43e67-4da6-4982-a0bc-1f0d57373770",
   "metadata": {},
   "source": [
    "# Bioethanol Case Study - Fall 2024"
   ]
  },
  {
   "cell_type": "markdown",
   "id": "5a937bcd-e112-4a67-931d-1ad18e7dd7d2",
   "metadata": {},
   "source": [
    "Completed by Dallin Dunn, CJ Alvez, Justin Labrecque, and Patrick van Duyse as part of CH EN 273 - Chemical Process Principles"
   ]
  },
  {
   "cell_type": "markdown",
   "id": "08b804ca-c2cd-4ed6-80a5-bd221ea38893",
   "metadata": {},
   "source": [
    "### Initialization"
   ]
  },
  {
   "cell_type": "code",
   "execution_count": 1,
   "id": "2bce337f-e3af-46a8-9b58-31ce3aa510e5",
   "metadata": {},
   "outputs": [],
   "source": [
    "import numpy as np\n",
    "from scipy.optimize import fsolve\n",
    "from scipy.integrate import quad\n",
    "# from myengineerpkg import molecular_weights as mw # an external script/package previously written by Patrick"
   ]
  },
  {
   "cell_type": "markdown",
   "id": "74f17271-7693-45b0-b7d8-c705d4353208",
   "metadata": {},
   "source": [
    "### Abbreviations\n",
    "\n",
    "- EtOH: Ethanol\n",
    "- H2O: Water\n",
    "- E199: 199-Proof Ethanol\n",
    "- mash1: Mash after mixing tank and before thin stillage is added\n",
    "- mash2: Final Mash before entering reactors \n",
    "- Other abbreviations taken from [Zybooks](https://learn.zybooks.com/zybook/BYUCHEN273KnottsFall2024/chapter/10/section/2)"
   ]
  },
  {
   "cell_type": "markdown",
   "id": "e8c55807-40c6-4082-a6f0-e8c51f97f5dd",
   "metadata": {},
   "source": [
    "### Properties"
   ]
  },
  {
   "cell_type": "code",
   "execution_count": 2,
   "id": "f5bd4ab2-c370-42c6-85b0-83023e5bef5d",
   "metadata": {},
   "outputs": [],
   "source": [
    "# ideal gas constant\n",
    "R = 0.730240507295273 # ft^3 * atm / lbmol / R0.730240507295273\n",
    "\n",
    "# STP\n",
    "T_R__STP = 273.15 * 9 / 5 # degrees Rankine\n",
    "P_atm__STP = 1 # atm\n",
    "\n",
    "# mash1\n",
    "SG_mash1 = 1.1 # relative to water\n",
    "\n",
    "# bushels\n",
    "m_corn__bushel = 56 # lbm corn per bushel\n",
    "\n",
    "# 199-Proof Ethanol\n",
    "SG_E199 = 0.7962 # at 60 F, relative to water\n",
    "Xvol_EtOH__E199 = 0.9950 # % EtOH in E199 by vol\n",
    "Xwt_EtOH__E199 = 0.9919 # % EtOH in E199 by weight\n",
    "Xmol_EtOH__E199 = 0.9795 # % EtOH in E199 by mole\n",
    "\n",
    "# Ethanol (EtOH)\n",
    "# MW_EtOH = mw.by_formula(\"C2H5OH\") # (g / mol) or (lbm / lbmol)\n",
    "MW_EtOH = 46.069 # (g / mol) or (lbm / lbmol)\n",
    "\n",
    "# Carbon Dioxide (CO2)\n",
    "# MW_CO2 = mw.by_formula(\"CO2\") # (g / mol) or (lbm / lbmol)\n",
    "MW_CO2 = 44.009 # (g / mol) or (lbm / lbmol)\n",
    "\n",
    "# Water (H2O)\n",
    "ρ_H2O__4C = 8.33 # lbm / gal for water @ 4C, used for SG calculations\n",
    "# MW_H2O = mw.by_formula(\"H2O\") # (g / mol) or (lbm / lbmol)\n",
    "MW_H2O = 18.015 # (g / mol) or (lbm / lbmol)\n",
    "\n",
    "# reactor tanks\n",
    "V_tank = 550000 # gal capacity / tank\n",
    "\n",
    "# units\n",
    "GAL_PER_FT3 = 7.48051948"
   ]
  },
  {
   "cell_type": "markdown",
   "id": "75cafbb8-9910-4cf4-8d6f-e70283fde638",
   "metadata": {},
   "source": [
    "### Specifications"
   ]
  },
  {
   "cell_type": "code",
   "execution_count": 3,
   "id": "f2519ef7-fa9a-4907-91ec-afe743e934ca",
   "metadata": {},
   "outputs": [],
   "source": [
    "# yields and flows per bushel\n",
    "V_mash1__bushel = 22 # gal mash1 per bushel\n",
    "V_mash2__bushel = 25 # gal mash2 per bushel\n",
    "V_E199__bushel = 2.57 # gal E199 produced per bushel\n",
    "\n",
    "# reactors\n",
    "tank_fill = 0.9 # vol% mash2 / capacity\n",
    "tank_count = 8 # tanks / cycle\n",
    "T__tank = 8 # hrs / tank\n",
    "\n",
    "# plant uptime\n",
    "T_uptime__annual = 330*24 # hrs / year (330 days -> hrs)"
   ]
  },
  {
   "cell_type": "markdown",
   "id": "68f13362-7dbd-4e4c-86b2-9a2f2ddfa9a2",
   "metadata": {},
   "source": [
    "### Problem 1 (Medium to High)\n",
    "\n",
    "> Construct a process flow diagram of the process and a separate diagram for one of the fermentation batteries containing two reaction vessels, one pump, and one heat exchanger. Calculate and fill in the component flow rates $\\left(\\frac{lb_m}{hr}\\right)$ and temperatures of each stream on the chart to the extent possible from the given information."
   ]
  },
  {
   "cell_type": "markdown",
   "id": "2bbd4a5e-8def-4835-92d0-1a437ba68c88",
   "metadata": {},
   "source": [
    "**Previously submitted. See Appendix 1**"
   ]
  },
  {
   "attachments": {},
   "cell_type": "markdown",
   "id": "b5df3a7c-22aa-42a0-bb52-3e72d46e54ef",
   "metadata": {},
   "source": [
    "### Problem 2 (Low)\n",
    "\n",
    "> Operation of the fermentation reactors in a batch mode adds considerable complexity to the process. To assist with estimating the personnel requirements and options for automatic control for the fermentation plant, develop a schedule for switching the operation of the eight fermenters to provide for continuous feed to the section and appropriate circulation of mash through the heat exchangers. The schedule should identify 8-hr periods for each fermenter; the periods are for the fermenter being fed, emptied, operated adiabatically, and operated with cooling."
   ]
  },
  {
   "cell_type": "markdown",
   "id": "d9f0c8cc-72a1-429f-8eb7-f96a16b5f11d",
   "metadata": {},
   "source": [
    "#### Logic\n",
    "Since the cooling pump only allows us to cool one tank from each set at a time, the paired tanks need to be staggered. Staggering them by a single 8-hour period allows us to keep the same pattern for all tanks, filling one at a time, with 48 hours of reaction time, 24 hours of which are cooling for each tank.\n",
    "\n",
    "Having the 48-hr reaction period alternate between cooling operation and adiabatic operation allows for the temperature to stay as close to the desired temperature range as possible. In the final cooling period (right before emptying the tanks) the tank would ideally only be cooled to 90 F, allowing the intermediate products to enter the storage tank at the same temperature as the tank. This allows the storage tank to be steady-state (as far as temperature is concerned) despite the variable volume.\n",
    "\n",
    "#### Schedule\n",
    "|Unit|  0 |  8 | 16 | 24 | 32 | 40 | 48 | 56 |\n",
    "|----|----|----|----|----|----|----|----|----|\n",
    "|  1 |  F |  A |  C |  A |  C |  A |  C |  E |\n",
    "|  2 |  E |  F |  A |  C |  A |  C |  A |  C |\n",
    "\n",
    "#### Legend\n",
    "- F: Filling\n",
    "- A: Operating Adiabatically\n",
    "- C: Operating while Cooling\n",
    "- E: Emptying\n",
    "\n",
    "This can be repeated for the other 3 reactor pairs, with a 16-hr stagger between pairs, and a total of 8 tanks filled over 64 hours."
   ]
  },
  {
   "cell_type": "markdown",
   "id": "156f0948-5125-43c6-8d07-77de934f3da8",
   "metadata": {},
   "source": [
    "### Problem 3 (Low)\n",
    "\n",
    "> Calculate the feed rate of corn in $\\frac{\\text{lb}_m}{\\text{hr}}$. Estimate the acreage required to supply this plant with corn."
   ]
  },
  {
   "cell_type": "markdown",
   "id": "9aed1a6d-bea8-478a-90a1-4758f8d0067c",
   "metadata": {},
   "source": [
    "#### Logic\n",
    "Since we know how much final mash we need to fill the reaction tanks, and we know how frequently the tanks are filled, figuring out the mass flow rate of the final mash is trivial. We are also given the ratio of final mash to bushels, and the weight of corn per bushel, allowing for some trivial calculations to calculate the feed rate of the corn.\n",
    "\n",
    "As for the acreage, based on [statistics from the USDA](https://www.nass.usda.gov/Charts_and_Maps/Crops_County/cr-yi.php), the annual corn harvest per acre in Iowa looks to be either 175-209.9 bushels or 210+ bushels, depending on the county. We will use 175 bushels in our calculations to adjust for harvest fluctuation. Calculating how many days/year the plant is active yields the active hours per year, allowing us to calculate the annual bushel demand and the consequent acreage requirement."
   ]
  },
  {
   "cell_type": "markdown",
   "id": "4ef19a6c-6865-40d6-ac9c-b2e52b8f867b",
   "metadata": {},
   "source": [
    "#### Calculations"
   ]
  },
  {
   "cell_type": "code",
   "execution_count": 4,
   "id": "68b7c275-3767-4937-bc3d-fea967222a4a",
   "metadata": {},
   "outputs": [
    {
     "name": "stdout",
     "output_type": "stream",
     "text": [
      "V̇_mash2 = 61875 gal/hr\n",
      "ṅ_bushel__in = 2475 bushels/hr\n",
      "ṁ_corn__in = 138600 lbm/hr\n"
     ]
    }
   ],
   "source": [
    "# final mash calculations\n",
    "V_mash2__tank = V_tank * tank_fill # gal mash2 / tank\n",
    "V̇_mash2__cycle = V_mash2__tank * tank_count # gal mash2 / cycle\n",
    "T__cycle = T__tank * tank_count # hrs / cycle\n",
    "\n",
    "V̇_mash2 = V̇_mash2__cycle / T__cycle # gal mash2 / hr\n",
    "print(rf\"V̇_mash2 = {V̇_mash2:.0f} gal/hr\")\n",
    "\n",
    "# bushel calculations\n",
    "ṅ_bushel__in = V̇_mash2/V_mash2__bushel # # bushels / hr\n",
    "print(rf\"ṅ_bushel__in = {ṅ_bushel__in:.0f} bushels/hr\")\n",
    "\n",
    "# corn feed rate calculations\n",
    "ṁ_corn__in = ṅ_bushel__in * m_corn__bushel # lbm corn / hr\n",
    "print(rf\"ṁ_corn__in = {ṁ_corn__in:.0f} lbm/hr\")"
   ]
  },
  {
   "cell_type": "code",
   "execution_count": 5,
   "id": "6baf0b1b-c57a-4eb4-a333-a28f56baa600",
   "metadata": {},
   "outputs": [
    {
     "name": "stdout",
     "output_type": "stream",
     "text": [
      "n_acres ~= 112000 acres\n"
     ]
    }
   ],
   "source": [
    "# from USDA statistics\n",
    "ṅ_bushel__acre = 175 # bushels / acre / year\n",
    "\n",
    "# annual bushel demand and acreage calculations\n",
    "ṅ_bushel__annual = ṅ_bushel__in * T_uptime__annual # bushels / year\n",
    "\n",
    "n_acres = ṅ_bushel__annual / ṅ_bushel__acre # acres\n",
    "print(rf\"n_acres ~= {round(n_acres,-3):.0f} acres\")"
   ]
  },
  {
   "cell_type": "markdown",
   "id": "fec572dd-f229-4b9f-8c52-83a677d50751",
   "metadata": {},
   "source": [
    "### Problem 4 (Low)\n",
    "\n",
    "> Calculate the molar flow rate $\\left(\\frac{lbmol}{hr}\\right)$ of ethanol product."
   ]
  },
  {
   "cell_type": "markdown",
   "id": "97dd2b71-3440-4baf-9c20-409cab76c3b7",
   "metadata": {},
   "source": [
    "#### Logic\n",
    "The yield of 199-Proof Ethanol per bushel has been specified, and the bushel feed rate has already been calculated. The specifications for 199-Proof Ethanol include it's specific gravity (which we assume is relative to water at 4 C) and the weight content of Ethanol in 199-Proof Ethanol. Combining these allows us to calculate the yield of pure ethanol by mass. Dividing by ethanol's molecular weight gives us the molar flow rate of pure ethanol product."
   ]
  },
  {
   "cell_type": "markdown",
   "id": "fe9c4e8e-cc96-4e00-8096-b005e47940e7",
   "metadata": {},
   "source": [
    "#### Calculations"
   ]
  },
  {
   "cell_type": "code",
   "execution_count": 6,
   "id": "8099820e-0f60-473d-a598-e01d09afaa83",
   "metadata": {},
   "outputs": [
    {
     "name": "stdout",
     "output_type": "stream",
     "text": [
      "ṅ_EtOH__out = 908.31 lbmol/hr\n"
     ]
    }
   ],
   "source": [
    "# 199-Proof Ethanol yield calculations\n",
    "ρ_E199 = ρ_H2O__4C * SG_E199 # lbm E199 / gal E199\n",
    "V̇_E199__out = V_E199__bushel * ṅ_bushel__in # gal E199 / hr\n",
    "ṁ_E199__out = V̇_E199__out * ρ_E199 # lbm E199 / hr\n",
    "\n",
    "# Pure Ethanol yield calculations \n",
    "ṁ_EtOH__out = ṁ_E199__out * Xwt_EtOH__E199 # lbm EtOH / hr\n",
    "ṅ_EtOH__out = ṁ_EtOH__out / MW_EtOH # lbmol EtOH / hr\n",
    "\n",
    "print(rf\"ṅ_EtOH__out = {ṅ_EtOH__out:.2f} lbmol/hr\")"
   ]
  },
  {
   "attachments": {},
   "cell_type": "markdown",
   "id": "bbf361c1-ef59-49ec-9d38-82ca6ef73287",
   "metadata": {},
   "source": [
    "### Problem 5 (Low)\n",
    "> How much water (combined fresh water and condensates) must be added to the mixing tank to obtain the desired mash volume?"
   ]
  },
  {
   "cell_type": "markdown",
   "id": "c09d0364-dbcc-47c3-95fb-e32aad7783b8",
   "metadata": {},
   "source": [
    "#### Logic\n",
    "\n",
    "Since we are specified the volume of mash coming out per bushel in, the specific gravity of the mash, and the mass of corn going in a trivial overall mass balance allows us to know how much mass is added (water and condensates) to the mash.\n",
    "\n",
    "Simple mass balance on the mixer:\n",
    "\n",
    "$$\n",
    "\\dot{m}_\\text{corn,in} + \\dot{m}_{H_2O,in} = \\dot{m}_\\text{mash1}\n",
    "$$\n",
    "\n",
    "Which then gives us:\n",
    "\n",
    "$$\n",
    "\\dot{m}_{H_2O,in} = \\dot{m}_\\text{mash1} - \\dot{m}_\\text{corn,in}\n",
    "$$"
   ]
  },
  {
   "cell_type": "markdown",
   "id": "d3d91b11-3f49-4bc7-86d7-831e315a1260",
   "metadata": {},
   "source": [
    "#### Calculations"
   ]
  },
  {
   "cell_type": "code",
   "execution_count": 7,
   "id": "922be758-bb56-471b-b21c-1c0d4fb982fd",
   "metadata": {},
   "outputs": [
    {
     "name": "stdout",
     "output_type": "stream",
     "text": [
      "ṁ_H2O_in = 360325 lbm/hr\n"
     ]
    }
   ],
   "source": [
    "# Mash calculations\n",
    "V̇_mash1 = ṅ_bushel__in * V_mash1__bushel # gal mash1 / hr\n",
    "ρ_mash1 = SG_mash1 * ρ_H2O__4C # lbm mash1 / gal\n",
    "ṁ_mash1 = V̇_mash1 * ρ_mash1 # lbm mash1 / hr\n",
    "\n",
    "# Water calculations\n",
    "ṁ_H2O_in = ṁ_mash1 - ṁ_corn__in\n",
    "\n",
    "print(rf\"ṁ_H2O_in = {ṁ_H2O_in:.0f} lbm/hr\")"
   ]
  },
  {
   "cell_type": "markdown",
   "id": "f8e66795-fe05-4880-adf0-ae86c8b13372",
   "metadata": {},
   "source": [
    "### Problem 6 (Low)\n",
    "\n",
    "> The $\\text{CO}_2$ produced as a by-product from the fermentation reactor may be useful if it is recovered in sufficient quantity. Estimate the production rate of CO2 in $\\frac{\\text{lbmol}}{\\text{hr}}$ and SCFM."
   ]
  },
  {
   "attachments": {},
   "cell_type": "markdown",
   "id": "109ebc2d-5070-47ad-8aea-cfa93650f43d",
   "metadata": {},
   "source": [
    "#### Logic\n",
    "This is the formula for the relevant reaction:\n",
    "\n",
    "$$\n",
    "C_{12}H_{22}O_{11} + H_2O + (\\text{yeast}) \\rightarrow 4C_2H_5OH + 4CO_2 + (\\text{yeast}) + (H_2O)\n",
    "$$\n",
    "\n",
    "Since the ethanol and $CO_2$ are produced in proportion to each other, and we don't start with any of either, their mole flow rates are also equal.\n",
    "\n",
    "Since standard temperature and pressure (STP) aren't specified in the problem, we are using the STP defined in Zybooks (T = 0C, P = 1 atm), under which conditions $CO_2$ is a gas. Using the ideal gas law allows us to get a volumetric flow rate at STP."
   ]
  },
  {
   "cell_type": "code",
   "execution_count": 8,
   "id": "5ab1db5f-3e70-4401-8a5f-12d6a36d55d3",
   "metadata": {},
   "outputs": [
    {
     "name": "stdout",
     "output_type": "stream",
     "text": [
      "ṅ_CO2__out = 908.3 lbmol/hr\n",
      "V̇_CO2_out = 5435 SCFM (ft^3/min)\n"
     ]
    }
   ],
   "source": [
    "ṅ_CO2__out = ṅ_EtOH__out # lbmol / hr\n",
    "V̇_CO2_out = ṅ_CO2__out * R * T_R__STP / P_atm__STP / 60 # ft^3 / min at STP conditions, or SCFM\n",
    "\n",
    "print(rf\"ṅ_CO2__out = {ṅ_CO2__out:.1f} lbmol/hr\")\n",
    "print(rf\"V̇_CO2_out = {V̇_CO2_out:.0f} SCFM (ft^3/min)\")"
   ]
  },
  {
   "attachments": {},
   "cell_type": "markdown",
   "id": "934bf967-0220-43c2-8b5a-010659adbd24",
   "metadata": {},
   "source": [
    "### Problem 7 (Medium)\n",
    "\n",
    "> Estimate the temperature of the bottom streams leaving the azeotrope column and the stripper."
   ]
  },
  {
   "cell_type": "markdown",
   "id": "92af8eb3-90ff-4a47-9c45-721f8c671937",
   "metadata": {},
   "source": [
    "#### Logic\n",
    "\n",
    "We know that the azeotrope column and the stripper are both operating at VLE. Because of this we can use Raoult's Law or just the Antoine equation "
   ]
  },
  {
   "cell_type": "markdown",
   "id": "21c82461-725c-439c-aa4f-61014a9f001f",
   "metadata": {},
   "source": [
    "#### Calculations"
   ]
  },
  {
   "cell_type": "code",
   "execution_count": 9,
   "id": "ecfab803-3720-4afc-9a07-19456a75331d",
   "metadata": {},
   "outputs": [],
   "source": [
    "# knowns\n",
    "\n",
    "x1 = Xmol_EtOH__E199 # ethanol\n",
    "x2 = 1-x1 # water\n",
    "P = 2.0265 # bar, system pressure in stripper"
   ]
  },
  {
   "cell_type": "code",
   "execution_count": 10,
   "id": "ba5aaada-5210-46d5-be6b-e6b673f60d10",
   "metadata": {},
   "outputs": [
    {
     "data": {
      "text/plain": [
       "1.0132527754404501"
      ]
     },
     "execution_count": 10,
     "metadata": {},
     "output_type": "execute_result"
    }
   ],
   "source": [
    "def psat(t,i):\n",
    "    if i == 1:  # ethanol\n",
    "        A = 8.13484\t\n",
    "        B = 1662.48\t\n",
    "        C = 238.131\n",
    "     \n",
    "    elif i == 2:  # water\n",
    "        A = 8.05573\t\n",
    "        B = 1723.64\t\n",
    "        C = 233.076\n",
    "     \n",
    "\n",
    "        # Calculate saturation pressure using Antoine equation\n",
    "    P_sat = 10 ** (A - (B/ (t + C))) / 750.062 # convert to bar\n",
    "    return(P_sat)  # in bar\n",
    "\n",
    "psat(100,2)"
   ]
  },
  {
   "cell_type": "code",
   "execution_count": 11,
   "id": "3bfe7fff-563d-4d24-9123-fdda49f66b69",
   "metadata": {},
   "outputs": [],
   "source": [
    "# function for fsolve for stripper\n",
    "\n",
    "def f(a):\n",
    "    eq1 =  P - psat(a,2)\n",
    "    return(eq1)"
   ]
  },
  {
   "cell_type": "code",
   "execution_count": 12,
   "id": "26e7e707-f609-4f99-a8d3-d66809b4dcb9",
   "metadata": {},
   "outputs": [
    {
     "data": {
      "text/plain": [
       "-4.219880124915525"
      ]
     },
     "execution_count": 12,
     "metadata": {},
     "output_type": "execute_result"
    }
   ],
   "source": [
    "guesses = 160\n",
    "f(guesses)"
   ]
  },
  {
   "cell_type": "code",
   "execution_count": 13,
   "id": "46333f71-a982-42c3-a76a-775861176c3d",
   "metadata": {},
   "outputs": [],
   "source": [
    "ans = fsolve(f, guesses)\n",
    "TF = ans[0] * 9/5 + 32"
   ]
  },
  {
   "cell_type": "code",
   "execution_count": 14,
   "id": "bd408d39-39c6-488e-8eb6-c6b4cf8e9523",
   "metadata": {},
   "outputs": [
    {
     "name": "stdout",
     "output_type": "stream",
     "text": [
      "t = 120.572 Celsius\n",
      "t = 249.0296 Farenheit\n"
     ]
    }
   ],
   "source": [
    "print('t =', round(ans[0], 4), 'Celsius')\n",
    "print('t =', round(TF, 4), 'Farenheit')\n",
    "# for the stripper"
   ]
  },
  {
   "cell_type": "code",
   "execution_count": 15,
   "id": "9016f42a-d3f1-4e26-9ac6-085476b19fa8",
   "metadata": {},
   "outputs": [],
   "source": [
    "# function for fsolve for azeotrope column\n",
    "Pac = 3.34373 # bar, system pressure for azeotrope column\n",
    "\n",
    "def f1(a):\n",
    "    t, y1 = a\n",
    "    eq1 = x1 * psat(t,1) - y1 * Pac\n",
    "    eq2 = x2 * psat(t,2) - (1-y1) * Pac\n",
    "    return([eq1,eq2])"
   ]
  },
  {
   "cell_type": "code",
   "execution_count": 16,
   "id": "b5369e8f-9d4d-42f0-aa35-3938c5d4a29a",
   "metadata": {},
   "outputs": [
    {
     "data": {
      "text/plain": [
       "[25.918410589219683, -0.3433648243825201]"
      ]
     },
     "execution_count": 16,
     "metadata": {},
     "output_type": "execute_result"
    }
   ],
   "source": [
    "guesses1 = [200,0.8]\n",
    "f1(guesses1)"
   ]
  },
  {
   "cell_type": "code",
   "execution_count": 17,
   "id": "3731642b-1d70-4300-8e20-e1d7a72f32cf",
   "metadata": {},
   "outputs": [],
   "source": [
    "ans1 = fsolve(f1, guesses1)\n",
    "TF1 = ans1[0] * 9/5 + 32"
   ]
  },
  {
   "cell_type": "code",
   "execution_count": 18,
   "id": "182dad90-2eba-43fa-847b-fe4677378f68",
   "metadata": {},
   "outputs": [
    {
     "name": "stdout",
     "output_type": "stream",
     "text": [
      "t = 113.2854 Celsius\n",
      "t = 235.9137 Farenheit\n"
     ]
    }
   ],
   "source": [
    "print('t =', round(ans1[0], 4), 'Celsius')\n",
    "print('t =', round(TF1, 4), 'Farenheit')\n",
    "# for the azeotrope column"
   ]
  },
  {
   "attachments": {},
   "cell_type": "markdown",
   "id": "c6fb4d09-cf26-4c92-8ec0-fac773227e52",
   "metadata": {},
   "source": [
    "### Problem 8 (High)\n",
    "\n",
    "> What fraction of the dried grains must be recycled to control the moisture content of the grains entering the dryer? What production rate of dried grains can be expected from this process?\n",
    "This problem involves solving multiple parts of the system. Start with figuring out the amount of dried grains leaving the ethanol concentrator.)"
   ]
  },
  {
   "cell_type": "markdown",
   "id": "877cb4fc-20d8-40ef-8d9b-82426d661114",
   "metadata": {},
   "source": [
    "#### Logic\n",
    "\n",
    "First we solved for the total amount of ethanol produced in the process. Because we are given the volumetric fractions of this stream, we are also able to solve for the amount of water and solids which we need later.  \n",
    "\n",
    "All of the ethanol leaves the Ethanol Concentrator Column's Condenser as the tops. We are given the molar fractions of this stream leaving (AKA the Azetrope Column Inlet), so we can solve for the water leaving in the tops. Taking the differents of this tops leaving water and the total water, we can solve for the bottoms water flow rate.\n",
    "\n",
    "The bottoms enters the flash containing the calculated bottoms water and all of the solids. The conditions of this stream(liquid + solids) are 50 psig and 305 F. This stream is flashed to atmospheric pressure producing and exiting vapor stream and a liquid stream that enters the centrifuge which spilts into two streams(solid-rich and water-rich). To solve for the liquid streams, we had to do an energy balance of the liquid water and solids entering the flash and the (stream 1) vapor water and (stream 2) liquid water and solids exiting using the follow equation solving for both m<sub>v</sub> and m<sub>l</sub>.\n",
    "\n",
    "$$$$\n",
    "$$ m_wh_w(305F, 64.7psi) + m_sh_s(305F) = m_vh_v(14.7psi, sat) + m_lh_l(14.7psi, sat) + m_sh_s(212F) $$\n",
    "$$ m_w= m_v + m_l$$\n",
    "$$$$\n",
    "We can use a mass balance of the solids in the rest of the streams, plus the additons equations that the water leaving the flash (AKA entering the cenetrifuge) is equal to 0.70 of solid-rich streams and 0.96 of water-rich streams.\n",
    "\n",
    "Solids for all of the streams using the fact that all of the solids entering must exit the whole dry grains process in the exit stream or return in the recyling thin-stillage stream, this allowed use to solve for the streams without having to solve the enthalpy of the two drying steps to calculated the water leaving mid-process.\n",
    "\n",
    "We found that the fraction of dried grains recycled was 0.97887, and the flowrate of the producted dried grains is 41147.3563 lbm/hr."
   ]
  },
  {
   "cell_type": "markdown",
   "id": "3c9c2e18-ee73-464f-90c1-08783c7cccae",
   "metadata": {},
   "source": [
    "#### Calculations"
   ]
  },
  {
   "cell_type": "code",
   "execution_count": 19,
   "id": "624aa3ae-50fc-4a11-aa53-69be4a734849",
   "metadata": {},
   "outputs": [
    {
     "name": "stdout",
     "output_type": "stream",
     "text": [
      "[ 46545.93408642 458286.36369685]\n",
      "m1 = 79646.7158 lb/hr\n",
      "m2 = 419305.8986 lb/hr\n",
      "m3 = 32846.5149 lb/hr\n",
      "m4 = 2503610.0511 lb/hr\n",
      "m5 = 1947252.2620 lb/hr\n",
      "m6 = 41147.3563 lb/hr\n",
      "m7 = 1906104.9056 lb/hr\n",
      "\n",
      "The fraction of dry grains recycled is 0.97887\n",
      "And about = 41147.3563 lb/hr of dry grain producted\n"
     ]
    }
   ],
   "source": [
    "#PREPARATION RECOVERY SYSTEM\n",
    "#ETHANOL BASIS\n",
    "\n",
    "wtPer_Ethanol = 7.1/100 #wtfrac\n",
    "wtPer_Solids = 6.9/100  #wtfrac\n",
    "wtPer_Water = 1-wtPer_Ethanol-wtPer_Solids    #wtfrac\n",
    "\n",
    "# lb_exitFlash*wtPer_Ethanol = lbEthanol\n",
    "lb_exitFlash = ṁ_EtOH__out/wtPer_Ethanol #lbm/hr\n",
    "\n",
    "lbSolids = wtPer_Solids*lb_exitFlash\n",
    "lbWater = wtPer_Water*lb_exitFlash\n",
    "\n",
    "#_______________________________________________\n",
    "\n",
    "nEthConc_Dist = ṅ_EtOH__out/0.89\n",
    "mEthConc_Dist_Water = nEthConc_Dist*0.11*MW_H2O\n",
    "nEthConc_Dist_Water = nEthConc_Dist*0.11\n",
    "\n",
    "mEthConc_Bottom_Water = lbWater - mEthConc_Dist_Water\n",
    "\n",
    "#_______________________________________________\n",
    "\n",
    "#Recycled Thin Stillage (AKA. mLV)\n",
    "# \"Thin stillage SG = 1.1\"\n",
    "# \"The volume of the thin stillage added is 16% of the final mash volume going to the fermenters. \"\n",
    "\n",
    "SG_1_1 = 62.4*1.1   #lbm/ft3\n",
    "\n",
    "vol_hr_mLV = 0.16*V̇_mash2/GAL_PER_FT3\n",
    "lb_hr_mLV = vol_hr_mLV*SG_1_1\n",
    "\n",
    "# \"...thin stillage containing 4 wt% total solids...\"\n",
    "# ended up not using this, but calculated it later\n",
    "\n",
    "lb_hr_mLV_Solids = lb_hr_mLV*0.04\n",
    "\n",
    "# Entering water calculation leaving the flash\n",
    "# SOLVED IN EXCEL AND ON iPad (written) need to move here\n",
    "\n",
    "#FLASH ENERGY BALANCE\n",
    "# inWater + inSolid = outVapor(water) + outLiquid(water) + outSolid\n",
    "# In stream temperature = 305F and 50 psig\n",
    "# Flash and Out 30 inHg (Iowa average atmospheric pressure)\n",
    "# https://forecast.weather.gov/data/obhistory/KIOW.html\n",
    "\n",
    "# ABSOLUTE PRESSURE ENTERING = 50psi + 30 inHg = (50 + 14.7346)psi = 64.7346 psi\n",
    "\n",
    "# hWater_in STREAM TABLES (446.3293555kPa and 151.667 deg, saturated state, so h_fg)\n",
    "\n",
    "hWater_in = 623.14   #kJ/kg\n",
    "kJ_kj2BTU_lb = 2.326\n",
    "hWater_in /= kJ_kj2BTU_lb   #BTU/lb\n",
    "\n",
    "GivenEnthSolid = 0.25   #BTU/(lb*F)\n",
    "hSolid_in = GivenEnthSolid*305 #BTU/lb\n",
    "\n",
    "# 30inHg = 101.5914908kPa\n",
    "# OUTS (Temp of Saturation = 100.0 degC) ***slight adjustments from table\n",
    "# 100 degC = 212 F\n",
    "\n",
    "hWater_L = 419.06 + 0.4 #kJ/kg\n",
    "hWater_V = 2675.6 + 0.2 #kJ/kg\n",
    "\n",
    "hWater_L /= kJ_kj2BTU_lb   #BTU/lb\n",
    "hWater_V /= kJ_kj2BTU_lb   #BTU/lb\n",
    "\n",
    "hSolid_out = GivenEnthSolid*212 #BTU/lb\n",
    "\n",
    "# ENTERING FLASH\n",
    "mEthConc_Bottom_Water\n",
    "lbSolids\n",
    "\n",
    "def f1(ms):\n",
    "    mv, ml = ms\n",
    "    mWi = mEthConc_Bottom_Water\n",
    "    mSol = lbSolids\n",
    "    e1 = mWi*hWater_in + mSol*(hSolid_in - hSolid_out) - (mv*hWater_V + ml*hWater_L)\n",
    "    e2 = mWi - (mv + ml)\n",
    "    return (e1, e2)\n",
    "\n",
    "\n",
    "sol = fsolve(f1, (374747.19105377, 121123.61599223))\n",
    "print(sol)\n",
    "\n",
    "m_Flash_Water = sol[1] #lb/hr\n",
    "\n",
    "\n",
    "def fx(var):\n",
    "    m1, m2, m3, m4, m5, m6, m7 = var\n",
    "\n",
    "    solids1 = 0.30*m1\n",
    "    solids2 = 0.04*m2\n",
    "    solidsLV = 0.04*lb_hr_mLV\n",
    "    solids3 = 0.40*m3\n",
    "    solids4 = (1-0.30)*m4\n",
    "    solids5 = (1-0.10)*m5\n",
    "    solids6 = (1-0.10)*m6\n",
    "    solids7 = (1-0.10)*m7\n",
    "\n",
    "    e1 = solidsLV + solids6 - lbSolids\n",
    "    e2 = solids1 + solids2 - lbSolids\n",
    "    e3 = solidsLV + solids3 - solids2\n",
    "    e4 = solids1 + solids3 + solids7 - solids4\n",
    "    e5 = solids6 + solids7 - solids5\n",
    "    #e6 = solids1 + solids3 + solids7 - solids4  #SAME as e4!!!\n",
    "    e6 = (1-0.30)*m1 + (1-0.04)*m2 - m_Flash_Water\n",
    "    e7 = solids4 - solids5\n",
    "\n",
    "\n",
    "    return (e1, e2, e3, e4, e5, e6, e7)\n",
    "\n",
    "guess = (lb_hr_mLV*1.70, lb_hr_mLV*1.7, 20, lb_hr_mLV/10, lb_hr_mLV, lb_hr_mLV, lb_hr_mLV)\n",
    "guess = (30000, 2000000, 600000, 120000, 100000, 40000, 6000000)\n",
    "\n",
    "fx(guess)\n",
    "\n",
    "solv = fsolve(fx, guess)\n",
    "print(f\"m1 = {solv[0]:.04f} lb/hr\")\n",
    "print(f\"m2 = {solv[1]:.04f} lb/hr\")\n",
    "print(f\"m3 = {solv[2]:.04f} lb/hr\")\n",
    "print(f\"m4 = {solv[3]:.04f} lb/hr\")\n",
    "print(f\"m5 = {solv[4]:.04f} lb/hr\")\n",
    "print(f\"m6 = {solv[5]:.04f} lb/hr\")\n",
    "print(f\"m7 = {solv[6]:.04f} lb/hr\")\n",
    "print()\n",
    "print(f\"The fraction of dry grains recycled is {solv[6]/solv[4]:.05f}\")\n",
    "print(f\"And about = {solv[5]:.04f} lb/hr of dry grain producted\")"
   ]
  },
  {
   "cell_type": "markdown",
   "id": "4e2375f9-d1a4-4868-bbaf-7a74738bd179",
   "metadata": {},
   "source": [
    "### Problem 9 (High)\n",
    "\n",
    "> What is the minimum pressure at which the cooking vessel must operate?; What is the pressure to which the mash must be flashed to provide a resultant liquor temperature of 145 °F?; At what rate (lbm/h) is water vaporized in this step (in the two flash units)?(You need to solve material and energy balances starting early in the process to determine the flowrate leaving the cooker.)"
   ]
  },
  {
   "cell_type": "code",
   "execution_count": 20,
   "id": "178ce8c8-7adc-46b4-9800-83096842209a",
   "metadata": {},
   "outputs": [
    {
     "name": "stdout",
     "output_type": "stream",
     "text": [
      "min_pressure = 6.2464 bar\n"
     ]
    }
   ],
   "source": [
    "# minimum pressure at which cooking vessel must operate\n",
    "# sat. pressure at 320 F = 160 C\n",
    "\n",
    "def psat(t,i):\n",
    "    if i == 2:  # water\n",
    "        A = 8.05573\t\n",
    "        B = 1723.64\t\n",
    "        C = 233.076\n",
    "     # Calculate saturation pressure using Antoine equation\n",
    "    P_sat = 10 ** (A - (B/ (t + C))) / 750.062 # convert to bar\n",
    "    return(P_sat)\n",
    "\n",
    "min_pressure = psat(160, 2)\n",
    "print('min_pressure =', round(min_pressure, 4), 'bar')"
   ]
  },
  {
   "cell_type": "code",
   "execution_count": 21,
   "id": "c954f47e-fd9a-4745-88fe-56d9351d3bb4",
   "metadata": {},
   "outputs": [
    {
     "name": "stdout",
     "output_type": "stream",
     "text": [
      "flash_pressure = 0.2263 bar\n"
     ]
    }
   ],
   "source": [
    "# pressure to which mash must be flashed to provide a resultant liquor temp of 145 F = 62.7778 C\n",
    "\n",
    "flash_pressure = psat(62.778, 2)\n",
    "print('flash_pressure =', round(flash_pressure, 4), 'bar')"
   ]
  },
  {
   "cell_type": "code",
   "execution_count": 22,
   "id": "3fb9bc3a-7809-4984-b1ce-d81c2fdd0de6",
   "metadata": {
    "scrolled": true
   },
   "outputs": [
    {
     "name": "stdout",
     "output_type": "stream",
     "text": [
      "m_mash = 499133.000000 lbm/hr flow rate of mash\n",
      "W_corn = 0.277681 weight % of corn solids in mash\n",
      "W_h2o = 0.722319 weight % of water in mash\n"
     ]
    }
   ],
   "source": [
    "m_corn = 138600 # lbm/hr corn meal\n",
    "m_h2o = 360533 # lbm/hr total water coming in to mixing tank\n",
    "\n",
    "m_mash = m_corn + m_h2o\n",
    "W_corn = m_corn/m_mash\n",
    "W_h2o = m_h2o/m_mash\n",
    "\n",
    "print(f\"m_mash = {m_mash :.6f} lbm/hr flow rate of mash\")\n",
    "print(f\"W_corn = {W_corn :.6f} weight % of corn solids in mash\")\n",
    "print(f\"W_h2o = {W_h2o :.6f} weight % of water in mash\")"
   ]
  },
  {
   "cell_type": "code",
   "execution_count": 23,
   "id": "f11029ff-5c48-47e8-9860-aaa1697e2f99",
   "metadata": {},
   "outputs": [
    {
     "name": "stdout",
     "output_type": "stream",
     "text": [
      "delta_hmash1 = 47485.600905 J/lbm = enthalpy change needed for mash\n"
     ]
    }
   ],
   "source": [
    "# for precook vessel\n",
    "\n",
    "pv_m_mashin = m_mash * W_corn # mass flowrate of mash solids into precook vessel\n",
    "pv_m_h2oin = m_mash * W_h2o # mass flowrate of water into precook vessel\n",
    "pv_m_mashout = pv_m_mashin # mass flowrate of mash solids OUT of precook vessel\n",
    "\n",
    "tin_mash1 = 37.7778 # 100 F in C\n",
    "tin_steam1 = 121 # in C, Tsat temp from 15 psig steam\n",
    "tout_mash1 = 62.7778 # 145 F in C\n",
    "\n",
    "def Cpmash(t):\n",
    "    A = 7.540E-02;B = 0;C = 0;D = 0\n",
    "    Cpm = A + B*t + C*t**2 + D*t**3\n",
    "    Cpm*=1000\n",
    "    return(Cpm) #returns J/mol * C\n",
    "\n",
    "MWh2o = 18.011\n",
    "\n",
    "lbmPg = 0.002204 #conversion\n",
    "\n",
    "delta_hmash1 = quad(Cpmash, tin_mash1, tout_mash1)[0]\n",
    "delta_hmash_jPg1 = delta_hmash1/MWh2o\n",
    "delta_hmash_jPlbm1 = delta_hmash_jPg1/lbmPg\n",
    "\n",
    "print(f\"delta_hmash1 = {delta_hmash_jPlbm1 :.6f} J/lbm = enthalpy change needed for mash\")"
   ]
  },
  {
   "cell_type": "code",
   "execution_count": 24,
   "id": "86a0bc6f-e799-4f7a-84bd-8ce9f352c927",
   "metadata": {},
   "outputs": [],
   "source": [
    "# calculating delta hs and hs for energy balance around precook vessel\n",
    "\n",
    "\n",
    "def Cph2o(t): # in liquid\n",
    "    A = 7.540E-02;B = 0;C = 0;D = 0\n",
    "    Cpm = A + B*t + C*t**2 + D*t**3\n",
    "    Cpm*=1000\n",
    "    return(Cpm) #returns J/mol * C\n",
    "\n",
    "# I chose as my reference state enthalpy of 0 at 32 F or 0 C\n",
    "ref = 0 # C\n",
    "\n",
    "# calculating h1, enthalpy of water coming in to precook vessel \n",
    "h_watermash_in1 = quad(Cph2o, ref, tin_mash1)[0]\n",
    "\n",
    "# calculating h2, enthalpy of water vapor coming in to precook vessel\n",
    "deltahvap = 39651 # @ 121 C, J/mol roughly from Dippr \n",
    "h_watervapor_in1 = quad(Cph2o, ref, tin_steam1)[0] + deltahvap\n",
    "\n",
    "# calculating h3, enthalpy of water coming out of precook vessel in mash\n",
    "h_watermash_out1 = quad(Cph2o, ref, tout_mash1)[0]\n"
   ]
  },
  {
   "cell_type": "code",
   "execution_count": 25,
   "id": "1386baf1-f641-4935-b7d5-c9b4eb3bbc34",
   "metadata": {},
   "outputs": [
    {
     "name": "stdout",
     "output_type": "stream",
     "text": [
      "h_watermash_in_jPlbm1 = 71756.061354 J/lbm = enthalpy water coming in to precook vessel\n",
      "h_watervapor_in_jPlbm1 = 1228690.553192 J/lbm = enthalpy water vapor coming in precook vessel\n",
      "h_watermash_out_jPlbm1 = 119241.662259 J/lbm = enthalpy water coming out in mash\n"
     ]
    }
   ],
   "source": [
    "h_watermash_in_jPg1 = h_watermash_in1/MWh2o\n",
    "h_watermash_in_jPlbm1 = h_watermash_in_jPg1/lbmPg\n",
    "\n",
    "print(f\"h_watermash_in_jPlbm1 = {h_watermash_in_jPlbm1 :.6f} J/lbm = enthalpy water coming in to precook vessel\")\n",
    "\n",
    "h_watervapor_in_jPg1 = h_watervapor_in1/MWh2o\n",
    "h_watervapor_in_jPlbm1 = h_watervapor_in_jPg1/lbmPg\n",
    "\n",
    "print(f\"h_watervapor_in_jPlbm1 = {h_watervapor_in_jPlbm1 :.6f} J/lbm = enthalpy water vapor coming in precook vessel\")\n",
    "\n",
    "h_watermash_out_jPg1 = h_watermash_out1/MWh2o\n",
    "h_watermash_out_jPlbm1 = h_watermash_out_jPg1/lbmPg\n",
    "\n",
    "print(f\"h_watermash_out_jPlbm1 = {h_watermash_out_jPlbm1 :.6f} J/lbm = enthalpy water coming out in mash\")"
   ]
  },
  {
   "cell_type": "code",
   "execution_count": 26,
   "id": "b9b9dfbd-da89-4319-8fb3-5f355b29168f",
   "metadata": {},
   "outputs": [
    {
     "name": "stdout",
     "output_type": "stream",
     "text": [
      "m_h2ovaporin1 = 21363.427040 lbm/hr = flowrate of vapor in to precook Vessel\n",
      "m_h2omash_out1 = 381896.427040 lbm/hr = flowrate of water in mash out of precook Vessel\n"
     ]
    }
   ],
   "source": [
    "# energy balance for precook vessel\n",
    "\n",
    "def f_1(a):\n",
    "    m_h2ovaporin1, m_h2omash_out1 = a # unknowns, water coming in as vapor and water coming out in mash\n",
    "    \n",
    "    eq1 = pv_m_h2oin + m_h2ovaporin1 - m_h2omash_out1\n",
    "    eq2 = pv_m_mashin * delta_hmash_jPlbm1 + m_h2omash_out1 * h_watermash_out_jPlbm1 - m_h2ovaporin1 * h_watervapor_in_jPlbm1 - pv_m_h2oin * h_watermash_in_jPlbm1\n",
    "    return([eq1,eq2])\n",
    "\n",
    "guess_1 = [50000, 500000]\n",
    "ans1 = fsolve(f_1, guess_1)\n",
    "m_h2ovaporin1 = ans1[0]\n",
    "m_h2omash_out1 = ans1[1]\n",
    "print(f\"m_h2ovaporin1 = {m_h2ovaporin1 :.6f} lbm/hr = flowrate of vapor in to precook Vessel\")\n",
    "print(f\"m_h2omash_out1 = {m_h2omash_out1 :.6f} lbm/hr = flowrate of water in mash out of precook Vessel\")\n"
   ]
  },
  {
   "cell_type": "code",
   "execution_count": 27,
   "id": "53793e2b-8310-4e25-9405-85e521cea2d6",
   "metadata": {},
   "outputs": [
    {
     "name": "stdout",
     "output_type": "stream",
     "text": [
      "W_mash1 = 0.266284 new weight % of corn solids in mash out of precook vessel\n",
      "W_h2o1 = 0.733716 new weight % of water in mash out of precook vessel\n",
      "m_mashnew1 = 520496.427040 lbm/hr = flowrate of mash and water out of precook vessel\n"
     ]
    }
   ],
   "source": [
    "m_mashnew1 = pv_m_mashout + m_h2omash_out1  # total flowrate (mash + water) coming out of precook vessel\n",
    "W_mash1 = pv_m_mashout/m_mashnew1\n",
    "W_h2o1 = m_h2omash_out1/m_mashnew1\n",
    "\n",
    "print(f\"W_mash1 = {W_mash1 :.6f} new weight % of corn solids in mash out of precook vessel\")\n",
    "print(f\"W_h2o1 = {W_h2o1 :.6f} new weight % of water in mash out of precook vessel\")\n",
    "print(f\"m_mashnew1 = {m_mashnew1 :.6f} lbm/hr = flowrate of mash and water out of precook vessel\")"
   ]
  },
  {
   "cell_type": "code",
   "execution_count": 28,
   "id": "266af81f-2b1f-483b-b491-ba4e9a787af1",
   "metadata": {},
   "outputs": [],
   "source": [
    "# heat exchanger drives mash from 145 F to 230 F see question 10"
   ]
  },
  {
   "cell_type": "code",
   "execution_count": 29,
   "id": "eb25b9ef-2c16-44e8-a70f-36e213d797c5",
   "metadata": {},
   "outputs": [
    {
     "name": "stdout",
     "output_type": "stream",
     "text": [
      "delta_hmash2 = 94971.201809 J/lbm = enthalpy change needed for mash in heater\n"
     ]
    }
   ],
   "source": [
    "# heater from 230 F to 320 F\n",
    "\n",
    "# for heater \n",
    "\n",
    "heater_m_mashin = m_mashnew1 * W_mash1 # mass flowrate of mash solids into heater\n",
    "heater_m_h2oin = m_mashnew1 * W_h2o1 # mass flowrate of water into heater\n",
    "heater_m_mashout = heater_m_mashin # mass flowrate of mash solids OUT of heater\n",
    "\n",
    "tin_mash2 = 110 # 230 F in C\n",
    "tin_steam2 = 185 # in C, Tsat temp from 150 psig steam\n",
    "tout_mash2 = 160 # 320 F in C\n",
    "\n",
    "def Cpmash(t):\n",
    "    A = 7.540E-02;B = 0;C = 0;D = 0\n",
    "    Cpm = A + B*t + C*t**2 + D*t**3\n",
    "    Cpm*=1000\n",
    "    return(Cpm) #returns J/mol * C\n",
    "\n",
    "MWh2o = 18.011\n",
    "\n",
    "lbmPg = 0.002204 #conversion\n",
    "\n",
    "delta_hmash2 = quad(Cpmash, tin_mash2, tout_mash2)[0]\n",
    "delta_hmash_jPg2 = delta_hmash2/MWh2o\n",
    "delta_hmash_jPlbm2 = delta_hmash_jPg2/lbmPg\n",
    "\n",
    "print(f\"delta_hmash2 = {delta_hmash_jPlbm2 :.6f} J/lbm = enthalpy change needed for mash in heater\")"
   ]
  },
  {
   "cell_type": "code",
   "execution_count": 30,
   "id": "ee6dbaf1-658b-4fcf-9dff-dcfdf09d80c5",
   "metadata": {},
   "outputs": [],
   "source": [
    "# calculating delta hs and hs for energy balance around heater\n",
    "\n",
    "\n",
    "def Cph2o(t): # in liquid\n",
    "    A = 7.540E-02;B = 0;C = 0;D = 0\n",
    "    Cpm = A + B*t + C*t**2 + D*t**3\n",
    "    Cpm*=1000\n",
    "    return(Cpm) #returns J/mol * C\n",
    "\n",
    "# I chose as my reference state enthalpy of 0 at 32 F or 0 C\n",
    "ref = 0 # C\n",
    "\n",
    "# calculating h1, enthalpy of water coming in to heater\n",
    "h_watermash_in2 = quad(Cph2o, ref, tin_mash2)[0]\n",
    "\n",
    "# calculating h2, enthalpy of water vapor coming in to heater\n",
    "deltahvap2 = 35939 # @ 185 C, J/mol roughly from Dippr\n",
    "h_watervapor_in2 = quad(Cph2o, ref, tin_steam2)[0] + deltahvap2\n",
    "\n",
    "# calculating h3, enthalpy of water coming out of heater in mash\n",
    "h_watermash_out2 = quad(Cph2o, ref, tout_mash2)[0]\n"
   ]
  },
  {
   "cell_type": "code",
   "execution_count": 31,
   "id": "53eaef9b-ff96-4370-8fd4-50263093e391",
   "metadata": {},
   "outputs": [
    {
     "name": "stdout",
     "output_type": "stream",
     "text": [
      "h_watermash_in_jPlbm2 = 208936.643981 J/lbm = enthalpy water coming in to heater\n",
      "h_watervapor_in_jPlbm2 = 1256743.585111 J/lbm = enthalpy water vapor coming in heater\n",
      "h_watermash_out_jPlbm2 = 303907.845790 J/lbm = enthalpy water coming out in mash\n"
     ]
    }
   ],
   "source": [
    "h_watermash_in_jPg2 = h_watermash_in2/MWh2o\n",
    "h_watermash_in_jPlbm2 = h_watermash_in_jPg2/lbmPg\n",
    "\n",
    "print(f\"h_watermash_in_jPlbm2 = {h_watermash_in_jPlbm2 :.6f} J/lbm = enthalpy water coming in to heater\")\n",
    "\n",
    "h_watervapor_in_jPg2 = h_watervapor_in2/MWh2o\n",
    "h_watervapor_in_jPlbm2 = h_watervapor_in_jPg2/lbmPg\n",
    "\n",
    "print(f\"h_watervapor_in_jPlbm2 = {h_watervapor_in_jPlbm2 :.6f} J/lbm = enthalpy water vapor coming in heater\")\n",
    "\n",
    "h_watermash_out_jPg2 = h_watermash_out2/MWh2o\n",
    "h_watermash_out_jPlbm2 = h_watermash_out_jPg2/lbmPg\n",
    "\n",
    "print(f\"h_watermash_out_jPlbm2 = {h_watermash_out_jPlbm2 :.6f} J/lbm = enthalpy water coming out in mash\")"
   ]
  },
  {
   "cell_type": "code",
   "execution_count": 32,
   "id": "dc6a0959-754b-4291-9e2c-e7f341429aed",
   "metadata": {},
   "outputs": [
    {
     "name": "stdout",
     "output_type": "stream",
     "text": [
      "** m_h2ovaporin2 = 51879.006185 lbm/hr = flowrate of vapor (live steam) in to heater **\n",
      "m_h2omash_out2 = 433775.433225 lbm/hr = flowrate of water in mash out of heater\n"
     ]
    }
   ],
   "source": [
    "# energy balance for heater\n",
    "\n",
    "def f_2(a):\n",
    "    m_h2ovaporin2, m_h2omash_out2 = a # unknowns, water coming in as vapor and water coming out in mash\n",
    "    \n",
    "    eq1 = heater_m_h2oin + m_h2ovaporin2 - m_h2omash_out2\n",
    "    eq2 = heater_m_mashin * delta_hmash_jPlbm2 + m_h2omash_out2 * h_watermash_out_jPlbm2 - m_h2ovaporin2 * h_watervapor_in_jPlbm2 - heater_m_h2oin * h_watermash_in_jPlbm2\n",
    "    return([eq1,eq2])\n",
    "\n",
    "guess_2 = [50000, 500000]\n",
    "ans2 = fsolve(f_2, guess_2)\n",
    "m_h2ovaporin2 = ans2[0]\n",
    "m_h2omash_out2 = ans2[1]\n",
    "print(f\"** m_h2ovaporin2 = {m_h2ovaporin2 :.6f} lbm/hr = flowrate of vapor (live steam) in to heater **\")\n",
    "print(f\"m_h2omash_out2 = {m_h2omash_out2 :.6f} lbm/hr = flowrate of water in mash out of heater\")\n"
   ]
  },
  {
   "cell_type": "code",
   "execution_count": 33,
   "id": "a21a7ea9-1741-4364-90b7-59905bae9f08",
   "metadata": {},
   "outputs": [
    {
     "name": "stdout",
     "output_type": "stream",
     "text": [
      "W_mash2 = 0.242149 new weight % of corn solids in mash out of heater\n",
      "W_h2o2 = 0.757851 new weight % of water in mash out of heater\n",
      "m_mashnew2 = 572375.433225 lbm/hr = flowrate of mash and water out of heater\n"
     ]
    }
   ],
   "source": [
    "m_mashnew2 = heater_m_mashout + m_h2omash_out2  # total flowrate (mash + water) coming out of heater\n",
    "W_mash2 = heater_m_mashout/m_mashnew2\n",
    "W_h2o2 = m_h2omash_out2/m_mashnew2\n",
    "\n",
    "print(f\"W_mash2 = {W_mash2 :.6f} new weight % of corn solids in mash out of heater\")\n",
    "print(f\"W_h2o2 = {W_h2o2 :.6f} new weight % of water in mash out of heater\")\n",
    "print(f\"m_mashnew2 = {m_mashnew2 :.6f} lbm/hr = flowrate of mash and water out of heater\")"
   ]
  },
  {
   "cell_type": "code",
   "execution_count": 34,
   "id": "cf805985-f778-444b-9247-368d3c5e782f",
   "metadata": {},
   "outputs": [
    {
     "name": "stdout",
     "output_type": "stream",
     "text": [
      "flash_m_h2oin = 433775.433225 lbm/hr = flowrate of water coming in to flash\n",
      "flash_m_mashin = 138600.000000 lbm/hr = flowrate of mash solids coming in to flash\n"
     ]
    }
   ],
   "source": [
    "# after cooking tank, flowrate is still consistent\n",
    "# solving now around first flash tank at 15 psig\n",
    "\n",
    "tin_mash3 = 160 # 320 F in C\n",
    "tout_mash3 = 121 # in C, temp from 15 psig in flash. Used steam tables to figure it out\n",
    "tout_steam3 = 121 # same as tout_mash3\n",
    "\n",
    "flash_m_mashin = m_mashnew2 * W_mash2 # mass flowrate of mash solids into flash tank\n",
    "flash_m_h2oin = m_mashnew2 * W_h2o2 # mass flowrate of water into flash tank\n",
    "flash_m_mashout = flash_m_mashin # mass flowrate of mash solids OUT of flash tank\n",
    "\n",
    "print(f\"flash_m_h2oin = {flash_m_h2oin :.6f} lbm/hr = flowrate of water coming in to flash\")\n",
    "print(f\"flash_m_mashin = {flash_m_mashin :.6f} lbm/hr = flowrate of mash solids coming in to flash\")"
   ]
  },
  {
   "cell_type": "code",
   "execution_count": 35,
   "id": "88b8b5af-8988-4781-a415-8adb055effa7",
   "metadata": {},
   "outputs": [
    {
     "name": "stdout",
     "output_type": "stream",
     "text": [
      "delta_hmash3 = -74077.537411 J/lbm = enthalpy change of mash in first flash\n"
     ]
    }
   ],
   "source": [
    "# calculating delta hs and hs\n",
    "\n",
    "def Cpmash(t):\n",
    "    A = 7.540E-02;B = 0;C = 0;D = 0\n",
    "    Cpm = A + B*t + C*t**2 + D*t**3\n",
    "    Cpm*=1000\n",
    "    return(Cpm) #returns J/mol * C\n",
    "\n",
    "MWh2o = 18.011\n",
    "\n",
    "lbmPg = 0.002204 #conversion\n",
    "\n",
    "delta_hmash3 = quad(Cpmash, tin_mash3, tout_mash3)[0]\n",
    "delta_hmash_jPg3 = delta_hmash3/MWh2o\n",
    "delta_hmash_jPlbm3 = delta_hmash_jPg3/lbmPg\n",
    "\n",
    "print(f\"delta_hmash3 = {delta_hmash_jPlbm3 :.6f} J/lbm = enthalpy change of mash in first flash\")"
   ]
  },
  {
   "cell_type": "code",
   "execution_count": 36,
   "id": "c3a2eece-3e87-43e7-9d02-8e92ddf6b217",
   "metadata": {},
   "outputs": [],
   "source": [
    "# calculating delta hs and hs\n",
    "\n",
    "def Cph2o(t): # in liquid\n",
    "    A = 7.540E-02;B = 0;C = 0;D = 0\n",
    "    Cpm = A + B*t + C*t**2 + D*t**3\n",
    "    Cpm*=1000\n",
    "    return(Cpm) #returns J/mol * C\n",
    "\n",
    "# I chose as my reference state enthalpy of 0 at 32 F or 0 C\n",
    "ref = 0 # C\n",
    "\n",
    "# calculating h1, enthalpy of water coming in to flash \n",
    "h_watermash_in3 = quad(Cph2o, ref, tin_mash3)[0]\n",
    "\n",
    "# calculating h2, enthalpy of water coming out of flash in vapor\n",
    "deltahvap3 = 39651 # @ 121 C, J/mol roughly from Dippr (positive since liquid to steam)\n",
    "h_watervapor_out3 = quad(Cph2o, ref, tout_steam3)[0] + deltahvap3\n",
    "\n",
    "# calculating h3, enthalpy of water coming out in mash\n",
    "h_watermash_out3 = quad(Cph2o, ref, tout_mash3)[0]\n",
    "\n"
   ]
  },
  {
   "cell_type": "code",
   "execution_count": 37,
   "id": "ce951b43-c079-4958-b1de-6458f685403b",
   "metadata": {},
   "outputs": [
    {
     "name": "stdout",
     "output_type": "stream",
     "text": [
      "h_watermash_in_jPlbm3 = 303907.845790 J/lbm = enthalpy water coming in to flash\n",
      "h_watervapor_out_jPlbm3 = 1228690.553192 J/lbm = enthalpy water coming out in vapor\n",
      "h_watermash_out_jPlbm3 = 229830.308379 J/lbm = enthalpy water coming out in mash\n"
     ]
    }
   ],
   "source": [
    "h_watermash_in_jPg3 = h_watermash_in3/MWh2o\n",
    "h_watermash_in_jPlbm3 = h_watermash_in_jPg3/lbmPg\n",
    "\n",
    "print(f\"h_watermash_in_jPlbm3 = {h_watermash_in_jPlbm3 :.6f} J/lbm = enthalpy water coming in to flash\")\n",
    "\n",
    "h_watervapor_out_jPg3 = h_watervapor_out3/MWh2o\n",
    "h_watervapor_out_jPlbm3 = h_watervapor_out_jPg3/lbmPg\n",
    "\n",
    "print(f\"h_watervapor_out_jPlbm3 = {h_watervapor_out_jPlbm3 :.6f} J/lbm = enthalpy water coming out in vapor\")\n",
    "\n",
    "h_watermash_out_jPg3 = h_watermash_out3/MWh2o\n",
    "h_watermash_out_jPlbm3 = h_watermash_out_jPg3/lbmPg\n",
    "\n",
    "print(f\"h_watermash_out_jPlbm3 = {h_watermash_out_jPlbm3 :.6f} J/lbm = enthalpy water coming out in mash\")"
   ]
  },
  {
   "cell_type": "code",
   "execution_count": 38,
   "id": "c553094b-fc11-4997-bb54-90dae7d275d5",
   "metadata": {},
   "outputs": [
    {
     "name": "stdout",
     "output_type": "stream",
     "text": [
      "** m_h2ovaporout3 = 42448.543516 lbm/hr = flowrate of vapor out of first flash **\n",
      "m_h2omash_out3 = 391326.889710 lbm/hr = flowrate of water in mash out of first flash\n"
     ]
    }
   ],
   "source": [
    "def f_3(a):\n",
    "    m_h2ovaporout3, m_h2omash_out3 = a # unknowns, water coming out as vapor and water coming out in mash\n",
    "    \n",
    "    eq1 = flash_m_h2oin - m_h2ovaporout3 - m_h2omash_out3\n",
    "    eq2 = flash_m_mashin * delta_hmash_jPlbm3 + m_h2omash_out3 * h_watermash_out_jPlbm3 + m_h2ovaporout3 * h_watervapor_out_jPlbm3 - flash_m_h2oin * h_watermash_in_jPlbm3\n",
    "    return([eq1,eq2])\n",
    "\n",
    "guess_3 = [50000, 500000]\n",
    "ans3 = fsolve(f_3, guess_3)\n",
    "m_h2ovaporout3 = ans3[0]\n",
    "m_h2omash_out3 = ans3[1]\n",
    "print(f\"** m_h2ovaporout3 = {m_h2ovaporout3 :.6f} lbm/hr = flowrate of vapor out of first flash **\")\n",
    "print(f\"m_h2omash_out3 = {m_h2omash_out3 :.6f} lbm/hr = flowrate of water in mash out of first flash\")"
   ]
  },
  {
   "cell_type": "code",
   "execution_count": 39,
   "id": "43527844-b349-4dfe-93eb-946426cc3ad7",
   "metadata": {},
   "outputs": [
    {
     "name": "stdout",
     "output_type": "stream",
     "text": [
      "W_mash3 = 0.261546 new weight % of corn solids in mash out of flash\n",
      "W_h2o3 = 0.738454 new weight % of water in mash out of flash\n",
      "m_mashnew3 = 529926.889710 lbm/hr = flowrate of mash and liq water out of flash\n"
     ]
    }
   ],
   "source": [
    "m_mashnew3 = flash_m_mashout + m_h2omash_out3  # total flowrate (mash + liq water) coming out of flash\n",
    "W_mash3 = flash_m_mashout/m_mashnew3\n",
    "W_h2o3 = m_h2omash_out3/m_mashnew3\n",
    "\n",
    "print(f\"W_mash3 = {W_mash3 :.6f} new weight % of corn solids in mash out of flash\")\n",
    "print(f\"W_h2o3 = {W_h2o3 :.6f} new weight % of water in mash out of flash\")\n",
    "print(f\"m_mashnew3 = {m_mashnew3 :.6f} lbm/hr = flowrate of mash and liq water out of flash\")"
   ]
  },
  {
   "cell_type": "code",
   "execution_count": 40,
   "id": "e2fe7b29-a343-43e2-bca5-9f98192c7666",
   "metadata": {},
   "outputs": [
    {
     "name": "stdout",
     "output_type": "stream",
     "text": [
      "flashvac_m_h2oin = 391326.889710 lbm/hr = flowrate of water coming in to flash vacuum\n",
      "flashvac_m_mashin = 138600.000000 lbm/hr = flowrate of mash solids coming in to flash vacuum\n"
     ]
    }
   ],
   "source": [
    "# solving now around flash vacuum tank at 0.2263 bar\n",
    "\n",
    "tin_mash4 = 121 # in C\n",
    "tout_mash4 = 62.78 # in C or 145 F, temp from 0.2263 bar in flash vacuum. Used steam tables to figure it out\n",
    "tout_steam4 = 62.78 # or 145 F same as tout_mash4\n",
    "\n",
    "flashvac_m_mashin = m_mashnew3 * W_mash3 # mass flowrate of mash solids into flash vacuum\n",
    "flashvac_m_h2oin = m_mashnew3 * W_h2o3 # mass flowrate of water into flash vacuum\n",
    "flashvac_m_mashout = flashvac_m_mashin # mass flowrate of mash solids OUT of flash vacuum\n",
    "\n",
    "print(f\"flashvac_m_h2oin = {flashvac_m_h2oin :.6f} lbm/hr = flowrate of water coming in to flash vacuum\")\n",
    "print(f\"flashvac_m_mashin = {flashvac_m_mashin :.6f} lbm/hr = flowrate of mash solids coming in to flash vacuum\")"
   ]
  },
  {
   "cell_type": "code",
   "execution_count": 41,
   "id": "1c73d8c5-eb33-4a2d-9d14-92a3dc4ed037",
   "metadata": {},
   "outputs": [
    {
     "name": "stdout",
     "output_type": "stream",
     "text": [
      "delta_hmash4 = -110584.467387 J/lbm = enthalpy change of mash in flash vacuum\n"
     ]
    }
   ],
   "source": [
    "# calculating delta hs and hs\n",
    "\n",
    "def Cpmash(t):\n",
    "    A = 7.540E-02;B = 0;C = 0;D = 0\n",
    "    Cpm = A + B*t + C*t**2 + D*t**3\n",
    "    Cpm*=1000\n",
    "    return(Cpm) #returns J/mol * C\n",
    "\n",
    "MWh2o = 18.011\n",
    "\n",
    "lbmPg = 0.002204 #conversion\n",
    "\n",
    "delta_hmash4 = quad(Cpmash, tin_mash4, tout_mash4)[0]\n",
    "delta_hmash_jPg4 = delta_hmash4/MWh2o\n",
    "delta_hmash_jPlbm4 = delta_hmash_jPg4/lbmPg\n",
    "\n",
    "print(f\"delta_hmash4 = {delta_hmash_jPlbm4 :.6f} J/lbm = enthalpy change of mash in flash vacuum\")"
   ]
  },
  {
   "cell_type": "code",
   "execution_count": 42,
   "id": "b572ffba-6cda-4133-8d3f-92c18ac99094",
   "metadata": {},
   "outputs": [],
   "source": [
    "# calculating delta hs and hs\n",
    "\n",
    "def Cph2o(t): # in liquid\n",
    "    A = 7.540E-02;B = 0;C = 0;D = 0\n",
    "    Cpm = A + B*t + C*t**2 + D*t**3\n",
    "    Cpm*=1000\n",
    "    return(Cpm) #returns J/mol * C\n",
    "\n",
    "# I chose as my reference state enthalpy of 0 at 32 F or 0 C\n",
    "ref = 0 # C\n",
    "\n",
    "# calculating h1, enthalpy of water coming in to flash vacuum\n",
    "h_watermash_in4 = quad(Cph2o, ref, tin_mash4)[0]\n",
    "\n",
    "# calculating h2, enthalpy of water coming out of flash vacuum in vapor\n",
    "deltahvap4 = 42395 # @ 62.78 C, J/mol roughly from Dippr (positive since liquid to steam)\n",
    "h_watervapor_out4 = quad(Cph2o, ref, tout_steam4)[0] + deltahvap4\n",
    "\n",
    "# calculating h3, enthalpy of water coming out in mash\n",
    "h_watermash_out4 = quad(Cph2o, ref, tout_mash4)[0]\n"
   ]
  },
  {
   "cell_type": "code",
   "execution_count": 43,
   "id": "82a2f10d-86d4-49be-91b3-5a2b33608a06",
   "metadata": {},
   "outputs": [
    {
     "name": "stdout",
     "output_type": "stream",
     "text": [
      "h_watermash_in_jPlbm4 = 229830.308379 J/lbm = enthalpy water coming in to flash vac\n",
      "h_watervapor_out_jPlbm4 = 1187231.013594 J/lbm = enthalpy water coming out of flash vac in vapor\n",
      "h_watermash_out_jPlbm4 = 119245.840992 J/lbm = enthalpy water coming out in mash\n"
     ]
    }
   ],
   "source": [
    "h_watermash_in_jPg4 = h_watermash_in4/MWh2o\n",
    "h_watermash_in_jPlbm4 = h_watermash_in_jPg4/lbmPg\n",
    "\n",
    "print(f\"h_watermash_in_jPlbm4 = {h_watermash_in_jPlbm4 :.6f} J/lbm = enthalpy water coming in to flash vac\")\n",
    "\n",
    "h_watervapor_out_jPg4 = h_watervapor_out4/MWh2o\n",
    "h_watervapor_out_jPlbm4 = h_watervapor_out_jPg4/lbmPg\n",
    "\n",
    "print(f\"h_watervapor_out_jPlbm4 = {h_watervapor_out_jPlbm4 :.6f} J/lbm = enthalpy water coming out of flash vac in vapor\")\n",
    "\n",
    "h_watermash_out_jPg4 = h_watermash_out4/MWh2o\n",
    "h_watermash_out_jPlbm4 = h_watermash_out_jPg4/lbmPg\n",
    "\n",
    "print(f\"h_watermash_out_jPlbm4 = {h_watermash_out_jPlbm4 :.6f} J/lbm = enthalpy water coming out in mash\")"
   ]
  },
  {
   "cell_type": "code",
   "execution_count": 44,
   "id": "d932d143-4cdb-4e10-891e-7b744c41529c",
   "metadata": {},
   "outputs": [
    {
     "name": "stdout",
     "output_type": "stream",
     "text": [
      "** m_h2ovaporout4 = 54871.251358 lbm/hr = flowrate of vapor out of flash vac**\n",
      "m_h2omash_out4 = 336455.638352 lbm/hr = flowrate of water in mash out of flash vac\n"
     ]
    }
   ],
   "source": [
    "def f_4(a):\n",
    "    m_h2ovaporout4, m_h2omash_out4 = a # unknowns, water coming out as vapor and water coming out in mash\n",
    "    \n",
    "    eq1 = flashvac_m_h2oin - m_h2ovaporout4 - m_h2omash_out4\n",
    "    eq2 = flashvac_m_mashin * delta_hmash_jPlbm4 + m_h2omash_out4 * h_watermash_out_jPlbm4 + m_h2ovaporout4 * h_watervapor_out_jPlbm4 - flashvac_m_h2oin * h_watermash_in_jPlbm4\n",
    "    return([eq1,eq2])\n",
    "\n",
    "guess_4 = [50000, 500000]\n",
    "ans4 = fsolve(f_4, guess_4)\n",
    "m_h2ovaporout4 = ans4[0]\n",
    "m_h2omash_out4 = ans4[1]\n",
    "print(f\"** m_h2ovaporout4 = {m_h2ovaporout4 :.6f} lbm/hr = flowrate of vapor out of flash vac**\")\n",
    "print(f\"m_h2omash_out4 = {m_h2omash_out4 :.6f} lbm/hr = flowrate of water in mash out of flash vac\")"
   ]
  },
  {
   "cell_type": "code",
   "execution_count": 45,
   "id": "53cd72d1-72c5-4d3d-b666-4b5a58c64434",
   "metadata": {},
   "outputs": [
    {
     "name": "stdout",
     "output_type": "stream",
     "text": [
      "W_mash4 = 0.291755 new weight % of corn solids in mash out of flash vac\n",
      "W_h2o4 = 0.708245 new weight % of water in mash out of flash vac\n",
      "m_mashnew4 = 475055.638352 lbm/hr = flowrate of mash and liq water out of flash vac\n"
     ]
    }
   ],
   "source": [
    "m_mashnew4 = flashvac_m_mashout + m_h2omash_out4  # total flowrate (mash + liq water) coming out of flash vacuum\n",
    "W_mash4 = flashvac_m_mashout/m_mashnew4\n",
    "W_h2o4 = m_h2omash_out4/m_mashnew4\n",
    "\n",
    "print(f\"W_mash4 = {W_mash4 :.6f} new weight % of corn solids in mash out of flash vac\")\n",
    "print(f\"W_h2o4 = {W_h2o4 :.6f} new weight % of water in mash out of flash vac\")\n",
    "print(f\"m_mashnew4 = {m_mashnew4 :.6f} lbm/hr = flowrate of mash and liq water out of flash vac\")"
   ]
  },
  {
   "cell_type": "markdown",
   "id": "6b6046bb-1fea-4492-96d8-48353d0ee926",
   "metadata": {},
   "source": [
    "#### Answers\n",
    "\n",
    "**min_pressure cooking vessel must operate = 6.2464 bar \\\n",
    "flash_pressure to provide resultant temp of 145 F = 0.2263 bar \\\n",
    "m_h2ovaporout3 = 42448.543516 lbm/hr = flowrate of vapor out of first flash \\\r",
    "m_h2ovaporout4 = 54871.251358 lbm/hr = flowrate of vapor out of flash vac**"
   ]
  },
  {
   "cell_type": "markdown",
   "id": "9f841379-33e2-4ed4-8448-337d64d6e42b",
   "metadata": {},
   "source": [
    "### Problem 10 (Medium)\n",
    "\n",
    "> Determine the rate (lbm/h) at which 15-psig steam must be supplied to heat the mash from the precooking vessel to 230 °F. How much live steam must be injected to raise the temperature of this stream to 320 °F? It has been suggested that a portion of these steam requirements could be met by the vapor from the flash occurring at 15 psig. Is this feasible? If so, what fraction of the required 15-psig steam can be supplied by this means?"
   ]
  },
  {
   "cell_type": "code",
   "execution_count": 46,
   "id": "00f70d3c-42d8-4000-b8e1-791421b5a2fe",
   "metadata": {},
   "outputs": [
    {
     "name": "stdout",
     "output_type": "stream",
     "text": [
      "W_mash1 = 0.266284 new weight % of corn solids in mash out of precook vessel\n",
      "W_h2o1 = 0.733716 new weight % of water in mash out of precook vessel\n",
      "m_mashnew1 = 520496.427040 lbm/hr = flowrate of mash and water out of precook vessel\n"
     ]
    }
   ],
   "source": [
    "# going back to heat exchanger heating mash to 230 F\n",
    "\n",
    "print(f\"W_mash1 = {W_mash1 :.6f} new weight % of corn solids in mash out of precook vessel\")\n",
    "print(f\"W_h2o1 = {W_h2o1 :.6f} new weight % of water in mash out of precook vessel\")\n",
    "print(f\"m_mashnew1 = {m_mashnew1 :.6f} lbm/hr = flowrate of mash and water out of precook vessel\")\n"
   ]
  },
  {
   "cell_type": "code",
   "execution_count": 47,
   "id": "4a6e6fac-1963-4bd1-94bc-65e81f5de510",
   "metadata": {},
   "outputs": [
    {
     "name": "stdout",
     "output_type": "stream",
     "text": [
      "HE_m_h2oin = 381896.427040 lbm/hr = flowrate of water coming in to heat exchanger\n",
      "HE_m_mashin = 138600.000000 lbm/hr = flowrate of mash solids coming in to heat exchanger\n"
     ]
    }
   ],
   "source": [
    "tin_mashHE = 62.78 # in C, or 145 F, inlet temp of mash going into Heat Exchanger\n",
    "tout_mashHE = 110 # in C or 230 F, outlet temp of mash\n",
    "tin_out_steamHE = 121 # in C Tsat of water in 15 psig sat steam\n",
    "\n",
    "HE_m_mashin = m_mashnew1 * W_mash1 # mass flowrate of mash solids into Heat Exchanger\n",
    "HE_m_h2oin = m_mashnew1 * W_h2o1 # mass flowrate of water into Heat Exchanger\n",
    "HE_m_mashout = HE_m_mashin # mass flowrate of mash solids OUT of Heat Exchanger\n",
    "\n",
    "print(f\"HE_m_h2oin = {HE_m_h2oin :.6f} lbm/hr = flowrate of water coming in to heat exchanger\")\n",
    "print(f\"HE_m_mashin = {HE_m_mashin :.6f} lbm/hr = flowrate of mash solids coming in to heat exchanger\")"
   ]
  },
  {
   "cell_type": "code",
   "execution_count": 48,
   "id": "d05cf965-00b2-4dc4-96aa-4c46eb565718",
   "metadata": {},
   "outputs": [
    {
     "name": "stdout",
     "output_type": "stream",
     "text": [
      "delta_hmashHE = 89690.802989 J/lbm = enthalpy change of mash in Heat Exchanger\n"
     ]
    }
   ],
   "source": [
    "# calculating delta hs and hs\n",
    "\n",
    "def Cpmash(t):\n",
    "    A = 7.540E-02;B = 0;C = 0;D = 0\n",
    "    Cpm = A + B*t + C*t**2 + D*t**3\n",
    "    Cpm*=1000\n",
    "    return(Cpm) #returns J/mol * C\n",
    "\n",
    "MWh2o = 18.011\n",
    "\n",
    "lbmPg = 0.002204 #conversion\n",
    "\n",
    "delta_hmashHE = quad(Cpmash, tin_mashHE, tout_mashHE)[0]\n",
    "delta_hmash_jPgHE = delta_hmashHE/MWh2o\n",
    "delta_hmash_jPlbmHE = delta_hmash_jPgHE/lbmPg\n",
    "\n",
    "print(f\"delta_hmashHE = {delta_hmash_jPlbmHE :.6f} J/lbm = enthalpy change of mash in Heat Exchanger\")"
   ]
  },
  {
   "cell_type": "code",
   "execution_count": 49,
   "id": "0c9887c8-4efd-41d8-a266-8da48847ceaf",
   "metadata": {},
   "outputs": [
    {
     "name": "stdout",
     "output_type": "stream",
     "text": [
      "delta_hh2oHE = 89690.802989 J/lbm = enthalpy change of h2o in mash in Heat Exchanger\n"
     ]
    }
   ],
   "source": [
    "def Cph2o(t):\n",
    "    A = 7.540E-02;B = 0;C = 0;D = 0\n",
    "    Cpm = A + B*t + C*t**2 + D*t**3\n",
    "    Cpm*=1000\n",
    "    return(Cpm) #returns J/mol * C\n",
    "\n",
    "MWh2o = 18.011\n",
    "\n",
    "lbmPg = 0.002204 #conversion\n",
    "\n",
    "delta_hh2oHE = quad(Cph2o, tin_mashHE, tout_mashHE)[0]\n",
    "delta_hh2o_jPgHE = delta_hh2oHE/MWh2o\n",
    "delta_hh2o_jPlbmHE = delta_hh2o_jPgHE/lbmPg\n",
    "\n",
    "print(f\"delta_hh2oHE = {delta_hh2o_jPlbmHE :.6f} J/lbm = enthalpy change of h2o in mash in Heat Exchanger\")"
   ]
  },
  {
   "cell_type": "code",
   "execution_count": 50,
   "id": "c218d3d8-a68c-4c40-9d4a-01f9071e1717",
   "metadata": {},
   "outputs": [],
   "source": [
    "# calculating delta hs and hs\n",
    "\n",
    "def Cph2o(t): # in liquid\n",
    "    A = 7.540E-02;B = 0;C = 0;D = 0\n",
    "    Cpm = A + B*t + C*t**2 + D*t**3\n",
    "    Cpm*=1000\n",
    "    return(Cpm) #returns J/mol * C\n",
    "\n",
    "# I chose as my reference state enthalpy of 0 at 32 F or 0 C\n",
    "ref = 0 # C\n",
    "\n",
    "# calculating h2w, enthalpy of water vapor coming in to Heat Exchanger\n",
    "deltahvapHE = 39651 # @ 62.78 C, J/mol roughly from Dippr (positive since liquid to steam)\n",
    "h_watervapor_inHE = quad(Cph2o, ref, tin_out_steamHE)[0] + deltahvapHE\n",
    "\n",
    "# calculating h3w, enthalpy of water coming out of Heat Exchanger sat liq\n",
    "h_water_outHE = quad(Cph2o, ref, tin_out_steamHE)[0]"
   ]
  },
  {
   "cell_type": "code",
   "execution_count": 51,
   "id": "2a86e0d5-e138-4d0a-8be1-2f4022b600f8",
   "metadata": {},
   "outputs": [
    {
     "name": "stdout",
     "output_type": "stream",
     "text": [
      "h_watervapor_inHE_jPlbm = 1228690.553192 J/lbm = enthalpy watervapor coming in to Heat Exchanger\n",
      "h_water_outHE_jPlbm = 229830.308379 J/lbm = enthalpy water coming out of Heat Exchanger\n",
      "deltah_satstreamHE = -998860.244813 J/lbm = enthalpy change of sat stream of Heat Exchanger\n"
     ]
    }
   ],
   "source": [
    "h_watervapor_inHE_jPg = h_watervapor_inHE/MWh2o\n",
    "h_watervapor_inHE_jPlbm = h_watervapor_inHE_jPg/lbmPg\n",
    "\n",
    "print(f\"h_watervapor_inHE_jPlbm = {h_watervapor_inHE_jPlbm :.6f} J/lbm = enthalpy watervapor coming in to Heat Exchanger\")\n",
    "\n",
    "h_water_outHE_jPg = h_water_outHE/MWh2o\n",
    "h_water_outHE_jPlbm = h_water_outHE_jPg/lbmPg\n",
    "\n",
    "print(f\"h_water_outHE_jPlbm = {h_water_outHE_jPlbm :.6f} J/lbm = enthalpy water coming out of Heat Exchanger\")\n",
    "\n",
    "deltah_satstreamHE = h_water_outHE_jPlbm - h_watervapor_inHE_jPlbm\n",
    "print(f\"deltah_satstreamHE = {deltah_satstreamHE :.6f} J/lbm = enthalpy change of sat stream of Heat Exchanger\")"
   ]
  },
  {
   "cell_type": "code",
   "execution_count": 52,
   "id": "500838ef-7643-4dd9-b626-63d63fbc13d6",
   "metadata": {},
   "outputs": [
    {
     "name": "stdout",
     "output_type": "stream",
     "text": [
      "** m_satstream = 46737.011245 lbm/hr = flowrate of sat steam to heat mash to 230 F**\n"
     ]
    }
   ],
   "source": [
    "def f_HE(a):\n",
    "    m_satstream = a # unknowns, sat stream of 15 psig steam becoming sat liquid after Heat Exchanger\n",
    "    \n",
    "    eq1 = HE_m_mashin * delta_hmash_jPlbmHE + HE_m_h2oin * delta_hh2o_jPlbmHE + m_satstream * deltah_satstreamHE \n",
    "    return eq1\n",
    "\n",
    "guess_HE = 500000\n",
    "ansHE = fsolve(f_HE, guess_HE)\n",
    "m_satstream = ansHE[0]\n",
    "\n",
    "print(f\"** m_satstream = {m_satstream :.6f} lbm/hr = flowrate of sat steam to heat mash to 230 F**\")"
   ]
  },
  {
   "cell_type": "markdown",
   "id": "c6f083ba-2e0d-45b6-a199-d34745e631ae",
   "metadata": {},
   "source": [
    "#### Answers\n",
    "\n",
    "**m_satstream = 46737.011245 lbm/hr = flowrate of sat steam to heat mash from precooking vessel to 230 F \\\n",
    "m_h2ovaporin2 = 51879.006185 lbm/hr = flowrate of vapor (live 150 psig steam) in to heater to raise temp to 320 F \\\n",
    "m_h2ovaporout3 = 42448.543516 lbm/hr = flowrate of vapor out of first flash at 15 psig** \n",
    "\n",
    "Comparing the flowrates above, it is not feasible for the steam requirements to be met by the vapor from the flash occurring at 15 psig. There is not enough needed for the precooking vessel to be maintained at 230 F. The heater also needs 150 psig so that cannot use the vapor from the flash. If we were to still use the vapor from the flash to satisfy a portion of the requirements, it can supply 42448/46737 or around 91% of the sat steam needed. "
   ]
  },
  {
   "cell_type": "markdown",
   "id": "d7a8d850-1210-442a-a319-132868a876df",
   "metadata": {},
   "source": [
    "### Question 11 (Very High)\n",
    "\n",
    "> At what rates must heat be removed to condense the vapors from each of the distillation columns and the stripper? Suppose cooling water at 85 °F is available and the temperature increase of this water is limited to 25 °F. At what rates must water be supplied to each condenser?\n",
    "(You need to start by solving the material balances around the azeotrope and stripper columns including the decanter and associated streams. You should already know the balances around the ethanol concentrator from Problem 8.)"
   ]
  },
  {
   "cell_type": "markdown",
   "id": "82a43b6c-f706-4656-8904-a2ae3d056638",
   "metadata": {},
   "source": [
    "#### Logic\n",
    "\n",
    "We calculated the total mass flow rates of the water necessary to cool each of the condensers from each distillation column and the stripper. We did a total mass balance on the whole system starting from the Azeotrope Column to the stripper. After finding the pertinent mass flow rates, we solved for each Q. In the first distillation column, we solved for total heat provided by steam, then did an energy balance to find the remaining heat necessary to cool the distillate in condenser 1. That number came out to deltah_condenser_DC1_jPlbm = 26382.999863 J/lbm = enthalpy change of water supplied to condenser in DC1. \n",
    "We then took this number and divided it by the heat capacity of water from 85F to 110F which gave us a total mass flow rate of water necessary at **m_h2o_condenser_DC1 = 3238915.531229 lbm/hr = flowrate of water supplied to condenser in DC1**.\n",
    "\n",
    "We did a similar process in Condensers 2 and three, using the deltahVaporization for each component to find each Q.\n",
    "\n",
    "**m_h2o_condenser_AC = 1756969.877170 lbm/hr = flowrate of water supplied to condenser in AC \\\n",
    "m_h2o_condenser_Str = 77415.391062 lbm/hr = flowrate of water supplied to condenser in Stripper**"
   ]
  },
  {
   "cell_type": "markdown",
   "id": "94e4a389-006b-45ba-af5d-8f4946b32370",
   "metadata": {},
   "source": [
    "#### Calculations"
   ]
  },
  {
   "cell_type": "code",
   "execution_count": 53,
   "id": "a2909ea4-f2f8-4d5e-92fc-b45ffd1b42ff",
   "metadata": {},
   "outputs": [],
   "source": [
    "# knowns for Distillation column, ethanol concentrator\n",
    "# Ethanol, water and mash going in. All ethanol goes to the top stream, all solids go to the bottom stream. mixture of water in both streams.\n",
    "\n",
    "m_eth_inDC1 = 41102.2 # Ethanol in, lbm/hr \n",
    "m_h2o_inDC1 = 497857.8 # Water in, lbm/hr\n",
    "m_mash_inDC1 = 39944.4 # mash in, lbm/hr\n",
    "\n",
    "m_h2o_bottomsDC1 = 495870 # Water out in bottoms stream, lbm/hr\n",
    "m_mash_bottomsDC1 = 39944.4 # mash out in the bottoms stream, lbm/hr\n",
    "\n",
    "m_eth_topDC1 = 41102.2 # Ethanol out in the top stream, lbm/hr\n",
    "m_h2o_topDC1 = 1987 # h2o out in the top stream, lbm/hr\n",
    "\n",
    "t_in_DC1 = 121.11 # 250 F in C\n",
    "t_bottoms_DC1 = 135 # 305 F in C\n",
    "t_top_DC1 = 121.11 # 250 F in C"
   ]
  },
  {
   "cell_type": "code",
   "execution_count": 54,
   "id": "7f578372-8045-4658-84d1-b403029f5d3f",
   "metadata": {},
   "outputs": [],
   "source": [
    "# calculating Q for reboiler\n",
    "\n",
    "Tsat_150psig = 185 # C, Tsat of 150 psig steam for reboiler\n",
    "m_150psig = 110000 # lbm/hr steam flowrate\n",
    "\n",
    "# calculating delta hs and hs (delta hvap essentially)\n",
    "\n",
    "def Cph2o(t): # in liquid\n",
    "    A = 7.540E-02;B = 0;C = 0;D = 0\n",
    "    Cpm = A + B*t + C*t**2 + D*t**3\n",
    "    Cpm*=1000\n",
    "    return(Cpm) #returns J/mol * C\n",
    "\n",
    "# I chose as my reference state enthalpy of 0 at 32 F or 0 C\n",
    "ref = 0 # C\n",
    "\n",
    "# calculating h1w, enthalpy of water vapor coming in to Reboiler\n",
    "deltahvap_reboiler = 35939  # @ 185 C, J/mol roughly from Dippr (positive since liquid to steam)\n",
    "h_watervapor_inreboiler = quad(Cph2o, ref, Tsat_150psig)[0] + deltahvap_reboiler\n",
    "\n",
    "# calculating h2w, enthalpy of water coming out of Heat Exchanger sat liq\n",
    "h_water_outreboiler = quad(Cph2o, ref, Tsat_150psig)[0]"
   ]
  },
  {
   "cell_type": "code",
   "execution_count": 55,
   "id": "1450bcc0-3257-49c1-88eb-e751bd0403fd",
   "metadata": {},
   "outputs": [
    {
     "name": "stdout",
     "output_type": "stream",
     "text": [
      "h_watervapor_inreboiler_jPlbm = 1256743.585111 J/lbm = enthalpy watervapor coming in to reboiler\n",
      "h_water_outreboiler_jPlbm = 351393.446695 J/lbm = enthalpy water coming out of reboiler\n",
      "deltah_satstreamreboiler = -905350.138416 J/lbm = enthalpy change of sat stream of reboiler\n"
     ]
    }
   ],
   "source": [
    "h_watervapor_inreboiler_jPg = h_watervapor_inreboiler/MWh2o\n",
    "h_watervapor_inreboiler_jPlbm = h_watervapor_inreboiler_jPg/lbmPg\n",
    "\n",
    "print(f\"h_watervapor_inreboiler_jPlbm = {h_watervapor_inreboiler_jPlbm :.6f} J/lbm = enthalpy watervapor coming in to reboiler\")\n",
    "\n",
    "h_water_outreboiler_jPg = h_water_outreboiler/MWh2o\n",
    "h_water_outreboiler_jPlbm = h_water_outreboiler_jPg/lbmPg\n",
    "\n",
    "print(f\"h_water_outreboiler_jPlbm = {h_water_outreboiler_jPlbm :.6f} J/lbm = enthalpy water coming out of reboiler\")\n",
    "\n",
    "deltah_satstreamreboiler = h_water_outreboiler_jPlbm - h_watervapor_inreboiler_jPlbm\n",
    "print(f\"deltah_satstreamreboiler = {deltah_satstreamreboiler :.6f} J/lbm = enthalpy change of sat stream of reboiler\")"
   ]
  },
  {
   "cell_type": "code",
   "execution_count": 56,
   "id": "222aa9e1-9dcd-4551-99f1-5203a3223066",
   "metadata": {},
   "outputs": [
    {
     "name": "stdout",
     "output_type": "stream",
     "text": [
      "Qreboiler = -99588515225.773026 J/hr = heat transferred by reboiler\n"
     ]
    }
   ],
   "source": [
    "Qreboiler = m_150psig * deltah_satstreamreboiler\n",
    "\n",
    "print(f\"Qreboiler = {Qreboiler :.6f} J/hr = heat transferred by reboiler\")"
   ]
  },
  {
   "cell_type": "code",
   "execution_count": 57,
   "id": "785f01d9-e96e-4209-ba6c-259da9f68b32",
   "metadata": {},
   "outputs": [
    {
     "name": "stdout",
     "output_type": "stream",
     "text": [
      "delta_hmashDC1_jPlbmHE = 26382.999863 J/lbm = enthalpy change of mash in Distillation Column 1(ethanol conc)\n"
     ]
    }
   ],
   "source": [
    "# calculating hs and deltahs\n",
    "\n",
    "def Cpmash(t):\n",
    "    A = 7.540E-02;B = 0;C = 0;D = 0\n",
    "    Cpm = A + B*t + C*t**2 + D*t**3\n",
    "    Cpm*=1000\n",
    "    return(Cpm) #returns J/mol * C\n",
    "\n",
    "MWh2o = 18.011\n",
    "\n",
    "lbmPg = 0.002204 #conversion\n",
    "\n",
    "delta_hmashDC1 = quad(Cpmash, t_in_DC1, t_bottoms_DC1)[0]\n",
    "delta_hmashDC1_jPgHE = delta_hmashDC1/MWh2o\n",
    "delta_hmashDC1_jPlbmHE = delta_hmashDC1_jPgHE/lbmPg\n",
    "\n",
    "print(f\"delta_hmashDC1_jPlbmHE = {delta_hmashDC1_jPlbmHE :.6f} J/lbm = enthalpy change of mash in Distillation Column 1(ethanol conc)\")"
   ]
  },
  {
   "cell_type": "code",
   "execution_count": 58,
   "id": "8ed54dc0-de06-45d8-8e7a-8088fa716cd2",
   "metadata": {},
   "outputs": [
    {
     "name": "stdout",
     "output_type": "stream",
     "text": [
      "delta_hethDC1_jPlbmHE = 0.000000 J/lbm = enthalpy change of ethanol in Distillation Column 1(ethanol conc)\n"
     ]
    }
   ],
   "source": [
    "# calculating hs and deltahs\n",
    "\n",
    "def Cpethanol(t):\n",
    "    A = 9.839E-02;B = 0;C = 0;D = 0\n",
    "    Cpm = A + B*t + C*t**2 + D*t**3\n",
    "    Cpm*=1000\n",
    "    return(Cpm) #returns J/mol * C\n",
    "\n",
    "MWeth = 46.07\n",
    "lbmPg = 0.002204 #conversion\n",
    "\n",
    "delta_hethDC1 = quad(Cpethanol, t_in_DC1, t_top_DC1)[0]\n",
    "delta_hethDC1_jPgHE = delta_hethDC1/MWeth\n",
    "delta_hethDC1_jPlbmHE = delta_hethDC1_jPgHE/lbmPg\n",
    "\n",
    "print(f\"delta_hethDC1_jPlbmHE = {delta_hethDC1_jPlbmHE :.6f} J/lbm = enthalpy change of ethanol in Distillation Column 1(ethanol conc)\")"
   ]
  },
  {
   "cell_type": "code",
   "execution_count": 59,
   "id": "23f060e4-4cab-4815-aa64-696566640a4c",
   "metadata": {},
   "outputs": [],
   "source": [
    "# calculating delta hs and hs\n",
    "\n",
    "def Cph2o(t): # in liquid\n",
    "    A = 7.540E-02;B = 0;C = 0;D = 0\n",
    "    Cpm = A + B*t + C*t**2 + D*t**3\n",
    "    Cpm*=1000\n",
    "    return(Cpm) #returns J/mol * C\n",
    "\n",
    "# I chose as my reference state enthalpy of 0 at 32 F or 0 C\n",
    "ref = 0 # C\n",
    "\n",
    "# calculating h1, enthalpy of water coming in to DC1\n",
    "h_water_inDC1 = quad(Cph2o, ref, t_in_DC1)[0]\n",
    "\n",
    "# calculating h2, enthalpy of water coming out of DC1 at the top\n",
    "h_water_outtopDC1 = quad(Cph2o, ref, t_top_DC1)[0]\n",
    "\n",
    "# calculating h3, enthalpy of water coming out of DC1 at the bottom\n",
    "h_water_outbottomDC1 = quad(Cph2o, ref, t_bottoms_DC1)[0]\n"
   ]
  },
  {
   "cell_type": "code",
   "execution_count": 60,
   "id": "de7d5f2e-e29c-428f-98d0-c855abd5034c",
   "metadata": {},
   "outputs": [
    {
     "name": "stdout",
     "output_type": "stream",
     "text": [
      "h_water_inDC1_jPlbm = 230039.245023 J/lbm = enthalpy water coming in to DC1\n",
      "h_water_outtopDC1_jPlbm = 230039.245023 J/lbm = enthalpy water coming out of DC1 at the top\n",
      "h_water_outbottomDC1_jPlbm = 256422.244885 J/lbm = enthalpy water coming out of DC1 at the bottom\n"
     ]
    }
   ],
   "source": [
    "h_water_inDC1_jPg = h_water_inDC1/MWh2o\n",
    "h_water_inDC1_jPlbm = h_water_inDC1_jPg/lbmPg\n",
    "\n",
    "print(f\"h_water_inDC1_jPlbm = {h_water_inDC1_jPlbm :.6f} J/lbm = enthalpy water coming in to DC1\")\n",
    "\n",
    "h_water_outtopDC1_jPg = h_water_outtopDC1/MWh2o\n",
    "h_water_outtopDC1_jPlbm = h_water_outtopDC1_jPg/lbmPg\n",
    "\n",
    "print(f\"h_water_outtopDC1_jPlbm = {h_water_outtopDC1_jPlbm :.6f} J/lbm = enthalpy water coming out of DC1 at the top\")\n",
    "\n",
    "h_water_outbottomDC1_jPg = h_water_outbottomDC1/MWh2o\n",
    "h_water_outbottomDC1_jPlbm = h_water_outbottomDC1_jPg/lbmPg\n",
    "\n",
    "print(f\"h_water_outbottomDC1_jPlbm = {h_water_outbottomDC1_jPlbm :.6f} J/lbm = enthalpy water coming out of DC1 at the bottom\")"
   ]
  },
  {
   "cell_type": "code",
   "execution_count": 61,
   "id": "2b06808a-7b8a-45ff-b528-e169043462fa",
   "metadata": {},
   "outputs": [
    {
     "name": "stdout",
     "output_type": "stream",
     "text": [
      "** QcondenserDC1 = 85452308015.559418 J/hr = heat transferred in condenser in DC1**\n"
     ]
    }
   ],
   "source": [
    "def f_DC1(a):\n",
    "    Qcondenser = a # unknowns, heat transferred in condenser\n",
    "    \n",
    "    eq1 = m_mash_bottomsDC1*delta_hmashDC1_jPlbmHE + m_eth_topDC1*delta_hethDC1_jPlbmHE + m_h2o_bottomsDC1*h_water_outbottomDC1_jPlbm + m_h2o_topDC1*h_water_outtopDC1_jPlbm - m_h2o_inDC1*h_water_inDC1_jPlbm + Qcondenser + Qreboiler \n",
    "    return eq1\n",
    "\n",
    "guess_DC1 = 500000\n",
    "ansDC1 = fsolve(f_DC1, guess_DC1)\n",
    "QcondenserDC1 = ansDC1[0]\n",
    "\n",
    "print(f\"** QcondenserDC1 = {QcondenserDC1 :.6f} J/hr = heat transferred in condenser in DC1**\")"
   ]
  },
  {
   "cell_type": "code",
   "execution_count": 62,
   "id": "8c6e3ce9-7ebe-48da-8606-5bd98bb34530",
   "metadata": {},
   "outputs": [
    {
     "name": "stdout",
     "output_type": "stream",
     "text": [
      "deltah_condenser_DC1_jPlbm = 26382.999863 J/lbm = enthalpy change of water supplied to condenser in DC1\n"
     ]
    }
   ],
   "source": [
    "# calculating delta h water in condenser in DC1 (liquid going from 85 to 110 F)\n",
    "\n",
    "def Cph2o(t): # in liquid\n",
    "    A = 7.540E-02;B = 0;C = 0;D = 0\n",
    "    Cpm = A + B*t + C*t**2 + D*t**3\n",
    "    Cpm*=1000\n",
    "    return(Cpm) #returns J/mol * C\n",
    "\n",
    "t_incooling_water =  29.44 # 85 F in C\n",
    "t_outcooling_water = 43.33 # 110 F in C\n",
    "\n",
    "deltah_condenser_DC1 = quad(Cph2o, t_incooling_water, t_outcooling_water)[0] \n",
    "\n",
    "deltah_condenser_DC1_jPg = deltah_condenser_DC1/MWh2o\n",
    "deltah_condenser_DC1_jPlbm = deltah_condenser_DC1_jPg/lbmPg\n",
    "\n",
    "print(f\"deltah_condenser_DC1_jPlbm = {deltah_condenser_DC1_jPlbm :.6f} J/lbm = enthalpy change of water supplied to condenser in DC1\")"
   ]
  },
  {
   "cell_type": "code",
   "execution_count": 63,
   "id": "13237898-c86f-4d41-b36e-d3bbb2d0e7d0",
   "metadata": {},
   "outputs": [
    {
     "name": "stdout",
     "output_type": "stream",
     "text": [
      "** m_h2o_condenser_DC1 = 3238915.531229 lbm/hr = flowrate of water supplied to condenser in DC1**\n"
     ]
    }
   ],
   "source": [
    "m_h2o_condenser_DC1 = QcondenserDC1 / deltah_condenser_DC1_jPlbm\n",
    "\n",
    "print(f\"** m_h2o_condenser_DC1 = {m_h2o_condenser_DC1 :.6f} lbm/hr = flowrate of water supplied to condenser in DC1**\")"
   ]
  },
  {
   "cell_type": "code",
   "execution_count": 64,
   "id": "1b51907d-443d-4f35-aff7-55ceae4628d6",
   "metadata": {},
   "outputs": [],
   "source": [
    "# solving around condenser of azeotrope column\n",
    "# vapor pentane, ethanol, water coming in and all condensed to liquid\n",
    "\n",
    "m_pent_in_condAC = 179386.53 # lbm/hr\n",
    "m_ethanol_in_condAC = 15515.94 # lbm/hr\n",
    "m_h2o_in_condAC = 12525.28 # lbm/hr"
   ]
  },
  {
   "cell_type": "code",
   "execution_count": 65,
   "id": "0cba556e-6439-4a79-8ce9-1c4c301ef7d4",
   "metadata": {},
   "outputs": [],
   "source": [
    "Tsat_condAC = 66.11 # 151 F in C\n",
    "\n",
    "#deltahvaps in positive since they are going from steam to liquid\n",
    "\n",
    "deltahvap_pent_condAC = -23849 # J/mol\n",
    "deltahvap_ethanol_condAC = -40048 # J/mol\n",
    "deltahvap_h2o_condAC = -42249 # J/mol\n",
    "\n",
    "MWpent = 72.15 # g/mol\n",
    "MWethanol = 46.07 # g/mol"
   ]
  },
  {
   "cell_type": "code",
   "execution_count": 66,
   "id": "bab29285-68a7-4485-8ed6-2eff44c7393f",
   "metadata": {},
   "outputs": [
    {
     "name": "stdout",
     "output_type": "stream",
     "text": [
      "deltahvap_pent_condAC_jPlbm = -149976.166310 J/lbm = enthalpy pent coming in to condenser for Azeotrope Column\n",
      "deltahvap_ethanol_condAC_jPlbm = -394412.826374 J/lbm = enthalpy ethanol coming in to condenser for Azeotrope Column\n",
      "deltahvap_h2o_condAC_jPlbm = -1064307.242771 J/lbm = enthalpy water coming out of DC1 at the bottom\n"
     ]
    }
   ],
   "source": [
    "\n",
    "deltahvap_pent_condAC_jPg = deltahvap_pent_condAC/MWpent\n",
    "deltahvap_pent_condAC_jPlbm = deltahvap_pent_condAC_jPg/lbmPg\n",
    "\n",
    "print(f\"deltahvap_pent_condAC_jPlbm = {deltahvap_pent_condAC_jPlbm :.6f} J/lbm = enthalpy pent coming in to condenser for Azeotrope Column\")\n",
    "\n",
    "deltahvap_ethanol_condAC_jPg = deltahvap_ethanol_condAC/MWethanol\n",
    "deltahvap_ethanol_condAC_jPlbm = deltahvap_ethanol_condAC_jPg/lbmPg\n",
    "\n",
    "print(f\"deltahvap_ethanol_condAC_jPlbm = {deltahvap_ethanol_condAC_jPlbm :.6f} J/lbm = enthalpy ethanol coming in to condenser for Azeotrope Column\")\n",
    "\n",
    "deltahvap_h2o_condAC_jPg = deltahvap_h2o_condAC/MWh2o\n",
    "deltahvap_h2o_condAC_jPlbm = deltahvap_h2o_condAC_jPg/lbmPg\n",
    "\n",
    "print(f\"deltahvap_h2o_condAC_jPlbm = {deltahvap_h2o_condAC_jPlbm :.6f} J/lbm = enthalpy water coming out of DC1 at the bottom\")"
   ]
  },
  {
   "cell_type": "code",
   "execution_count": 67,
   "id": "bb39f3da-6abd-444a-ae98-671af1b268a9",
   "metadata": {},
   "outputs": [
    {
     "name": "stdout",
     "output_type": "stream",
     "text": [
      "Qcondenser_AC = -46354136028.062134 J/hr = heat transferred by stream in condenser of Azeotrope Column\n"
     ]
    }
   ],
   "source": [
    "Qcondenser_AC = m_pent_in_condAC*deltahvap_pent_condAC_jPlbm + m_ethanol_in_condAC*deltahvap_ethanol_condAC_jPlbm + m_h2o_in_condAC*deltahvap_h2o_condAC_jPlbm \n",
    "\n",
    "print(f\"Qcondenser_AC = {Qcondenser_AC :.6f} J/hr = heat transferred by stream in condenser of Azeotrope Column\")"
   ]
  },
  {
   "cell_type": "code",
   "execution_count": 68,
   "id": "87e828b4-3dc2-43b7-9a51-ca7256b73fa0",
   "metadata": {},
   "outputs": [
    {
     "name": "stdout",
     "output_type": "stream",
     "text": [
      "deltah_condenser_AC_jPlbm = 26382.999863 J/lbm = enthalpy change of water supplied to condenser in Azeotrope Column\n"
     ]
    }
   ],
   "source": [
    "# calculating delta h water in condenser in Azeotrope Column (liquid going from 85 to 110 F)\n",
    "\n",
    "def Cph2o(t): # in liquid\n",
    "    A = 7.540E-02;B = 0;C = 0;D = 0\n",
    "    Cpm = A + B*t + C*t**2 + D*t**3\n",
    "    Cpm*=1000\n",
    "    return(Cpm) #returns J/mol * C\n",
    "\n",
    "t_incooling_water =  29.44 # 85 F in C\n",
    "t_outcooling_water = 43.33 # 110 F in C\n",
    "\n",
    "deltah_condenser_AC = quad(Cph2o, t_incooling_water, t_outcooling_water)[0] \n",
    "\n",
    "deltah_condenser_AC_jPg = deltah_condenser_AC/MWh2o\n",
    "deltah_condenser_AC_jPlbm = deltah_condenser_AC_jPg/lbmPg\n",
    "\n",
    "print(f\"deltah_condenser_AC_jPlbm = {deltah_condenser_AC_jPlbm :.6f} J/lbm = enthalpy change of water supplied to condenser in Azeotrope Column\")"
   ]
  },
  {
   "cell_type": "code",
   "execution_count": 69,
   "id": "cadb7d66-d73a-4723-99c6-23e01d70770a",
   "metadata": {},
   "outputs": [
    {
     "name": "stdout",
     "output_type": "stream",
     "text": [
      "** m_h2o_condenser_AC = 1756969.877170 lbm/hr = flowrate of water supplied to condenser in AC**\n"
     ]
    }
   ],
   "source": [
    "m_h2o_condenser_AC = -Qcondenser_AC / deltah_condenser_AC_jPlbm \n",
    "\n",
    "print(f\"** m_h2o_condenser_AC = {m_h2o_condenser_AC :.6f} lbm/hr = flowrate of water supplied to condenser in AC**\")"
   ]
  },
  {
   "cell_type": "code",
   "execution_count": 70,
   "id": "ebe6ed42-6a6a-4003-8f84-1a74ac596ff9",
   "metadata": {},
   "outputs": [
    {
     "name": "stdout",
     "output_type": "stream",
     "text": [
      "m_h2o_topStr = 1130.8687 lbm/hr, h2o coming out in the boilup stream of stripper\n",
      "m_ethanol_inStr = 2366.4777 lbm/hr, ethanol coming out in the boilup stream of stripper\n"
     ]
    }
   ],
   "source": [
    "# solving around Stripper, need to get actual numbers\n",
    "\n",
    "Tsat_top = 97.78 # 208 F in C\n",
    "\n",
    "m_h2o_topDC1 = 1987 # h2o out in the top stream of DC1, lbm/hr\n",
    "m_h2o_inAC = m_h2o_topDC1\n",
    "m_h2o_bottomproduct_AC = 341.7122 # lbm/hr\n",
    "\n",
    "m_h2o_wasteout_Str = m_h2o_inAC - m_h2o_bottomproduct_AC # h2o waste in bottom stream of Stripper, lbm/hr\n",
    "\n",
    "m_h2o_inStr = 2776.156538 # lbm/hr, water into stripper\n",
    "m_ethanol_inStr = 2366.47769 # lbm/hr, ethanol into stripper \n",
    "\n",
    "m_h2o_topStr = m_h2o_inStr - m_h2o_wasteout_Str # h2o coming out in the boilup stream of stripper\n",
    "\n",
    "print(f\"m_h2o_topStr = {m_h2o_topStr :.4f} lbm/hr, h2o coming out in the boilup stream of stripper\")\n",
    "print(f\"m_ethanol_inStr = {m_ethanol_inStr :.4f} lbm/hr, ethanol coming out in the boilup stream of stripper\")\n",
    "\n",
    "#deltahvaps in positive since they are going from steam to liquid\n",
    "deltahvap_ethanol_condStr = -37764 # J/mol\n",
    "deltahvap_h2o_condStr = -40800 # J/mol"
   ]
  },
  {
   "cell_type": "code",
   "execution_count": 71,
   "id": "a3fe60ae-db5e-4d01-b7a1-67139b13cc88",
   "metadata": {},
   "outputs": [
    {
     "name": "stdout",
     "output_type": "stream",
     "text": [
      "deltahvap_ethanol_condStr_jPlbm = -371918.846764 J/lbm = enthalpy ethanol coming in to condenser for Stripper Column\n",
      "deltahvap_h2o_condStr_jPlbm = -1027805.048760 J/lbm = enthalpy water coming in to condenser for Stripper Column\n"
     ]
    }
   ],
   "source": [
    "deltahvap_ethanol_condStr_jPg = deltahvap_ethanol_condStr/MWethanol\n",
    "deltahvap_ethanol_condStr_jPlbm = deltahvap_ethanol_condStr_jPg/lbmPg\n",
    "\n",
    "print(f\"deltahvap_ethanol_condStr_jPlbm = {deltahvap_ethanol_condStr_jPlbm :.6f} J/lbm = enthalpy ethanol coming in to condenser for Stripper Column\")\n",
    "\n",
    "deltahvap_h2o_condStr_jPg = deltahvap_h2o_condStr/MWh2o\n",
    "deltahvap_h2o_condStr_jPlbm = deltahvap_h2o_condStr_jPg/lbmPg\n",
    "\n",
    "print(f\"deltahvap_h2o_condStr_jPlbm = {deltahvap_h2o_condStr_jPlbm :.6f} J/lbm = enthalpy water coming in to condenser for Stripper Column\")"
   ]
  },
  {
   "cell_type": "code",
   "execution_count": 72,
   "id": "844b0410-9bea-4cde-bdec-e563435aa480",
   "metadata": {},
   "outputs": [
    {
     "name": "stdout",
     "output_type": "stream",
     "text": [
      "Qcondenser_Stripper = -2042450251.758530 J/hr = heat transferred by stream in condenser of Stripper\n"
     ]
    }
   ],
   "source": [
    "Qcondenser_Stripper = m_h2o_topStr * deltahvap_h2o_condStr_jPlbm + m_ethanol_inStr * deltahvap_ethanol_condStr_jPlbm \n",
    "\n",
    "print(f\"Qcondenser_Stripper = {Qcondenser_Stripper :.6f} J/hr = heat transferred by stream in condenser of Stripper\")"
   ]
  },
  {
   "cell_type": "code",
   "execution_count": 73,
   "id": "1430b948-2b45-475f-abee-8c3823ff24dc",
   "metadata": {},
   "outputs": [
    {
     "name": "stdout",
     "output_type": "stream",
     "text": [
      "deltah_condenser_Str_jPlbm = 26382.999863 J/lbm = enthalpy change of water supplied to condenser in Stripper\n"
     ]
    }
   ],
   "source": [
    "# calculating delta h water in condenser in Stripper (liquid going from 85 to 110 F)\n",
    "\n",
    "def Cph2o(t): # in liquid\n",
    "    A = 7.540E-02;B = 0;C = 0;D = 0\n",
    "    Cpm = A + B*t + C*t**2 + D*t**3\n",
    "    Cpm*=1000\n",
    "    return(Cpm) #returns J/mol * C\n",
    "\n",
    "t_incooling_water =  29.44 # 85 F in C\n",
    "t_outcooling_water = 43.33 # 110 F in C\n",
    "\n",
    "deltah_condenser_Str = quad(Cph2o, t_incooling_water, t_outcooling_water)[0] \n",
    "\n",
    "deltah_condenser_Str_jPg = deltah_condenser_Str/MWh2o\n",
    "deltah_condenser_Str_jPlbm = deltah_condenser_Str_jPg/lbmPg\n",
    "\n",
    "print(f\"deltah_condenser_Str_jPlbm = {deltah_condenser_Str_jPlbm :.6f} J/lbm = enthalpy change of water supplied to condenser in Stripper\")"
   ]
  },
  {
   "cell_type": "code",
   "execution_count": 74,
   "id": "048cc46a-fbd9-4799-b3c0-1c7dafdd7ecb",
   "metadata": {},
   "outputs": [
    {
     "name": "stdout",
     "output_type": "stream",
     "text": [
      "** m_h2o_condenser_Str = 77415.391062 lbm/hr = flowrate of water supplied to condenser in Stripper**\n"
     ]
    }
   ],
   "source": [
    "m_h2o_condenser_Str = -Qcondenser_Stripper  / deltah_condenser_Str_jPlbm  \n",
    "\n",
    "print(f\"** m_h2o_condenser_Str = {m_h2o_condenser_Str :.6f} lbm/hr = flowrate of water supplied to condenser in Stripper**\")"
   ]
  },
  {
   "cell_type": "markdown",
   "id": "ee354d59-90d2-4cd4-9974-e59b31e541e8",
   "metadata": {},
   "source": [
    "### Problem 20 (Medium)\n",
    "\n",
    "> Engineering design is composed of much more than technical calculations. As defined by ABET, the accreditation board for engineering programs in the US, solutions must meet specified technical needs but also consider public health, safety, and welfare as well as global, cultural, social, environmental, and economic factors. Table 4 contains definitions, examples, and details—used by BYU Chemical Engineering—on each of these ABET-specified factors. \n",
    "Explain how each of the following factors affect your design/calculations/recommendations for the bioethanol plant. Make sure to address each category separately. If one is not applicable, state why. Extensive detail is not required, as you haven’t been trained in safety and environmental considerations. Future classes will help you understand each of these items in more detail, but critical thinking, common sense, and Google can help you make many reasonable decisions regarding these items even at this point of your career. Stretch yourself a little bit and be as thoughtful as possible within the time constraints of this project.\n",
    "- A. Public Health\n",
    "- B. Public Safety\n",
    "- C. Public Welfare\n",
    "- D. Global Factors\n",
    "- E. Cultural Factors\n",
    "- F. Social Factors\n",
    "- G. Environmental Factors\n",
    "- H. Economic Factors"
   ]
  },
  {
   "cell_type": "markdown",
   "id": "a06df42e-b4ae-4094-9598-13a007417224",
   "metadata": {},
   "source": [
    "#### A - Public Health\n",
    "\n",
    "Our process creates a waste stream of water with trace amounts of ethanol and propane. We send this to a waste treatment facility to ensure it is properly taken care of. We also produce CO2 in our reaction. There is a possibility of needing to scrub it before putting it back into the atmosphere. Our reactions occur at high temperatures and pressures, it will also be important to make sure that we have correct safety protocols and all pertinent information is labeled in our safety data sheets (ethanol, and by-products)"
   ]
  },
  {
   "cell_type": "markdown",
   "id": "9e2aeae6-34e5-4cd5-8fe0-bc0fcdfc9d9e",
   "metadata": {},
   "source": [
    "#### B - Public Safety\n",
    "\n",
    "Because of our many high pressure lines with high temps, it will be critical to do risk analysis frequently. Having a pipe or flash tank rupture at 150psi can cause serious injury to employees. The probability of these issues are low when all equipment is properly maintained and kept up to specifications. This will require frequent checks on our gauges, the integrity of all reactors, pipes, and other parts of the process.  We will ensure there are safety measures in place with emergency shut down options and that all employees are properly trained on process hazards and company procedures. This training will include what to do in case of an emergency and to develop a plan for evacuation in case of fire, or other problems.\n",
    "\n",
    "Ethanol is a flammable liquid, so measures will be taken to use approved containers and to prevent storage containers and tanks from potential ignition. We must also consider proper ventilation for all indoor portions of the factory to prevent ethanol vapors from accumulating.  For any employee working in hazardous conditions, we will need to provide appropriate PPE."
   ]
  },
  {
   "cell_type": "markdown",
   "id": "572aa1e3-3318-47ff-b80c-d910251f7176",
   "metadata": {},
   "source": [
    "#### C - Public Welfare\n",
    "\n",
    "There are a few features we can include to help people feel positive about the plant. For pedestrians, we can make sure everything is painted an appropriate color to blend in. We can also make sure the plant is located in a geographically favorable position. This could include being downwind and downstream from any towns if applicable.  This would help with any pollution affecting people as well as any smell or CO2 placed into the air. \n",
    "\n",
    "Operations can be completed efficiently and at appropriate times of day to reduce light and noise pollution. We can pay our employees appropriately and competitively based on the industry standard with opportunities for growth within the company. As our efficiency increases and profit follows, we can pay and employ more people. For employees, training programs to increase technical skills would really help in moral and career advancement. Sourcing our corn from local agriculture promotes the local economy as well."
   ]
  },
  {
   "cell_type": "markdown",
   "id": "4f5b7837-433f-4682-a1cc-067d6d474d03",
   "metadata": {},
   "source": [
    "#### D - Global Factors\n",
    "\n",
    "Some parts of the factory that are frequently consumed may come from different countries and it will be important to make sure we have a consistent supply chain. Planning ahead for delays as well as potential profit losses due to tariffs and other shipping issues will also be important. \n",
    "\n",
    "When exporting and selling our bioethanol, we need to make sure all country specific regulations regarding transportation of hazardous material is followed. Because the US has fairly strict environmental regulations, it will be integral to operate our plane at maximum efficiency to be competitive globally. Optimizing steam flow through the plant to recycle and reuse heat will be critical in accomplishing this. \n",
    "\n",
    "Our plant needs to operate 330 days a year and so employing people in varying time zones who can work remotely and accomplish various tasks would be beneficial to operating efficiency. We will also need to make sure that all technology has proper cybersecurity measures taken. I have read about too many oil/gas companies being hacked and key supply chains being shut down."
   ]
  },
  {
   "cell_type": "markdown",
   "id": "e559c070-c801-4ed0-8c54-4735a9805b16",
   "metadata": {},
   "source": [
    "#### E - Cultural Factors\n",
    "\n",
    "Some potential cultural issues we forsee include to following: If we use significant water resources, make sure that all local communities still have adequate and equitable access. We have the job of convincing the public that our plant will benefit their economy, provide jobs, and will not destroy the local environment. Plan operation delays, maintenance, and other schedules around major important holidays based on country and religious observances. Make sure that our plant is not constructed on any culturally significant locations. Our employee vacation policies should be appropriate for the location. All signs and instructions should be posted in multiple locations so all language barriers can be managed. Allow employees of various religious backgrounds time and space to practice their beliefs."
   ]
  },
  {
   "cell_type": "markdown",
   "id": "88edb7ed-655f-4d1c-b66f-fdf8d602393d",
   "metadata": {},
   "source": [
    "#### F - Social Factors\n",
    "\n",
    "Similar to stated before, offering training programs to allow employees to build skills and advance in their careers is important for moral, and filling all positions at the company. Create a way for employees to get to work if they use public transportation or need to walk/bike. Monitor that all interactions between supervisors and employees are respectful. Offering flexible schedules and other initiatives can help workers with families manage their lives. Sponsoring local events is a great way to increase public perception and impact the community. We will also need to ensure we are in compliance with labor laws."
   ]
  },
  {
   "cell_type": "markdown",
   "id": "b1d7737e-21d5-4736-a186-50c5e51a2d36",
   "metadata": {},
   "source": [
    "#### G - Environmental Factors\n",
    "We can make sure that we are not overharvesting the local land and placing too much strain on local farmers. Waste management and correct disposal measures are essential to reducing our environmental impact. Our plant produces CO2 and also could potentially impact air quality, soil/water quality, and more. We can run impact studies and engineer ways to scrub our pollutants. As discussed above, being compliant with OSHA is also important as well as other local regulations.\n",
    "\n",
    "Regarding our byproducts and leftover material, we can find a way to recycle it, use it for other purposes, and reduce trash created. We will watch as new regulations are proposed by the government and preemptively design ways to meet these criteria."
   ]
  },
  {
   "cell_type": "markdown",
   "id": "3da9d224-2cf7-4bfb-b008-8e8801b5b7ce",
   "metadata": {},
   "source": [
    "#### H - Economic Factors\n",
    "\n",
    "We will have to ensure that our plant generates enough product that we can be profitable. It is great to design all these programs to help employees and the community, as well as helping the environment. However, if the plant cannot make money then all the employees will lose their job. Creating a constant and predictable revenue stream is important to long-term well-being of the company and the plant.\n",
    "\n",
    "When designing the plant, to attract investors, we need to make sure the ROR on this product is sufficient to allow us to gather the funds to create the project. Managing growth projections and economic growth will be important as well. Many parts of this process will fluctuate in price including sale price of ethanol, purchase price of corn and other materials. It will be important to monitor this and try to prevent financial risks.\n",
    "\n",
    "Our energy costs will be a large portion of our expenses, so designing a plant that can be as efficient as possible will save us money, and reduce the impact of increasing energy costs."
   ]
  }
 ],
 "metadata": {
  "kernelspec": {
   "display_name": "Python 3 (ipykernel)",
   "language": "python",
   "name": "python3"
  },
  "language_info": {
   "codemirror_mode": {
    "name": "ipython",
    "version": 3
   },
   "file_extension": ".py",
   "mimetype": "text/x-python",
   "name": "python",
   "nbconvert_exporter": "python",
   "pygments_lexer": "ipython3",
   "version": "3.13.0"
  }
 },
 "nbformat": 4,
 "nbformat_minor": 5
}
