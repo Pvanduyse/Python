{
 "cells": [
  {
   "cell_type": "code",
   "execution_count": 2,
   "id": "bd3a4637-f786-4be8-a4b5-e6e067e447b2",
   "metadata": {},
   "outputs": [],
   "source": [
    "# Question 7"
   ]
  },
  {
   "cell_type": "code",
   "execution_count": 27,
   "id": "2bce337f-e3af-46a8-9b58-31ce3aa510e5",
   "metadata": {},
   "outputs": [],
   "source": [
    "import numpy as np\n",
    "from scipy.optimize import fsolve\n",
    "from scipy.integrate import quad"
   ]
  },
  {
   "cell_type": "code",
   "execution_count": 29,
   "id": "1d5bd1be-cf46-46a9-8296-4cf72f1404fc",
   "metadata": {},
   "outputs": [],
   "source": [
    "# QUESTION 7"
   ]
  },
  {
   "cell_type": "markdown",
   "id": "741b7bd3-0ee5-499e-bc7d-f7f19630df50",
   "metadata": {},
   "source": [
    "For question 7, we know that the azeotrope column and the stripper are both operating at VLE. Because of this we can use Raoult's Law or just the Antoine equation "
   ]
  },
  {
   "cell_type": "code",
   "execution_count": 31,
   "id": "ecfab803-3720-4afc-9a07-19456a75331d",
   "metadata": {},
   "outputs": [],
   "source": [
    "# knowns\n",
    "\n",
    "x1 = 0.9795 # ethanol\n",
    "x2 = 0.0205 # water\n",
    "P = 2.0265 # bar, system pressure in stripper\n",
    "#x2 = 1-x1"
   ]
  },
  {
   "cell_type": "code",
   "execution_count": 33,
   "id": "ba5aaada-5210-46d5-be6b-e6b673f60d10",
   "metadata": {},
   "outputs": [
    {
     "data": {
      "text/plain": [
       "1.0132527754404501"
      ]
     },
     "execution_count": 33,
     "metadata": {},
     "output_type": "execute_result"
    }
   ],
   "source": [
    "def psat(t,i):\n",
    "    if i == 1:  # ethanol\n",
    "        A = 8.13484\t\n",
    "        B = 1662.48\t\n",
    "        C = 238.131\n",
    "     \n",
    "    elif i == 2:  # water\n",
    "        A = 8.05573\t\n",
    "        B = 1723.64\t\n",
    "        C = 233.076\n",
    "     \n",
    "\n",
    "        # Calculate saturation pressure using Antoine equation\n",
    "    P_sat = 10 ** (A - (B/ (t + C))) / 750.062 # convert to bar\n",
    "    return(P_sat)  # in bar\n",
    "\n",
    "psat(100,2)"
   ]
  },
  {
   "cell_type": "code",
   "execution_count": 35,
   "id": "3bfe7fff-563d-4d24-9123-fdda49f66b69",
   "metadata": {},
   "outputs": [],
   "source": [
    "# function for fsolve for stripper\n",
    "\n",
    "def f(a):\n",
    "    eq1 =  P - psat(a,2)\n",
    "    return(eq1)"
   ]
  },
  {
   "cell_type": "code",
   "execution_count": 37,
   "id": "26e7e707-f609-4f99-a8d3-d66809b4dcb9",
   "metadata": {},
   "outputs": [
    {
     "data": {
      "text/plain": [
       "-4.219880124915525"
      ]
     },
     "execution_count": 37,
     "metadata": {},
     "output_type": "execute_result"
    }
   ],
   "source": [
    "guesses = 160\n",
    "f(guesses)"
   ]
  },
  {
   "cell_type": "code",
   "execution_count": 39,
   "id": "46333f71-a982-42c3-a76a-775861176c3d",
   "metadata": {},
   "outputs": [],
   "source": [
    "ans = fsolve(f, guesses)\n",
    "TF = ans[0] * 9/5 + 32"
   ]
  },
  {
   "cell_type": "code",
   "execution_count": 41,
   "id": "bd408d39-39c6-488e-8eb6-c6b4cf8e9523",
   "metadata": {},
   "outputs": [
    {
     "name": "stdout",
     "output_type": "stream",
     "text": [
      "t = 120.572 Celsius\n",
      "t = 249.0296 Farenheit\n"
     ]
    }
   ],
   "source": [
    "print('t =', round(ans[0], 4), 'Celsius')\n",
    "print('t =', round(TF, 4), 'Farenheit')\n",
    "# for the stripper"
   ]
  },
  {
   "cell_type": "code",
   "execution_count": null,
   "id": "2d58eae7-98d6-4bed-a42e-1811e5a19891",
   "metadata": {},
   "outputs": [],
   "source": []
  },
  {
   "cell_type": "code",
   "execution_count": 44,
   "id": "9016f42a-d3f1-4e26-9ac6-085476b19fa8",
   "metadata": {},
   "outputs": [],
   "source": [
    "# function for fsolve for azeotrope column\n",
    "Pac = 3.34373 # bar, system pressure for azeotrope column\n",
    "\n",
    "def f1(a):\n",
    "    t, y1 = a\n",
    "    eq1 = x1 * psat(t,1) - y1 * Pac\n",
    "    eq2 = x2 * psat(t,2) - (1-y1) * Pac\n",
    "    return([eq1,eq2])"
   ]
  },
  {
   "cell_type": "code",
   "execution_count": 46,
   "id": "b5369e8f-9d4d-42f0-aa35-3938c5d4a29a",
   "metadata": {},
   "outputs": [
    {
     "data": {
      "text/plain": [
       "[25.918410589219683, -0.3433648243825195]"
      ]
     },
     "execution_count": 46,
     "metadata": {},
     "output_type": "execute_result"
    }
   ],
   "source": [
    "guesses1 = [200,0.8]\n",
    "f1(guesses1)"
   ]
  },
  {
   "cell_type": "code",
   "execution_count": 48,
   "id": "3731642b-1d70-4300-8e20-e1d7a72f32cf",
   "metadata": {},
   "outputs": [],
   "source": [
    "ans1 = fsolve(f1, guesses1)\n",
    "TF1 = ans1[0] * 9/5 + 32"
   ]
  },
  {
   "cell_type": "code",
   "execution_count": 50,
   "id": "182dad90-2eba-43fa-847b-fe4677378f68",
   "metadata": {},
   "outputs": [
    {
     "name": "stdout",
     "output_type": "stream",
     "text": [
      "t = 113.2854 Celsius\n",
      "t = 235.9137 Farenheit\n"
     ]
    }
   ],
   "source": [
    "print('t =', round(ans1[0], 4), 'Celsius')\n",
    "print('t =', round(TF1, 4), 'Farenheit')\n",
    "# for the azeotrope column"
   ]
  },
  {
   "cell_type": "code",
   "execution_count": null,
   "id": "1131906f-ff8c-4b50-b114-49b4b37e57ae",
   "metadata": {},
   "outputs": [],
   "source": []
  },
  {
   "cell_type": "code",
   "execution_count": null,
   "id": "0681ddfd-d194-42e2-bb17-5eda23cc2f80",
   "metadata": {},
   "outputs": [],
   "source": []
  },
  {
   "cell_type": "code",
   "execution_count": 54,
   "id": "9af990b2-3d25-4491-84aa-9ef4806ca1b4",
   "metadata": {},
   "outputs": [],
   "source": [
    "# Question 9"
   ]
  },
  {
   "cell_type": "code",
   "execution_count": 56,
   "id": "178ce8c8-7adc-46b4-9800-83096842209a",
   "metadata": {},
   "outputs": [
    {
     "name": "stdout",
     "output_type": "stream",
     "text": [
      "min_pressure = 6.2464 bar\n"
     ]
    }
   ],
   "source": [
    "# minimum pressure at which cooking vessel must operate\n",
    "# sat. pressure at 320 F = 160 C\n",
    "\n",
    "def psat(t,i):\n",
    "    if i == 2:  # water\n",
    "        A = 8.05573\t\n",
    "        B = 1723.64\t\n",
    "        C = 233.076\n",
    "     # Calculate saturation pressure using Antoine equation\n",
    "    P_sat = 10 ** (A - (B/ (t + C))) / 750.062 # convert to bar\n",
    "    return(P_sat)\n",
    "\n",
    "min_pressure = psat(160, 2)\n",
    "print('min_pressure =', round(min_pressure, 4), 'bar')"
   ]
  },
  {
   "cell_type": "code",
   "execution_count": 58,
   "id": "c954f47e-fd9a-4745-88fe-56d9351d3bb4",
   "metadata": {},
   "outputs": [
    {
     "name": "stdout",
     "output_type": "stream",
     "text": [
      "flash_pressure = 0.2263 bar\n"
     ]
    }
   ],
   "source": [
    "# pressure to which mash must be flashed to provide a resultant liquor temp of 145 F = 62.7778 C\n",
    "\n",
    "flash_pressure = psat(62.778, 2)\n",
    "print('flash_pressure =', round(flash_pressure, 4), 'bar')"
   ]
  },
  {
   "cell_type": "code",
   "execution_count": 60,
   "id": "3fb9bc3a-7809-4984-b1ce-d81c2fdd0de6",
   "metadata": {
    "scrolled": true
   },
   "outputs": [
    {
     "name": "stdout",
     "output_type": "stream",
     "text": [
      "m_mash = 499133.000000 lbm/hr flow rate of mash\n",
      "W_corn = 0.277681 weight % of corn solids in mash\n",
      "W_h2o = 0.722319 weight % of water in mash\n"
     ]
    }
   ],
   "source": [
    "m_corn = 138600 # lbm/hr corn meal\n",
    "m_h2o = 360533 # lbm/hr total water coming in to mixing tank\n",
    "\n",
    "m_mash = m_corn + m_h2o\n",
    "W_corn = m_corn/m_mash\n",
    "W_h2o = m_h2o/m_mash\n",
    "\n",
    "print(f\"m_mash = {m_mash :.6f} lbm/hr flow rate of mash\")\n",
    "print(f\"W_corn = {W_corn :.6f} weight % of corn solids in mash\")\n",
    "print(f\"W_h2o = {W_h2o :.6f} weight % of water in mash\")"
   ]
  },
  {
   "cell_type": "code",
   "execution_count": 62,
   "id": "f11029ff-5c48-47e8-9860-aaa1697e2f99",
   "metadata": {},
   "outputs": [
    {
     "name": "stdout",
     "output_type": "stream",
     "text": [
      "delta_hmash1 = 47485.600905 J/lbm = enthalpy change needed for mash\n"
     ]
    }
   ],
   "source": [
    "# for precook vessel\n",
    "\n",
    "pv_m_mashin = m_mash * W_corn # mass flowrate of mash solids into precook vessel\n",
    "pv_m_h2oin = m_mash * W_h2o # mass flowrate of water into precook vessel\n",
    "pv_m_mashout = pv_m_mashin # mass flowrate of mash solids OUT of precook vessel\n",
    "\n",
    "tin_mash1 = 37.7778 # 100 F in C\n",
    "tin_steam1 = 121 # in C, Tsat temp from 15 psig steam\n",
    "tout_mash1 = 62.7778 # 145 F in C\n",
    "\n",
    "def Cpmash(t):\n",
    "    A = 7.540E-02;B = 0;C = 0;D = 0\n",
    "    Cpm = A + B*t + C*t**2 + D*t**3\n",
    "    Cpm*=1000\n",
    "    return(Cpm) #returns J/mol * C\n",
    "\n",
    "MWh2o = 18.011\n",
    "\n",
    "lbmPg = 0.002204 #conversion\n",
    "\n",
    "delta_hmash1 = quad(Cpmash, tin_mash1, tout_mash1)[0]\n",
    "delta_hmash_jPg1 = delta_hmash1/MWh2o\n",
    "delta_hmash_jPlbm1 = delta_hmash_jPg1/lbmPg\n",
    "\n",
    "print(f\"delta_hmash1 = {delta_hmash_jPlbm1 :.6f} J/lbm = enthalpy change needed for mash\")"
   ]
  },
  {
   "cell_type": "code",
   "execution_count": 64,
   "id": "86a0bc6f-e799-4f7a-84bd-8ce9f352c927",
   "metadata": {},
   "outputs": [],
   "source": [
    "# calculating delta hs and hs for energy balance around precook vessel\n",
    "\n",
    "\n",
    "def Cph2o(t): # in liquid\n",
    "    A = 7.540E-02;B = 0;C = 0;D = 0\n",
    "    Cpm = A + B*t + C*t**2 + D*t**3\n",
    "    Cpm*=1000\n",
    "    return(Cpm) #returns J/mol * C\n",
    "\n",
    "# I chose as my reference state enthalpy of 0 at 32 F or 0 C\n",
    "ref = 0 # C\n",
    "\n",
    "# calculating h1, enthalpy of water coming in to precook vessel \n",
    "h_watermash_in1 = quad(Cph2o, ref, tin_mash1)[0]\n",
    "\n",
    "# calculating h2, enthalpy of water vapor coming in to precook vessel\n",
    "deltahvap = 39651 # @ 121 C, J/mol roughly from Dippr \n",
    "h_watervapor_in1 = quad(Cph2o, ref, tin_steam1)[0] + deltahvap\n",
    "\n",
    "# calculating h3, enthalpy of water coming out of precook vessel in mash\n",
    "h_watermash_out1 = quad(Cph2o, ref, tout_mash1)[0]\n"
   ]
  },
  {
   "cell_type": "code",
   "execution_count": 66,
   "id": "1386baf1-f641-4935-b7d5-c9b4eb3bbc34",
   "metadata": {},
   "outputs": [
    {
     "name": "stdout",
     "output_type": "stream",
     "text": [
      "h_watermash_in_jPlbm1 = 71756.061354 J/lbm = enthalpy water coming in to precook vessel\n",
      "h_watervapor_in_jPlbm1 = 1228690.553192 J/lbm = enthalpy water vapor coming in precook vessel\n",
      "h_watermash_out_jPlbm1 = 119241.662259 J/lbm = enthalpy water coming out in mash\n"
     ]
    }
   ],
   "source": [
    "h_watermash_in_jPg1 = h_watermash_in1/MWh2o\n",
    "h_watermash_in_jPlbm1 = h_watermash_in_jPg1/lbmPg\n",
    "\n",
    "print(f\"h_watermash_in_jPlbm1 = {h_watermash_in_jPlbm1 :.6f} J/lbm = enthalpy water coming in to precook vessel\")\n",
    "\n",
    "h_watervapor_in_jPg1 = h_watervapor_in1/MWh2o\n",
    "h_watervapor_in_jPlbm1 = h_watervapor_in_jPg1/lbmPg\n",
    "\n",
    "print(f\"h_watervapor_in_jPlbm1 = {h_watervapor_in_jPlbm1 :.6f} J/lbm = enthalpy water vapor coming in precook vessel\")\n",
    "\n",
    "h_watermash_out_jPg1 = h_watermash_out1/MWh2o\n",
    "h_watermash_out_jPlbm1 = h_watermash_out_jPg1/lbmPg\n",
    "\n",
    "print(f\"h_watermash_out_jPlbm1 = {h_watermash_out_jPlbm1 :.6f} J/lbm = enthalpy water coming out in mash\")"
   ]
  },
  {
   "cell_type": "code",
   "execution_count": 68,
   "id": "b9b9dfbd-da89-4319-8fb3-5f355b29168f",
   "metadata": {},
   "outputs": [
    {
     "name": "stdout",
     "output_type": "stream",
     "text": [
      "m_h2ovaporin1 = 21363.427040 lbm/hr = flowrate of vapor in to precook Vessel\n",
      "m_h2omash_out1 = 381896.427040 lbm/hr = flowrate of water in mash out of precook Vessel\n"
     ]
    }
   ],
   "source": [
    "# energy balance for precook vessel\n",
    "\n",
    "def f_1(a):\n",
    "    m_h2ovaporin1, m_h2omash_out1 = a # unknowns, water coming in as vapor and water coming out in mash\n",
    "    \n",
    "    eq1 = pv_m_h2oin + m_h2ovaporin1 - m_h2omash_out1\n",
    "    eq2 = pv_m_mashin * delta_hmash_jPlbm1 + m_h2omash_out1 * h_watermash_out_jPlbm1 - m_h2ovaporin1 * h_watervapor_in_jPlbm1 - pv_m_h2oin * h_watermash_in_jPlbm1\n",
    "    return([eq1,eq2])\n",
    "\n",
    "guess_1 = [50000, 500000]\n",
    "ans1 = fsolve(f_1, guess_1)\n",
    "m_h2ovaporin1 = ans1[0]\n",
    "m_h2omash_out1 = ans1[1]\n",
    "print(f\"m_h2ovaporin1 = {m_h2ovaporin1 :.6f} lbm/hr = flowrate of vapor in to precook Vessel\")\n",
    "print(f\"m_h2omash_out1 = {m_h2omash_out1 :.6f} lbm/hr = flowrate of water in mash out of precook Vessel\")\n"
   ]
  },
  {
   "cell_type": "code",
   "execution_count": 70,
   "id": "53793e2b-8310-4e25-9405-85e521cea2d6",
   "metadata": {},
   "outputs": [
    {
     "name": "stdout",
     "output_type": "stream",
     "text": [
      "W_mash1 = 0.266284 new weight % of corn solids in mash out of precook vessel\n",
      "W_h2o1 = 0.733716 new weight % of water in mash out of precook vessel\n",
      "m_mashnew1 = 520496.427040 lbm/hr = flowrate of mash and water out of precook vessel\n"
     ]
    }
   ],
   "source": [
    "m_mashnew1 = pv_m_mashout + m_h2omash_out1  # total flowrate (mash + water) coming out of precook vessel\n",
    "W_mash1 = pv_m_mashout/m_mashnew1\n",
    "W_h2o1 = m_h2omash_out1/m_mashnew1\n",
    "\n",
    "print(f\"W_mash1 = {W_mash1 :.6f} new weight % of corn solids in mash out of precook vessel\")\n",
    "print(f\"W_h2o1 = {W_h2o1 :.6f} new weight % of water in mash out of precook vessel\")\n",
    "print(f\"m_mashnew1 = {m_mashnew1 :.6f} lbm/hr = flowrate of mash and water out of precook vessel\")"
   ]
  },
  {
   "cell_type": "code",
   "execution_count": 72,
   "id": "266af81f-2b1f-483b-b491-ba4e9a787af1",
   "metadata": {},
   "outputs": [],
   "source": [
    "# heat exchanger drives mash from 145 F to 230 F see question 10"
   ]
  },
  {
   "cell_type": "code",
   "execution_count": 74,
   "id": "eb25b9ef-2c16-44e8-a70f-36e213d797c5",
   "metadata": {},
   "outputs": [
    {
     "name": "stdout",
     "output_type": "stream",
     "text": [
      "delta_hmash2 = 94971.201809 J/lbm = enthalpy change needed for mash in heater\n"
     ]
    }
   ],
   "source": [
    "# heater from 230 F to 320 F\n",
    "\n",
    "# for heater \n",
    "\n",
    "heater_m_mashin = m_mashnew1 * W_mash1 # mass flowrate of mash solids into heater\n",
    "heater_m_h2oin = m_mashnew1 * W_h2o1 # mass flowrate of water into heater\n",
    "heater_m_mashout = heater_m_mashin # mass flowrate of mash solids OUT of heater\n",
    "\n",
    "tin_mash2 = 110 # 230 F in C\n",
    "tin_steam2 = 185 # in C, Tsat temp from 150 psig steam\n",
    "tout_mash2 = 160 # 320 F in C\n",
    "\n",
    "def Cpmash(t):\n",
    "    A = 7.540E-02;B = 0;C = 0;D = 0\n",
    "    Cpm = A + B*t + C*t**2 + D*t**3\n",
    "    Cpm*=1000\n",
    "    return(Cpm) #returns J/mol * C\n",
    "\n",
    "MWh2o = 18.011\n",
    "\n",
    "lbmPg = 0.002204 #conversion\n",
    "\n",
    "delta_hmash2 = quad(Cpmash, tin_mash2, tout_mash2)[0]\n",
    "delta_hmash_jPg2 = delta_hmash2/MWh2o\n",
    "delta_hmash_jPlbm2 = delta_hmash_jPg2/lbmPg\n",
    "\n",
    "print(f\"delta_hmash2 = {delta_hmash_jPlbm2 :.6f} J/lbm = enthalpy change needed for mash in heater\")"
   ]
  },
  {
   "cell_type": "code",
   "execution_count": 76,
   "id": "ee6dbaf1-658b-4fcf-9dff-dcfdf09d80c5",
   "metadata": {},
   "outputs": [],
   "source": [
    "# calculating delta hs and hs for energy balance around heater\n",
    "\n",
    "\n",
    "def Cph2o(t): # in liquid\n",
    "    A = 7.540E-02;B = 0;C = 0;D = 0\n",
    "    Cpm = A + B*t + C*t**2 + D*t**3\n",
    "    Cpm*=1000\n",
    "    return(Cpm) #returns J/mol * C\n",
    "\n",
    "# I chose as my reference state enthalpy of 0 at 32 F or 0 C\n",
    "ref = 0 # C\n",
    "\n",
    "# calculating h1, enthalpy of water coming in to heater\n",
    "h_watermash_in2 = quad(Cph2o, ref, tin_mash2)[0]\n",
    "\n",
    "# calculating h2, enthalpy of water vapor coming in to heater\n",
    "deltahvap2 = 35939 # @ 185 C, J/mol roughly from Dippr\n",
    "h_watervapor_in2 = quad(Cph2o, ref, tin_steam2)[0] + deltahvap2\n",
    "\n",
    "# calculating h3, enthalpy of water coming out of heater in mash\n",
    "h_watermash_out2 = quad(Cph2o, ref, tout_mash2)[0]\n"
   ]
  },
  {
   "cell_type": "code",
   "execution_count": 78,
   "id": "53eaef9b-ff96-4370-8fd4-50263093e391",
   "metadata": {},
   "outputs": [
    {
     "name": "stdout",
     "output_type": "stream",
     "text": [
      "h_watermash_in_jPlbm2 = 208936.643981 J/lbm = enthalpy water coming in to heater\n",
      "h_watervapor_in_jPlbm2 = 1256743.585111 J/lbm = enthalpy water vapor coming in heater\n",
      "h_watermash_out_jPlbm2 = 303907.845790 J/lbm = enthalpy water coming out in mash\n"
     ]
    }
   ],
   "source": [
    "h_watermash_in_jPg2 = h_watermash_in2/MWh2o\n",
    "h_watermash_in_jPlbm2 = h_watermash_in_jPg2/lbmPg\n",
    "\n",
    "print(f\"h_watermash_in_jPlbm2 = {h_watermash_in_jPlbm2 :.6f} J/lbm = enthalpy water coming in to heater\")\n",
    "\n",
    "h_watervapor_in_jPg2 = h_watervapor_in2/MWh2o\n",
    "h_watervapor_in_jPlbm2 = h_watervapor_in_jPg2/lbmPg\n",
    "\n",
    "print(f\"h_watervapor_in_jPlbm2 = {h_watervapor_in_jPlbm2 :.6f} J/lbm = enthalpy water vapor coming in heater\")\n",
    "\n",
    "h_watermash_out_jPg2 = h_watermash_out2/MWh2o\n",
    "h_watermash_out_jPlbm2 = h_watermash_out_jPg2/lbmPg\n",
    "\n",
    "print(f\"h_watermash_out_jPlbm2 = {h_watermash_out_jPlbm2 :.6f} J/lbm = enthalpy water coming out in mash\")"
   ]
  },
  {
   "cell_type": "code",
   "execution_count": 80,
   "id": "dc6a0959-754b-4291-9e2c-e7f341429aed",
   "metadata": {},
   "outputs": [
    {
     "name": "stdout",
     "output_type": "stream",
     "text": [
      "** m_h2ovaporin2 = 51879.006185 lbm/hr = flowrate of vapor (live steam) in to heater **\n",
      "m_h2omash_out2 = 433775.433225 lbm/hr = flowrate of water in mash out of heater\n"
     ]
    }
   ],
   "source": [
    "# energy balance for heater\n",
    "\n",
    "def f_2(a):\n",
    "    m_h2ovaporin2, m_h2omash_out2 = a # unknowns, water coming in as vapor and water coming out in mash\n",
    "    \n",
    "    eq1 = heater_m_h2oin + m_h2ovaporin2 - m_h2omash_out2\n",
    "    eq2 = heater_m_mashin * delta_hmash_jPlbm2 + m_h2omash_out2 * h_watermash_out_jPlbm2 - m_h2ovaporin2 * h_watervapor_in_jPlbm2 - heater_m_h2oin * h_watermash_in_jPlbm2\n",
    "    return([eq1,eq2])\n",
    "\n",
    "guess_2 = [50000, 500000]\n",
    "ans2 = fsolve(f_2, guess_2)\n",
    "m_h2ovaporin2 = ans2[0]\n",
    "m_h2omash_out2 = ans2[1]\n",
    "print(f\"** m_h2ovaporin2 = {m_h2ovaporin2 :.6f} lbm/hr = flowrate of vapor (live steam) in to heater **\")\n",
    "print(f\"m_h2omash_out2 = {m_h2omash_out2 :.6f} lbm/hr = flowrate of water in mash out of heater\")\n"
   ]
  },
  {
   "cell_type": "code",
   "execution_count": 82,
   "id": "a21a7ea9-1741-4364-90b7-59905bae9f08",
   "metadata": {},
   "outputs": [
    {
     "name": "stdout",
     "output_type": "stream",
     "text": [
      "W_mash2 = 0.242149 new weight % of corn solids in mash out of heater\n",
      "W_h2o2 = 0.757851 new weight % of water in mash out of heater\n",
      "m_mashnew2 = 572375.433225 lbm/hr = flowrate of mash and water out of heater\n"
     ]
    }
   ],
   "source": [
    "m_mashnew2 = heater_m_mashout + m_h2omash_out2  # total flowrate (mash + water) coming out of heater\n",
    "W_mash2 = heater_m_mashout/m_mashnew2\n",
    "W_h2o2 = m_h2omash_out2/m_mashnew2\n",
    "\n",
    "print(f\"W_mash2 = {W_mash2 :.6f} new weight % of corn solids in mash out of heater\")\n",
    "print(f\"W_h2o2 = {W_h2o2 :.6f} new weight % of water in mash out of heater\")\n",
    "print(f\"m_mashnew2 = {m_mashnew2 :.6f} lbm/hr = flowrate of mash and water out of heater\")"
   ]
  },
  {
   "cell_type": "code",
   "execution_count": 84,
   "id": "cf805985-f778-444b-9247-368d3c5e782f",
   "metadata": {},
   "outputs": [
    {
     "name": "stdout",
     "output_type": "stream",
     "text": [
      "flash_m_h2oin = 433775.433225 lbm/hr = flowrate of water coming in to flash\n",
      "flash_m_mashin = 138600.000000 lbm/hr = flowrate of mash solids coming in to flash\n"
     ]
    }
   ],
   "source": [
    "# after cooking tank, flowrate is still consistent\n",
    "# solving now around first flash tank at 15 psig\n",
    "\n",
    "tin_mash3 = 160 # 320 F in C\n",
    "tout_mash3 = 121 # in C, temp from 15 psig in flash. Used steam tables to figure it out\n",
    "tout_steam3 = 121 # same as tout_mash3\n",
    "\n",
    "flash_m_mashin = m_mashnew2 * W_mash2 # mass flowrate of mash solids into flash tank\n",
    "flash_m_h2oin = m_mashnew2 * W_h2o2 # mass flowrate of water into flash tank\n",
    "flash_m_mashout = flash_m_mashin # mass flowrate of mash solids OUT of flash tank\n",
    "\n",
    "print(f\"flash_m_h2oin = {flash_m_h2oin :.6f} lbm/hr = flowrate of water coming in to flash\")\n",
    "print(f\"flash_m_mashin = {flash_m_mashin :.6f} lbm/hr = flowrate of mash solids coming in to flash\")"
   ]
  },
  {
   "cell_type": "code",
   "execution_count": 86,
   "id": "88b8b5af-8988-4781-a415-8adb055effa7",
   "metadata": {},
   "outputs": [
    {
     "name": "stdout",
     "output_type": "stream",
     "text": [
      "delta_hmash3 = -74077.537411 J/lbm = enthalpy change of mash in first flash\n"
     ]
    }
   ],
   "source": [
    "# calculating delta hs and hs\n",
    "\n",
    "def Cpmash(t):\n",
    "    A = 7.540E-02;B = 0;C = 0;D = 0\n",
    "    Cpm = A + B*t + C*t**2 + D*t**3\n",
    "    Cpm*=1000\n",
    "    return(Cpm) #returns J/mol * C\n",
    "\n",
    "MWh2o = 18.011\n",
    "\n",
    "lbmPg = 0.002204 #conversion\n",
    "\n",
    "delta_hmash3 = quad(Cpmash, tin_mash3, tout_mash3)[0]\n",
    "delta_hmash_jPg3 = delta_hmash3/MWh2o\n",
    "delta_hmash_jPlbm3 = delta_hmash_jPg3/lbmPg\n",
    "\n",
    "print(f\"delta_hmash3 = {delta_hmash_jPlbm3 :.6f} J/lbm = enthalpy change of mash in first flash\")"
   ]
  },
  {
   "cell_type": "code",
   "execution_count": 88,
   "id": "c3a2eece-3e87-43e7-9d02-8e92ddf6b217",
   "metadata": {},
   "outputs": [],
   "source": [
    "# calculating delta hs and hs\n",
    "\n",
    "def Cph2o(t): # in liquid\n",
    "    A = 7.540E-02;B = 0;C = 0;D = 0\n",
    "    Cpm = A + B*t + C*t**2 + D*t**3\n",
    "    Cpm*=1000\n",
    "    return(Cpm) #returns J/mol * C\n",
    "\n",
    "# I chose as my reference state enthalpy of 0 at 32 F or 0 C\n",
    "ref = 0 # C\n",
    "\n",
    "# calculating h1, enthalpy of water coming in to flash \n",
    "h_watermash_in3 = quad(Cph2o, ref, tin_mash3)[0]\n",
    "\n",
    "# calculating h2, enthalpy of water coming out of flash in vapor\n",
    "deltahvap3 = 39651 # @ 121 C, J/mol roughly from Dippr (positive since liquid to steam)\n",
    "h_watervapor_out3 = quad(Cph2o, ref, tout_steam3)[0] + deltahvap3\n",
    "\n",
    "# calculating h3, enthalpy of water coming out in mash\n",
    "h_watermash_out3 = quad(Cph2o, ref, tout_mash3)[0]\n",
    "\n"
   ]
  },
  {
   "cell_type": "code",
   "execution_count": 90,
   "id": "ce951b43-c079-4958-b1de-6458f685403b",
   "metadata": {},
   "outputs": [
    {
     "name": "stdout",
     "output_type": "stream",
     "text": [
      "h_watermash_in_jPlbm3 = 303907.845790 J/lbm = enthalpy water coming in to flash\n",
      "h_watervapor_out_jPlbm3 = 1228690.553192 J/lbm = enthalpy water coming out in vapor\n",
      "h_watermash_out_jPlbm3 = 229830.308379 J/lbm = enthalpy water coming out in mash\n"
     ]
    }
   ],
   "source": [
    "h_watermash_in_jPg3 = h_watermash_in3/MWh2o\n",
    "h_watermash_in_jPlbm3 = h_watermash_in_jPg3/lbmPg\n",
    "\n",
    "print(f\"h_watermash_in_jPlbm3 = {h_watermash_in_jPlbm3 :.6f} J/lbm = enthalpy water coming in to flash\")\n",
    "\n",
    "h_watervapor_out_jPg3 = h_watervapor_out3/MWh2o\n",
    "h_watervapor_out_jPlbm3 = h_watervapor_out_jPg3/lbmPg\n",
    "\n",
    "print(f\"h_watervapor_out_jPlbm3 = {h_watervapor_out_jPlbm3 :.6f} J/lbm = enthalpy water coming out in vapor\")\n",
    "\n",
    "h_watermash_out_jPg3 = h_watermash_out3/MWh2o\n",
    "h_watermash_out_jPlbm3 = h_watermash_out_jPg3/lbmPg\n",
    "\n",
    "print(f\"h_watermash_out_jPlbm3 = {h_watermash_out_jPlbm3 :.6f} J/lbm = enthalpy water coming out in mash\")"
   ]
  },
  {
   "cell_type": "code",
   "execution_count": 92,
   "id": "c553094b-fc11-4997-bb54-90dae7d275d5",
   "metadata": {},
   "outputs": [
    {
     "name": "stdout",
     "output_type": "stream",
     "text": [
      "** m_h2ovaporout3 = 42448.543516 lbm/hr = flowrate of vapor out of first flash **\n",
      "m_h2omash_out3 = 391326.889710 lbm/hr = flowrate of water in mash out of first flash\n"
     ]
    }
   ],
   "source": [
    "def f_3(a):\n",
    "    m_h2ovaporout3, m_h2omash_out3 = a # unknowns, water coming out as vapor and water coming out in mash\n",
    "    \n",
    "    eq1 = flash_m_h2oin - m_h2ovaporout3 - m_h2omash_out3\n",
    "    eq2 = flash_m_mashin * delta_hmash_jPlbm3 + m_h2omash_out3 * h_watermash_out_jPlbm3 + m_h2ovaporout3 * h_watervapor_out_jPlbm3 - flash_m_h2oin * h_watermash_in_jPlbm3\n",
    "    return([eq1,eq2])\n",
    "\n",
    "guess_3 = [50000, 500000]\n",
    "ans3 = fsolve(f_3, guess_3)\n",
    "m_h2ovaporout3 = ans3[0]\n",
    "m_h2omash_out3 = ans3[1]\n",
    "print(f\"** m_h2ovaporout3 = {m_h2ovaporout3 :.6f} lbm/hr = flowrate of vapor out of first flash **\")\n",
    "print(f\"m_h2omash_out3 = {m_h2omash_out3 :.6f} lbm/hr = flowrate of water in mash out of first flash\")"
   ]
  },
  {
   "cell_type": "code",
   "execution_count": 94,
   "id": "43527844-b349-4dfe-93eb-946426cc3ad7",
   "metadata": {},
   "outputs": [
    {
     "name": "stdout",
     "output_type": "stream",
     "text": [
      "W_mash3 = 0.261546 new weight % of corn solids in mash out of flash\n",
      "W_h2o3 = 0.738454 new weight % of water in mash out of flash\n",
      "m_mashnew3 = 529926.889710 lbm/hr = flowrate of mash and liq water out of flash\n"
     ]
    }
   ],
   "source": [
    "m_mashnew3 = flash_m_mashout + m_h2omash_out3  # total flowrate (mash + liq water) coming out of flash\n",
    "W_mash3 = flash_m_mashout/m_mashnew3\n",
    "W_h2o3 = m_h2omash_out3/m_mashnew3\n",
    "\n",
    "print(f\"W_mash3 = {W_mash3 :.6f} new weight % of corn solids in mash out of flash\")\n",
    "print(f\"W_h2o3 = {W_h2o3 :.6f} new weight % of water in mash out of flash\")\n",
    "print(f\"m_mashnew3 = {m_mashnew3 :.6f} lbm/hr = flowrate of mash and liq water out of flash\")"
   ]
  },
  {
   "cell_type": "code",
   "execution_count": 96,
   "id": "e2fe7b29-a343-43e2-bca5-9f98192c7666",
   "metadata": {},
   "outputs": [
    {
     "name": "stdout",
     "output_type": "stream",
     "text": [
      "flashvac_m_h2oin = 391326.889710 lbm/hr = flowrate of water coming in to flash vacuum\n",
      "flashvac_m_mashin = 138600.000000 lbm/hr = flowrate of mash solids coming in to flash vacuum\n"
     ]
    }
   ],
   "source": [
    "# solving now around flash vacuum tank at 0.2263 bar\n",
    "\n",
    "tin_mash4 = 121 # in C\n",
    "tout_mash4 = 62.78 # in C or 145 F, temp from 0.2263 bar in flash vacuum. Used steam tables to figure it out\n",
    "tout_steam4 = 62.78 # or 145 F same as tout_mash4\n",
    "\n",
    "flashvac_m_mashin = m_mashnew3 * W_mash3 # mass flowrate of mash solids into flash vacuum\n",
    "flashvac_m_h2oin = m_mashnew3 * W_h2o3 # mass flowrate of water into flash vacuum\n",
    "flashvac_m_mashout = flashvac_m_mashin # mass flowrate of mash solids OUT of flash vacuum\n",
    "\n",
    "print(f\"flashvac_m_h2oin = {flashvac_m_h2oin :.6f} lbm/hr = flowrate of water coming in to flash vacuum\")\n",
    "print(f\"flashvac_m_mashin = {flashvac_m_mashin :.6f} lbm/hr = flowrate of mash solids coming in to flash vacuum\")"
   ]
  },
  {
   "cell_type": "code",
   "execution_count": 98,
   "id": "1c73d8c5-eb33-4a2d-9d14-92a3dc4ed037",
   "metadata": {},
   "outputs": [
    {
     "name": "stdout",
     "output_type": "stream",
     "text": [
      "delta_hmash4 = -110584.467387 J/lbm = enthalpy change of mash in flash vacuum\n"
     ]
    }
   ],
   "source": [
    "# calculating delta hs and hs\n",
    "\n",
    "def Cpmash(t):\n",
    "    A = 7.540E-02;B = 0;C = 0;D = 0\n",
    "    Cpm = A + B*t + C*t**2 + D*t**3\n",
    "    Cpm*=1000\n",
    "    return(Cpm) #returns J/mol * C\n",
    "\n",
    "MWh2o = 18.011\n",
    "\n",
    "lbmPg = 0.002204 #conversion\n",
    "\n",
    "delta_hmash4 = quad(Cpmash, tin_mash4, tout_mash4)[0]\n",
    "delta_hmash_jPg4 = delta_hmash4/MWh2o\n",
    "delta_hmash_jPlbm4 = delta_hmash_jPg4/lbmPg\n",
    "\n",
    "print(f\"delta_hmash4 = {delta_hmash_jPlbm4 :.6f} J/lbm = enthalpy change of mash in flash vacuum\")"
   ]
  },
  {
   "cell_type": "code",
   "execution_count": 100,
   "id": "b572ffba-6cda-4133-8d3f-92c18ac99094",
   "metadata": {},
   "outputs": [],
   "source": [
    "# calculating delta hs and hs\n",
    "\n",
    "def Cph2o(t): # in liquid\n",
    "    A = 7.540E-02;B = 0;C = 0;D = 0\n",
    "    Cpm = A + B*t + C*t**2 + D*t**3\n",
    "    Cpm*=1000\n",
    "    return(Cpm) #returns J/mol * C\n",
    "\n",
    "# I chose as my reference state enthalpy of 0 at 32 F or 0 C\n",
    "ref = 0 # C\n",
    "\n",
    "# calculating h1, enthalpy of water coming in to flash vacuum\n",
    "h_watermash_in4 = quad(Cph2o, ref, tin_mash4)[0]\n",
    "\n",
    "# calculating h2, enthalpy of water coming out of flash vacuum in vapor\n",
    "deltahvap4 = 42395 # @ 62.78 C, J/mol roughly from Dippr (positive since liquid to steam)\n",
    "h_watervapor_out4 = quad(Cph2o, ref, tout_steam4)[0] + deltahvap4\n",
    "\n",
    "# calculating h3, enthalpy of water coming out in mash\n",
    "h_watermash_out4 = quad(Cph2o, ref, tout_mash4)[0]\n"
   ]
  },
  {
   "cell_type": "code",
   "execution_count": 102,
   "id": "82a2f10d-86d4-49be-91b3-5a2b33608a06",
   "metadata": {},
   "outputs": [
    {
     "name": "stdout",
     "output_type": "stream",
     "text": [
      "h_watermash_in_jPlbm4 = 229830.308379 J/lbm = enthalpy water coming in to flash vac\n",
      "h_watervapor_out_jPlbm4 = 1187231.013594 J/lbm = enthalpy water coming out of flash vac in vapor\n",
      "h_watermash_out_jPlbm4 = 119245.840992 J/lbm = enthalpy water coming out in mash\n"
     ]
    }
   ],
   "source": [
    "h_watermash_in_jPg4 = h_watermash_in4/MWh2o\n",
    "h_watermash_in_jPlbm4 = h_watermash_in_jPg4/lbmPg\n",
    "\n",
    "print(f\"h_watermash_in_jPlbm4 = {h_watermash_in_jPlbm4 :.6f} J/lbm = enthalpy water coming in to flash vac\")\n",
    "\n",
    "h_watervapor_out_jPg4 = h_watervapor_out4/MWh2o\n",
    "h_watervapor_out_jPlbm4 = h_watervapor_out_jPg4/lbmPg\n",
    "\n",
    "print(f\"h_watervapor_out_jPlbm4 = {h_watervapor_out_jPlbm4 :.6f} J/lbm = enthalpy water coming out of flash vac in vapor\")\n",
    "\n",
    "h_watermash_out_jPg4 = h_watermash_out4/MWh2o\n",
    "h_watermash_out_jPlbm4 = h_watermash_out_jPg4/lbmPg\n",
    "\n",
    "print(f\"h_watermash_out_jPlbm4 = {h_watermash_out_jPlbm4 :.6f} J/lbm = enthalpy water coming out in mash\")"
   ]
  },
  {
   "cell_type": "code",
   "execution_count": 104,
   "id": "d932d143-4cdb-4e10-891e-7b744c41529c",
   "metadata": {},
   "outputs": [
    {
     "name": "stdout",
     "output_type": "stream",
     "text": [
      "** m_h2ovaporout4 = 54871.251358 lbm/hr = flowrate of vapor out of flash vac**\n",
      "m_h2omash_out4 = 336455.638352 lbm/hr = flowrate of water in mash out of flash vac\n"
     ]
    }
   ],
   "source": [
    "def f_4(a):\n",
    "    m_h2ovaporout4, m_h2omash_out4 = a # unknowns, water coming out as vapor and water coming out in mash\n",
    "    \n",
    "    eq1 = flashvac_m_h2oin - m_h2ovaporout4 - m_h2omash_out4\n",
    "    eq2 = flashvac_m_mashin * delta_hmash_jPlbm4 + m_h2omash_out4 * h_watermash_out_jPlbm4 + m_h2ovaporout4 * h_watervapor_out_jPlbm4 - flashvac_m_h2oin * h_watermash_in_jPlbm4\n",
    "    return([eq1,eq2])\n",
    "\n",
    "guess_4 = [50000, 500000]\n",
    "ans4 = fsolve(f_4, guess_4)\n",
    "m_h2ovaporout4 = ans4[0]\n",
    "m_h2omash_out4 = ans4[1]\n",
    "print(f\"** m_h2ovaporout4 = {m_h2ovaporout4 :.6f} lbm/hr = flowrate of vapor out of flash vac**\")\n",
    "print(f\"m_h2omash_out4 = {m_h2omash_out4 :.6f} lbm/hr = flowrate of water in mash out of flash vac\")"
   ]
  },
  {
   "cell_type": "code",
   "execution_count": 105,
   "id": "53cd72d1-72c5-4d3d-b666-4b5a58c64434",
   "metadata": {},
   "outputs": [
    {
     "name": "stdout",
     "output_type": "stream",
     "text": [
      "W_mash4 = 0.291755 new weight % of corn solids in mash out of flash vac\n",
      "W_h2o4 = 0.708245 new weight % of water in mash out of flash vac\n",
      "m_mashnew4 = 475055.638352 lbm/hr = flowrate of mash and liq water out of flash vac\n"
     ]
    }
   ],
   "source": [
    "m_mashnew4 = flashvac_m_mashout + m_h2omash_out4  # total flowrate (mash + liq water) coming out of flash vacuum\n",
    "W_mash4 = flashvac_m_mashout/m_mashnew4\n",
    "W_h2o4 = m_h2omash_out4/m_mashnew4\n",
    "\n",
    "print(f\"W_mash4 = {W_mash4 :.6f} new weight % of corn solids in mash out of flash vac\")\n",
    "print(f\"W_h2o4 = {W_h2o4 :.6f} new weight % of water in mash out of flash vac\")\n",
    "print(f\"m_mashnew4 = {m_mashnew4 :.6f} lbm/hr = flowrate of mash and liq water out of flash vac\")"
   ]
  },
  {
   "cell_type": "markdown",
   "id": "6b6046bb-1fea-4492-96d8-48353d0ee926",
   "metadata": {},
   "source": [
    "### ANSWERS To Question 9 ###\n",
    "\n",
    "** min_pressure cooking vessel must operate = 6.2464 bar ** \\\n",
    "** flash_pressure to provide resultant temp of 145 F = 0.2263 bar ** \\\n",
    "** m_h2ovaporout3 = 42448.543516 lbm/hr = flowrate of vapor out of first flash ** \\\r",
    "** m_h2ovaporout4 = 54871.251358 lbm/hr = flowrate of vapor out of flash vac**\n"
   ]
  },
  {
   "cell_type": "code",
   "execution_count": null,
   "id": "780f8ea2-82c6-4c0f-88cc-f31a6dff70fa",
   "metadata": {},
   "outputs": [],
   "source": []
  },
  {
   "cell_type": "code",
   "execution_count": 110,
   "id": "c773b7d3-db9d-4a22-bc2e-9cfa6d69f877",
   "metadata": {},
   "outputs": [],
   "source": [
    "# Question 10"
   ]
  },
  {
   "cell_type": "code",
   "execution_count": 112,
   "id": "00f70d3c-42d8-4000-b8e1-791421b5a2fe",
   "metadata": {},
   "outputs": [
    {
     "name": "stdout",
     "output_type": "stream",
     "text": [
      "W_mash1 = 0.266284 new weight % of corn solids in mash out of precook vessel\n",
      "W_h2o1 = 0.733716 new weight % of water in mash out of precook vessel\n",
      "m_mashnew1 = 520496.427040 lbm/hr = flowrate of mash and water out of precook vessel\n"
     ]
    }
   ],
   "source": [
    "# going back to heat exchanger heating mash to 230 F\n",
    "\n",
    "print(f\"W_mash1 = {W_mash1 :.6f} new weight % of corn solids in mash out of precook vessel\")\n",
    "print(f\"W_h2o1 = {W_h2o1 :.6f} new weight % of water in mash out of precook vessel\")\n",
    "print(f\"m_mashnew1 = {m_mashnew1 :.6f} lbm/hr = flowrate of mash and water out of precook vessel\")\n"
   ]
  },
  {
   "cell_type": "code",
   "execution_count": 113,
   "id": "4a6e6fac-1963-4bd1-94bc-65e81f5de510",
   "metadata": {},
   "outputs": [
    {
     "name": "stdout",
     "output_type": "stream",
     "text": [
      "HE_m_h2oin = 381896.427040 lbm/hr = flowrate of water coming in to heat exchanger\n",
      "HE_m_mashin = 138600.000000 lbm/hr = flowrate of mash solids coming in to heat exchanger\n"
     ]
    }
   ],
   "source": [
    "tin_mashHE = 62.78 # in C, or 145 F, inlet temp of mash going into Heat Exchanger\n",
    "tout_mashHE = 110 # in C or 230 F, outlet temp of mash\n",
    "tin_out_steamHE = 121 # in C Tsat of water in 15 psig sat steam\n",
    "\n",
    "HE_m_mashin = m_mashnew1 * W_mash1 # mass flowrate of mash solids into Heat Exchanger\n",
    "HE_m_h2oin = m_mashnew1 * W_h2o1 # mass flowrate of water into Heat Exchanger\n",
    "HE_m_mashout = HE_m_mashin # mass flowrate of mash solids OUT of Heat Exchanger\n",
    "\n",
    "print(f\"HE_m_h2oin = {HE_m_h2oin :.6f} lbm/hr = flowrate of water coming in to heat exchanger\")\n",
    "print(f\"HE_m_mashin = {HE_m_mashin :.6f} lbm/hr = flowrate of mash solids coming in to heat exchanger\")"
   ]
  },
  {
   "cell_type": "code",
   "execution_count": 114,
   "id": "d05cf965-00b2-4dc4-96aa-4c46eb565718",
   "metadata": {},
   "outputs": [
    {
     "name": "stdout",
     "output_type": "stream",
     "text": [
      "delta_hmashHE = 89690.802989 J/lbm = enthalpy change of mash in Heat Exchanger\n"
     ]
    }
   ],
   "source": [
    "# calculating delta hs and hs\n",
    "\n",
    "def Cpmash(t):\n",
    "    A = 7.540E-02;B = 0;C = 0;D = 0\n",
    "    Cpm = A + B*t + C*t**2 + D*t**3\n",
    "    Cpm*=1000\n",
    "    return(Cpm) #returns J/mol * C\n",
    "\n",
    "MWh2o = 18.011\n",
    "\n",
    "lbmPg = 0.002204 #conversion\n",
    "\n",
    "delta_hmashHE = quad(Cpmash, tin_mashHE, tout_mashHE)[0]\n",
    "delta_hmash_jPgHE = delta_hmashHE/MWh2o\n",
    "delta_hmash_jPlbmHE = delta_hmash_jPgHE/lbmPg\n",
    "\n",
    "print(f\"delta_hmashHE = {delta_hmash_jPlbmHE :.6f} J/lbm = enthalpy change of mash in Heat Exchanger\")"
   ]
  },
  {
   "cell_type": "code",
   "execution_count": 115,
   "id": "0c9887c8-4efd-41d8-a266-8da48847ceaf",
   "metadata": {},
   "outputs": [
    {
     "name": "stdout",
     "output_type": "stream",
     "text": [
      "delta_hh2oHE = 89690.802989 J/lbm = enthalpy change of h2o in mash in Heat Exchanger\n"
     ]
    }
   ],
   "source": [
    "def Cph2o(t):\n",
    "    A = 7.540E-02;B = 0;C = 0;D = 0\n",
    "    Cpm = A + B*t + C*t**2 + D*t**3\n",
    "    Cpm*=1000\n",
    "    return(Cpm) #returns J/mol * C\n",
    "\n",
    "MWh2o = 18.011\n",
    "\n",
    "lbmPg = 0.002204 #conversion\n",
    "\n",
    "delta_hh2oHE = quad(Cph2o, tin_mashHE, tout_mashHE)[0]\n",
    "delta_hh2o_jPgHE = delta_hh2oHE/MWh2o\n",
    "delta_hh2o_jPlbmHE = delta_hh2o_jPgHE/lbmPg\n",
    "\n",
    "print(f\"delta_hh2oHE = {delta_hh2o_jPlbmHE :.6f} J/lbm = enthalpy change of h2o in mash in Heat Exchanger\")"
   ]
  },
  {
   "cell_type": "code",
   "execution_count": 116,
   "id": "c218d3d8-a68c-4c40-9d4a-01f9071e1717",
   "metadata": {},
   "outputs": [],
   "source": [
    "# calculating delta hs and hs\n",
    "\n",
    "def Cph2o(t): # in liquid\n",
    "    A = 7.540E-02;B = 0;C = 0;D = 0\n",
    "    Cpm = A + B*t + C*t**2 + D*t**3\n",
    "    Cpm*=1000\n",
    "    return(Cpm) #returns J/mol * C\n",
    "\n",
    "# I chose as my reference state enthalpy of 0 at 32 F or 0 C\n",
    "ref = 0 # C\n",
    "\n",
    "# calculating h2w, enthalpy of water vapor coming in to Heat Exchanger\n",
    "deltahvapHE = 39651 # @ 62.78 C, J/mol roughly from Dippr (positive since liquid to steam)\n",
    "h_watervapor_inHE = quad(Cph2o, ref, tin_out_steamHE)[0] + deltahvapHE\n",
    "\n",
    "# calculating h3w, enthalpy of water coming out of Heat Exchanger sat liq\n",
    "h_water_outHE = quad(Cph2o, ref, tin_out_steamHE)[0]"
   ]
  },
  {
   "cell_type": "code",
   "execution_count": 122,
   "id": "2a86e0d5-e138-4d0a-8be1-2f4022b600f8",
   "metadata": {},
   "outputs": [
    {
     "name": "stdout",
     "output_type": "stream",
     "text": [
      "h_watervapor_inHE_jPlbm = 1228690.553192 J/lbm = enthalpy watervapor coming in to Heat Exchanger\n",
      "h_water_outHE_jPlbm = 229830.308379 J/lbm = enthalpy water coming out of Heat Exchanger\n",
      "deltah_satstreamHE = -998860.244813 J/lbm = enthalpy change of sat stream of Heat Exchanger\n"
     ]
    }
   ],
   "source": [
    "h_watervapor_inHE_jPg = h_watervapor_inHE/MWh2o\n",
    "h_watervapor_inHE_jPlbm = h_watervapor_inHE_jPg/lbmPg\n",
    "\n",
    "print(f\"h_watervapor_inHE_jPlbm = {h_watervapor_inHE_jPlbm :.6f} J/lbm = enthalpy watervapor coming in to Heat Exchanger\")\n",
    "\n",
    "h_water_outHE_jPg = h_water_outHE/MWh2o\n",
    "h_water_outHE_jPlbm = h_water_outHE_jPg/lbmPg\n",
    "\n",
    "print(f\"h_water_outHE_jPlbm = {h_water_outHE_jPlbm :.6f} J/lbm = enthalpy water coming out of Heat Exchanger\")\n",
    "\n",
    "deltah_satstreamHE = h_water_outHE_jPlbm - h_watervapor_inHE_jPlbm\n",
    "print(f\"deltah_satstreamHE = {deltah_satstreamHE :.6f} J/lbm = enthalpy change of sat stream of Heat Exchanger\")"
   ]
  },
  {
   "cell_type": "code",
   "execution_count": 124,
   "id": "500838ef-7643-4dd9-b626-63d63fbc13d6",
   "metadata": {},
   "outputs": [
    {
     "name": "stdout",
     "output_type": "stream",
     "text": [
      "** m_satstream = 46737.011245 lbm/hr = flowrate of sat steam to heat mash to 230 F**\n"
     ]
    }
   ],
   "source": [
    "def f_HE(a):\n",
    "    m_satstream = a # unknowns, sat stream of 15 psig steam becoming sat liquid after Heat Exchanger\n",
    "    \n",
    "    eq1 = HE_m_mashin * delta_hmash_jPlbmHE + HE_m_h2oin * delta_hh2o_jPlbmHE + m_satstream * deltah_satstreamHE \n",
    "    return eq1\n",
    "\n",
    "guess_HE = 500000\n",
    "ansHE = fsolve(f_HE, guess_HE)\n",
    "m_satstream = ansHE[0]\n",
    "\n",
    "print(f\"** m_satstream = {m_satstream :.6f} lbm/hr = flowrate of sat steam to heat mash to 230 F**\")"
   ]
  },
  {
   "cell_type": "markdown",
   "id": "c6f083ba-2e0d-45b6-a199-d34745e631ae",
   "metadata": {},
   "source": [
    "### ANSWERS To Question 10 ###\n",
    "\n",
    "** m_satstream = 46737.011245 lbm/hr = flowrate of sat steam to heat mash from precooking vessel to 230 F** \\\n",
    "** m_h2ovaporin2 = 51879.006185 lbm/hr = flowrate of vapor (live 150 psig steam) in to heater to raise temp to 320 F** \n",
    "\n",
    "** m_h2ovaporout3 = 42448.543516 lbm/hr = flowrate of vapor out of first flash at 15 psig ** \n",
    "\n",
    "Comparing the flowrates above, it is not feasible for the steam requirements to be met by the vapor from the flash occurring at 15 psig. There is not enough needed for the precooking vessel to be maintained at 230 F. The heater also needs 150 psig so that cannot use the vapor from the flash. If we were to still use the vapor from the flash to satisfy a portion of the requirements, it can supply 42448/46737 or around 91% of the sat steam needed. "
   ]
  },
  {
   "cell_type": "code",
   "execution_count": null,
   "id": "f7a1cdfd-b31b-4bf4-9da8-1a7cc3d9f53f",
   "metadata": {},
   "outputs": [],
   "source": []
  },
  {
   "cell_type": "code",
   "execution_count": 128,
   "id": "9b536d08-22b3-4112-86ad-1776a0b9e6bf",
   "metadata": {},
   "outputs": [],
   "source": [
    "# Question 11"
   ]
  },
  {
   "cell_type": "code",
   "execution_count": 213,
   "id": "a2909ea4-f2f8-4d5e-92fc-b45ffd1b42ff",
   "metadata": {},
   "outputs": [],
   "source": [
    "# knowns for Distillation column, ethanol concentrator\n",
    "# Ethanol, water and mash going in. All ethanol goes to the top stream, all solids go to the bottom stream. mixture of water in both streams.\n",
    "\n",
    "m_eth_inDC1 = 41102.2 # Ethanol in, lbm/hr \n",
    "m_h2o_inDC1 = 497857.8 # Water in, lbm/hr\n",
    "m_mash_inDC1 = 39944.4 # mash in, lbm/hr\n",
    "\n",
    "m_h2o_bottomsDC1 = 495870 # Water out in bottoms stream, lbm/hr\n",
    "m_mash_bottomsDC1 = 39944.4 # mash out in the bottoms stream, lbm/hr\n",
    "\n",
    "m_eth_topDC1 = 41102.2 # Ethanol out in the top stream, lbm/hr\n",
    "m_h2o_topDC1 = 1987 # h2o out in the top stream, lbm/hr\n",
    "\n",
    "t_in_DC1 = 121.11 # 250 F in C\n",
    "t_bottoms_DC1 = 135 # 305 F in C\n",
    "t_top_DC1 = 121.11 # 250 F in C"
   ]
  },
  {
   "cell_type": "code",
   "execution_count": 215,
   "id": "7f578372-8045-4658-84d1-b403029f5d3f",
   "metadata": {},
   "outputs": [],
   "source": [
    "# calculating Q for reboiler\n",
    "\n",
    "Tsat_150psig = 185 # C, Tsat of 150 psig steam for reboiler\n",
    "m_150psig = 110000 # lbm/hr steam flowrate\n",
    "\n",
    "# calculating delta hs and hs (delta hvap essentially)\n",
    "\n",
    "def Cph2o(t): # in liquid\n",
    "    A = 7.540E-02;B = 0;C = 0;D = 0\n",
    "    Cpm = A + B*t + C*t**2 + D*t**3\n",
    "    Cpm*=1000\n",
    "    return(Cpm) #returns J/mol * C\n",
    "\n",
    "# I chose as my reference state enthalpy of 0 at 32 F or 0 C\n",
    "ref = 0 # C\n",
    "\n",
    "# calculating h1w, enthalpy of water vapor coming in to Reboiler\n",
    "deltahvap_reboiler = 35939  # @ 185 C, J/mol roughly from Dippr (positive since liquid to steam)\n",
    "h_watervapor_inreboiler = quad(Cph2o, ref, Tsat_150psig)[0] + deltahvap_reboiler\n",
    "\n",
    "# calculating h2w, enthalpy of water coming out of Heat Exchanger sat liq\n",
    "h_water_outreboiler = quad(Cph2o, ref, Tsat_150psig)[0]"
   ]
  },
  {
   "cell_type": "code",
   "execution_count": 217,
   "id": "1450bcc0-3257-49c1-88eb-e751bd0403fd",
   "metadata": {},
   "outputs": [
    {
     "name": "stdout",
     "output_type": "stream",
     "text": [
      "h_watervapor_inreboiler_jPlbm = 1256743.585111 J/lbm = enthalpy watervapor coming in to reboiler\n",
      "h_water_outreboiler_jPlbm = 351393.446695 J/lbm = enthalpy water coming out of reboiler\n",
      "deltah_satstreamreboiler = -905350.138416 J/lbm = enthalpy change of sat stream of reboiler\n"
     ]
    }
   ],
   "source": [
    "h_watervapor_inreboiler_jPg = h_watervapor_inreboiler/MWh2o\n",
    "h_watervapor_inreboiler_jPlbm = h_watervapor_inreboiler_jPg/lbmPg\n",
    "\n",
    "print(f\"h_watervapor_inreboiler_jPlbm = {h_watervapor_inreboiler_jPlbm :.6f} J/lbm = enthalpy watervapor coming in to reboiler\")\n",
    "\n",
    "h_water_outreboiler_jPg = h_water_outreboiler/MWh2o\n",
    "h_water_outreboiler_jPlbm = h_water_outreboiler_jPg/lbmPg\n",
    "\n",
    "print(f\"h_water_outreboiler_jPlbm = {h_water_outreboiler_jPlbm :.6f} J/lbm = enthalpy water coming out of reboiler\")\n",
    "\n",
    "deltah_satstreamreboiler = h_water_outreboiler_jPlbm - h_watervapor_inreboiler_jPlbm\n",
    "print(f\"deltah_satstreamreboiler = {deltah_satstreamreboiler :.6f} J/lbm = enthalpy change of sat stream of reboiler\")"
   ]
  },
  {
   "cell_type": "code",
   "execution_count": 219,
   "id": "222aa9e1-9dcd-4551-99f1-5203a3223066",
   "metadata": {},
   "outputs": [
    {
     "name": "stdout",
     "output_type": "stream",
     "text": [
      "Qreboiler = -99588515225.773026 J/hr = heat transferred by reboiler\n"
     ]
    }
   ],
   "source": [
    "Qreboiler = m_150psig * deltah_satstreamreboiler\n",
    "\n",
    "print(f\"Qreboiler = {Qreboiler :.6f} J/hr = heat transferred by reboiler\")"
   ]
  },
  {
   "cell_type": "code",
   "execution_count": 221,
   "id": "785f01d9-e96e-4209-ba6c-259da9f68b32",
   "metadata": {},
   "outputs": [
    {
     "name": "stdout",
     "output_type": "stream",
     "text": [
      "delta_hmashDC1_jPlbmHE = 26382.999863 J/lbm = enthalpy change of mash in Distillation Column 1(ethanol conc)\n"
     ]
    }
   ],
   "source": [
    "# calculating hs and deltahs\n",
    "\n",
    "def Cpmash(t):\n",
    "    A = 7.540E-02;B = 0;C = 0;D = 0\n",
    "    Cpm = A + B*t + C*t**2 + D*t**3\n",
    "    Cpm*=1000\n",
    "    return(Cpm) #returns J/mol * C\n",
    "\n",
    "MWh2o = 18.011\n",
    "\n",
    "lbmPg = 0.002204 #conversion\n",
    "\n",
    "delta_hmashDC1 = quad(Cpmash, t_in_DC1, t_bottoms_DC1)[0]\n",
    "delta_hmashDC1_jPgHE = delta_hmashDC1/MWh2o\n",
    "delta_hmashDC1_jPlbmHE = delta_hmashDC1_jPgHE/lbmPg\n",
    "\n",
    "print(f\"delta_hmashDC1_jPlbmHE = {delta_hmashDC1_jPlbmHE :.6f} J/lbm = enthalpy change of mash in Distillation Column 1(ethanol conc)\")"
   ]
  },
  {
   "cell_type": "code",
   "execution_count": 223,
   "id": "8ed54dc0-de06-45d8-8e7a-8088fa716cd2",
   "metadata": {},
   "outputs": [
    {
     "name": "stdout",
     "output_type": "stream",
     "text": [
      "delta_hethDC1_jPlbmHE = 0.000000 J/lbm = enthalpy change of ethanol in Distillation Column 1(ethanol conc)\n"
     ]
    }
   ],
   "source": [
    "# calculating hs and deltahs\n",
    "\n",
    "def Cpethanol(t):\n",
    "    A = 9.839E-02;B = 0;C = 0;D = 0\n",
    "    Cpm = A + B*t + C*t**2 + D*t**3\n",
    "    Cpm*=1000\n",
    "    return(Cpm) #returns J/mol * C\n",
    "\n",
    "MWeth = 46.07\n",
    "lbmPg = 0.002204 #conversion\n",
    "\n",
    "delta_hethDC1 = quad(Cpethanol, t_in_DC1, t_top_DC1)[0]\n",
    "delta_hethDC1_jPgHE = delta_hethDC1/MWeth\n",
    "delta_hethDC1_jPlbmHE = delta_hethDC1_jPgHE/lbmPg\n",
    "\n",
    "print(f\"delta_hethDC1_jPlbmHE = {delta_hethDC1_jPlbmHE :.6f} J/lbm = enthalpy change of ethanol in Distillation Column 1(ethanol conc)\")"
   ]
  },
  {
   "cell_type": "code",
   "execution_count": 225,
   "id": "23f060e4-4cab-4815-aa64-696566640a4c",
   "metadata": {},
   "outputs": [],
   "source": [
    "# calculating delta hs and hs\n",
    "\n",
    "def Cph2o(t): # in liquid\n",
    "    A = 7.540E-02;B = 0;C = 0;D = 0\n",
    "    Cpm = A + B*t + C*t**2 + D*t**3\n",
    "    Cpm*=1000\n",
    "    return(Cpm) #returns J/mol * C\n",
    "\n",
    "# I chose as my reference state enthalpy of 0 at 32 F or 0 C\n",
    "ref = 0 # C\n",
    "\n",
    "# calculating h1, enthalpy of water coming in to DC1\n",
    "h_water_inDC1 = quad(Cph2o, ref, t_in_DC1)[0]\n",
    "\n",
    "# calculating h2, enthalpy of water coming out of DC1 at the top\n",
    "h_water_outtopDC1 = quad(Cph2o, ref, t_top_DC1)[0]\n",
    "\n",
    "# calculating h3, enthalpy of water coming out of DC1 at the bottom\n",
    "h_water_outbottomDC1 = quad(Cph2o, ref, t_bottoms_DC1)[0]\n"
   ]
  },
  {
   "cell_type": "code",
   "execution_count": 227,
   "id": "de7d5f2e-e29c-428f-98d0-c855abd5034c",
   "metadata": {},
   "outputs": [
    {
     "name": "stdout",
     "output_type": "stream",
     "text": [
      "h_water_inDC1_jPlbm = 230039.245023 J/lbm = enthalpy water coming in to DC1\n",
      "h_water_outtopDC1_jPlbm = 230039.245023 J/lbm = enthalpy water coming out of DC1 at the top\n",
      "h_water_outbottomDC1_jPlbm = 256422.244885 J/lbm = enthalpy water coming out of DC1 at the bottom\n"
     ]
    }
   ],
   "source": [
    "h_water_inDC1_jPg = h_water_inDC1/MWh2o\n",
    "h_water_inDC1_jPlbm = h_water_inDC1_jPg/lbmPg\n",
    "\n",
    "print(f\"h_water_inDC1_jPlbm = {h_water_inDC1_jPlbm :.6f} J/lbm = enthalpy water coming in to DC1\")\n",
    "\n",
    "h_water_outtopDC1_jPg = h_water_outtopDC1/MWh2o\n",
    "h_water_outtopDC1_jPlbm = h_water_outtopDC1_jPg/lbmPg\n",
    "\n",
    "print(f\"h_water_outtopDC1_jPlbm = {h_water_outtopDC1_jPlbm :.6f} J/lbm = enthalpy water coming out of DC1 at the top\")\n",
    "\n",
    "h_water_outbottomDC1_jPg = h_water_outbottomDC1/MWh2o\n",
    "h_water_outbottomDC1_jPlbm = h_water_outbottomDC1_jPg/lbmPg\n",
    "\n",
    "print(f\"h_water_outbottomDC1_jPlbm = {h_water_outbottomDC1_jPlbm :.6f} J/lbm = enthalpy water coming out of DC1 at the bottom\")"
   ]
  },
  {
   "cell_type": "code",
   "execution_count": 229,
   "id": "2b06808a-7b8a-45ff-b528-e169043462fa",
   "metadata": {},
   "outputs": [
    {
     "name": "stdout",
     "output_type": "stream",
     "text": [
      "** QcondenserDC1 = 85452308015.559418 J/hr = heat transferred in condenser in DC1**\n"
     ]
    }
   ],
   "source": [
    "def f_DC1(a):\n",
    "    Qcondenser = a # unknowns, heat transferred in condenser\n",
    "    \n",
    "    eq1 = m_mash_bottomsDC1*delta_hmashDC1_jPlbmHE + m_eth_topDC1*delta_hethDC1_jPlbmHE + m_h2o_bottomsDC1*h_water_outbottomDC1_jPlbm + m_h2o_topDC1*h_water_outtopDC1_jPlbm - m_h2o_inDC1*h_water_inDC1_jPlbm + Qcondenser + Qreboiler \n",
    "    return eq1\n",
    "\n",
    "guess_DC1 = 500000\n",
    "ansDC1 = fsolve(f_DC1, guess_DC1)\n",
    "QcondenserDC1 = ansDC1[0]\n",
    "\n",
    "print(f\"** QcondenserDC1 = {QcondenserDC1 :.6f} J/hr = heat transferred in condenser in DC1**\")"
   ]
  },
  {
   "cell_type": "code",
   "execution_count": 231,
   "id": "8c6e3ce9-7ebe-48da-8606-5bd98bb34530",
   "metadata": {},
   "outputs": [
    {
     "name": "stdout",
     "output_type": "stream",
     "text": [
      "deltah_condenser_DC1_jPlbm = 26382.999863 J/lbm = enthalpy change of water supplied to condenser in DC1\n"
     ]
    }
   ],
   "source": [
    "# calculating delta h water in condenser in DC1 (liquid going from 85 to 110 F)\n",
    "\n",
    "def Cph2o(t): # in liquid\n",
    "    A = 7.540E-02;B = 0;C = 0;D = 0\n",
    "    Cpm = A + B*t + C*t**2 + D*t**3\n",
    "    Cpm*=1000\n",
    "    return(Cpm) #returns J/mol * C\n",
    "\n",
    "t_incooling_water =  29.44 # 85 F in C\n",
    "t_outcooling_water = 43.33 # 110 F in C\n",
    "\n",
    "deltah_condenser_DC1 = quad(Cph2o, t_incooling_water, t_outcooling_water)[0] \n",
    "\n",
    "deltah_condenser_DC1_jPg = deltah_condenser_DC1/MWh2o\n",
    "deltah_condenser_DC1_jPlbm = deltah_condenser_DC1_jPg/lbmPg\n",
    "\n",
    "print(f\"deltah_condenser_DC1_jPlbm = {deltah_condenser_DC1_jPlbm :.6f} J/lbm = enthalpy change of water supplied to condenser in DC1\")"
   ]
  },
  {
   "cell_type": "code",
   "execution_count": 233,
   "id": "13237898-c86f-4d41-b36e-d3bbb2d0e7d0",
   "metadata": {},
   "outputs": [
    {
     "name": "stdout",
     "output_type": "stream",
     "text": [
      "** m_h2o_condenser_DC1 = 3238915.531229 lbm/hr = flowrate of water supplied to condenser in DC1**\n"
     ]
    }
   ],
   "source": [
    "m_h2o_condenser_DC1 = QcondenserDC1 / deltah_condenser_DC1_jPlbm\n",
    "\n",
    "print(f\"** m_h2o_condenser_DC1 = {m_h2o_condenser_DC1 :.6f} lbm/hr = flowrate of water supplied to condenser in DC1**\")"
   ]
  },
  {
   "cell_type": "code",
   "execution_count": 286,
   "id": "1b51907d-443d-4f35-aff7-55ceae4628d6",
   "metadata": {},
   "outputs": [],
   "source": [
    "# solving around condenser of azeotrope column\n",
    "# vapor pentane, ethanol, water coming in and all condensed to liquid\n",
    "\n",
    "m_pent_in_condAC = 179386.53 # lbm/hr\n",
    "m_ethanol_in_condAC = 15515.94 # lbm/hr\n",
    "m_h2o_in_condAC = 12525.28 # lbm/hr"
   ]
  },
  {
   "cell_type": "code",
   "execution_count": 288,
   "id": "0cba556e-6439-4a79-8ce9-1c4c301ef7d4",
   "metadata": {},
   "outputs": [],
   "source": [
    "Tsat_condAC = 66.11 # 151 F in C\n",
    "\n",
    "#deltahvaps in positive since they are going from steam to liquid\n",
    "\n",
    "deltahvap_pent_condAC = -23849 # J/mol\n",
    "deltahvap_ethanol_condAC = -40048 # J/mol\n",
    "deltahvap_h2o_condAC = -42249 # J/mol\n",
    "\n",
    "MWpent = 72.15 # g/mol\n",
    "MWethanol = 46.07 # g/mol"
   ]
  },
  {
   "cell_type": "code",
   "execution_count": 290,
   "id": "bab29285-68a7-4485-8ed6-2eff44c7393f",
   "metadata": {},
   "outputs": [
    {
     "name": "stdout",
     "output_type": "stream",
     "text": [
      "deltahvap_pent_condAC_jPlbm = -149976.166310 J/lbm = enthalpy pent coming in to condenser for Azeotrope Column\n",
      "deltahvap_ethanol_condAC_jPlbm = -394412.826374 J/lbm = enthalpy ethanol coming in to condenser for Azeotrope Column\n",
      "deltahvap_h2o_condAC_jPlbm = -1064307.242771 J/lbm = enthalpy water coming out of DC1 at the bottom\n"
     ]
    }
   ],
   "source": [
    "\n",
    "deltahvap_pent_condAC_jPg = deltahvap_pent_condAC/MWpent\n",
    "deltahvap_pent_condAC_jPlbm = deltahvap_pent_condAC_jPg/lbmPg\n",
    "\n",
    "print(f\"deltahvap_pent_condAC_jPlbm = {deltahvap_pent_condAC_jPlbm :.6f} J/lbm = enthalpy pent coming in to condenser for Azeotrope Column\")\n",
    "\n",
    "deltahvap_ethanol_condAC_jPg = deltahvap_ethanol_condAC/MWethanol\n",
    "deltahvap_ethanol_condAC_jPlbm = deltahvap_ethanol_condAC_jPg/lbmPg\n",
    "\n",
    "print(f\"deltahvap_ethanol_condAC_jPlbm = {deltahvap_ethanol_condAC_jPlbm :.6f} J/lbm = enthalpy ethanol coming in to condenser for Azeotrope Column\")\n",
    "\n",
    "deltahvap_h2o_condAC_jPg = deltahvap_h2o_condAC/MWh2o\n",
    "deltahvap_h2o_condAC_jPlbm = deltahvap_h2o_condAC_jPg/lbmPg\n",
    "\n",
    "print(f\"deltahvap_h2o_condAC_jPlbm = {deltahvap_h2o_condAC_jPlbm :.6f} J/lbm = enthalpy water coming out of DC1 at the bottom\")"
   ]
  },
  {
   "cell_type": "code",
   "execution_count": 308,
   "id": "bb39f3da-6abd-444a-ae98-671af1b268a9",
   "metadata": {},
   "outputs": [
    {
     "name": "stdout",
     "output_type": "stream",
     "text": [
      "Qcondenser_AC = -46354136028.062134 J/hr = heat transferred by stream in condenser of Azeotrope Column\n"
     ]
    }
   ],
   "source": [
    "Qcondenser_AC = m_pent_in_condAC*deltahvap_pent_condAC_jPlbm + m_ethanol_in_condAC*deltahvap_ethanol_condAC_jPlbm + m_h2o_in_condAC*deltahvap_h2o_condAC_jPlbm \n",
    "\n",
    "print(f\"Qcondenser_AC = {Qcondenser_AC :.6f} J/hr = heat transferred by stream in condenser of Azeotrope Column\")"
   ]
  },
  {
   "cell_type": "code",
   "execution_count": 310,
   "id": "87e828b4-3dc2-43b7-9a51-ca7256b73fa0",
   "metadata": {},
   "outputs": [
    {
     "name": "stdout",
     "output_type": "stream",
     "text": [
      "deltah_condenser_AC_jPlbm = 26382.999863 J/lbm = enthalpy change of water supplied to condenser in Azeotrope Column\n"
     ]
    }
   ],
   "source": [
    "# calculating delta h water in condenser in Azeotrope Column (liquid going from 85 to 110 F)\n",
    "\n",
    "def Cph2o(t): # in liquid\n",
    "    A = 7.540E-02;B = 0;C = 0;D = 0\n",
    "    Cpm = A + B*t + C*t**2 + D*t**3\n",
    "    Cpm*=1000\n",
    "    return(Cpm) #returns J/mol * C\n",
    "\n",
    "t_incooling_water =  29.44 # 85 F in C\n",
    "t_outcooling_water = 43.33 # 110 F in C\n",
    "\n",
    "deltah_condenser_AC = quad(Cph2o, t_incooling_water, t_outcooling_water)[0] \n",
    "\n",
    "deltah_condenser_AC_jPg = deltah_condenser_AC/MWh2o\n",
    "deltah_condenser_AC_jPlbm = deltah_condenser_AC_jPg/lbmPg\n",
    "\n",
    "print(f\"deltah_condenser_AC_jPlbm = {deltah_condenser_AC_jPlbm :.6f} J/lbm = enthalpy change of water supplied to condenser in Azeotrope Column\")"
   ]
  },
  {
   "cell_type": "code",
   "execution_count": 312,
   "id": "cadb7d66-d73a-4723-99c6-23e01d70770a",
   "metadata": {},
   "outputs": [
    {
     "name": "stdout",
     "output_type": "stream",
     "text": [
      "** m_h2o_condenser_AC = 1756969.877170 lbm/hr = flowrate of water supplied to condenser in AC**\n"
     ]
    }
   ],
   "source": [
    "m_h2o_condenser_AC = -Qcondenser_AC / deltah_condenser_AC_jPlbm \n",
    "\n",
    "print(f\"** m_h2o_condenser_AC = {m_h2o_condenser_AC :.6f} lbm/hr = flowrate of water supplied to condenser in AC**\")"
   ]
  },
  {
   "cell_type": "code",
   "execution_count": 314,
   "id": "ebe6ed42-6a6a-4003-8f84-1a74ac596ff9",
   "metadata": {},
   "outputs": [
    {
     "name": "stdout",
     "output_type": "stream",
     "text": [
      "m_h2o_topStr = 1130.8687 lbm/hr, h2o coming out in the boilup stream of stripper\n",
      "m_ethanol_inStr = 2366.4777 lbm/hr, ethanol coming out in the boilup stream of stripper\n"
     ]
    }
   ],
   "source": [
    "# solving around Stripper, need to get actual numbers\n",
    "\n",
    "Tsat_top = 97.78 # 208 F in C\n",
    "\n",
    "m_h2o_topDC1 = 1987 # h2o out in the top stream of DC1, lbm/hr\n",
    "m_h2o_inAC = m_h2o_topDC1\n",
    "m_h2o_bottomproduct_AC = 341.7122 # lbm/hr\n",
    "\n",
    "m_h2o_wasteout_Str = m_h2o_inAC - m_h2o_bottomproduct_AC # h2o waste in bottom stream of Stripper, lbm/hr\n",
    "\n",
    "m_h2o_inStr = 2776.156538 # lbm/hr, water into stripper\n",
    "m_ethanol_inStr = 2366.47769 # lbm/hr, ethanol into stripper \n",
    "\n",
    "m_h2o_topStr = m_h2o_inStr - m_h2o_wasteout_Str # h2o coming out in the boilup stream of stripper\n",
    "\n",
    "print(f\"m_h2o_topStr = {m_h2o_topStr :.4f} lbm/hr, h2o coming out in the boilup stream of stripper\")\n",
    "print(f\"m_ethanol_inStr = {m_ethanol_inStr :.4f} lbm/hr, ethanol coming out in the boilup stream of stripper\")\n",
    "\n",
    "#deltahvaps in positive since they are going from steam to liquid\n",
    "deltahvap_ethanol_condStr = -37764 # J/mol\n",
    "deltahvap_h2o_condStr = -40800 # J/mol"
   ]
  },
  {
   "cell_type": "code",
   "execution_count": 316,
   "id": "a3fe60ae-db5e-4d01-b7a1-67139b13cc88",
   "metadata": {},
   "outputs": [
    {
     "name": "stdout",
     "output_type": "stream",
     "text": [
      "deltahvap_ethanol_condStr_jPlbm = -371918.846764 J/lbm = enthalpy ethanol coming in to condenser for Stripper Column\n",
      "deltahvap_h2o_condStr_jPlbm = -1027805.048760 J/lbm = enthalpy water coming in to condenser for Stripper Column\n"
     ]
    }
   ],
   "source": [
    "deltahvap_ethanol_condStr_jPg = deltahvap_ethanol_condStr/MWethanol\n",
    "deltahvap_ethanol_condStr_jPlbm = deltahvap_ethanol_condStr_jPg/lbmPg\n",
    "\n",
    "print(f\"deltahvap_ethanol_condStr_jPlbm = {deltahvap_ethanol_condStr_jPlbm :.6f} J/lbm = enthalpy ethanol coming in to condenser for Stripper Column\")\n",
    "\n",
    "deltahvap_h2o_condStr_jPg = deltahvap_h2o_condStr/MWh2o\n",
    "deltahvap_h2o_condStr_jPlbm = deltahvap_h2o_condStr_jPg/lbmPg\n",
    "\n",
    "print(f\"deltahvap_h2o_condStr_jPlbm = {deltahvap_h2o_condStr_jPlbm :.6f} J/lbm = enthalpy water coming in to condenser for Stripper Column\")"
   ]
  },
  {
   "cell_type": "code",
   "execution_count": 318,
   "id": "844b0410-9bea-4cde-bdec-e563435aa480",
   "metadata": {},
   "outputs": [
    {
     "name": "stdout",
     "output_type": "stream",
     "text": [
      "Qcondenser_Stripper = -2042450251.758530 J/hr = heat transferred by stream in condenser of Stripper\n"
     ]
    }
   ],
   "source": [
    "Qcondenser_Stripper = m_h2o_topStr * deltahvap_h2o_condStr_jPlbm + m_ethanol_inStr * deltahvap_ethanol_condStr_jPlbm \n",
    "\n",
    "print(f\"Qcondenser_Stripper = {Qcondenser_Stripper :.6f} J/hr = heat transferred by stream in condenser of Stripper\")"
   ]
  },
  {
   "cell_type": "code",
   "execution_count": 324,
   "id": "1430b948-2b45-475f-abee-8c3823ff24dc",
   "metadata": {},
   "outputs": [
    {
     "name": "stdout",
     "output_type": "stream",
     "text": [
      "deltah_condenser_Str_jPlbm = 26382.999863 J/lbm = enthalpy change of water supplied to condenser in Stripper\n"
     ]
    }
   ],
   "source": [
    "# calculating delta h water in condenser in Stripper (liquid going from 85 to 110 F)\n",
    "\n",
    "def Cph2o(t): # in liquid\n",
    "    A = 7.540E-02;B = 0;C = 0;D = 0\n",
    "    Cpm = A + B*t + C*t**2 + D*t**3\n",
    "    Cpm*=1000\n",
    "    return(Cpm) #returns J/mol * C\n",
    "\n",
    "t_incooling_water =  29.44 # 85 F in C\n",
    "t_outcooling_water = 43.33 # 110 F in C\n",
    "\n",
    "deltah_condenser_Str = quad(Cph2o, t_incooling_water, t_outcooling_water)[0] \n",
    "\n",
    "deltah_condenser_Str_jPg = deltah_condenser_Str/MWh2o\n",
    "deltah_condenser_Str_jPlbm = deltah_condenser_Str_jPg/lbmPg\n",
    "\n",
    "print(f\"deltah_condenser_Str_jPlbm = {deltah_condenser_Str_jPlbm :.6f} J/lbm = enthalpy change of water supplied to condenser in Stripper\")"
   ]
  },
  {
   "cell_type": "code",
   "execution_count": 326,
   "id": "048cc46a-fbd9-4799-b3c0-1c7dafdd7ecb",
   "metadata": {},
   "outputs": [
    {
     "name": "stdout",
     "output_type": "stream",
     "text": [
      "** m_h2o_condenser_Str = 77415.391062 lbm/hr = flowrate of water supplied to condenser in Stripper**\n"
     ]
    }
   ],
   "source": [
    "m_h2o_condenser_Str = -Qcondenser_Stripper  / deltah_condenser_Str_jPlbm  \n",
    "\n",
    "print(f\"** m_h2o_condenser_Str = {m_h2o_condenser_Str :.6f} lbm/hr = flowrate of water supplied to condenser in Stripper**\")"
   ]
  },
  {
   "cell_type": "markdown",
   "id": "c7f7f168-2311-4d0e-a8cd-5cbbcf387071",
   "metadata": {},
   "source": [
    "### Question 11 ###\n",
    "\n",
    "We calculated the total mass flow rates of the water necessary to cool each of the condensers from each distillation column and the stripper. We did a total mass balance on the whole system starting from the Azeotrope Column to the stripper. After finding the pertinent mass flow rates, we solved for each Q. In the first distillation column, we solved for total heat provided by steam, then did an energy balance to find the remaining heat necessary to cool the distillate in condenser 1. That number came out to deltah_condenser_DC1_jPlbm = 26382.999863 J/lbm = enthalpy change of water supplied to condenser in DC1. \n",
    "We then took this number and divided it by the heat capacity of water from 85F to 110F which gave us a total mass flow rate of water necessary at ** m_h2o_condenser_DC1 = 3238915.531229 lbm/hr = flowrate of water supplied to condenser in DC1**.\n",
    "\n",
    "We did a similar process in Condensers 2 and three, using the deltahVaporization for each component to find each Q.\n",
    " m_h2o_condenser_AC = 1756969.877170 lbm/hr = flowrate of water supplied to condenser in AC\n",
    " m_h2o_condenser_Str = 77415.391062 lbm/hr = flowrate of water supplied to condenser in Stripper**\n",
    "\n"
   ]
  },
  {
   "cell_type": "code",
   "execution_count": null,
   "id": "cf21dfdc-7602-4b55-a22e-5a51860d01b0",
   "metadata": {},
   "outputs": [],
   "source": []
  }
 ],
 "metadata": {
  "kernelspec": {
   "display_name": "Python 3 (ipykernel)",
   "language": "python",
   "name": "python3"
  },
  "language_info": {
   "codemirror_mode": {
    "name": "ipython",
    "version": 3
   },
   "file_extension": ".py",
   "mimetype": "text/x-python",
   "name": "python",
   "nbconvert_exporter": "python",
   "pygments_lexer": "ipython3",
   "version": "3.13.0"
  }
 },
 "nbformat": 4,
 "nbformat_minor": 5
}
