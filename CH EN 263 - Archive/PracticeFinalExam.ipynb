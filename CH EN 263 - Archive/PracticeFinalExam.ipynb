{
 "cells": [
  {
   "cell_type": "markdown",
   "metadata": {},
   "source": [
    "# Python Practice Final\n",
    "\n",
    "boiler plate libraries functions and tools for the course are included below\n",
    "\n",
    "note this template comes from an edited version of Dr. Lignell's Final- His exams were 10 questions 10pts- here excel was the focus of Questions 1-3 and Python was on questions 4-10.\n",
    "\n",
    "Dr.Wheelers final is likely to reflect the format of previous exams where questions will have you use multiple skills.\n",
    "\n",
    "Note for Excel key Topics and Skills are:\n",
    "* VBA skills\n",
    "* plotting - making a well labeled plot with axes units and appropriate bounds \n",
    "* curve fitting - using trendline and Least Squares fit method \n",
    "* solver - optimizing parameters, or finding multiple equations with multiple unknowns \n",
    "* Newton's method\n",
    "* basic skills: locking cells, rows, or columns apppropriately to fill down equations, formatting tools, etc\n",
    "\n",
    "Note for Python key Topics and Skills are:\n",
    "* markdown and LateX\n",
    "* arrays\n",
    "* dictionaries\n",
    "* looping\n",
    "* functions\n",
    "* solvers (fsolve, odeint) when and how to use\n",
    "* integrating (using quad or sympy)"
   ]
  },
  {
   "cell_type": "code",
   "execution_count": 1,
   "metadata": {},
   "outputs": [],
   "source": [
    "import numpy             as np\n",
    "import matplotlib.pyplot as plt\n",
    "%matplotlib inline\n",
    "from scipy.optimize      import fsolve, curve_fit\n",
    "from scipy.integrate     import odeint, quad\n",
    "from scipy.interpolate   import interp1d\n",
    "import matplotlib.cm as cm"
   ]
  },
  {
   "cell_type": "markdown",
   "metadata": {},
   "source": [
    "## Problem 4\n",
    "You have a bag of marbles. They are red, blue, and white. Create a dictionary that maps the marble color names to their quantity for the data given. Loop over elements of the dictionary and print the colors and numbers to the screen.\n",
    "\n",
    "| color   |quantity|\n",
    "|---------|--------|\n",
    "| red     | 10     |\n",
    "| blue    | 15     |\n",
    "| white   | 8      |\n"
   ]
  },
  {
   "cell_type": "code",
   "execution_count": 2,
   "metadata": {},
   "outputs": [],
   "source": [
    "marbles = {\n",
    "    'red':10,\n",
    "    'blue':15,\n",
    "    'white':8,\n",
    "    }"
   ]
  },
  {
   "cell_type": "markdown",
   "metadata": {},
   "source": [
    "## Problem 5\n",
    "\n",
    "Use ```quad``` to compute the value of the following integral:\n",
    "$$\\int_0^1 \\frac{1-x^4}{2x^2 + 4}dx$$"
   ]
  },
  {
   "cell_type": "code",
   "execution_count": 13,
   "metadata": {},
   "outputs": [
    {
     "name": "stdout",
     "output_type": "stream",
     "text": [
      "The integral of [(1-x^4)/(2x^2+4) dx] from 0 to 1 is equal to 0.1805\n"
     ]
    }
   ],
   "source": [
    "Integral = quad(lambda x: (1-x**4)/(2*x**2 + 4), 0, 1)[0]\n",
    "print(\"The integral of [(1-x^4)/(2x^2+4) dx] from 0 to 1 is equal to {INT:.4f}\".format(INT = Integral))"
   ]
  },
  {
   "cell_type": "markdown",
   "metadata": {},
   "source": [
    "## Problem 6\n",
    "Use sympy to compute the numerical value of the following integral:\n",
    "$$\\int_0^1\\frac{1-x^4}{2x^2 + 4}dx$$\n",
    "\n",
    "Here are some functions we discussed for sympy:\n",
    "\n",
    "```\n",
    "display, symbols, Function, subs, evalf, simplify, expand\n",
    "factor, diff, integrate, limit, Derivative, Integral\n",
    "Limit, doit, solve, dsolve, Matrix, row, row_del, inv\n",
    "```"
   ]
  },
  {
   "cell_type": "code",
   "execution_count": 26,
   "metadata": {},
   "outputs": [
    {
     "name": "stdout",
     "output_type": "stream",
     "text": [
      "Repeating with a numeric solution, the result is 0.1805\n"
     ]
    }
   ],
   "source": [
    "X_range = np.linspace(0,1,100001)\n",
    "ΔX = X_range[1]-X_range[0]\n",
    "def Summation(x):\n",
    "    return (1-x**4)/(2*x**2 + 4)\n",
    "summation = np.sum(Summation(X_range)*ΔX)\n",
    "print(\"Repeating with a numeric solution, the result is {SUM:.4f}\".format(SUM=summation))"
   ]
  },
  {
   "cell_type": "markdown",
   "metadata": {},
   "source": [
    "## Problem 7\n",
    "\n",
    "For the given data find the best parameters E and k for the model:\n",
    "$$r = ke^{-E/T}$$\n",
    "\n",
    "Also, plot the data along with the model. Label the axes. Use data markers without lines for the given data, and a line without markers for the model. Include a legend.\n"
   ]
  },
  {
   "cell_type": "code",
   "execution_count": 3,
   "metadata": {},
   "outputs": [],
   "source": [
    "T = np.array([500,600,700,800,900,1000,1100,1200], dtype=float)\n",
    "r = np.array([0.009,0.0122,0.0199,0.0285,0.0344,0.0472,0.0653,0.08125])"
   ]
  },
  {
   "cell_type": "code",
   "execution_count": null,
   "metadata": {},
   "outputs": [],
   "source": []
  },
  {
   "cell_type": "markdown",
   "metadata": {},
   "source": [
    "## Problem 8\n",
    "\n",
    "An insulated wire has uniform heat generation causing an unsteady temperature change along its length. The temperature is govered by the following partial differential equation (PDE)\n",
    "$$\\frac{\\partial T}{\\partial t} = \\alpha\\frac{\\partial^2T}{\\partial x^2} + S.$$\n",
    "Here, $t$ is time, $x$ is spatial distance, $S$ is the heat generation source term, and $\\alpha$ is the thermal diffusivity. We can convert this single PDE to a series of ordinary differential equations (ODEs) for the temperature at specified points as follows. First, we write write a grid of $n$ points on the domain:\n",
    "```\n",
    "x=0                                    x=L\n",
    "*---*---*---...---*---*---*---...---*---*\n",
    "0   1   2   ...  i-1  i  i+1  ...  n-2 n-1\n",
    "```\n",
    "The points are uniformly spaced. We specify a constant value of the temperature on the edges: $T_0=T_{n-1}=1$. \n",
    "\n",
    "Now, we write a numerical approximation for the second derivative in our PDE at each interior grid point $i$ in terms of neighboring grid points $i-1$ and $i+1$:\n",
    "\n",
    "$$\\frac{\\partial^2T}{\\partial x^2} = \\frac{\\partial}{\\partial x}\\left(\\frac{\\partial T}{\\partial x}\\right) \\approx \\frac{\\left(\\frac{\\partial T}{\\partial x}\\right)_{i+1/2} - \\left(\\frac{\\partial T}{\\partial x}\\right)_{i-1/2}}{\\Delta x} = \\frac{\\frac{ T_{i+1}-T_i }{\\Delta x} - \\frac{ T_{i}-T_{i-1}  }{\\Delta x}}{\\Delta x}= \\frac{T_{i-1}-2T_i+T_{i+1}}{\\Delta x^2}.$$\n",
    "\n",
    "Inserting this into our PDE for interior points $i$, and noting that the edge temperatures are constant gives the following $n$ ODEs:\n",
    "\\begin{align}\n",
    "&\\frac{dT_0}{dt} = 0, \\\\\n",
    "&\\frac{dT_i}{dt} = \\frac{\\alpha}{\\Delta x^2}(T_{i-1} - 2T_i + T_{i+1}) + S, \\,\\,\\, i=1\\ldots n-2, \\\\\n",
    "&\\frac{dT_{n-1}}{dt} = 0.\n",
    "\\end{align}\n",
    "\n",
    "**Solve these ODEs for $n=101$ using the following:\n",
    "\\begin{align}\n",
    "L &= 1,\\\\\n",
    "\\alpha &= 1,\\\\\n",
    "S &= 6,\\\\\n",
    "t_{end} &= 1.\n",
    "\\end{align}\n",
    "Assume the initial temperature at each point is 1.**\n",
    "\n",
    "On a single plot, plot the temperature profile $T_i$ versus $x_i$ at $t=0,\\,0.05,\\,0.1,\\,1$\n"
   ]
  },
  {
   "cell_type": "code",
   "execution_count": null,
   "metadata": {},
   "outputs": [],
   "source": []
  },
  {
   "cell_type": "markdown",
   "metadata": {},
   "source": [
    "## Problem 9-10\n",
    "The water-gas-shift reaction is very important in chemical engineering:\n",
    "$$CO + H_2O \\rightleftharpoons CO_2 + H_2$$\n",
    "If we start with initial moles $n_{CO,i}$, $n_{H2O,i}$, $n_{CO2,i}$, $n_{H2,i}$, then the final moles of each species are related to an *extent of reaction variable* $x$:\n",
    "\\begin{align}\n",
    "n_{CO}&=n_{CO,i}-x, \\\\\n",
    "n_{H2O}&=n_{H2O,i}-x, \\\\\n",
    "n_{CO2}&=n_{CO2,i}+x, \\\\\n",
    "n_{H2}&=n_{H2,i}+x.\n",
    "\\end{align}\n",
    "\n",
    "At equilibrium, we have:\n",
    "$$K(x) = \\frac{n_{CO2}n_{H2}}{n_{CO}n_{H2O}}= \\frac{(n_{CO2,i}+x)(n_{H2,i}+x)}{(n_{CO,i}-x)(n_{H2O,i}-x)}$$\n",
    "Here, $K$ is the equilibrium constant, and is given by \n",
    "$$K = e^{-\\Delta G^o(T)/RT},$$\n",
    "where $\\Delta G^o(T)$ is the Gibbs energy of reaction, given by\n",
    "$$\\Delta G^o(T) = g_{CO2}(T)+g_{H2}(T) - g_{CO}(T)-g_{H2O}(T)$$"
   ]
  },
  {
   "cell_type": "markdown",
   "metadata": {},
   "source": [
    "#### Problem 9\n",
    "\n",
    "$g$ (J/mol) versus $T$ (K) data are given for each species. Use a cubic spline to evaluate $g$ at T=1234 K for each species."
   ]
  },
  {
   "cell_type": "code",
   "execution_count": 4,
   "metadata": {},
   "outputs": [],
   "source": [
    "# naming these Ta for Temperature array, etc.\n",
    "\n",
    "Ta    = np.array([300, 470, 640, 810, 980, 1150, 1320, 1490, 1660, 1830, 2000], dtype=float)\n",
    "gCOa  = np.array([-1.69826432e+08, -2.04658243e+08, -2.41355574e+08, -2.79454157e+08,\n",
    "                 -3.18699800e+08, -3.58924225e+08, -4.00003506e+08, -4.41842454e+08,\n",
    "                 -4.84364918e+08, -5.27508382e+08, -5.71220539e+08])/1000\n",
    "gCO2a = np.array([-4.57643851e+08, -4.95641584e+08, -5.36355921e+08, -5.79264731e+08,\n",
    "                 -6.24022105e+08, -6.70378162e+08, -7.18141398e+08, -7.67160484e+08,\n",
    "                 -8.17312860e+08, -8.68496938e+08, -9.20627096e+08])/1000\n",
    "gH2a  = np.array([-3.92042461e+07, -6.26438652e+07, -8.79246975e+07, -1.14544781e+08,\n",
    "                 -1.42230545e+08, -1.70810242e+08, -2.00166091e+08, -2.30213454e+08,\n",
    "                 -2.60887154e+08, -2.92135152e+08, -3.23914649e+08])/1000\n",
    "gH2Oa = np.array([-2.98473226e+08, -3.32000676e+08, -3.67720626e+08, -4.05118508e+08,\n",
    "                 -4.43910707e+08, -4.83917260e+08, -5.25013096e+08, -5.67102443e+08,\n",
    "                 -6.10108061e+08, -6.53965486e+08, -6.98619478e+08])/1000"
   ]
  },
  {
   "cell_type": "code",
   "execution_count": 5,
   "metadata": {},
   "outputs": [],
   "source": [
    "# cubic spline is a kind of interpolation \n",
    "# use interp1d, Temperature array, and g_species arrays to produce a function to evaluate at T = 1234 K\n"
   ]
  },
  {
   "cell_type": "markdown",
   "metadata": {},
   "source": [
    "#### Problem 10\n",
    "\n",
    "If we start with one mole of all species, find the equilibrium moles of each species at T=1234 K. $x=0$ is a reasonable guess for $x$. If there are multiple solutions for $x$, the right one will be the one that leads to positive (physically possible) values of $n$ for all the species."
   ]
  },
  {
   "cell_type": "code",
   "execution_count": null,
   "metadata": {},
   "outputs": [],
   "source": []
  },
  {
   "cell_type": "markdown",
   "metadata": {},
   "source": [
    "## (Just for fun)"
   ]
  },
  {
   "cell_type": "code",
   "execution_count": 6,
   "metadata": {},
   "outputs": [
    {
     "data": {
      "image/png": "[encoded data removed]",
      "text/plain": [
       "<Figure size 720x360 with 1 Axes>"
      ]
     },
     "metadata": {},
     "output_type": "display_data"
    }
   ],
   "source": [
    "def love263(x,y):\n",
    "    return  1/2 < (y//17 // 2**(17*x + y%17)) %2\n",
    "\n",
    "N = 455237967230584141120681068161126439435777949202837932283458057884367902070883924833683695156826001205117559735861964474609436387651618836596391580356781270546947348072023025190767025857644992395215759354159376788456898368638409735853437145274153841787770669959867584800096256\n",
    "\n",
    "plt.figure(figsize=(10,5))\n",
    "color_list = cm.viridis(np.linspace(0,1,60))\n",
    "\n",
    "for x in range(60):\n",
    "    for y in range(17):\n",
    "        if love263(x,y+N):\n",
    "            plt.plot(x,y,'s', ms=8, color=color_list[x])\n",
    "plt.axis('scaled')\n",
    "plt.xticks([])\n",
    "plt.yticks([])\n",
    "plt.ylim([1,13]);"
   ]
  }
 ],
 "metadata": {
  "kernelspec": {
   "display_name": "Python 3 (ipykernel)",
   "language": "python",
   "name": "python3"
  },
  "language_info": {
   "codemirror_mode": {
    "name": "ipython",
    "version": 3
   },
   "file_extension": ".py",
   "mimetype": "text/x-python",
   "name": "python",
   "nbconvert_exporter": "python",
   "pygments_lexer": "ipython3",
   "version": "3.8.10"
  },
  "varInspector": {
   "cols": {
    "lenName": 16,
    "lenType": 16,
    "lenVar": 40
   },
   "kernels_config": {
    "python": {
     "delete_cmd_postfix": "",
     "delete_cmd_prefix": "del ",
     "library": "var_list.py",
     "varRefreshCmd": "print(var_dic_list())"
    },
    "r": {
     "delete_cmd_postfix": ") ",
     "delete_cmd_prefix": "rm(",
     "library": "var_list.r",
     "varRefreshCmd": "cat(var_dic_list()) "
    }
   },
   "types_to_exclude": [
    "module",
    "function",
    "builtin_function_or_method",
    "instance",
    "_Feature"
   ],
   "window_display": false
  }
 },
 "nbformat": 4,
 "nbformat_minor": 4
}
