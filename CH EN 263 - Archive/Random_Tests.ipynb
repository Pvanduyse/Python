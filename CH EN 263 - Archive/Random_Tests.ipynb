{
 "cells": [
  {
   "cell_type": "code",
   "execution_count": 31,
   "id": "b2da8a1c-43f2-4c57-9e2e-0dede50f4d0a",
   "metadata": {},
   "outputs": [
    {
     "name": "stdout",
     "output_type": "stream",
     "text": [
      "0\n",
      "1\n",
      "2\n",
      "3\n",
      "4\n",
      "5\n",
      "6\n",
      "7\n",
      "8\n",
      "9\n",
      "1\n",
      "2\n",
      "4\n",
      "8\n",
      "16\n",
      "32\n",
      "64\n",
      "128\n",
      "256\n",
      "512\n",
      "1\n",
      "2\n",
      "4\n",
      "8\n"
     ]
    },
    {
     "data": {
      "text/plain": [
       "((), (), (), ())"
      ]
     },
     "execution_count": 31,
     "metadata": {},
     "output_type": "execute_result"
    }
   ],
   "source": [
    "def complex_range(start, condition, iterator):\n",
    "    i = start\n",
    "    return_set = ()\n",
    "    while(condition(i)):\n",
    "        return_set = return_set + (i,)\n",
    "        i = iterator(i)\n",
    "    return return_set\n",
    "\n",
    "def complex_for(start, condition, iterator, body):\n",
    "    i = start\n",
    "    full_results = ()\n",
    "    while(condition(i)):\n",
    "        results = body(i)\n",
    "        new_results = ()\n",
    "        if(type(results) is int):\n",
    "            i = results\n",
    "        if(type(results) is list):\n",
    "            if(results.length == 2):\n",
    "                i = results[0]\n",
    "                new_results = results[1]\n",
    "            if(results.length > 2):\n",
    "                i = results[0]\n",
    "                for i in range(1,results.length):\n",
    "                    new_results = new_results + (results[i],)\n",
    "        full_results = full_results + (new_results,)\n",
    "        i = iterator(i)\n",
    "    return full_results\n",
    "\n",
    "def my_body(x):\n",
    "    print(x)\n",
    "    return x\n",
    "\n",
    "def my_body2():\n",
    "    return\n",
    "\n",
    "for i in range(10):\n",
    "    print(i)\n",
    "\n",
    "\n",
    "for i in complex_range(1, lambda x: x <= 512, lambda y: y*2):\n",
    "    print(i)\n",
    "    \n",
    "complex_for(1, lambda x: x<= 10, lambda y: y*2, my_body)"
   ]
  },
  {
   "cell_type": "code",
   "execution_count": null,
   "id": "0e95eb81-8261-480b-8260-dfc5b54caff9",
   "metadata": {},
   "outputs": [],
   "source": []
  },
  {
   "cell_type": "code",
   "execution_count": null,
   "id": "13ebdee1-c237-458e-ad13-fd8231a2435e",
   "metadata": {},
   "outputs": [],
   "source": []
  }
 ],
 "metadata": {
  "kernelspec": {
   "display_name": "Python 3 (ipykernel)",
   "language": "python",
   "name": "python3"
  },
  "language_info": {
   "codemirror_mode": {
    "name": "ipython",
    "version": 3
   },
   "file_extension": ".py",
   "mimetype": "text/x-python",
   "name": "python",
   "nbconvert_exporter": "python",
   "pygments_lexer": "ipython3",
   "version": "3.8.10"
  }
 },
 "nbformat": 4,
 "nbformat_minor": 5
}
