{
 "cells": [
  {
   "cell_type": "code",
   "execution_count": 2,
   "id": "3d6bdeeb-160c-41b6-b1f3-a434dbb3645c",
   "metadata": {},
   "outputs": [
    {
     "name": "stdout",
     "output_type": "stream",
     "text": [
      "1: 1.3621950343996623\n",
      "2: 2.343950540974335\n",
      "3: 2.9881015790133274\n",
      "4: 3.3192684471204887\n",
      "5: 3.349169625611341\n",
      "6: 3.0788338385248233\n",
      "7: 2.498784833492449\n",
      "8: 1.587281997060985\n"
     ]
    }
   ],
   "source": [
    "from numpy import sqrt, pi\n",
    "def quadratic(a,b,c):\n",
    "    x1 = (-b + sqrt(b**2 - 4*a*c))/(2*a)\n",
    "    x2 = (-b - sqrt(b**2 - 4*a*c))/(2*a)\n",
    "    return (x1, x2)\n",
    "\n",
    "    \n",
    "def total_flow(num):\n",
    "    max_length = 1.84        # m\n",
    "    length_lost = 0.20       # m\n",
    "    length = max_length/num  # m\n",
    "    height = length-length_lost     # m\n",
    "    #print(height)\n",
    "\n",
    "    mu = 1*10**-3            # kg/(m*s)\n",
    "    pres = 997               # kg/m**3\n",
    "    diam = 0.16/100          # m\n",
    "    grav = 9.81              # m/s**2\n",
    "    a = 1\n",
    "    b = 32 * mu * length / (pres * diam**2)\n",
    "    c = -1 * grav * height\n",
    "    vel = quadratic(a, b, c)[0]*100    # cm/s\n",
    "    #print(vel)\n",
    "    cross_sec = pi * (diam*100)**2 / 4 # cm\n",
    "    #print(cross_sec)\n",
    "    Vol_flow = vel * cross_sec\n",
    "    #print(Vol_flow)\n",
    "    return Vol_flow*num\n",
    "\n",
    "for n in range(1,9,1):\n",
    "    print(str(n)+\":\", total_flow(n))"
   ]
  },
  {
   "cell_type": "code",
   "execution_count": null,
   "id": "57757441-96ec-400b-bc83-985b7d850bc6",
   "metadata": {},
   "outputs": [],
   "source": []
  }
 ],
 "metadata": {
  "kernelspec": {
   "display_name": "Python 3 (ipykernel)",
   "language": "python",
   "name": "python3"
  },
  "language_info": {
   "codemirror_mode": {
    "name": "ipython",
    "version": 3
   },
   "file_extension": ".py",
   "mimetype": "text/x-python",
   "name": "python",
   "nbconvert_exporter": "python",
   "pygments_lexer": "ipython3",
   "version": "3.8.10"
  }
 },
 "nbformat": 4,
 "nbformat_minor": 5
}
