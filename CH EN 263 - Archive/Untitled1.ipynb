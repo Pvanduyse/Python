{
 "cells": [
  {
   "cell_type": "code",
   "execution_count": 4,
   "id": "3bc1bde5-0405-4176-8f5c-eff89d63ae8e",
   "metadata": {},
   "outputs": [],
   "source": [
    "import numpy as np\n",
    "import matplotlib                     # for saving to pdf\n",
    "matplotlib.use('PDF')                # for saving to pdf\n",
    "import matplotlib.pyplot as plt\n",
    "%matplotlib inline"
   ]
  },
  {
   "cell_type": "code",
   "execution_count": 5,
   "id": "9e33d0bc-a1c1-428d-bb92-8ffcf00c0467",
   "metadata": {},
   "outputs": [],
   "source": [
    "V = 400                                                                    # mL\n",
    "ρ = 1000                                                                   # kg/m^3\n",
    "g = 9.81                                                                   # m/s^2"
   ]
  },
  {
   "cell_type": "code",
   "execution_count": 6,
   "id": "3cab7832-a9ff-4ae0-abd6-f14f5c4ea259",
   "metadata": {},
   "outputs": [],
   "source": [
    "Δh = np.arange(15, 65, 5)                                                  # cm\n",
    "Δt = np.array([9.02, 9.6, 10.5, 11.3, 12.4, 14.7, 16.1, 20.4, 22.1, 27.8]) # s\n",
    "Ẇ_p = np.array([2.25, 2.2, 2.1, 2.1, 2.1, 2.05, 2, 2, 2, 1.9])             # W"
   ]
  },
  {
   "cell_type": "code",
   "execution_count": 7,
   "id": "3d9f0521-9c1b-491d-88ab-9672446fe5ab",
   "metadata": {},
   "outputs": [],
   "source": [
    "V̇ = V/Δt                                                                   # mL/s\n",
    "ΔP = ρ*g*(Δh/100)/1000                                                     # kPa\n",
    "Ẇ_f = V̇*(ΔP/1000)                                                          # W\n",
    "Eff = Ẇ_f/Ẇ_p                                                              # ratio"
   ]
  },
  {
   "cell_type": "code",
   "execution_count": 8,
   "id": "a61b3077-b8bf-445c-9f5b-3884f867eed8",
   "metadata": {},
   "outputs": [
    {
     "data": {
      "image/png": "[encoded data removed]",
      "text/plain": [
       "<Figure size 432x288 with 2 Axes>"
      ]
     },
     "metadata": {
      "needs_background": "light"
     },
     "output_type": "display_data"
    }
   ],
   "source": [
    "plt.rc(\"font\", size=10)        # Set all font sizes\n",
    "\n",
    "plt.subplot(2,2,1)             # add labels, legends to each subplot separately\n",
    "plt.plot(ΔP, V̇)\n",
    "\n",
    "plt.subplot(2,2,2)\n",
    "plt.plot(V̇, Eff*100)\n",
    "\n",
    "plt.tight_layout();             # keep labels from overlapping"
   ]
  },
  {
   "cell_type": "code",
   "execution_count": null,
   "id": "636877e5-2d07-4265-b0a0-60f058e77c41",
   "metadata": {},
   "outputs": [],
   "source": []
  }
 ],
 "metadata": {
  "kernelspec": {
   "display_name": "Python 3 (ipykernel)",
   "language": "python",
   "name": "python3"
  },
  "language_info": {
   "codemirror_mode": {
    "name": "ipython",
    "version": 3
   },
   "file_extension": ".py",
   "mimetype": "text/x-python",
   "name": "python",
   "nbconvert_exporter": "python",
   "pygments_lexer": "ipython3",
   "version": "3.8.10"
  }
 },
 "nbformat": 4,
 "nbformat_minor": 5
}
