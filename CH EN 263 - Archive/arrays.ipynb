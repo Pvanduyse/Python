{
 "cells": [
  {
   "cell_type": "markdown",
   "metadata": {
    "slideshow": {
     "slide_type": "slide"
    }
   },
   "source": [
    "# Python Arrays "
   ]
  },
  {
   "cell_type": "markdown",
   "metadata": {
    "slideshow": {
     "slide_type": "fragment"
    }
   },
   "source": [
    "### Import Libraries"
   ]
  },
  {
   "cell_type": "code",
   "execution_count": 1,
   "metadata": {
    "slideshow": {
     "slide_type": "fragment"
    }
   },
   "outputs": [],
   "source": [
    "import numpy as np"
   ]
  },
  {
   "cell_type": "markdown",
   "metadata": {
    "slideshow": {
     "slide_type": "slide"
    }
   },
   "source": [
    "## Arrays and Collections\n",
    "* Arrays are single variables that hold multiple values\n",
    "* Think of a column vector or row vector as a 1D array and a matrix as a 2D array. _Elements_ of the array are described by an _index_  \n",
    "$$ \\mathbf{c} = \\left[ \\begin{array}{r}\n",
    "      1 \\\\ 0 \\\\ 0 \\end{array} \\right] ~~~~~\n",
    "    \\mathbf{r} = \\left[ \\begin{array}{rrr} 1 & 0 & 0 \\end{array} \\right] ~~~~~\n",
    "    \\mathbf{A} = \\left[ \\begin{array}{rr}\n",
    "      1 & 0 \\\\\n",
    "      2 &- 1 \\\\\n",
    "      1 & 3 \\\\ \\end{array} \\right] $$\n",
    "      \n",
    "* Can we can have 3D or 4D arrays? Yes!\n",
    "* In Excel, a a selection of cells (called a _range_) is essentially an array, where each cell is an array element.\n",
    "* The Python name for arrays is _collections_. There are four kinds: _lists_, _tuples_, _sets_, and _dictionaries_"
   ]
  },
  {
   "cell_type": "markdown",
   "metadata": {
    "slideshow": {
     "slide_type": "slide"
    }
   },
   "source": [
    "### Basic Python _list_ syntax\n",
    "\n",
    "```python\n",
    "a = [0.1, 0.2, 0.3, 0.4]\n",
    "```\n",
    "\n",
    "* **Define** an array as a comma separated list of values between square brackets.\n",
    "    * ```a``` is any variable name. \n",
    "        * This is a single variable, but it has multiple elements.\n",
    "    * spaces don't matter\n",
    "* We access the elements using square brackets:\n",
    "    * ```a[0]```, ```a[1]```, etc.\n",
    "    * The ```0``` in ```a[0]``` is the *index* of the array.\n",
    "        * Indicies start at 0."
   ]
  },
  {
   "cell_type": "code",
   "execution_count": 2,
   "metadata": {
    "slideshow": {
     "slide_type": "slide"
    }
   },
   "outputs": [
    {
     "name": "stdout",
     "output_type": "stream",
     "text": [
      "[0.1, 0.2, 0.3, 0.4]\n",
      "0.1\n",
      "0.2\n",
      "0.3\n",
      "0.4\n"
     ]
    }
   ],
   "source": [
    "a = [0.1, 0.2, 0.3, 0.4]\n",
    "\n",
    "print(a)          # prints the whole array\n",
    "print(a[0])       # print element 0\n",
    "print(a[1])       # print element 1\n",
    "print(a[2])       # etc.\n",
    "print(a[3])"
   ]
  },
  {
   "cell_type": "code",
   "execution_count": 3,
   "metadata": {
    "slideshow": {
     "slide_type": "slide"
    }
   },
   "outputs": [
    {
     "name": "stdout",
     "output_type": "stream",
     "text": [
      "0.2 0.3\n"
     ]
    }
   ],
   "source": [
    "x = a[1]         # store element value as a separate variable\n",
    "y = a[2]\n",
    "\n",
    "print(x,y)"
   ]
  },
  {
   "cell_type": "code",
   "execution_count": 4,
   "metadata": {
    "slideshow": {
     "slide_type": "fragment"
    }
   },
   "outputs": [
    {
     "name": "stdout",
     "output_type": "stream",
     "text": [
      "[0.1, 0.2, 300.0, 0.4]\n"
     ]
    }
   ],
   "source": [
    "a[2] = 1000*a[2]   # replace a[2] with 1000 times its current value\n",
    "print(a)"
   ]
  },
  {
   "cell_type": "markdown",
   "metadata": {
    "slideshow": {
     "slide_type": "slide"
    }
   },
   "source": [
    "### Python lists can store arbitrary types"
   ]
  },
  {
   "cell_type": "code",
   "execution_count": 5,
   "metadata": {
    "slideshow": {
     "slide_type": "fragment"
    }
   },
   "outputs": [
    {
     "name": "stdout",
     "output_type": "stream",
     "text": [
      "[5, 3.14, 'timpanogos', (3+5j), False, <ufunc 'sin'>]\n",
      "0.7071067811865475\n",
      "0.7071067811865475\n"
     ]
    }
   ],
   "source": [
    "import numpy as np\n",
    "b = [5, 3.14, \"timpanogos\", 3+5j, False, np.sin]\n",
    "\n",
    "print(b)                \n",
    "print(b[5](np.pi/4))  # what is this code doing with element 5?\n",
    "print(b[-1](np.pi/4))"
   ]
  },
  {
   "cell_type": "markdown",
   "metadata": {
    "slideshow": {
     "slide_type": "slide"
    }
   },
   "source": [
    "### Length of a list and using loops\n",
    "```len``` function"
   ]
  },
  {
   "cell_type": "code",
   "execution_count": 6,
   "metadata": {
    "slideshow": {
     "slide_type": "fragment"
    }
   },
   "outputs": [
    {
     "name": "stdout",
     "output_type": "stream",
     "text": [
      "length of a is 4\n",
      "1.1\n",
      "2.2\n",
      "3.3\n",
      "4.4\n"
     ]
    }
   ],
   "source": [
    "a = [1.1, 2.2, 3.3, 4.4]\n",
    "print(   \"length of a is\", len(a)   )\n",
    "\n",
    "for i in a:  # a loop that moves through all elements\n",
    "    print(i)"
   ]
  },
  {
   "cell_type": "markdown",
   "metadata": {
    "slideshow": {
     "slide_type": "slide"
    }
   },
   "source": [
    "### More information\n",
    "* [See this page](https://www.w3schools.com/python/python_lists.asp) for more information on Python lists and other collection types."
   ]
  },
  {
   "cell_type": "markdown",
   "metadata": {
    "slideshow": {
     "slide_type": "slide"
    }
   },
   "source": [
    "# Numpy arrays <a id='numpy'></a>"
   ]
  },
  {
   "cell_type": "markdown",
   "metadata": {
    "slideshow": {
     "slide_type": "slide"
    }
   },
   "source": [
    "* Python lists are nice, but for numerical work, numpy arrays are much better.\n",
    "* 90% of the work we will do in science, math, and engineering, is best done using numpy arrays.\n",
    "* All of the above regarding Python lists is the same, **except**\n",
    "    * Each element type needs to be the same.\n",
    "    * The way we create arrays is different.\n",
    "\n",
    "### Some good links:\n",
    "* [Numpy for Matlab users](https://docs.scipy.org/doc/numpy-1.15.0/user/numpy-for-matlab-users.html)\n",
    "    * [This too](http://mathesaurus.sourceforge.net/matlab-numpy.html)\n",
    "* [Tentative numpy tutorial](https://scipy.github.io/old-wiki/pages/Tentative_NumPy_Tutorial)\n",
    "* [Numpy quickstart tutorial](https://numpy.org/doc/stable/user/quickstart.html)\n",
    "* [Linear algebra](http://docs.scipy.org/doc/numpy/reference/routines.linalg.html)\n",
    "* [Cookbook with good recipes](https://scipy-cookbook.readthedocs.io)"
   ]
  },
  {
   "cell_type": "markdown",
   "metadata": {
    "slideshow": {
     "slide_type": "slide"
    }
   },
   "source": [
    "## Creating arrays\n",
    "\n",
    "* ```array```\n",
    "* ```linspace```, ```arange```\n",
    "* ```zeros```, ```ones```, ```empty```\n"
   ]
  },
  {
   "cell_type": "code",
   "execution_count": 7,
   "metadata": {
    "slideshow": {
     "slide_type": "fragment"
    }
   },
   "outputs": [
    {
     "name": "stdout",
     "output_type": "stream",
     "text": [
      "[1 2 3 4]\n"
     ]
    }
   ],
   "source": [
    "x = np.array([1,2,3,4])       # 1-D array, commas between elements\n",
    "print(x)"
   ]
  },
  {
   "cell_type": "code",
   "execution_count": 8,
   "metadata": {
    "slideshow": {
     "slide_type": "slide"
    }
   },
   "outputs": [
    {
     "name": "stdout",
     "output_type": "stream",
     "text": [
      "2\n"
     ]
    },
    {
     "data": {
      "text/plain": [
       "array([[1, 2, 3],\n",
       "       [4, 5, 6]])"
      ]
     },
     "execution_count": 8,
     "metadata": {},
     "output_type": "execute_result"
    }
   ],
   "source": [
    "A = np.array([\n",
    "    [1,2],\n",
    "    [3,4]\n",
    "])   # 2-D array\n",
    "print(A[0,1])                 \n",
    "a = np.array([1,2,3])\n",
    "b = np.array([4,5,6])\n",
    "A = np.array([a,b])  # what did this code do?\n",
    "A\n"
   ]
  },
  {
   "cell_type": "code",
   "execution_count": 38,
   "metadata": {
    "slideshow": {
     "slide_type": "slide"
    }
   },
   "outputs": [
    {
     "name": "stdout",
     "output_type": "stream",
     "text": [
      "2.0\n",
      "2.0\n",
      "3.5\n",
      "3.2\n",
      "5.0\n",
      "4.4\n",
      "6.5\n",
      "5.6\n",
      "8.0\n",
      "6.8\n"
     ]
    }
   ],
   "source": [
    "a = 2\n",
    "b = 8\n",
    "c = 5\n",
    "for d in range(5):\n",
    "    print(np.linspace(a,b,c)[d])           # 2 to 8 (inclusive) using 5 evenly spaced points\n",
    "    print(a+d*(b-a)/c)"
   ]
  },
  {
   "cell_type": "code",
   "execution_count": 10,
   "metadata": {
    "slideshow": {
     "slide_type": "slide"
    }
   },
   "outputs": [
    {
     "name": "stdout",
     "output_type": "stream",
     "text": [
      "[ 3.   6.3  9.6 12.9 16.2 19.5]\n"
     ]
    }
   ],
   "source": [
    "x = np.arange(3,21,3.3)         # 1-D array using arange\n",
    "print(x)                        # Like range, but can have non-integer step size"
   ]
  },
  {
   "cell_type": "code",
   "execution_count": 11,
   "metadata": {
    "slideshow": {
     "slide_type": "slide"
    }
   },
   "outputs": [
    {
     "data": {
      "text/plain": [
       "array([0., 0., 0., 0.])"
      ]
     },
     "execution_count": 11,
     "metadata": {},
     "output_type": "execute_result"
    }
   ],
   "source": [
    "np.zeros(4)                   # zeros is good for initializing"
   ]
  },
  {
   "cell_type": "code",
   "execution_count": 12,
   "metadata": {
    "slideshow": {
     "slide_type": "slide"
    }
   },
   "outputs": [
    {
     "data": {
      "text/plain": [
       "array([1., 1., 1., 1., 1., 1.])"
      ]
     },
     "execution_count": 12,
     "metadata": {},
     "output_type": "execute_result"
    }
   ],
   "source": [
    "np.ones(6)                    # ones is good too: like x = 5.0*np.ones(6)"
   ]
  },
  {
   "cell_type": "code",
   "execution_count": 13,
   "metadata": {
    "slideshow": {
     "slide_type": "slide"
    }
   },
   "outputs": [
    {
     "data": {
      "text/plain": [
       "array([0., 0., 0., 0.])"
      ]
     },
     "execution_count": 13,
     "metadata": {},
     "output_type": "execute_result"
    }
   ],
   "source": [
    "np.empty(4)                   # empty makes space to store things later, but initial values are random"
   ]
  },
  {
   "attachments": {
    "e7cb30b2-bcd9-48b8-b4ab-b7961fbe3e3a.png": {
     "image/png": "[encoded data removed]"
    }
   },
   "cell_type": "markdown",
   "metadata": {
    "slideshow": {
     "slide_type": "slide"
    }
   },
   "source": [
    "### Access elements\n",
    "* use square brackets with index number\n",
    "* array indexing **starts at zero**\n",
    "* for 2D arrays (matrix) ```x[i,j]``` is row ```i```, column ```j```\n",
    "* can access backwards\n",
    "    * ```x[-1]``` is the last element\n",
    "    * ```x[-2]``` is the second to the last element, etc.\n",
    "    * See the figure below. If we wrap the array into a circle. Then element 0 is at the top. We index by +1 in moving clockwise, and index by -1 in moving counter-clockwise.\n",
    "    \n",
    "![image.png](attachment:e7cb30b2-bcd9-48b8-b4ab-b7961fbe3e3a.png)"
   ]
  },
  {
   "cell_type": "code",
   "execution_count": 14,
   "metadata": {
    "slideshow": {
     "slide_type": "slide"
    }
   },
   "outputs": [
    {
     "name": "stdout",
     "output_type": "stream",
     "text": [
      "[ 3  6  9 12 15 18]\n"
     ]
    },
    {
     "data": {
      "text/plain": [
       "9"
      ]
     },
     "execution_count": 14,
     "metadata": {},
     "output_type": "execute_result"
    }
   ],
   "source": [
    "x = np.arange(3,21,3)               # x is         [3 6 9 12 15 18]\n",
    "print(x)\n",
    "x[2]                                # indicies are  0 1 2  3  4  5\n"
   ]
  },
  {
   "cell_type": "code",
   "execution_count": 15,
   "metadata": {
    "slideshow": {
     "slide_type": "fragment"
    }
   },
   "outputs": [
    {
     "name": "stdout",
     "output_type": "stream",
     "text": [
      "[ 3  6  9 12 15 18]\n"
     ]
    },
    {
     "data": {
      "text/plain": [
       "array([ 6, 18, 15])"
      ]
     },
     "execution_count": 15,
     "metadata": {},
     "output_type": "execute_result"
    }
   ],
   "source": [
    "print(x)\n",
    "x[[1,5,3]]                          # array composed of elements 1, 5, 3 of x\n",
    "                                    # indexing an array with another array\n",
    "i = np.array([1,5,4])\n",
    "x[i]"
   ]
  },
  {
   "cell_type": "code",
   "execution_count": 16,
   "metadata": {
    "slideshow": {
     "slide_type": "slide"
    }
   },
   "outputs": [
    {
     "name": "stdout",
     "output_type": "stream",
     "text": [
      "[[1 2 3]\n",
      " [4 5 6]]\n",
      "6\n"
     ]
    }
   ],
   "source": [
    "x = np.array([[1,2,3],[4,5,6]])     # 2D array\n",
    "print(x)\n",
    "print(x[1,2])         # value is 6"
   ]
  },
  {
   "cell_type": "markdown",
   "metadata": {
    "slideshow": {
     "slide_type": "slide"
    }
   },
   "source": [
    "### Array slices\n",
    "* Can access multiple elements using syntax: ```a[s:e]```\n",
    "    * ```s``` is the start (optional)\n",
    "    * ```e``` is the end (optional)\n",
    "    * (stops short of the end)"
   ]
  },
  {
   "cell_type": "code",
   "execution_count": 17,
   "metadata": {
    "slideshow": {
     "slide_type": "slide"
    }
   },
   "outputs": [
    {
     "name": "stdout",
     "output_type": "stream",
     "text": [
      "[ 0.   1.5  3.   4.5  6.   7.5  9.  10.5]\n",
      "[ 3.   4.5  6.   7.5  9.  10.5]\n",
      "[0.  1.5 3.  4.5 6.  7.5]\n",
      "[3.  4.5 6. ]\n"
     ]
    }
   ],
   "source": [
    "x = np.arange(0,11,1.5)       \n",
    "\n",
    "print(x[:])                        # get all elements\n",
    "print(x[2:])                       # get indices 2 to the end\n",
    "print(x[:-2])                      # get elements start to one before 2nd to last (stops short)\n",
    "print(x[2:5])                      # get indices 2 to 4 (stops short of 5)"
   ]
  },
  {
   "cell_type": "markdown",
   "metadata": {
    "slideshow": {
     "slide_type": "slide"
    }
   },
   "source": [
    "### Array properties\n",
    "\n",
    "* Size and shape"
   ]
  },
  {
   "cell_type": "code",
   "execution_count": 18,
   "metadata": {
    "slideshow": {
     "slide_type": "fragment"
    }
   },
   "outputs": [
    {
     "data": {
      "text/plain": [
       "(2, 4)"
      ]
     },
     "execution_count": 18,
     "metadata": {},
     "output_type": "execute_result"
    }
   ],
   "source": [
    "x = np.array([[1,2,3,4],[7,8,9,10]])\n",
    "\n",
    "np.shape(x)  # outputs number of rows, columns, etc."
   ]
  },
  {
   "cell_type": "code",
   "execution_count": 19,
   "metadata": {
    "slideshow": {
     "slide_type": "slide"
    }
   },
   "outputs": [
    {
     "data": {
      "text/plain": [
       "8"
      ]
     },
     "execution_count": 19,
     "metadata": {},
     "output_type": "execute_result"
    }
   ],
   "source": [
    "np.size(x)"
   ]
  },
  {
   "cell_type": "code",
   "execution_count": 20,
   "metadata": {
    "slideshow": {
     "slide_type": "fragment"
    }
   },
   "outputs": [
    {
     "data": {
      "text/plain": [
       "2"
      ]
     },
     "execution_count": 20,
     "metadata": {},
     "output_type": "execute_result"
    }
   ],
   "source": [
    "len(x)"
   ]
  },
  {
   "cell_type": "code",
   "execution_count": 21,
   "metadata": {
    "slideshow": {
     "slide_type": "fragment"
    }
   },
   "outputs": [
    {
     "data": {
      "text/plain": [
       "4"
      ]
     },
     "execution_count": 21,
     "metadata": {},
     "output_type": "execute_result"
    }
   ],
   "source": [
    "x = np.array([1,2,3,4])\n",
    "len(x)"
   ]
  },
  {
   "cell_type": "markdown",
   "metadata": {
    "slideshow": {
     "slide_type": "slide"
    }
   },
   "source": [
    "### Arithmetic and Linear Algebra"
   ]
  },
  {
   "cell_type": "code",
   "execution_count": 22,
   "metadata": {
    "slideshow": {
     "slide_type": "fragment"
    }
   },
   "outputs": [
    {
     "data": {
      "text/plain": [
       "array([0, 1, 2, 3, 4, 5, 6, 7, 8])"
      ]
     },
     "execution_count": 22,
     "metadata": {},
     "output_type": "execute_result"
    }
   ],
   "source": [
    "a = np.arange(9)\n",
    "a"
   ]
  },
  {
   "cell_type": "code",
   "execution_count": 23,
   "metadata": {
    "slideshow": {
     "slide_type": "slide"
    }
   },
   "outputs": [
    {
     "name": "stdout",
     "output_type": "stream",
     "text": [
      "[0.  0.1 0.2 0.3 0.4 0.5 0.6 0.7 0.8]\n",
      "[0.  0.1 0.2 0.3 0.4 0.5 0.6 0.7 0.8]\n"
     ]
    }
   ],
   "source": [
    "#------- The most efficient way \n",
    "#        (arithmetic operations are taken element-by-element)\n",
    "b = 0.1 * a\n",
    "print(b)\n",
    "\n",
    "#------- A clunky way\n",
    "for i in range(len(a)):\n",
    "    b[i] = 0.1*a[i]\n",
    "print(b)"
   ]
  },
  {
   "cell_type": "code",
   "execution_count": 24,
   "metadata": {
    "slideshow": {
     "slide_type": "slide"
    }
   },
   "outputs": [
    {
     "data": {
      "text/plain": [
       "array([0. , 1.1, 2.2, 3.3, 4.4, 5.5, 6.6, 7.7, 8.8])"
      ]
     },
     "execution_count": 24,
     "metadata": {},
     "output_type": "execute_result"
    }
   ],
   "source": [
    "a+b"
   ]
  },
  {
   "cell_type": "code",
   "execution_count": 25,
   "metadata": {
    "slideshow": {
     "slide_type": "fragment"
    }
   },
   "outputs": [
    {
     "data": {
      "text/plain": [
       "array([ 0,  1,  4,  9, 16, 25, 36, 49, 64])"
      ]
     },
     "execution_count": 25,
     "metadata": {},
     "output_type": "execute_result"
    }
   ],
   "source": [
    "a**2"
   ]
  },
  {
   "cell_type": "markdown",
   "metadata": {
    "slideshow": {
     "slide_type": "slide"
    }
   },
   "source": [
    "#### Solve an $\\mathbf{Ax}=\\mathbf{b}$ system for $\\mathbf{x}$"
   ]
  },
  {
   "cell_type": "code",
   "execution_count": 26,
   "metadata": {
    "slideshow": {
     "slide_type": "fragment"
    }
   },
   "outputs": [
    {
     "name": "stdout",
     "output_type": "stream",
     "text": [
      "x =  [0. 1.]\n",
      "Ax =  [1.  0.5]\n",
      "b  =  [1.  0.5]\n"
     ]
    }
   ],
   "source": [
    "A = np.array([[1,1],[-1,0.5]]) # the inner [] are for columns, and the outer [] are for rows.\n",
    "b = np.array([1,0.5])\n",
    "x = np.linalg.solve(A,b)                   # solve for column vector x\n",
    "print(\"x = \",x)                                   \n",
    "print(\"Ax = \", np.dot(A,x))                 # verify that A*x = b\n",
    "print(\"b  = \",b)"
   ]
  },
  {
   "cell_type": "markdown",
   "metadata": {
    "slideshow": {
     "slide_type": "slide"
    }
   },
   "source": [
    "### BE CAREFUL about assignment\n",
    "\n",
    "The first example below is a *dangerous* way to make a copy of an array because it doesn't actually make a copy! The second example is better"
   ]
  },
  {
   "cell_type": "code",
   "execution_count": 27,
   "metadata": {
    "slideshow": {
     "slide_type": "slide"
    }
   },
   "outputs": [
    {
     "name": "stdout",
     "output_type": "stream",
     "text": [
      "[ 1  2  3 44]\n",
      "[ 1  2  3 44]\n"
     ]
    }
   ],
   "source": [
    "x = np.array([1,2,3,4]) \n",
    "y = x                    # note, y is now just a reference to x.\n",
    "y[3] = 44                # if we change an element of y, it will change in x too!\n",
    "print(x)                 # this is not usually what we want\n",
    "print(y)\n",
    "\n",
    "\n"
   ]
  },
  {
   "cell_type": "code",
   "execution_count": 28,
   "metadata": {
    "slideshow": {
     "slide_type": "fragment"
    }
   },
   "outputs": [
    {
     "name": "stdout",
     "output_type": "stream",
     "text": [
      "[1 2 3 4]\n",
      "[ 1  2  3 44]\n"
     ]
    }
   ],
   "source": [
    "x = np.array([1,2,3,4])\n",
    "y = x.copy()                 # now x and y are two different objects\n",
    "y[3] = 44                    #   could also do y = np.array(x)\n",
    "print(x)\n",
    "print(y)\n"
   ]
  },
  {
   "cell_type": "markdown",
   "metadata": {
    "slideshow": {
     "slide_type": "slide"
    }
   },
   "source": [
    "## Basic Plots\n",
    "\n",
    "Use this on your homework to make a plots of arrays\n",
    "\n",
    "### Example: \n",
    "plot $x$ vs. $\\exp \\left( -\\frac{x}{5} \\right)\\sin(x)$  \n",
    "and  $x$ vs. $\\exp \\left( -\\frac{x}{5} \\right)\\cos(x)  $  \n",
    "where $x$ is 100 points uniformly distributed in the interval 0 to 20."
   ]
  },
  {
   "cell_type": "code",
   "execution_count": 29,
   "metadata": {
    "slideshow": {
     "slide_type": "fragment"
    }
   },
   "outputs": [
    {
     "data": {
      "image/png": "[encoded data removed]",
      "text/plain": [
       "<Figure size 432x288 with 1 Axes>"
      ]
     },
     "metadata": {
      "needs_background": "light"
     },
     "output_type": "display_data"
    }
   ],
   "source": [
    "import numpy as np\n",
    "import matplotlib.pyplot as plt # you need this madule to make plots. if this causes an error then you need to conda install matplotlib\n",
    "# this is a \"magic function\" in iPython that enables it to display plots directly in your Notebook\n",
    "%matplotlib inline\n",
    "\n",
    "x = np.linspace(0,20,100)  # array of x values\n",
    "y1 = np.exp(-x/5)*np.sin(x)  # array of y1 values\n",
    "y2 = np.exp(-x/5)*np.cos(x)  # array of y2 values\n",
    "\n",
    "plt.plot(x,y1)\n",
    "plt.plot(x,y2);              # plot x vs. y. Use of final semicolon cleans up the displayed result"
   ]
  },
  {
   "cell_type": "markdown",
   "metadata": {
    "slideshow": {
     "slide_type": "slide"
    }
   },
   "source": []
  },
  {
   "cell_type": "markdown",
   "metadata": {},
   "source": [
    "### Example problem\n",
    "\n",
    "* You have an array of $x$ points $x=0.0, 0.1, \\ldots, 50$.\n",
    "* Create $x$\n",
    "* Create $y=\\sin(x)$\n",
    "* At interior points, use a central difference approximation to find the derivative \n",
    "$$\\left(\\frac{dy}{dx}\\right)_i \\approx \\frac{y_{i+1}-y_{i-1}}{2\\Delta x},$$\n",
    "where $\\Delta x = x_1-x_0$.\n",
    "* At edge point use a one-sided difference approximation,\n",
    "$$\\left(\\frac{dy}{dx}\\right)_0 \\approx \\frac{y_{1}-y_{0}}{\\Delta x},$$\n",
    "$$\\left(\\frac{dy}{dx}\\right)_{n-1} \\approx \\frac{y_{n-1}-y_{n-2}}{\\Delta x}.$$\n",
    "* Plot $x$ versus $y$, and $x$ versus $y^{\\prime}$, and $x$ versus $\\cos(x)$."
   ]
  },
  {
   "cell_type": "code",
   "execution_count": 30,
   "metadata": {
    "slideshow": {
     "slide_type": "slide"
    }
   },
   "outputs": [
    {
     "data": {
      "image/png": "[encoded data removed]",
      "text/plain": [
       "<Figure size 432x288 with 1 Axes>"
      ]
     },
     "metadata": {
      "needs_background": "light"
     },
     "output_type": "display_data"
    }
   ],
   "source": [
    "# y: o  (*  *  *  *  *  *)  o \n",
    "#     0   1  2  3  4  5  6   7\n",
    "#                       n-2 n-1\n",
    "x = np.arange(0,50.1, 0.1); y = np.sin(x)\n",
    "dydx = np.zeros(len(y))\n",
    "Δx = x[1]-x[0]; n = len(dydx)\n",
    "dydx[0] = (y[1] - y[0])/Δx\n",
    "dydx[n-1] = (y[n-1] - y[n-2])/Δx\n",
    "i = np.arange(1,n-1)\n",
    "dydx[i] = (y[i+1] - y[i-1])/2/Δx\n",
    "plt.plot(x, dydx, x, np.cos(x));"
   ]
  },
  {
   "cell_type": "code",
   "execution_count": null,
   "metadata": {},
   "outputs": [],
   "source": []
  }
 ],
 "metadata": {
  "celltoolbar": "Slideshow",
  "kernelspec": {
   "display_name": "Python 3 (ipykernel)",
   "language": "python",
   "name": "python3"
  },
  "language_info": {
   "codemirror_mode": {
    "name": "ipython",
    "version": 3
   },
   "file_extension": ".py",
   "mimetype": "text/x-python",
   "name": "python",
   "nbconvert_exporter": "python",
   "pygments_lexer": "ipython3",
   "version": "3.8.10"
  },
  "varInspector": {
   "cols": {
    "lenName": 16,
    "lenType": 16,
    "lenVar": 40
   },
   "kernels_config": {
    "python": {
     "delete_cmd_postfix": "",
     "delete_cmd_prefix": "del ",
     "library": "var_list.py",
     "varRefreshCmd": "print(var_dic_list())"
    },
    "r": {
     "delete_cmd_postfix": ") ",
     "delete_cmd_prefix": "rm(",
     "library": "var_list.r",
     "varRefreshCmd": "cat(var_dic_list()) "
    }
   },
   "types_to_exclude": [
    "module",
    "function",
    "builtin_function_or_method",
    "instance",
    "_Feature"
   ],
   "window_display": false
  }
 },
 "nbformat": 4,
 "nbformat_minor": 4
}
