{
 "cells": [
  {
   "cell_type": "markdown",
   "metadata": {
    "slideshow": {
     "slide_type": "slide"
    }
   },
   "source": [
    "# Loops"
   ]
  },
  {
   "cell_type": "markdown",
   "metadata": {},
   "source": [
    "## 1. Debugging practice\n",
    "\n",
    "😲 You found some code on the interwebs, and it works (run the code below and see!)  \n",
    "🤮 Except it generates `nan` (stands for \"not a number\") if the user inputs values that are physically impossible  \n",
    "👌 Modify the code so it can: intercept a situation like this, warn the user, and not attempt to compute a solution  \n",
    "✌️ Hint: we just learned about `if` statements"
   ]
  },
  {
   "cell_type": "code",
   "execution_count": 1,
   "metadata": {},
   "outputs": [
    {
     "name": "stdout",
     "output_type": "stream",
     "text": [
      "triangle with sides 3 4 5 has area 6.0\n",
      "triangle with sides 3 4 2.5 has area 3.7453095666446585\n",
      "triangle with sides 3 4 1 has area 0.0\n",
      "triangle with sides 3 4 0.5 is undefined\n"
     ]
    }
   ],
   "source": [
    "from numpy import sqrt\n",
    "\n",
    "# Function to print out the the area of a triangle of side lengths a,b,c using Heron's formula\n",
    "def triangleA(a,b,c):\n",
    "    s = (a+b+c)/2\n",
    "    if s < max(a,b,c):\n",
    "        print(\"triangle with sides\", a, b, c, \"is undefined\")\n",
    "        return\n",
    "    A = sqrt( s*(s-a)*(s-b)*(s-c) )\n",
    "    print(\"triangle with sides\", a, b, c, \"has area\", A)\n",
    "    # Note this function intentionally does not return a value; the above print statement serves this purpose\n",
    "\n",
    "# Modify the function so it can warn the user when input values won't work. \n",
    "# It should not generate a Python error for any of the cases below.\n",
    "triangleA(3,4,5)\n",
    "triangleA(3,4,2.5)\n",
    "triangleA(3,4,1)\n",
    "triangleA(3,4,0.5)"
   ]
  },
  {
   "cell_type": "markdown",
   "metadata": {
    "slideshow": {
     "slide_type": "slide"
    }
   },
   "source": [
    "## 2. `for` loops\n",
    "\n",
    "* Computers **<font color=red>LOVE</font>** to do repetitive work. Loops are how we efficiently program this. \n",
    "* A loop is code that is repeatedly executed, but it needs a way to know when to stop; otherwise you would get the dreaded **infinite loop**\n",
    "* The `for` loop in Python iterates over a sequence of values that are stored in a local _index variable_ that takes a new value each time the loop is executed. The looping will stop when the index gets to the end of the sequence.\n",
    "* _range_ is a built-in function that can generate a _set_ of integer values the index will take; do one of the following:\n",
    "```python\n",
    "range(stop)\n",
    "range(start, stop[, step])\n",
    "```\n",
    "where `start` defaults to 0 and and `step` defaults to 1\n",
    "\n",
    "### Examples of `for` loops\n",
    "Run the following five cells and based on the output generate a hypothesis for how each `for` loop is being interpreted. Change the code and see if your hypothesis is true."
   ]
  },
  {
   "cell_type": "code",
   "execution_count": 2,
   "metadata": {
    "slideshow": {
     "slide_type": "fragment"
    }
   },
   "outputs": [
    {
     "name": "stdout",
     "output_type": "stream",
     "text": [
      "0\n",
      "1\n",
      "2\n",
      "3\n",
      "4\n"
     ]
    }
   ],
   "source": [
    "for i in range(5): # Can you explain the beginning and ending values of i?\n",
    "    print(i)"
   ]
  },
  {
   "cell_type": "code",
   "execution_count": 3,
   "metadata": {},
   "outputs": [
    {
     "name": "stdout",
     "output_type": "stream",
     "text": [
      "3\n",
      "4\n",
      "5\n",
      "6\n",
      "7\n"
     ]
    }
   ],
   "source": [
    "for i in range(3,8): # Can you explain the beginning and ending values of i?\n",
    "    print(i)"
   ]
  },
  {
   "cell_type": "code",
   "execution_count": 4,
   "metadata": {},
   "outputs": [
    {
     "name": "stdout",
     "output_type": "stream",
     "text": [
      "2\n",
      "5\n",
      "8\n"
     ]
    }
   ],
   "source": [
    "for i in range(2,10,3):  # Can you explain the beginning and ending values of i?\n",
    "    print(i)"
   ]
  },
  {
   "cell_type": "code",
   "execution_count": 16,
   "metadata": {},
   "outputs": [
    {
     "name": "stdout",
     "output_type": "stream",
     "text": [
      "B: 66\n",
      "Y: 89\n",
      "U: 85\n"
     ]
    }
   ],
   "source": [
    "for x in \"BYU\":\n",
    "    print(x+\":\", ord(x))"
   ]
  },
  {
   "cell_type": "code",
   "execution_count": 6,
   "metadata": {},
   "outputs": [
    {
     "name": "stdout",
     "output_type": "stream",
     "text": [
      "8 True\n",
      "8 Dat\n"
     ]
    }
   ],
   "source": [
    "for x in (\"True\", \"Dat\"):\n",
    "    print(i, x)"
   ]
  },
  {
   "cell_type": "markdown",
   "metadata": {},
   "source": [
    "## 3. Code inside loops\n",
    "* We can put **any** needed code inside a `for` loop: variables, functions, expressions, even anther loop.\n",
    "* We can put variables outside of the loop that are available inside of the loop and can get modified by the loop if needed."
   ]
  },
  {
   "cell_type": "markdown",
   "metadata": {},
   "source": [
    "### Example\n",
    "\n",
    "For the ideal gas law, pressure is given by $P = nRT/V$ where\n",
    "* $n=1000~\\mathrm{mol}$\n",
    "* $R=8.31446~\\mathrm{Pa~m^3/(mol~K)}$\n",
    "* $T=300~\\mathrm{K}$\n",
    "\n",
    "Use a loop to find and print the values of $P$ for multiple $V$ values distributed geometrically/logarithmically    "
   ]
  },
  {
   "cell_type": "code",
   "execution_count": 18,
   "metadata": {},
   "outputs": [
    {
     "name": "stdout",
     "output_type": "stream",
     "text": [
      "V = 0.4 m^3    P = 6235845 Pa\n",
      "V = 0.8 m^3    P = 3117923 Pa\n",
      "V = 1.6 m^3    P = 1558961 Pa\n",
      "V = 3.2 m^3    P = 779481 Pa\n",
      "V = 6.4 m^3    P = 389740 Pa\n",
      "V = 12.8 m^3    P = 194870 Pa\n",
      "V = 25.6 m^3    P = 97435 Pa\n",
      "V = 51.2 m^3    P = 48718 Pa\n"
     ]
    }
   ],
   "source": [
    "n = 1000      # moles\n",
    "R = 8.31446   # gas constant in J/mol-K\n",
    "T = 300       # temperature in K\n",
    "\n",
    "for i in range(8):  # loop over number of state points\n",
    "    V = 0.4 * 2**i          # scale V logarithmically with index i\n",
    "    P = n*R*T/V        # compute pressure\n",
    "    print(\"V =\", round(V,1), \"m^3    P =\", round(P), \"Pa\")"
   ]
  },
  {
   "cell_type": "markdown",
   "metadata": {},
   "source": [
    "### Example\n",
    "\n",
    "Make a function to compute the factorial of n, using a loop rather than a recursion like we did in Lesson 9"
   ]
  },
  {
   "cell_type": "code",
   "execution_count": 47,
   "metadata": {},
   "outputs": [
    {
     "name": "stdout",
     "output_type": "stream",
     "text": [
      "factorial of 20 is 2.4329020081766397x10^18\n"
     ]
    }
   ],
   "source": [
    "def sci_notation(input):\n",
    "    i = 0\n",
    "    while(input > 10):\n",
    "        input /= 10\n",
    "        i += 1\n",
    "    return str(input)+\"x10^\"+str(i)\n",
    "\n",
    "#function to compute the factorial of any whole number (non-negative integer)\n",
    "def factorial(n):\n",
    "    fac = 1               # start with the factorial for zero; this is outside the loop\n",
    "    for i in range(n):    # to make a factorial we form a product with n terms; if n\n",
    "        fac = fac*(i+1)   # multiply product by new terms until done\n",
    "    return fac\n",
    "\n",
    "n=20\n",
    "print(\"factorial of\", n, \"is\", sci_notation(factorial(n)))"
   ]
  },
  {
   "cell_type": "markdown",
   "metadata": {},
   "source": [
    "### Exercise\n",
    "\n",
    "* Write code below that will compute the following function: $S(N) = \\sum_{n=1}^{N}n^{-1}$\n",
    "* Before you start writing code, think through the problem\n",
    "    * How would you solve the problem with a pencil and paper? Break the problem into smaller steps\n",
    "    * What instructions does the computer need from you? Functions? Conditionals? Loops?\n",
    "    * What variables are needed to store information?\n",
    "    \n",
    "* Work with a neighbor to help each other\n",
    "* When you get done, test that your function is working for a few values of $N$, small and large\n",
    "* If you have extra time, make sure your code is well-documented (this is required on homework and exams)"
   ]
  },
  {
   "cell_type": "code",
   "execution_count": 11,
   "metadata": {},
   "outputs": [
    {
     "name": "stdout",
     "output_type": "stream",
     "text": [
      "0: 0\n",
      "1: 1.0\n",
      "2: 1.5\n",
      "3: 1.8333333333333333\n",
      "4: 2.083333333333333\n",
      "5: 2.283333333333333\n",
      "6: 2.4499999999999997\n",
      "7: 2.5928571428571425\n",
      "8: 2.7178571428571425\n",
      "9: 2.8289682539682537\n",
      "10: 2.9289682539682538\n",
      "11: 3.0198773448773446\n",
      "12: 3.103210678210678\n",
      "13: 3.180133755133755\n",
      "14: 3.251562326562327\n",
      "15: 3.3182289932289937\n",
      "16: 3.3807289932289937\n",
      "17: 3.439552522640758\n",
      "18: 3.4951080781963135\n",
      "19: 3.547739657143682\n",
      "0: 0\n",
      "1: 1.0\n",
      "2: 1.5\n",
      "3: 1.8333333333333333\n",
      "4: 2.083333333333333\n",
      "5: 2.283333333333333\n",
      "6: 2.4499999999999997\n",
      "7: 2.5928571428571425\n",
      "8: 2.7178571428571425\n",
      "9: 2.8289682539682537\n",
      "10: 2.9289682539682538\n",
      "11: 3.0198773448773446\n",
      "12: 3.103210678210678\n",
      "13: 3.180133755133755\n",
      "14: 3.251562326562327\n",
      "15: 3.3182289932289937\n",
      "16: 3.3807289932289937\n",
      "17: 3.439552522640758\n",
      "18: 3.4951080781963135\n",
      "19: 3.547739657143682\n",
      "20: 3.597739657143682\n"
     ]
    }
   ],
   "source": [
    "def S(N):\n",
    "    s = 0\n",
    "    for x in range(N):\n",
    "        s += (x+1)**-1\n",
    "    return s\n",
    "\n",
    "def complex_range(start, condition, increment):\n",
    "    if(condition(start) == 0): return ()\n",
    "    result = (start,)\n",
    "    i = increment(start)\n",
    "    while(condition(i)):\n",
    "        result = result + (i,)\n",
    "        i = increment(i)\n",
    "    return result\n",
    "\n",
    "for i in range(0,20,1):\n",
    "    print(str(i)+\":\", S(i))\n",
    "S(10)\n",
    "\n",
    "for i in complex_range(0, lambda x: x<=20, lambda x: x + 1):\n",
    "    print(str(i)+\":\", S(i))\n",
    "    \n",
    "# for(i = 0, i <= 20, i = i + 1){\n",
    "#   print(str(i)+\":\", S(i))\n",
    "#}"
   ]
  },
  {
   "cell_type": "markdown",
   "metadata": {},
   "source": [
    "### Nested loops example\n",
    "\n",
    "* The code below has a loop within a loop. Before running it, think of what you expect to see.\n",
    "* Now run it and compare. Did you get what you thought you would?"
   ]
  },
  {
   "cell_type": "code",
   "execution_count": 9,
   "metadata": {},
   "outputs": [
    {
     "name": "stdout",
     "output_type": "stream",
     "text": [
      "i = 0\n",
      "   j = 0\n",
      "   j = 1\n",
      "   j = 2\n",
      "i = 1\n",
      "   j = 0\n",
      "   j = 1\n",
      "   j = 2\n",
      "i = 2\n",
      "   j = 0\n",
      "   j = 1\n",
      "   j = 2\n"
     ]
    }
   ],
   "source": [
    "for i in range(3):\n",
    "    print(\"i =\", i)\n",
    "    for j in range(3):\n",
    "        print(\"   j =\", j)"
   ]
  },
  {
   "cell_type": "markdown",
   "metadata": {},
   "source": [
    "* Note, for each iteration of the *outer* loop `i`, the whole *inner* loop `j` is computed.\n",
    "* Can you think of an application for a nested loop?"
   ]
  },
  {
   "cell_type": "markdown",
   "metadata": {},
   "source": [
    "## 4. Ending loops early\n",
    "\n",
    "Sometimes you need to end a loop early, because its purpose has been accomplished. Use an `if` statement that executes either \n",
    "\n",
    "* `break` to end the loop immediately\n",
    "* `continue` to end the current iteration immediately but to continue the loop at the next iteration\n",
    "\n",
    "One application of this is a numerical problem where you proceed with a sum or iteration until the error (change from one step to the next) gets small enough and then you stop. \n",
    "\n",
    "### `break` example"
   ]
  },
  {
   "cell_type": "code",
   "execution_count": 43,
   "metadata": {},
   "outputs": [
    {
     "name": "stdout",
     "output_type": "stream",
     "text": [
      "iterate on the golden ratio\n",
      "2.0\n",
      "1.5\n",
      "1.6666667\n",
      "1.6\n",
      "1.625\n",
      "1.6153846\n",
      "1.6190476\n",
      "1.6176471\n",
      "1.6181818\n",
      "1.6179775\n",
      "1.6180556\n",
      "1.6180258\n",
      "1.6180371\n",
      "1.6180328\n",
      "1.6180344\n",
      "1.6180338\n",
      "1.6180341\n",
      "1.618034\n",
      "1.618034\n",
      "1.618034\n",
      "1.618034\n",
      "1.618034\n",
      "1.618034\n",
      "1.618034\n",
      "1.618034\n",
      "1.618034\n",
      "the exact answer is 1.618033988749895\n"
     ]
    }
   ],
   "source": [
    "# Numerically calculate the golden ratio to 6 decimals\n",
    "# The golden ratio is defined by φ = 1 + 1/φ\n",
    "\n",
    "ϵ = 1E-10       # the allowable error in the solution\n",
    "i_max = 1000   # maximum number of iterations\n",
    " \n",
    "print(\"iterate on the golden ratio\")\n",
    "ϕ_old = 1                 # initial guess for iteration\n",
    "for i in range(i_max):    # loop up to i_max times\n",
    "   ϕ_new = 1 + 1/ϕ_old    # find new value\n",
    "   Δϕ = ϕ_new - ϕ_old     # how much did solution change?\n",
    "   print(round(ϕ_new,7))  # output new value to 7 decimals\n",
    "   ϕ_old = ϕ_new          # the new value will become next old value\n",
    "   if abs(Δϕ) < ϵ:        # check if solution error is small enough\n",
    "      break               # if so, end the loop completely\n",
    "\n",
    "print(\"the exact answer is\", (1+5**0.5)/2 )"
   ]
  },
  {
   "cell_type": "markdown",
   "metadata": {},
   "source": [
    "## 5. `while` loops\n",
    "\n",
    "Besides a `for` loop there is another type of loop. A `while` loop iterates until some _boolean test_ generates `True`"
   ]
  },
  {
   "cell_type": "code",
   "execution_count": 11,
   "metadata": {},
   "outputs": [
    {
     "name": "stdout",
     "output_type": "stream",
     "text": [
      "3\n",
      "9\n",
      "27\n",
      "81\n",
      "243\n"
     ]
    }
   ],
   "source": [
    "b = 1\n",
    "while b < 100:\n",
    "    b = b * 3\n",
    "    print(b)   # explain the output of this code"
   ]
  },
  {
   "cell_type": "code",
   "execution_count": null,
   "metadata": {},
   "outputs": [],
   "source": []
  }
 ],
 "metadata": {
  "celltoolbar": "Slideshow",
  "kernelspec": {
   "display_name": "Python 3 (ipykernel)",
   "language": "python",
   "name": "python3"
  },
  "language_info": {
   "codemirror_mode": {
    "name": "ipython",
    "version": 3
   },
   "file_extension": ".py",
   "mimetype": "text/x-python",
   "name": "python",
   "nbconvert_exporter": "python",
   "pygments_lexer": "ipython3",
   "version": "3.8.10"
  },
  "varInspector": {
   "cols": {
    "lenName": 16,
    "lenType": 16,
    "lenVar": 40
   },
   "kernels_config": {
    "python": {
     "delete_cmd_postfix": "",
     "delete_cmd_prefix": "del ",
     "library": "var_list.py",
     "varRefreshCmd": "print(var_dic_list())"
    },
    "r": {
     "delete_cmd_postfix": ") ",
     "delete_cmd_prefix": "rm(",
     "library": "var_list.r",
     "varRefreshCmd": "cat(var_dic_list()) "
    }
   },
   "types_to_exclude": [
    "module",
    "function",
    "builtin_function_or_method",
    "instance",
    "_Feature"
   ],
   "window_display": false
  }
 },
 "nbformat": 4,
 "nbformat_minor": 4
}
