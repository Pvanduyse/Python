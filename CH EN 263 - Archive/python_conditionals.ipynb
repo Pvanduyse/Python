{
 "cells": [
  {
   "cell_type": "markdown",
   "metadata": {
    "slideshow": {
     "slide_type": "fragment"
    }
   },
   "source": [
    "# Python Conditionals\n",
    "\n",
    "What makes a computer a computer is the ability to choose different courses of action based on inputs. The foundations of that are logic-based expressions and variables."
   ]
  },
  {
   "cell_type": "markdown",
   "metadata": {},
   "source": [
    "## 1. Debugging practice\n",
    "\n",
    "Your BFF wrote the following code but it won't run 😭  \n",
    "Fix it 👍"
   ]
  },
  {
   "cell_type": "code",
   "execution_count": 2,
   "metadata": {},
   "outputs": [
    {
     "ename": "NameError",
     "evalue": "name 'sqrt' is not defined",
     "output_type": "error",
     "traceback": [
      "\u001b[0;31m---------------------------------------------------------------------------\u001b[0m",
      "\u001b[0;31mNameError\u001b[0m                                 Traceback (most recent call last)",
      "\u001b[0;32m/tmp/ipykernel_183/3530599919.py\u001b[0m in \u001b[0;36m<module>\u001b[0;34m\u001b[0m\n\u001b[1;32m      7\u001b[0m \u001b[0;34m\u001b[0m\u001b[0m\n\u001b[1;32m      8\u001b[0m \u001b[0;31m# Test the function\u001b[0m\u001b[0;34m\u001b[0m\u001b[0;34m\u001b[0m\u001b[0;34m\u001b[0m\u001b[0m\n\u001b[0;32m----> 9\u001b[0;31m \u001b[0mpentagonA\u001b[0m\u001b[0;34m(\u001b[0m\u001b[0;36m3\u001b[0m\u001b[0;34m)\u001b[0m\u001b[0;34m\u001b[0m\u001b[0;34m\u001b[0m\u001b[0m\n\u001b[0m",
      "\u001b[0;32m/tmp/ipykernel_183/3530599919.py\u001b[0m in \u001b[0;36mpentagonA\u001b[0;34m(a)\u001b[0m\n\u001b[1;32m      3\u001b[0m \u001b[0;31m# Function to calculate the area of a regular pentagon of side length a\u001b[0m\u001b[0;34m\u001b[0m\u001b[0;34m\u001b[0m\u001b[0;34m\u001b[0m\u001b[0m\n\u001b[1;32m      4\u001b[0m \u001b[0;32mdef\u001b[0m \u001b[0mpentagonA\u001b[0m\u001b[0;34m(\u001b[0m\u001b[0ma\u001b[0m\u001b[0;34m)\u001b[0m\u001b[0;34m:\u001b[0m\u001b[0;34m\u001b[0m\u001b[0;34m\u001b[0m\u001b[0m\n\u001b[0;32m----> 5\u001b[0;31m     \u001b[0marea\u001b[0m \u001b[0;34m=\u001b[0m \u001b[0ma\u001b[0m\u001b[0;34m^\u001b[0m\u001b[0;36m2\u001b[0m \u001b[0;34m/\u001b[0m \u001b[0;36m4\u001b[0m \u001b[0;34m*\u001b[0m \u001b[0mnp\u001b[0m\u001b[0;34m.\u001b[0m\u001b[0msqrt\u001b[0m\u001b[0;34m(\u001b[0m\u001b[0;36m5\u001b[0m\u001b[0;34m*\u001b[0m\u001b[0;34m(\u001b[0m\u001b[0;36m5\u001b[0m\u001b[0;34m+\u001b[0m\u001b[0;36m2\u001b[0m\u001b[0;34m*\u001b[0m\u001b[0msqrt\u001b[0m\u001b[0;34m(\u001b[0m\u001b[0;36m5\u001b[0m\u001b[0;34m)\u001b[0m\u001b[0;34m)\u001b[0m\u001b[0;34m)\u001b[0m\u001b[0;34m\u001b[0m\u001b[0;34m\u001b[0m\u001b[0m\n\u001b[0m\u001b[1;32m      6\u001b[0m     \u001b[0;32mreturn\u001b[0m \u001b[0mArea\u001b[0m\u001b[0;34m\u001b[0m\u001b[0;34m\u001b[0m\u001b[0m\n\u001b[1;32m      7\u001b[0m \u001b[0;34m\u001b[0m\u001b[0m\n",
      "\u001b[0;31mNameError\u001b[0m: name 'sqrt' is not defined"
     ]
    }
   ],
   "source": [
    "import numpy as np\n",
    "\n",
    "# Function to calculate the area of a regular pentagon of side length a\n",
    "def pentagonA(a):\n",
    "    area = a^2 / 4 * np.sqrt(5*(5+2*sqrt(5)))\n",
    "    return Area\n",
    "\n",
    "# Test the function\n",
    "pentagonA(3)"
   ]
  },
  {
   "cell_type": "markdown",
   "metadata": {},
   "source": [
    "## 2. Types of data and variables\n",
    "\n",
    "* All programming languages have different _types_ of data and variables. Python dynamically assigns the type of a variable based on what value you store in it. \n",
    "* _Boolean_ is a type of data or variable that takes a value of either `True` or `False`. \n",
    "* Functions are designed for certain data types; if you use the wrong type it will try to _coerce_ the data to the right type."
   ]
  },
  {
   "cell_type": "code",
   "execution_count": null,
   "metadata": {},
   "outputs": [],
   "source": [
    "# Code to declare some variables of different types and see what they look like and do\n",
    "import numpy as np\n",
    "\n",
    "str_list = \"All types are welcome at BYU\"\n",
    "age = 21\n",
    "ϵ = 1.3e-8     # 1.3e-8 is computer shorthand for 1.3 * 10**(-8)\n",
    "temple_rec = True\n",
    "Z = 3j+10\n",
    "my_list = [\"A\", 3]\n",
    "my_tuple = (2, True)\n",
    "\n",
    "print(\"The type of str_list is\", type(str_list), \"with value\", str_list)\n",
    "print(\"The type of age is\", type(age), \"with value\", age)\n",
    "print(\"The type of ϵ is\", type(ϵ),\"with value\", ϵ)\n",
    "print(\"The type of temple_rec is\", type(temple_rec),\"with value\", temple_rec)\n",
    "print(\"The type of Z is\", type(Z), \"with value\",Z)\n",
    "print(\"The type of my_list is\", type(my_list), \"with values\", my_list)\n",
    "print(\"The type of my_tuple is\", type(my_tuple), \"with values\", my_tuple)\n",
    "\n",
    "print()\n",
    "print(\"cosine of True is\", np.cos(True))\n",
    "print(\"cosine of False is\", np.cos(False))\n",
    "Z = False\n",
    "print(\"The type of Z is now\", type(Z), \"with value\", Z)"
   ]
  },
  {
   "cell_type": "markdown",
   "metadata": {
    "slideshow": {
     "slide_type": "fragment"
    }
   },
   "source": [
    "## 3. `if` statements\n",
    "\n",
    "Conditionals are like riding a bus--one must decide which stop to get off the bus. As the computer gets to a bus stop it performs a logical test you gave it.  \n",
    "If the test leads to `True` it gets off the bus. If it leads to `False` it continues on the bus to the next stop.  \n",
    "\n",
    "Conditional statements have the following form. \n",
    "\n",
    "```python\n",
    "if boolean1:     # 'if' is required\n",
    "    #code to execute if boolean1 evaluates as True\n",
    "elif boolean2:   #short for 'else if'; it is optional; or can do more than one\n",
    "    #code to execute if all prior boolean tests are False and boolean2 is True\n",
    "else:            #'else' is optional\n",
    "    #code to execute if all prior boolean tests are False\n",
    "#once you stop indenting, the conditional is ended\n",
    "```\n",
    "\n",
    "A **boolean** test is a _logical_ expression that evaluates as `True` or `False`\n",
    "   * comparison operators between numbers (or even text strings):  `==`, `!=`, `<`, `<=`, `>`, `>=`\n",
    "   * boolean expressions can be joined with `and`, `or` or modified with `not` "
   ]
  },
  {
   "cell_type": "markdown",
   "metadata": {},
   "source": [
    "### These six examples teach principles you need to know about `if` statements\n",
    "* Try to understand each line of code\n",
    "* Change the input values and try to predict what the code will do before executing it"
   ]
  },
  {
   "cell_type": "code",
   "execution_count": null,
   "metadata": {
    "slideshow": {
     "slide_type": "fragment"
    }
   },
   "outputs": [],
   "source": [
    "#Example 1 - if statement\n",
    "Mountain = \"Timpanogos\"\n",
    "if Mountain != \"Everest\":                  # note the required \":\"\n",
    "    print(\"hiking\",Mountain, \"is a good idea\")  \n",
    "\n",
    "# do more code here (no indent means if statement is ended)"
   ]
  },
  {
   "cell_type": "code",
   "execution_count": null,
   "metadata": {
    "slideshow": {
     "slide_type": "fragment"
    }
   },
   "outputs": [],
   "source": [
    "#Example 2 - if/else structure inside a function\n",
    "def swipe_decider(age,rock_climber) :               # define the function\n",
    "    if age <= 19 or age > 30 or not rock_climber:   # note the use of 'or' and 'not' in the boolean test\n",
    "        return \"swipe down\"                         # function return for branch 1\n",
    "    else :                                    \n",
    "        return \"swipe up\"                           # function return for branch 2\n",
    "\n",
    "age = 21                                            # declare age\n",
    "climber = True                                      # declare climbing status\n",
    "print(\"I should\", swipe_decider(age,climber))       # call the function"
   ]
  },
  {
   "cell_type": "code",
   "execution_count": null,
   "metadata": {
    "slideshow": {
     "slide_type": "fragment"
    }
   },
   "outputs": [],
   "source": [
    "#Example 3 - if/elif structure\n",
    "fuel = 0.8\n",
    "if fuel >= 0.99 :\n",
    "    print(\"don't trust the fuel gauge above 99%\")\n",
    "    fuel = 0.99           \n",
    "elif fuel <= 0.01 :      \n",
    "    print(\"don't trust the fuel gauge below 1%\")\n",
    "    fuel = 0.01          # you can have multiple lines of code in each branch\n",
    "\n",
    "print(\"fuel level is probably\", fuel*100, \"%\")"
   ]
  },
  {
   "cell_type": "code",
   "execution_count": null,
   "metadata": {},
   "outputs": [],
   "source": [
    "#Example 4 - sequential if statements\n",
    "my_dollars = 100\n",
    "if my_dollars < 500:            # scope: global variables declared outside the if statement can be seen inside\n",
    "    print(\"I'll freeze with\", my_dollars, \"dollars\")\n",
    "if my_dollars < 300:\n",
    "    print(\"I'll starve with\", my_dollars, \"dollars\")\n",
    "elif my_dollars < 100:\n",
    "    print(\"I'll lose my phone with\", my_dollars, \"dollars\")  #does this branch ever get executed?"
   ]
  },
  {
   "cell_type": "code",
   "execution_count": null,
   "metadata": {
    "slideshow": {
     "slide_type": "fragment"
    }
   },
   "outputs": [],
   "source": [
    "#Example 5 - use of mathematical expressions in the boolean test\n",
    "his_age = 17\n",
    "her_age = 16\n",
    "if his_age/2 + 7 > her_age:     # formula courtesy \"Parks and Rec\"\n",
    "    print(\"she's too young for him\")\n",
    "elif her_age/2 + 7 > his_age:   # a single elif branch here (more than one such branch is allowed)            \n",
    "    print(\"he's too young for her\")\n",
    "else:                           # else to cap it off \n",
    "    print(\"they could date\")"
   ]
  },
  {
   "cell_type": "code",
   "execution_count": 2,
   "metadata": {},
   "outputs": [
    {
     "name": "stdout",
     "output_type": "stream",
     "text": [
      "The factorial of 3 is 6\n"
     ]
    }
   ],
   "source": [
    "#Example 6 - a recursive function that calls itself\n",
    "def factorial(x):\n",
    "    \"\"\"This is a recursive function\n",
    "    to find the factorial of an integer\"\"\"  #access this docstring by executing help(factorial)\n",
    "\n",
    "    if x == 1:                        # x must be exactly 1 for this branch \n",
    "        return 1                      # the factorial of 1 is 1\n",
    "    else:\n",
    "        return (x * factorial(x-1))   # the definition of a factorial\n",
    "                                      # note two different return statements in this function\n",
    "num = 3\n",
    "print(\"The factorial of\", num, \"is\", factorial(num))"
   ]
  },
  {
   "cell_type": "markdown",
   "metadata": {
    "slideshow": {
     "slide_type": "fragment"
    }
   },
   "source": [
    "## 4. Condensed ```if``` statements\n",
    "\n",
    "These single-line if statements are comparable to the `if()` function in Excel. Note how they are used in two examples below."
   ]
  },
  {
   "cell_type": "code",
   "execution_count": null,
   "metadata": {
    "slideshow": {
     "slide_type": "fragment"
    }
   },
   "outputs": [],
   "source": [
    "def T(x):\n",
    "    return 298.15 if x<5.0 else 500.0    # single-line if statement embedded in a return statement\n",
    "\n",
    "x = -9\n",
    "print(\"x=\", x, \", T(x)=\", T(x))\n",
    "x = 9\n",
    "print(\"x=\", x, \", T(x)=\", T(x))"
   ]
  },
  {
   "cell_type": "code",
   "execution_count": null,
   "metadata": {
    "slideshow": {
     "slide_type": "fragment"
    }
   },
   "outputs": [],
   "source": [
    "# Take the square root, and make the argument positive if its negative:\n",
    "x = -3\n",
    "print(\"sqrt(x)=\",x**0.5)\n",
    "\n",
    "y = (x if x>=0 else -x)**0.5  # single-line if statement embedded in a mathematical expression\n",
    "print(\"y = \", y)"
   ]
  }
 ],
 "metadata": {
  "celltoolbar": "Slideshow",
  "kernelspec": {
   "display_name": "Python 3 (ipykernel)",
   "language": "python",
   "name": "python3"
  },
  "language_info": {
   "codemirror_mode": {
    "name": "ipython",
    "version": 3
   },
   "file_extension": ".py",
   "mimetype": "text/x-python",
   "name": "python",
   "nbconvert_exporter": "python",
   "pygments_lexer": "ipython3",
   "version": "3.8.10"
  },
  "varInspector": {
   "cols": {
    "lenName": 16,
    "lenType": 16,
    "lenVar": 40
   },
   "kernels_config": {
    "python": {
     "delete_cmd_postfix": "",
     "delete_cmd_prefix": "del ",
     "library": "var_list.py",
     "varRefreshCmd": "print(var_dic_list())"
    },
    "r": {
     "delete_cmd_postfix": ") ",
     "delete_cmd_prefix": "rm(",
     "library": "var_list.r",
     "varRefreshCmd": "cat(var_dic_list()) "
    }
   },
   "types_to_exclude": [
    "module",
    "function",
    "builtin_function_or_method",
    "instance",
    "_Feature"
   ],
   "window_display": false
  }
 },
 "nbformat": 4,
 "nbformat_minor": 4
}
