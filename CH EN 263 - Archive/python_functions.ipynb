{
 "cells": [
  {
   "attachments": {
    "be5e3b5a-25a8-479d-aee7-cb2b78b45aa9.png": {
     "image/png": "[encoded data removed]"
    }
   },
   "cell_type": "markdown",
   "metadata": {
    "slideshow": {
     "slide_type": "slide"
    }
   },
   "source": [
    "# Python Functions\n",
    "\n",
    "Functions are used everywhere and allow you to\n",
    "* **Reuse** code blocks to make code concise and easier to modify \n",
    "* **Organize** or modularize code to make it more readable\n",
    "\n",
    "**Libraries** can provide (and sometimes require) functions to do things for you\n",
    "\n",
    "Think of a function ```f(x)``` like a **machine**\n",
    "1. You put something in: ```x```\n",
    "2. You operate on ```x``` inside the function\n",
    "3. The function returns some result ```f(x)```.\n",
    "\n",
    "![function machine](attachment:be5e3b5a-25a8-479d-aee7-cb2b78b45aa9.png)\n",
    "       "
   ]
  },
  {
   "cell_type": "markdown",
   "metadata": {},
   "source": [
    "## 1. Built-in functions\n",
    "\n",
    "Python has a some [built-in functions](https://docs.python.org/2/library/functions.html). Here are a few:\n",
    "* max(n1, n2, ...)\n",
    "* min(n1, n2, ...)\n",
    "* sum (n1, n2, ...)\n",
    "* round(number[,ndigits])\n",
    "    \n",
    "Try the round() function in a Python cell  "
   ]
  },
  {
   "cell_type": "markdown",
   "metadata": {},
   "source": [
    "## 2. Library-based functions\n",
    "\n",
    "To access most mathematical functions you will use the _numpy_ library. This module or package must be installed using Anaconda if it is not already there (I used the command ```conda install numpy``` in my Powershell/terminal window). Once it is installed, you can import _numpy_ into your Python code.  \n",
    "\n",
    "**Option 1**: use this code: \n",
    "\n",
    "```python\n",
    "import numpy as np\n",
    "```\n",
    "\n",
    "This imports the numpy library. To take $\\sqrt x$ we use ```np.sqrt(x)```\n",
    "* The \"np\" part is because we made a shortened nickname for the library \"as np\".\n",
    "* If you had just done ```import numpy``` then we would use ```numpy.sqrt(x)```, but that is less concise.\n",
    "\n",
    "**Option 2**: if you know in advance the few functions you will need, can use the code\n",
    "\n",
    "```python\n",
    "from numpy import sqrt, exp, cos, sin\n",
    "```\n",
    "Then when you use these functions you don't need to prepend `np.` to them.\n",
    "\n",
    "**References**: \n",
    "* Browse the functions [at this site](https://docs.scipy.org/doc/numpy-1.13.0/reference/routines.math.html) and try a couple of them out.\n",
    "\n",
    "* Here is another good [numpy reference](https://docs.scipy.org/doc/numpy-1.15.1/reference/)\n",
    "\n",
    "Import and try some functions. Use `help(function_name)` to get more info."
   ]
  },
  {
   "cell_type": "code",
   "execution_count": 1,
   "metadata": {},
   "outputs": [
    {
     "data": {
      "text/plain": [
       "2.0"
      ]
     },
     "execution_count": 1,
     "metadata": {},
     "output_type": "execute_result"
    }
   ],
   "source": [
    "from numpy import sqrt\n",
    "sqrt(4)"
   ]
  },
  {
   "cell_type": "markdown",
   "metadata": {
    "slideshow": {
     "slide_type": "fragment"
    }
   },
   "source": [
    "## 3. Custom Functions\n",
    "\n",
    "You must be able to write custom functions for solving problems in this and future courses.\n",
    "\n",
    "### Define the function\n",
    "\n",
    "Functions use the _keywords_: `def`, `:`, and `return`\n",
    "\n",
    "```python\n",
    "def myFuncName(v1, v2, others):\n",
    "    # Insert any python code here. It must be indented.\n",
    "    # You can create internal _local_ variables that use v1, v2.\n",
    "    # Note that v1 and v2 are _dummy_ variables (they are \n",
    "    # You can print things, load data from files, make plots, etc.\n",
    "    \n",
    "    return XYZ       # Often a function returns a value\n",
    "                     # This is not required though\n",
    "                     # XYZ can be be an expression or a variable you defined\n",
    "# The function ends when you stop indenting\n",
    "```\n",
    "\n"
   ]
  },
  {
   "cell_type": "markdown",
   "metadata": {
    "slideshow": {
     "slide_type": "slide"
    }
   },
   "source": [
    "### Call the function\n",
    "\n",
    "When you define a function, it is like how God planned his creation of the world. To actually make the world come to life was the second part of the creation. \n",
    "\n",
    "In Python, we _call_ the function to make it come to life.\n",
    "\n",
    "\n",
    "```python\n",
    "myValue = myFuncName(5.5,8.8, etc)\n",
    "```\n",
    "\n",
    "Or instead of direct values, we can first define variables and use them in calling the function\n",
    "\n",
    "```python\n",
    "x = 5.5\n",
    "y = 8.8\n",
    "z = myFuncName(x, y)\n",
    "```\n",
    "\n",
    "We can nest the function where a value is wanted:\n",
    "\n",
    "```python\n",
    "radius = 3\n",
    "print(\"cylinder volume =\", circle_area(radius)*height)\n",
    "```\n",
    "\n"
   ]
  },
  {
   "cell_type": "markdown",
   "metadata": {
    "slideshow": {
     "slide_type": "slide"
    }
   },
   "source": [
    "### Practice\n",
    "\n",
    "* Write a function called ```sumsq``` that takes two numbers as arguments, squares each, sums them, and returns the sum of squares.\n",
    "* Then call the function and store it as a variable.\n",
    "* Then print the result"
   ]
  },
  {
   "cell_type": "code",
   "execution_count": 18,
   "metadata": {
    "slideshow": {
     "slide_type": "fragment"
    }
   },
   "outputs": [
    {
     "name": "stdout",
     "output_type": "stream",
     "text": [
      "61\n"
     ]
    }
   ],
   "source": [
    "def sumsq(a, b):         #Calculate the sum of the squares of two numbers\n",
    "    \"\"\"\n",
    "    return a**2 + b**2\n",
    "    \"\"\"\n",
    "    a **= 2\n",
    "    b **= 2\n",
    "    return a + b\n",
    "\n",
    "answer = sumsq(5, 6)\n",
    "print(answer)"
   ]
  },
  {
   "cell_type": "markdown",
   "metadata": {
    "slideshow": {
     "slide_type": "slide"
    }
   },
   "source": [
    "### Advanced Principles\n",
    "\n",
    "* The names of arguments in the function definition are **dummy variables** meaning you can use different variable names when you call the function.\n",
    "\n",
    "    However, if you use explicitly use the dummy names of arguments when you call a function, they can be specified out of order\n",
    "  \n",
    "* **Documentation** using docstrings: A triple-quoted string at the beginning of the function is a docstring that is output when getting \"help\" on the function.\n",
    " \n",
    " ```python\n",
    "def square_it(x):\n",
    "    \"\"\"\n",
    "    input:   x \n",
    "    return:  x**2\n",
    "    type \"help(square_it)\" to see these comments.\n",
    "    \"\"\" \n",
    "    return x*x\n",
    "\n",
    "help(square_it)  # use this to see the docstring\n",
    "```\n",
    "\n",
    "* Functions can have **default** arguments\n",
    "\n",
    "```python\n",
    "def get_force(m, g=9.81) : # if not given, g defaults to 9.81\n",
    "    print(\"g = \", g)\n",
    "    return m*g\n",
    "\n",
    "print( get_force(10) )     # no \"g\" --> g=9.81\n",
    "print( get_force(20,2) )   # g = 2, not 9.81\n",
    "print( get_force(g=4, m=20) ) # can be explicit about it\n",
    "```\n",
    "\n",
    "* Function **names can be arguments** passed other functions\n",
    "\n",
    "```python\n",
    "def sum_func(f, x1, x2):   # define a function that sums another function f\n",
    "    return f(x1) + f(x2)\n",
    "\n",
    "print(  sum_func(np.sin, x1, x2)  ) # now use it to sum sin(x1) and sin(x2)\n",
    "```\n",
    "\n",
    "* Variable **scope**: variables are either global or local\n",
    "\n",
    "    * Variables or functions defined inside a function are **local** to that function and cannot be seen outside of it.\n",
    "    * Variables or functions defined outside a function are **global** and can be seen by any later part of the code, including inside functions.\n",
    "    * Variables that are used inside a function but that are not arguments, will take the value they have at the time the function is called.\n",
    "    \n",
    "```python\n",
    "a = 1.1\n",
    "\n",
    "def ff2():\n",
    "a = 2.2     # this is a NEW local a, not the same as above\n",
    "print(\"inside:  a = \", a)\n",
    "\n",
    "ff2()\n",
    "print(\"outside: a = \", a)\n",
    "```\n",
    "\n",
    "* Functions can return **multiple** values\n",
    "\n",
    "```python\n",
    "def add_and_multiply(x,y):\n",
    "    return x+y, x*y     \n",
    "\n",
    "ap = add_and_multiply(5,6)\n",
    "print(ap[0], ap[1])\n",
    "```\n",
    "\n",
    "* See also:\n",
    "    * [anonymous (lambda) functions](https://pythonconquerstheuniverse.wordpress.com/2011/08/29/lambda_tutorial/)\n",
    "    * [\\*args and \\*\\*kwargs](https://www.digitalocean.com/community/tutorials/how-to-use-args-and-kwargs-in-python-3)"
   ]
  },
  {
   "cell_type": "code",
   "execution_count": 14,
   "metadata": {},
   "outputs": [
    {
     "name": "stdout",
     "output_type": "stream",
     "text": [
      "104\n",
      "104\n"
     ]
    }
   ],
   "source": [
    "def sum_func(f, x1, x2):   # define a function that sums another function f\n",
    "    return f(x1) + f(x2)\n",
    "x = 2\n",
    "y = 10\n",
    "print(  sum_func(lambda x_lam: x_lam**2, x, y)  ) # now use it to sum sin(x1) and sin(x2)\n",
    "print(sumsq(x, y))"
   ]
  },
  {
   "cell_type": "markdown",
   "metadata": {
    "slideshow": {
     "slide_type": "slide"
    }
   },
   "source": [
    "### Practice\n",
    "* Write a function called ```ft_to_m``` that will take a length in feet and convert it to a length in meters.\n",
    "* Use the converstion 1 m = 3.28084 ft."
   ]
  },
  {
   "cell_type": "code",
   "execution_count": 8,
   "metadata": {
    "slideshow": {
     "slide_type": "fragment"
    }
   },
   "outputs": [],
   "source": [
    "def ft_to_m(ft_len):\n",
    "    return ft_len / 3.28084\n",
    "\n",
    "print("
   ]
  },
  {
   "cell_type": "markdown",
   "metadata": {
    "slideshow": {
     "slide_type": "slide"
    }
   },
   "source": [
    "### Practice\n",
    "\n",
    "* Write a function called ```P_IG``` that takes the number of moles, temperature, and volume as aguments, and returns the ideal gas pressure.\n",
    "* Try out the function.\n",
    "* Don't forget to comment your code, including comments.\n",
    "* Use good variable names."
   ]
  },
  {
   "cell_type": "code",
   "execution_count": 17,
   "metadata": {
    "slideshow": {
     "slide_type": "fragment"
    }
   },
   "outputs": [
    {
     "data": {
      "text/plain": [
       "24.943416000000003"
      ]
     },
     "execution_count": 17,
     "metadata": {},
     "output_type": "execute_result"
    }
   ],
   "source": [
    "def P_IG(quantity, temperature, volume):\n",
    "    \"\"\"\n",
    "    input: quantity (gmoles), temperature (K), volume (m**3)\n",
    "    \"\"\"\n",
    "    R = 8.314472\n",
    "    return quantity * R * temperature / volume\n",
    "\n",
    "P_IG(1, 300, 100)"
   ]
  },
  {
   "cell_type": "markdown",
   "metadata": {
    "slideshow": {
     "slide_type": "slide"
    }
   },
   "source": [
    "### Practice\n",
    "* Rewrite your ```P_IG``` function above to use a default value for ```Rg```."
   ]
  },
  {
   "cell_type": "code",
   "execution_count": null,
   "metadata": {
    "slideshow": {
     "slide_type": "fragment"
    }
   },
   "outputs": [],
   "source": []
  },
  {
   "cell_type": "markdown",
   "metadata": {
    "slideshow": {
     "slide_type": "slide"
    }
   },
   "source": [
    "### Practice\n",
    "\n",
    "* Write a function that computes the following integral for *any* function $f(x)$\n",
    "$$I = \\int_a^bf(x)dx$$\n",
    "* Evaluate the integral using the areas of two trapazoids.\n",
    "<img src=http://ignite.byu.edu/che263/lectureNotes/L09f02.png width=200>\n",
    "* Find a midpoint $m=(a+b)/2$.\n",
    "$$I = \\underbrace{(m-a)\\frac{f(a)+f(m)}{2}}_{\\text{trapazoid 1}} + \n",
    "      \\underbrace{(b-m)\\frac{f(m)+f(b)}{2}}_{\\text{trapazoid 2}}$$\n",
    "* Try this on $I = \\int_1^2x^2dx = 2.33333$\n",
    "* **Question**: what is the structure?\n",
    "    * How many functions do you need to define?\n",
    "    * How to call the function?\n",
    "    * What order to define things in.\n",
    "    * After you have thought about this, look at the previous example and consider it's structure."
   ]
  },
  {
   "cell_type": "code",
   "execution_count": 1,
   "metadata": {
    "slideshow": {
     "slide_type": "slide"
    }
   },
   "outputs": [
    {
     "name": "stdout",
     "output_type": "stream",
     "text": [
      "I       = 2.375\n",
      "I_exact = 2.333333333333333\n"
     ]
    }
   ],
   "source": [
    "def integrate_f(f, a, b) :\n",
    "    m = 0.5*(a + b)\n",
    "    return (m-a)*(f(a) + f(m))/2   +   (b-m)*(f(m) + f(b))/2\n",
    "\n",
    "#---------- define a couple functions\n",
    "\n",
    "def f_xSquared(x) :\n",
    "    return x**2.0\n",
    "\n",
    "#----------- integrate the function\n",
    "\n",
    "a = 1\n",
    "b = 2\n",
    "\n",
    "I = integrate_f( f_xSquared, a, b )\n",
    "\n",
    "print(\"I       =\", I)\n",
    "print(\"I_exact =\", 2**3/3 - 1/3)"
   ]
  },
  {
   "cell_type": "markdown",
   "metadata": {
    "slideshow": {
     "slide_type": "slide"
    }
   },
   "source": [
    "### Practice\n",
    "* Often you are given problems with many known parameters.\n",
    "* It is normally best to put the parameters inside the function, rather than outside the function.\n",
    "* This lets the function *stand alone*.\n",
    "* (There may be reasonable exceptions to this rule though.)\n",
    "\n",
    "Previously we used the following vapor pressure equation, with values of A, B, C given for Benzene.\n",
    "$$P_i^{sat}(T) = \\exp\\left(A_i - \\frac{B_i}{T+C_i}\\right)$$.\n",
    "* A = 13.7819\n",
    "* B = 2726.81\n",
    "* C = 217.572\n",
    "\n",
    "Code this function."
   ]
  },
  {
   "cell_type": "code",
   "execution_count": 3,
   "metadata": {
    "slideshow": {
     "slide_type": "slide"
    }
   },
   "outputs": [
    {
     "data": {
      "text/plain": [
       "4731.712643620208"
      ]
     },
     "execution_count": 3,
     "metadata": {},
     "output_type": "execute_result"
    }
   ],
   "source": [
    "from numpy import exp\n",
    "def Pressure(T):\n",
    "    A = 13.7819\n",
    "    B = 2726.81\n",
    "    C = 217.572\n",
    "    return exp(A-(B/(T+C)))\n",
    "\n",
    "Pressure(295)"
   ]
  },
  {
   "cell_type": "code",
   "execution_count": null,
   "metadata": {},
   "outputs": [],
   "source": []
  }
 ],
 "metadata": {
  "celltoolbar": "Slideshow",
  "kernelspec": {
   "display_name": "Python 3 (ipykernel)",
   "language": "python",
   "name": "python3"
  },
  "language_info": {
   "codemirror_mode": {
    "name": "ipython",
    "version": 3
   },
   "file_extension": ".py",
   "mimetype": "text/x-python",
   "name": "python",
   "nbconvert_exporter": "python",
   "pygments_lexer": "ipython3",
   "version": "3.8.10"
  },
  "varInspector": {
   "cols": {
    "lenName": 16,
    "lenType": 16,
    "lenVar": 40
   },
   "kernels_config": {
    "python": {
     "delete_cmd_postfix": "",
     "delete_cmd_prefix": "del ",
     "library": "var_list.py",
     "varRefreshCmd": "print(var_dic_list())"
    },
    "r": {
     "delete_cmd_postfix": ") ",
     "delete_cmd_prefix": "rm(",
     "library": "var_list.r",
     "varRefreshCmd": "cat(var_dic_list()) "
    }
   },
   "types_to_exclude": [
    "module",
    "function",
    "builtin_function_or_method",
    "instance",
    "_Feature"
   ],
   "window_display": false
  }
 },
 "nbformat": 4,
 "nbformat_minor": 4
}
