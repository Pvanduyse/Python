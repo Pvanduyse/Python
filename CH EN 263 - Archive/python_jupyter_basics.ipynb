{
 "cells": [
  {
   "cell_type": "markdown",
   "metadata": {},
   "source": [
    "# Python and Jupyter Basics\n",
    "\n",
    "<a id='the_top'></a>"
   ]
  },
  {
   "cell_type": "markdown",
   "metadata": {},
   "source": [
    "## 1. Notebook \"cells\""
   ]
  },
  {
   "cell_type": "markdown",
   "metadata": {
    "tags": []
   },
   "source": [
    "The notebook is divided into cells of different types.\n",
    "* **Code** cells.\n",
    "* **Markdown** cells for formatting text and writing descriptions.\n",
    "* **Raw** cells (not used in this class -- for things like html code)\n",
    "\n",
    "You can change the cell type using the first drop down menu above.\n",
    "\n",
    "Browse the buttons and menus on the left. See especially the \"command\" pallet.\n",
    "* You can insert cells above or below a selected cell.\n",
    "* You can execute a cell using the \"play\" button above.\n",
    "    * Or, you can press **```shift-enter```**, which is faster\n",
    "* You can execute a cell and then insert a cell below by pressing **```alt-enter```**, which is also handy.\n",
    "* Cells can be dragged to different locations.\n",
    "* **Important:** Code in a cell is \"aware\" of the results of previous cells that have been run during your session, even if such cells are _below_ the current cell. This can happen if you move cells, edit cells, or just run them out of order. This can lead to unexpected results. Therefore you should ```Restart Kernel and Run All Cells``` to check that all is working before submitting your notebook for a homework or exam.\n"
   ]
  },
  {
   "cell_type": "markdown",
   "metadata": {
    "tags": []
   },
   "source": [
    "## 2. Markdown Cells"
   ]
  },
  {
   "cell_type": "markdown",
   "metadata": {},
   "source": [
    "* Markdown is used for text cells that can be formatted \n",
    "* Double click to edit; ```shift-enter``` to render \n",
    "* Use ```esc-m``` to change a code cell to a markdown cell\n",
    "* More on markdown cells next lesson\n",
    "\n"
   ]
  },
  {
   "cell_type": "markdown",
   "metadata": {},
   "source": [
    "## 3. Code cells"
   ]
  },
  {
   "cell_type": "markdown",
   "metadata": {},
   "source": [
    "Code cells are where we write python code.\n",
    "\n",
    "The code is the same syntax whether we are using the Jupyter Notebook, or running python using a text file and a Python interpreter (using Spyder, say, or Idle, or the command line)."
   ]
  },
  {
   "cell_type": "markdown",
   "metadata": {},
   "source": [
    "### Homework Example"
   ]
  },
  {
   "cell_type": "code",
   "execution_count": 21,
   "metadata": {
    "tags": []
   },
   "outputs": [
    {
     "name": "stdout",
     "output_type": "stream",
     "text": [
      "Hello world\n",
      "Ideal gas constant is 8.31446 J/mol-K\n"
     ]
    }
   ],
   "source": [
    "output = \"Hello world\"\n",
    "print(output)\n",
    "Rgas = 8.31446                #ideal gas constant (J/mol-K)\n",
    "print(\"Ideal gas constant is\",str(Rgas),\"J/mol-K\")"
   ]
  },
  {
   "cell_type": "markdown",
   "metadata": {},
   "source": [
    "### Comments"
   ]
  },
  {
   "cell_type": "markdown",
   "metadata": {
    "tags": []
   },
   "source": [
    "* Comments are good for explaining what you are doing, and showing units. \n",
    "* Comments in Python start with a ```#``` sign.   \n",
    "* Anything after the ```#``` is ignored.\n",
    "* You should ALWAYS include descriptive comments in your code so that others will know what you are doing. Also, you will know what you did when you come back and try to read your own code days or weeks later.\n",
    "\n"
   ]
  },
  {
   "cell_type": "markdown",
   "metadata": {
    "tags": []
   },
   "source": [
    "### Variables"
   ]
  },
  {
   "cell_type": "markdown",
   "metadata": {
    "tags": []
   },
   "source": [
    "* Variables don't have to be formally declared (unlike many languages), just define them and go.\n",
    "* Variables start with letters\n",
    "    * But then can include letters, numbers, or underscores ```_```\n",
    "    * Don't include other symbols like ```$``` or ```&```, etc.\n",
    "    * Variables that start with ```_``` have special uses\n",
    "* Variables are case sensitive\n",
    "* Any variable that has units should be specified by a comment stating the units.\n",
    "* Line things up for clarity. \n",
    "* Add blank lines to break up sections.\n",
    "\n",
    "**Examples**"
   ]
  },
  {
   "cell_type": "code",
   "execution_count": 1,
   "metadata": {
    "code_folding": []
   },
   "outputs": [],
   "source": [
    "T       = 298.15          # Temperature (K)\n",
    "v_2     = 15.0            # velocity at position 2 (m/s)\n",
    "Pres    = 101325.0        # Pressure (Pa)\n",
    "\n",
    "mdot_in = 35.0            # Inlet flowrate (kg/s)\n",
    "mDot_in = 15.0            # kg/s (this is not the same as mdot_in,)\n",
    "                          #      (if you have variables that differ only)\n",
    "                          #      (in their case, it will be confusing).\n",
    "_private = 1              # internal counter"
   ]
  },
  {
   "cell_type": "markdown",
   "metadata": {},
   "source": [
    "### Math operators\n",
    "* Use the standard operators: ```+ - / *```\n",
    "* Use a double star to take a power: ```2**4```\n",
    "* Use parentheses to group expressions and change order of operation (PEMDAS -- look this up)."
   ]
  },
  {
   "cell_type": "markdown",
   "metadata": {},
   "source": [
    "### Indentation"
   ]
  },
  {
   "cell_type": "markdown",
   "metadata": {},
   "source": [
    "Indentation matters in Python. Blocks of code have to have the same indentation level.\n",
    "* This usually shows up for \n",
    "    * conditional blocks (like ```if``` statements)\n",
    "    * loops\n",
    "    * functions\n",
    "    * classes\n",
    "* This is good. Consistent indentation makes code more readable.\n",
    "\n",
    "**Examples**"
   ]
  },
  {
   "cell_type": "code",
   "execution_count": 2,
   "metadata": {},
   "outputs": [],
   "source": [
    "T = 5\n",
    "v_3 = 6         # this won't work, indentation is wrong"
   ]
  },
  {
   "cell_type": "markdown",
   "metadata": {},
   "source": [
    "Notice how Python gives you an error, and tells you what is wrong. See if you can fix it and re-run the code in the cell."
   ]
  },
  {
   "cell_type": "code",
   "execution_count": 3,
   "metadata": {},
   "outputs": [
    {
     "name": "stdout",
     "output_type": "stream",
     "text": [
      "v_2 is > 2.2\n",
      "Another line\n",
      "This line is not indented, so is not part of the if statement\n"
     ]
    }
   ],
   "source": [
    "if v_2 > 2.2 :\n",
    "    print(\"v_2 is > 2.2\")        # this works, indented\n",
    "    print(\"Another line\")\n",
    "print(\"This line is not indented, so is not part of the if statement\")"
   ]
  },
  {
   "cell_type": "markdown",
   "metadata": {
    "tags": []
   },
   "source": [
    "### Strings"
   ]
  },
  {
   "cell_type": "markdown",
   "metadata": {},
   "source": [
    "* Single and Double quotes are basically the same thing\n",
    "    * Single quotes 'some string'\n",
    "    * Double quotes \"some string\"\n",
    "* Triple strings are useful for a multi-line string: preserves new-lines and white space. \n",
    "    * Use for documenting a function\n",
    "    * Triple quotes \"\"\"some string\"\"\" or '''some string'''"
   ]
  },
  {
   "cell_type": "markdown",
   "metadata": {
    "tags": []
   },
   "source": [
    "### Printing results\n",
    "* The last statement entered in a cell gets output to the screen.\n",
    "    * (unless you end with a semicolon)\n",
    "* To output other values, use the ```print``` statement"
   ]
  },
  {
   "cell_type": "code",
   "execution_count": 4,
   "metadata": {},
   "outputs": [
    {
     "name": "stdout",
     "output_type": "stream",
     "text": [
      "Hi there, David\n",
      "Rg = 8314.46 and pi = 3.14\n"
     ]
    }
   ],
   "source": [
    "pi = 3.14\n",
    "Rg = 8314.46\n",
    "me = \"David\"\n",
    "print(\"Hi there,\", me)\n",
    "print(\"Rg =\", Rg, \"and pi =\", pi)"
   ]
  },
  {
   "cell_type": "code",
   "execution_count": 5,
   "metadata": {
    "tags": []
   },
   "outputs": [
    {
     "data": {
      "text/plain": [
       "\u001b[0;31mDocstring:\u001b[0m\n",
       "print(value, ..., sep=' ', end='\\n', file=sys.stdout, flush=False)\n",
       "\n",
       "Prints the values to a stream, or to sys.stdout by default.\n",
       "Optional keyword arguments:\n",
       "file:  a file-like object (stream); defaults to the current sys.stdout.\n",
       "sep:   string inserted between values, default a space.\n",
       "end:   string appended after the last value, default a newline.\n",
       "flush: whether to forcibly flush the stream.\n",
       "\u001b[0;31mType:\u001b[0m      builtin_function_or_method\n"
      ]
     },
     "metadata": {},
     "output_type": "display_data"
    }
   ],
   "source": [
    "print?"
   ]
  },
  {
   "cell_type": "code",
   "execution_count": 6,
   "metadata": {},
   "outputs": [
    {
     "name": "stdout",
     "output_type": "stream",
     "text": [
      "Help on built-in function print in module builtins:\n",
      "\n",
      "print(...)\n",
      "    print(value, ..., sep=' ', end='\\n', file=sys.stdout, flush=False)\n",
      "    \n",
      "    Prints the values to a stream, or to sys.stdout by default.\n",
      "    Optional keyword arguments:\n",
      "    file:  a file-like object (stream); defaults to the current sys.stdout.\n",
      "    sep:   string inserted between values, default a space.\n",
      "    end:   string appended after the last value, default a newline.\n",
      "    flush: whether to forcibly flush the stream.\n",
      "\n"
     ]
    }
   ],
   "source": [
    "help(print)"
   ]
  },
  {
   "cell_type": "markdown",
   "metadata": {},
   "source": [
    "### Getting help\n",
    "\n",
    "* Type  ```print?``` in a cell (note the \"?\"). When you run the cell, function documentation appears at the bottom of the screen.\n",
    "* You can also type ```help(print)```"
   ]
  },
  {
   "cell_type": "markdown",
   "metadata": {},
   "source": [
    "### Continuation\n",
    "\n",
    "* You can put more than one command on a line if you separate them with a semicolon \";\"\n",
    "* A command can be spread over several lines using a backslash \\ at the end of the continuation line.\n",
    "    * Or you can use parentheses to force continuation to the ending parentheses."
   ]
  },
  {
   "cell_type": "code",
   "execution_count": 7,
   "metadata": {},
   "outputs": [
    {
     "data": {
      "text/plain": [
       "11.15"
      ]
     },
     "execution_count": 7,
     "metadata": {},
     "output_type": "execute_result"
    }
   ],
   "source": [
    "a = 5; b = 6       # two commands on one line separated by ;\n",
    "\n",
    "4.45 + \\\n",
    "6.7                # command runs onto next line with \n",
    "\n",
    "(4.45 +            # or use parentheses\n",
    "6.7)"
   ]
  }
 ],
 "metadata": {
  "hide_input": false,
  "kernelspec": {
   "display_name": "Python 3 (ipykernel)",
   "language": "python",
   "name": "python3"
  },
  "language_info": {
   "codemirror_mode": {
    "name": "ipython",
    "version": 3
   },
   "file_extension": ".py",
   "mimetype": "text/x-python",
   "name": "python",
   "nbconvert_exporter": "python",
   "pygments_lexer": "ipython3",
   "version": "3.8.10"
  },
  "varInspector": {
   "cols": {
    "lenName": 16,
    "lenType": 16,
    "lenVar": 40
   },
   "kernels_config": {
    "python": {
     "delete_cmd_postfix": "",
     "delete_cmd_prefix": "del ",
     "library": "var_list.py",
     "varRefreshCmd": "print(var_dic_list())"
    },
    "r": {
     "delete_cmd_postfix": ") ",
     "delete_cmd_prefix": "rm(",
     "library": "var_list.r",
     "varRefreshCmd": "cat(var_dic_list()) "
    }
   },
   "types_to_exclude": [
    "module",
    "function",
    "builtin_function_or_method",
    "instance",
    "_Feature"
   ],
   "window_display": false
  }
 },
 "nbformat": 4,
 "nbformat_minor": 4
}
