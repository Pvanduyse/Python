{
 "cells": [
  {
   "cell_type": "markdown",
   "metadata": {
    "slideshow": {
     "slide_type": "slide"
    }
   },
   "source": [
    "# Solving equations"
   ]
  },
  {
   "cell_type": "code",
   "execution_count": 1,
   "metadata": {
    "slideshow": {
     "slide_type": "fragment"
    }
   },
   "outputs": [],
   "source": [
    "import numpy as np\n",
    "import matplotlib.pyplot as plt\n",
    "%matplotlib inline\n",
    "from scipy.optimize import fsolve"
   ]
  },
  {
   "cell_type": "markdown",
   "metadata": {
    "slideshow": {
     "slide_type": "skip"
    }
   },
   "source": [
    "## I. Review: linear equations\n",
    "To solve a system $\\mathbf{Ax}=\\mathbf{b}$ for $\\mathbf{x}$, we do the following:\n",
    "* Define the matrix $\\mathbf{A}$ and the vector $\\mathbf{b}$.\n",
    "* Use x = np.linalg.solve(A,b)\n",
    "\n",
    "**Example**\n",
    "\n",
    "Solve \n",
    "$$\\left[\n",
    "\\begin{array}[ccccc]\n",
    "--2 & 1  & 0 & 0 & 0 \\\\\n",
    "1  & -2 & 1 & 0 & 0 \\\\\n",
    "0  &  1 & -2& 1 & 0 \\\\\n",
    "0  &  0 & 1 & -2& 1 \\\\\n",
    "0  &  0 & 0 & 1 & -2\n",
    "\\end{array}\n",
    "\\right]~\n",
    "\\left[\n",
    "\\begin{array}[c] \\\\x_0\\\\x_1\\\\x_2\\\\x_2\\\\x_4\\end{array}\\right] = \n",
    "\\left[\\begin{array}[c] \\\\1\\\\1\\\\1\\\\1\\\\1\\end{array}\\right]$$\n"
   ]
  },
  {
   "cell_type": "code",
   "execution_count": 2,
   "metadata": {
    "slideshow": {
     "slide_type": "skip"
    }
   },
   "outputs": [
    {
     "data": {
      "text/plain": [
       "array([-2.5, -4. , -4.5, -4. , -2.5])"
      ]
     },
     "execution_count": 2,
     "metadata": {},
     "output_type": "execute_result"
    }
   ],
   "source": [
    "# set up arrays for matrix A and vector b\n",
    "A = np.array([[-2,1,0,0,0],[1,-2,1,0,0],[0,1,-2,1,0],[0,0,1,-2,1],[0,0,0,1,-2]])\n",
    "b = np.ones(5)\n",
    "\n",
    "x = np.linalg.solve(A,b)  # use efficient linear algebra solver\n",
    "x\n"
   ]
  },
  {
   "cell_type": "markdown",
   "metadata": {
    "slideshow": {
     "slide_type": "skip"
    }
   },
   "source": [
    "Here's a [link](http://docs.scipy.org/doc/numpy/reference/routines.linalg.html) to more linear algebra operations."
   ]
  },
  {
   "cell_type": "markdown",
   "metadata": {
    "slideshow": {
     "slide_type": "slide"
    }
   },
   "source": [
    "## II. Nonlinear 1-D equations (1 equation in 1 unknown)"
   ]
  },
  {
   "cell_type": "markdown",
   "metadata": {
    "slideshow": {
     "slide_type": "slide"
    }
   },
   "source": [
    "### Recall\n",
    "* What are the key elements to solving nonlinear equations? (We did this in Excel!)\n",
    "* List the parts, the form, and things you need."
   ]
  },
  {
   "cell_type": "markdown",
   "metadata": {
    "slideshow": {
     "slide_type": "fragment"
    }
   },
   "source": [
    "### Exercise\n",
    "* Before learning the details about solving equations using Python, see if you can guess how to solve the following equation using Python's solver ```fsolve```, based on what you need to solve equations:\n",
    "$$f(x) = x^2-5.$$"
   ]
  },
  {
   "cell_type": "code",
   "execution_count": 3,
   "metadata": {
    "slideshow": {
     "slide_type": "fragment"
    }
   },
   "outputs": [
    {
     "name": "stdout",
     "output_type": "stream",
     "text": [
      "x is [2.23606798]\n",
      "As I said, x is [2.23606798]\n"
     ]
    }
   ],
   "source": [
    "from scipy.optimize import fsolve  # make fsolve directly accessible\n",
    "\n",
    "def f(x):        \n",
    "    return x**2 - 5\n",
    "\n",
    "x_guess = 1\n",
    "x = fsolve(f, x_guess)\n",
    "print(\"x is\",x)\n",
    "\n",
    "\n",
    "# here's another way to program this using an advanced Python feature called a `lambda` function.\n",
    "# It is a function that is anonymous (not named) because it is used only once inside another function:\n",
    "\n",
    "x = fsolve(lambda x: x**2 - 5, x_guess)\n",
    "print(\"As I said, x is\",x)"
   ]
  },
  {
   "cell_type": "markdown",
   "metadata": {
    "slideshow": {
     "slide_type": "slide"
    }
   },
   "source": [
    "Solving a nonlinear equation involves first putting it in the form $f(x)=0$. We know the function $f$ and we want to find the value of $x$ that gives $f(x)=0$.\n",
    "\n",
    "To solve this, do the following:\n",
    "* Define the function f(x)\n",
    "* Set an initial guess for x.\n",
    "* We need to import a library: ```from scipy.optimize import fsolve```\n",
    "* Call the ```fsolve``` function: ```x = fsolve(f, x0)```\n",
    "    * f is the name of the function you are solving, and x0 is your initial guess.\n",
    "    * if f has arguments besides x that are constant, then use `x = fsolve(f, x0, args=(...))`\n",
    "    \n"
   ]
  },
  {
   "cell_type": "markdown",
   "metadata": {
    "slideshow": {
     "slide_type": "slide"
    }
   },
   "source": [
    "### Exercise\n",
    "\n",
    "find the other root of the above function"
   ]
  },
  {
   "cell_type": "code",
   "execution_count": 4,
   "metadata": {
    "slideshow": {
     "slide_type": "fragment"
    }
   },
   "outputs": [
    {
     "data": {
      "text/plain": [
       "array([-2.23606798])"
      ]
     },
     "execution_count": 4,
     "metadata": {},
     "output_type": "execute_result"
    }
   ],
   "source": [
    "x = fsolve(lambda x: x**2 - 5, -1)\n",
    "x"
   ]
  },
  {
   "cell_type": "markdown",
   "metadata": {},
   "source": [
    "### Exercise: This is Problem 1 on the homework\n",
    "\n",
    "To find the power required to pump a fluid through a pipe we need a dimensionless quantity $f$ called the friction factor. The friction factor for turbulent flow in pipes can be found from the an empirical correlation called the Colebrook equation, \n",
    "$$\\frac{1}{\\sqrt{f}} = -2\\log_{10}\\left(\\frac{\\epsilon/D}{3.7}+\\frac{2.51}{\\mathrm{Re}\\sqrt{f}}\\right),$$\n",
    "where $\\mathrm{Re}$ is a dimensionless velocity called the Reynolds number and $\\epsilon /D$ is the pipe roughness divided by the diameter (this ratio is also dimensionless). \n",
    "\n",
    "Make a smooth plot of $\\mathrm{Re}$ vs. $f$ for $\\epsilon /D=0.001$ and $10^3 \\le \\mathrm{Re} \\le 10^8$. The horizontal axis for $\\mathrm{Re}$ should be plotted logarithmically and $\\mathrm{Re}$ should therefore be spaced logarithmically using the numpy logspace function. A semilog plot can be made from the command `plt.semilogx(x, y)` or `plt.semilogy(x, y)`\n",
    "\n",
    "**Approach**\n",
    "* Question: what are the different parts required? For example: how do you calculate $f$ when you know (or have assumed) values of $\\epsilon /D$ and $\\mathrm{Re}$?\n",
    "* Start simple, then add more functionality, i.e. build one little machine at a time.\n",
    "* Verify results at each step, i.e. get a function to work for one value before moving on and using it for many values or embedded in another function."
   ]
  },
  {
   "cell_type": "code",
   "execution_count": 82,
   "metadata": {},
   "outputs": [
    {
     "data": {
      "image/png": "[encoded data removed]",
      "text/plain": [
       "<Figure size 432x288 with 1 Axes>"
      ]
     },
     "metadata": {
      "needs_background": "light"
     },
     "output_type": "display_data"
    }
   ],
   "source": [
    "Re = np.logspace(3, 8, 200)\n",
    "ϵ_by_D = 0.001\n",
    "k = 3.7, 2.51\n",
    "\n",
    "np.sqrt(10)\n",
    "\n",
    "f = np.zeros(200)\n",
    "for i in range(len(f)):\n",
    "    f[i] = fsolve(lambda f: 1/np.sqrt(f) + 2*np.log10((ϵ_by_D/k[0]) + (k[1]/(Re[i]*np.sqrt(f)))), 0.01)\n",
    "    \n",
    "plt.title(\"Friction factor (f) vs Reynolds' number (Re)\")\n",
    "plt.ylabel(\"f\")\n",
    "plt.xlabel(\"Re\")\n",
    "plt.semilogx(Re, f);"
   ]
  },
  {
   "cell_type": "markdown",
   "metadata": {
    "slideshow": {
     "slide_type": "slide"
    }
   },
   "source": [
    "### III. Multiple nonlinear equations in multiple unknowns\n",
    "* What do we do if we are solving multiple equations in multiple unknowns?\n",
    "* For example, suppose we have \n",
    "$$y+2z = 0$$\n",
    "$$\\sin(y)/z = 0$$\n",
    "\n",
    "* How will you go about specifying the problem?\n",
    "* What if there were three equations in three unknowns? Four and four?\n",
    "* If you were coding ```fsolve``` how would you account for all these possibilities?"
   ]
  },
  {
   "cell_type": "markdown",
   "metadata": {
    "slideshow": {
     "slide_type": "fragment"
    }
   },
   "source": [
    "#### General approach\n",
    "Instead of $f(x)=0$, we solve $\\mathbf{f}(\\mathbf{x})=\\mathbf{0}$ ... the `fsolve` function won't mind at all 👍\n",
    "* That is, $\\mathbf{x}$ is a vector of unknowns, and $\\mathbf{f}$ is a function that returns a vector\n",
    "* Each element of $\\mathbf{f}(\\mathbf{x})$ is a single equation in our system of equations\n",
    "* For instance, if we were solving a linear set of equations we could let $\\mathbf{f}(\\mathbf{x})=\\mathbf{Ax-b}$\n"
   ]
  },
  {
   "cell_type": "markdown",
   "metadata": {
    "slideshow": {
     "slide_type": "slide"
    }
   },
   "source": [
    "#### Details\n",
    "* Consider again the **two functions** for the **two unknowns**: $h(y,z) = 0$, and $g(y,z)=0$ where\n",
    "$$h(y,z)=y+2z,$$ $$g(y,z) = \\sin(y)/z$$\n",
    "* We would write these as $$f_0(x_0,x_1) = x_0+2x_1,$$ $$f_1(x_0,x_1) = \\sin(x_0)/x_1,$$\n",
    "which becomes: $$\\left[\\begin{matrix} f_0(x_0,x_1) \\\\ f_1(x_0,x_1)\\end{matrix}\\right] = \\left[\\begin{matrix}x_0+2x_1 \\\\ \\sin(x_0)/x_1\\end{matrix}\\right] = \\left[\\begin{matrix}0 \\\\ 0\\end{matrix}\\right],$$\n",
    "or $$\\mathbf{f}(\\mathbf{x}) = \\left[\\begin{matrix}x_0+2x_1 \\\\ \\sin(x_0)/x_1\\end{matrix}\\right] = \\mathbf{0},$$\n",
    "that is, $$\\mathbf{f}(\\mathbf{x})=\\mathbf{0}.$$\n",
    "\n",
    "* We solve the system just like before:\n",
    "    * Just define the vector function. It takes an array of unknowns $\\mathbf{x}$, and returns an array of function values $\\mathbf{f}$.\n",
    "    * We use the same solver, but we give an array of initial guesses $\\mathbf{x}_0$.\n"
   ]
  },
  {
   "cell_type": "markdown",
   "metadata": {
    "slideshow": {
     "slide_type": "slide"
    }
   },
   "source": [
    "**Note** Here is a [link](http://docs.scipy.org/doc/scipy/reference/generated/scipy.optimize.fsolve.html) to more information about the fsolve function with extra arguments that can give more control over the solution process."
   ]
  },
  {
   "cell_type": "markdown",
   "metadata": {
    "slideshow": {
     "slide_type": "slide"
    }
   },
   "source": [
    "### Exercise\n",
    "* Solve the following two equations in two unknowns.\n",
    "$$h(y,z)=y+2z,$$ \n",
    "$$g(y,z) = \\sin(y)/z.$$\n",
    "* Use $y_0=1$, and $z_0=2$ as an initial guess."
   ]
  },
  {
   "cell_type": "code",
   "execution_count": 6,
   "metadata": {
    "slideshow": {
     "slide_type": "fragment"
    }
   },
   "outputs": [
    {
     "name": "stdout",
     "output_type": "stream",
     "text": [
      "yz = [ 9.42477796 -4.71238898] hg = [0.00000000e+00 4.82244674e-15]\n"
     ]
    }
   ],
   "source": [
    "def hg(yz):\n",
    "    y = yz[0]\n",
    "    z = yz[1]\n",
    "    \n",
    "    h = y + 2*z\n",
    "    g = np.sin(y)/z\n",
    "    \n",
    "    return np.array([h,g])\n",
    "\n",
    "#---------------\n",
    "\n",
    "yz_guess = np.array([1,2])\n",
    "\n",
    "yz = fsolve(hg, yz_guess)\n",
    "\n",
    "print(\"yz =\", yz, \"hg =\", hg(yz))"
   ]
  },
  {
   "cell_type": "markdown",
   "metadata": {
    "slideshow": {
     "slide_type": "slide"
    }
   },
   "source": [
    "### Exercise\n",
    "\n",
    "Solve the following system of three equations in three unknowns:\n",
    "\n",
    "$$x^2 + y^2 = 1,$$\n",
    "$$xy + yz = -1.1,$$\n",
    "$$y^2 + z^2 = 2.$$\n",
    "\n",
    "A reasonable guess for all variables is $x=y=z=2.$\n"
   ]
  },
  {
   "cell_type": "code",
   "execution_count": 86,
   "metadata": {
    "slideshow": {
     "slide_type": "fragment"
    }
   },
   "outputs": [
    {
     "name": "stdout",
     "output_type": "stream",
     "text": [
      "The values of x, y and z, are 0.10, -0.99, and 1.01 respectively\n"
     ]
    }
   ],
   "source": [
    "x̄_guess = np.array([2, 2, 2])\n",
    "def f̄(x̄):\n",
    "    res = np.zeros(3)\n",
    "    res[0] = x̄[0]**2 + x̄[1]**2 - 1\n",
    "    res[1] = x̄[0]*x̄[1] + x̄[1]*x̄[2] + 1.1\n",
    "    res[2] = x̄[1]**2 + x̄[2]**2 - 2\n",
    "    return res\n",
    "\n",
    "x̄ = fsolve(f̄, x̄_guess)\n",
    "\n",
    "print(\"The values of x, y and z, are {X:.2f}, {Y:.2f}, and {Z:.2f} respectively\".format(\n",
    "    X = x̄[0],\n",
    "    Y = x̄[1],\n",
    "    Z = x̄[2]\n",
    "))"
   ]
  },
  {
   "cell_type": "code",
   "execution_count": null,
   "metadata": {},
   "outputs": [],
   "source": []
  }
 ],
 "metadata": {
  "celltoolbar": "Slideshow",
  "hide_input": false,
  "kernelspec": {
   "display_name": "Python 3 (ipykernel)",
   "language": "python",
   "name": "python3"
  },
  "language_info": {
   "codemirror_mode": {
    "name": "ipython",
    "version": 3
   },
   "file_extension": ".py",
   "mimetype": "text/x-python",
   "name": "python",
   "nbconvert_exporter": "python",
   "pygments_lexer": "ipython3",
   "version": "3.8.10"
  },
  "varInspector": {
   "cols": {
    "lenName": 16,
    "lenType": 16,
    "lenVar": 40
   },
   "kernels_config": {
    "python": {
     "delete_cmd_postfix": "",
     "delete_cmd_prefix": "del ",
     "library": "var_list.py",
     "varRefreshCmd": "print(var_dic_list())"
    },
    "r": {
     "delete_cmd_postfix": ") ",
     "delete_cmd_prefix": "rm(",
     "library": "var_list.r",
     "varRefreshCmd": "cat(var_dic_list()) "
    }
   },
   "types_to_exclude": [
    "module",
    "function",
    "builtin_function_or_method",
    "instance",
    "_Feature"
   ],
   "window_display": false
  }
 },
 "nbformat": 4,
 "nbformat_minor": 4
}
