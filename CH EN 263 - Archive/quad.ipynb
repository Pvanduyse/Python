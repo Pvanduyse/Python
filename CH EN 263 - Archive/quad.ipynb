{
 "cells": [
  {
   "cell_type": "markdown",
   "metadata": {
    "slideshow": {
     "slide_type": "slide"
    }
   },
   "source": [
    "# ```quad```"
   ]
  },
  {
   "cell_type": "code",
   "execution_count": 1,
   "metadata": {
    "slideshow": {
     "slide_type": "fragment"
    }
   },
   "outputs": [],
   "source": [
    "import numpy as np\n",
    "import matplotlib.pyplot as plt\n",
    "%matplotlib inline\n",
    "\n",
    "from scipy.integrate   import quad       ### THIS IS NEW"
   ]
  },
  {
   "cell_type": "markdown",
   "metadata": {
    "slideshow": {
     "slide_type": "slide"
    }
   },
   "source": [
    "----\n",
    "## Integration\n",
    "* To numerically integrate a function: $I=\\int_{x_{lo}}^{x_{hi}}f(x)dx$\n",
    "    1. Define the function\n",
    "    2. Set the integration bounds\n",
    "    3. Call quad(f,xlo,xhi)\n",
    "        1. quad returns two values, the result and the error.\n",
    "    \n",
    "### Example\n",
    "\n",
    "$$\\int_0^13x^2+1dx = \\left[x^3+x\\right]_0^1 = 2$$"
   ]
  },
  {
   "cell_type": "code",
   "execution_count": 2,
   "metadata": {
    "slideshow": {
     "slide_type": "fragment"
    }
   },
   "outputs": [
    {
     "name": "stdout",
     "output_type": "stream",
     "text": [
      "I     =  5.0\n",
      "error =  5.551115123125783e-14\n"
     ]
    }
   ],
   "source": [
    "def f(x, p, q) :\n",
    "    return 3.0*x*x + p*x + q\n",
    "\n",
    "I, err = quad(f, 0, 1, args=(2,3))    \n",
    "\n",
    "print(\"I     = \", I)\n",
    "print(\"error = \", err)"
   ]
  },
  {
   "cell_type": "markdown",
   "metadata": {
    "slideshow": {
     "slide_type": "slide"
    }
   },
   "source": [
    "There are a number of other parameters to fine tune the output and operation. Do \"help(quad)\" for details."
   ]
  },
  {
   "cell_type": "markdown",
   "metadata": {
    "slideshow": {
     "slide_type": "slide"
    }
   },
   "source": [
    "### Exercise\n",
    "\n",
    "Solve for $I$:\n",
    "$$I = \\int_0^{\\pi/2}\\cos{x}dx.$$"
   ]
  },
  {
   "cell_type": "code",
   "execution_count": 10,
   "metadata": {
    "slideshow": {
     "slide_type": "fragment"
    }
   },
   "outputs": [
    {
     "name": "stdout",
     "output_type": "stream",
     "text": [
      "The integral of cos(x) from 0 to π/2 is equal to 1.00\n"
     ]
    }
   ],
   "source": [
    "I = quad(np.cos, 0, np.pi/2)[0]\n",
    "print(\"The integral of cos(x) from 0 to π/2 is equal to {I:.2f}\".format(I=I))"
   ]
  },
  {
   "cell_type": "markdown",
   "metadata": {
    "slideshow": {
     "slide_type": "slide"
    }
   },
   "source": [
    "### Example\n",
    "\n",
    "Suppose we want to integrate the function \n",
    "\n",
    "$$f(x) = x^2 + p,$$\n",
    "\n",
    "where $p$ is a parameter that we might want to change. That is, $f$ is really \n",
    "$$f(x,p) = x^2 + p,$$ but we are only integrating with respect to $x$. Like so:\n",
    "\n",
    "$$I = \\int_{x_{lo}}^{x_{hi}}f(x,p)dx$$\n",
    "\n",
    "* This happens all the time. For example, finding the time to fill a tank with water requires integration. But the problem depends on the tank diameter, a possible exit pipe diameter, a valve coefficient, etc. \n",
    "        \n",
    "**Try solving the above problem from $x_{lo}=0$ to $x_{hi}=2$ using ```quad``` for $p=1$, $p=2$, and $p=3$.**\n",
    "\n"
   ]
  },
  {
   "cell_type": "markdown",
   "metadata": {
    "slideshow": {
     "slide_type": "slide"
    }
   },
   "source": [
    "#### Approach 1\n",
    "* This is possible as we have done before by leaving out the $p$ dependence and communicating $p$ as a global variable."
   ]
  },
  {
   "cell_type": "code",
   "execution_count": 4,
   "metadata": {
    "slideshow": {
     "slide_type": "fragment"
    }
   },
   "outputs": [
    {
     "name": "stdout",
     "output_type": "stream",
     "text": [
      "1.3333333333333333 2.3333333333333335 3.3333333333333335\n"
     ]
    }
   ],
   "source": [
    "def f(x):\n",
    "    return x**2 + p\n",
    "\n",
    "p = 1; I1 = quad(f, 0, 1)[0]  # quad returns tuple (I, err), so quad()[0] is just the I part\n",
    "p = 2; I2 = quad(f, 0, 1)[0]\n",
    "p = 3; I3 = quad(f, 0, 1)[0]\n",
    "\n",
    "print(I1, I2, I3)"
   ]
  },
  {
   "cell_type": "markdown",
   "metadata": {
    "slideshow": {
     "slide_type": "slide"
    }
   },
   "source": [
    "#### Approach 2\n",
    "* But it would be good to have our function depend on $p$ as an argument and be able to pass $p$ in properly.\n",
    "* The problem is that ```quad``` only knows to call our function as $f(x)$.\n",
    "* If we want quad to call our function with other parameters, then we need to tell ```quad``` about them.\n",
    "* Use the ```args``` argument of the ```quad``` function.\n",
    "    * We set ```args``` to be a tuple of all of our extra function arguments besides $x$."
   ]
  },
  {
   "cell_type": "code",
   "execution_count": 5,
   "metadata": {
    "slideshow": {
     "slide_type": "fragment"
    }
   },
   "outputs": [
    {
     "name": "stdout",
     "output_type": "stream",
     "text": [
      "1.3333333333333333 2.3333333333333335 3.3333333333333335\n"
     ]
    }
   ],
   "source": [
    "def f(x, p):\n",
    "    return x**2 + p\n",
    "\n",
    "I1 = quad(f, 0, 1, args=(1,))[0]     # args=(1,) sends p=1 to f(x,p) when quad calls f\n",
    "I2 = quad(f, 0, 1, args=(2,))[0]     # args=(2,) sends p=2 to f(x,p) when quad calls f\n",
    "I3 = quad(f, 0, 1, args=(3,))[0]     # args=(3,) sends p=3 to f(x,p) when quad calls f\n",
    "\n",
    "print(I1, I2, I3)"
   ]
  },
  {
   "cell_type": "markdown",
   "metadata": {
    "slideshow": {
     "slide_type": "skip"
    }
   },
   "source": [
    "**Now, go back and reread the bullets under Approach 2**"
   ]
  },
  {
   "cell_type": "markdown",
   "metadata": {
    "slideshow": {
     "slide_type": "skip"
    }
   },
   "source": [
    "#### Note\n",
    "* Many ```scipy``` tools use the ```args``` argument to pass extra function arguments along to our function."
   ]
  },
  {
   "cell_type": "markdown",
   "metadata": {
    "slideshow": {
     "slide_type": "slide"
    }
   },
   "source": [
    "### Exercise\n",
    "\n",
    "Solve the following:\n",
    "$$I = \\int_0^5f(x,a,b)dx,$$\n",
    "where $$f(x,a,b) = \\sin(x^a)+b,$$\n",
    "and $a$ and $b$ are parameters. Define function $f(x,a,b)$, the solve using quad and passing $a=2$, and $b=3$ as extra arguments."
   ]
  },
  {
   "cell_type": "code",
   "execution_count": 6,
   "metadata": {
    "slideshow": {
     "slide_type": "fragment"
    }
   },
   "outputs": [
    {
     "data": {
      "text/plain": [
       "15.52791728116532"
      ]
     },
     "execution_count": 6,
     "metadata": {},
     "output_type": "execute_result"
    }
   ],
   "source": [
    "def f(x,a,b):\n",
    "    return np.sin(x**a) + b\n",
    "\n",
    "a = 2\n",
    "b = 3\n",
    "\n",
    "I = quad(f, 0, 5, args=(a,b))[0]\n",
    "\n",
    "I"
   ]
  },
  {
   "cell_type": "code",
   "execution_count": null,
   "metadata": {},
   "outputs": [],
   "source": []
  }
 ],
 "metadata": {
  "celltoolbar": "Slideshow",
  "hide_input": false,
  "kernelspec": {
   "display_name": "Python 3 (ipykernel)",
   "language": "python",
   "name": "python3"
  },
  "language_info": {
   "codemirror_mode": {
    "name": "ipython",
    "version": 3
   },
   "file_extension": ".py",
   "mimetype": "text/x-python",
   "name": "python",
   "nbconvert_exporter": "python",
   "pygments_lexer": "ipython3",
   "version": "3.8.10"
  },
  "varInspector": {
   "cols": {
    "lenName": 16,
    "lenType": 16,
    "lenVar": 40
   },
   "kernels_config": {
    "python": {
     "delete_cmd_postfix": "",
     "delete_cmd_prefix": "del ",
     "library": "var_list.py",
     "varRefreshCmd": "print(var_dic_list())"
    },
    "r": {
     "delete_cmd_postfix": ") ",
     "delete_cmd_prefix": "rm(",
     "library": "var_list.r",
     "varRefreshCmd": "cat(var_dic_list()) "
    }
   },
   "types_to_exclude": [
    "module",
    "function",
    "builtin_function_or_method",
    "instance",
    "_Feature"
   ],
   "window_display": false
  }
 },
 "nbformat": 4,
 "nbformat_minor": 4
}
