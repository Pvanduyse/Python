{
 "cells": [
  {
   "cell_type": "markdown",
   "metadata": {
    "slideshow": {
     "slide_type": "slide"
    }
   },
   "source": [
    "# Rate Equations"
   ]
  },
  {
   "cell_type": "markdown",
   "metadata": {
    "slideshow": {
     "slide_type": "fragment"
    }
   },
   "source": [
    "Recall, a rate equation looks like this:\n",
    "$$\\frac{dy}{dt} = f(y,t).$$\n",
    "* $y$ is the dependent variable and is a function of $t$, that is $y(t)$.\n",
    "* $t$ is the independent variable. \n",
    "* $f(y,t)$ is some function of $y$ and $t$; that is, some formula written in terms of $y$ and possibly $t$.\n",
    "    * We call this function the *rate* or the *right hand side function* (RHS).\n",
    "    * In chemical engineering it can come from a mass balance, energy balance, or momentum balance\n",
    "* There is also an initial condition $$y(0)=y_0.$$\n",
    "* This is an example of an ordinary differential equation (ODE)\n",
    "\n"
   ]
  },
  {
   "cell_type": "markdown",
   "metadata": {
    "slideshow": {
     "slide_type": "slide"
    }
   },
   "source": [
    "### Example Radioactive decay. \n",
    "\n",
    "$$\\frac{dC}{dt} = -\\frac{C}{\\tau}.$$  \n",
    "The exact solution is \n",
    "$$C(t) = C_0e^{-t/\\tau},$$ \n",
    "where $C_0$ is the initial concentration."
   ]
  },
  {
   "cell_type": "markdown",
   "metadata": {
    "slideshow": {
     "slide_type": "slide"
    }
   },
   "source": [
    "### Preview: ```odeint```\n",
    "\n",
    "* New function ```odeint```\n",
    "* ```from scipy.integrate import odeint```\n",
    "* Questions:\n",
    "    * What arguments will this need?\n",
    "    * What will it return?\n",
    "    * Will you need to define a function and what form will it have?\n",
    "    * What does the *solution* look like? (Like, what do you get as an *answer*?)\n",
    "    * What were the things we needed/did in Excel?\n",
    "* Try to solve the above ODE with $\\tau=1$, $C_0=1$ and $t_{end}=5$."
   ]
  },
  {
   "cell_type": "markdown",
   "metadata": {
    "slideshow": {
     "slide_type": "slide"
    }
   },
   "source": [
    "#### Numerical Solution:\n",
    "\n",
    "$$\\frac{dC}{dt} = -\\frac{C}{\\tau}.$$  \n",
    "\n",
    "1. define the function ```f(y,t)```\n",
    "2. set the desired solution times ```t```\n",
    "3. set the initial condition ```C0```\n",
    "4. call ```odeint``` as ```C=odeint(f, C0, times)```\n",
    "    * ```from scipy.integrate import odeint```\n",
    "5. plot the results\n",
    "\n",
    "Solve this problem with $\\tau=1$, $C_0=1$, and t_end=5."
   ]
  },
  {
   "cell_type": "code",
   "execution_count": 2,
   "metadata": {
    "slideshow": {
     "slide_type": "slide"
    }
   },
   "outputs": [],
   "source": [
    "import numpy             as np\n",
    "import matplotlib.pyplot as plt\n",
    "%matplotlib inline\n",
    "from scipy.integrate     import odeint"
   ]
  },
  {
   "cell_type": "code",
   "execution_count": 3,
   "metadata": {
    "slideshow": {
     "slide_type": "slide"
    }
   },
   "outputs": [
    {
     "data": {
      "image/png": "[encoded data removed]",
      "text/plain": [
       "<Figure size 432x288 with 1 Axes>"
      ]
     },
     "metadata": {
      "needs_background": "light"
     },
     "output_type": "display_data"
    }
   ],
   "source": [
    "#------ Step 1, define the function\n",
    "\n",
    "def rhsf(C, t, τ):\n",
    "    return -C/τ\n",
    "\n",
    "#------ Step 2, set times to get the solution at\n",
    "\n",
    "t = np.linspace(0, 5, 1000)\n",
    "\n",
    "#------ Step 3, set initial condition\n",
    " \n",
    "C0 = 1\n",
    "\n",
    "#------ Step 4, solve the problem\n",
    "\n",
    "τ=1\n",
    "C = odeint(rhsf, C0, t, args=(τ,))\n",
    "\n",
    "#------ Step 5 plot the answer\n",
    "\n",
    "plt.rc('font', size=14)\n",
    "plt.plot(t,C)\n",
    "plt.xlabel('t')\n",
    "plt.ylabel('C(t)');\n",
    "\n",
    "#------ Step 6: does the answer make sense? Analyse it."
   ]
  },
  {
   "cell_type": "markdown",
   "metadata": {
    "slideshow": {
     "slide_type": "slide"
    }
   },
   "source": [
    "### Exercise\n",
    "\n",
    "Solve the rate equation for $v(t)$ at discrete points $t$ and plot the result:\n",
    "\n",
    "$$\\frac{dv}{dt} = g - cv^2.$$\n",
    "\n",
    "* $g=9.81$, $c=1$.\n",
    "* $v_0 = 0$.\n",
    "* Solve to $t=2$."
   ]
  },
  {
   "cell_type": "code",
   "execution_count": 5,
   "metadata": {
    "slideshow": {
     "slide_type": "fragment"
    }
   },
   "outputs": [
    {
     "data": {
      "text/plain": [
       "Text(0, 0.5, 'v(t)')"
      ]
     },
     "execution_count": 5,
     "metadata": {},
     "output_type": "execute_result"
    },
    {
     "data": {
      "image/png": "[encoded data removed]",
      "text/plain": [
       "<Figure size 432x288 with 1 Axes>"
      ]
     },
     "metadata": {
      "needs_background": "light"
     },
     "output_type": "display_data"
    }
   ],
   "source": [
    "def rhsf(v, t):\n",
    "    g = 9.81\n",
    "    c = 1\n",
    "    dvdt = g - c*v**2\n",
    "    return dvdt\n",
    "\n",
    "v0 = 0.0\n",
    "t = np.linspace(0,2,200)\n",
    "v = odeint(rhsf, v0, t)\n",
    "\n",
    "plt.plot(t,v)\n",
    "plt.xlabel('t')\n",
    "plt.ylabel('v(t)')\n"
   ]
  },
  {
   "cell_type": "markdown",
   "metadata": {
    "slideshow": {
     "slide_type": "slide"
    }
   },
   "source": [
    "## Multiple equations\n",
    "\n",
    "What is we have multiple rate equations in multiple variables?"
   ]
  },
  {
   "cell_type": "markdown",
   "metadata": {
    "slideshow": {
     "slide_type": "fragment"
    }
   },
   "source": [
    "If we have multiple rate equations in multiple unknowns, we solve the problem in the same way, but using vector notation.\n",
    "* This is similar to what we do for ```fsolve```."
   ]
  },
  {
   "cell_type": "markdown",
   "metadata": {
    "slideshow": {
     "slide_type": "slide"
    }
   },
   "source": [
    "### Example\n",
    "\n",
    "Solve for the velocity of a falling object:\n",
    "\\begin{align}\n",
    "\\frac{dv}{dt} &= g - cv^2, \\\\\n",
    "\\frac{dx}{dt} &= v.\n",
    "\\end{align}\n",
    "\n",
    "Here, g is gravitational acceleration, x is position, v is velocity, and c is a drag coefficient.\n",
    "\n"
   ]
  },
  {
   "cell_type": "markdown",
   "metadata": {
    "slideshow": {
     "slide_type": "slide"
    }
   },
   "source": [
    "We first cast this in the form $$\\frac{d\\vec{y}}{dt} = \\vec{f}(\\vec{y},t).$$ \n",
    "\n",
    "This is equivalent to\n",
    "\\begin{align}\n",
    "\\frac{dy_0}{dt} &= f_0(y_0,y_1,t) \\\\\n",
    "\\frac{dy_1}{dt} &= f_1(y_0,y_1,t) \n",
    "\\end{align}\n",
    "\n",
    "For our example problem $v\\equiv y_0$, $x\\equiv y_1$, $g-cv^2=f_0(v,x,t)$, and $v=f_1(v,x,t)$\n",
    "\n",
    "* Note, similiar to ```fsolve```:\n",
    "    * Pass in an array of variables,\n",
    "        * use a readable name, \n",
    "    * Recover variables from the array,\n",
    "    * Compute each rate in terms of the variables,\n",
    "    * Return an array of the rates."
   ]
  },
  {
   "cell_type": "markdown",
   "metadata": {
    "slideshow": {
     "slide_type": "slide"
    }
   },
   "source": [
    "#### Numerical solution \n",
    "\n",
    "\\begin{align}\n",
    "\\frac{dv}{dt} &= g - cv^2, \\\\\n",
    "\\frac{dx}{dt} &= v.\n",
    "\\end{align}\n",
    "\n",
    "* c = 1 m$^{-1}$\n",
    "* g = 9.81 (m/s$^2$)\n",
    "* t_end = 2 (s)\n",
    "* $v_0 = 0$ (m/s)\n",
    "* $x_0 = 0$ (m)"
   ]
  },
  {
   "cell_type": "code",
   "execution_count": 7,
   "metadata": {
    "slideshow": {
     "slide_type": "slide"
    }
   },
   "outputs": [
    {
     "data": {
      "image/png": "[encoded data removed]",
      "text/plain": [
       "<Figure size 432x288 with 1 Axes>"
      ]
     },
     "metadata": {
      "needs_background": "light"
     },
     "output_type": "display_data"
    }
   ],
   "source": [
    "#------ Step 1, define the function\n",
    "\n",
    "def rhsf(vx, t):\n",
    "    v = vx[0]\n",
    "    x = vx[1]\n",
    "    \n",
    "    g = 9.81\n",
    "    c = 1\n",
    "    \n",
    "    dvdt = g - c*v*v\n",
    "    dxdt = v\n",
    "    \n",
    "    return np.array([dvdt, dxdt])\n",
    "\n",
    "#------ Step 2, set times to get the solution at\n",
    "\n",
    "t = np.linspace(0,2,1001)\n",
    "\n",
    "#------ Step 3, set initial condition\n",
    "\n",
    "vx0 = np.array([0, 0])\n",
    "\n",
    "#------ Step 4, solve the problem, recover v, x arrays\n",
    "\n",
    "vx = odeint(rhsf, vx0, t)\n",
    "\n",
    "#------ Step 5 plot the answer\n",
    "\n",
    "plt.plot(t, vx[:,0], label='v')\n",
    "plt.plot(t, vx[:,1], label='x')\n",
    "plt.xlabel('t')\n",
    "plt.ylabel('v(t), x(t)')\n",
    "plt.legend(frameon=False);\n",
    "\n",
    "#------ Step 6: does the answer make sense? Analyse it.\n"
   ]
  },
  {
   "cell_type": "markdown",
   "metadata": {
    "slideshow": {
     "slide_type": "slide"
    }
   },
   "source": [
    "### Exercise\n",
    "\n",
    "Solve the following rate equation for a coal particle in a furnace.\n",
    "$$ \\frac{dT}{dt} = \\left(\\frac{hA}{m c_p}(T_f - T) + \\frac{\\sigma A}{m c_p}(T_f^4-T^4)\\right).$$\n",
    "\n",
    "The initial particle temperature is $T_0=500$ K.\n",
    "\n",
    "Use D=100 $\\mu$m, tend = 0.05 s.\n",
    "\n",
    "The following data is given:\n",
    "\n",
    "| Variable | Value  | Units        |\n",
    "|----------|--------|-------       |\n",
    "| $\\rho_p$ | 1000   | kg/m$^3$     |\n",
    "| $c_p$    | 1380   | J/kg$\\cdot$K |  \n",
    "| $k$      | 0.1    | W/m$\\cdot$K  |  \n",
    "| $Nu$     | 2      | --           |  \n",
    "| $\\sigma$ | 5.67E-8| W/m$^2$K$^4$ |\n",
    "| $T_f$    | 1500   | K            |\n",
    "\n",
    "Also, the area, mass and Nusselt number $Nu$ are given, respectively, by:\n",
    "$$ A = \\pi D^2, $$\n",
    "$$ m = \\frac{\\pi}{6}D^3\\rho_p,$$\n",
    "$$ Nu = \\frac{hD}{k}.$$\n"
   ]
  },
  {
   "cell_type": "code",
   "execution_count": null,
   "metadata": {
    "slideshow": {
     "slide_type": "slide"
    }
   },
   "outputs": [],
   "source": []
  },
  {
   "cell_type": "markdown",
   "metadata": {
    "slideshow": {
     "slide_type": "slide"
    }
   },
   "source": []
  },
  {
   "cell_type": "code",
   "execution_count": null,
   "metadata": {},
   "outputs": [],
   "source": []
  }
 ],
 "metadata": {
  "celltoolbar": "Slideshow",
  "hide_input": false,
  "kernelspec": {
   "display_name": "Python 3 (ipykernel)",
   "language": "python",
   "name": "python3"
  },
  "language_info": {
   "codemirror_mode": {
    "name": "ipython",
    "version": 3
   },
   "file_extension": ".py",
   "mimetype": "text/x-python",
   "name": "python",
   "nbconvert_exporter": "python",
   "pygments_lexer": "ipython3",
   "version": "3.8.10"
  },
  "varInspector": {
   "cols": {
    "lenName": 16,
    "lenType": 16,
    "lenVar": 40
   },
   "kernels_config": {
    "python": {
     "delete_cmd_postfix": "",
     "delete_cmd_prefix": "del ",
     "library": "var_list.py",
     "varRefreshCmd": "print(var_dic_list())"
    },
    "r": {
     "delete_cmd_postfix": ") ",
     "delete_cmd_prefix": "rm(",
     "library": "var_list.r",
     "varRefreshCmd": "cat(var_dic_list()) "
    }
   },
   "types_to_exclude": [
    "module",
    "function",
    "builtin_function_or_method",
    "instance",
    "_Feature"
   ],
   "window_display": false
  }
 },
 "nbformat": 4,
 "nbformat_minor": 4
}
