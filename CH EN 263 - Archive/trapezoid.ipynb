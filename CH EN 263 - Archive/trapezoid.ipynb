{
 "cells": [
  {
   "cell_type": "markdown",
   "metadata": {
    "slideshow": {
     "slide_type": "slide"
    }
   },
   "source": [
    "# Integration"
   ]
  },
  {
   "cell_type": "code",
   "execution_count": 1,
   "metadata": {
    "slideshow": {
     "slide_type": "skip"
    }
   },
   "outputs": [],
   "source": [
    "import numpy as np\n",
    "import matplotlib.pyplot as plt\n",
    "%matplotlib inline"
   ]
  },
  {
   "cell_type": "markdown",
   "metadata": {
    "slideshow": {
     "slide_type": "slide"
    }
   },
   "source": [
    "## Simple numerical integration\n",
    "\n",
    "$$I = \\int_a^bf(x)dx.$$\n",
    "\n",
    "$$I \\approx \\sum_{i=0}^{N_{rec}-1}f(x_i)\\Delta x,$$\n",
    "\n",
    "$$\\Delta x = \\frac{b-a}{N_{rec}},$$\n",
    "\n",
    "$$x_i = i\\Delta x.$$\n",
    "\n"
   ]
  },
  {
   "cell_type": "markdown",
   "metadata": {
    "slideshow": {
     "slide_type": "slide"
    }
   },
   "source": [
    "<img src=http://ignite.byu.edu/che263/lectureNotes/L18_f01.svg width=500>\n",
    "\n",
    "* In the figure, \n",
    "    * $b-a=5-0 = 5$\n",
    "    * $N_{rec}=5$\n",
    "    * $\\Delta x=(b-a)/N_{rec} = 1$"
   ]
  },
  {
   "cell_type": "markdown",
   "metadata": {
    "slideshow": {
     "slide_type": "slide"
    }
   },
   "source": [
    "### Exercise 1\n",
    "\n",
    "Find the following integral as simply as you can.\n",
    "\n",
    "$$I = \\int_0^{\\pi/2}\\cos(x)dx$$\n",
    "\n",
    "**again:**\n",
    "\n",
    "$$I \\approx \\sum_{i=0}^{N_{rec}-1}f(x_i)\\Delta x$$\n"
   ]
  },
  {
   "cell_type": "code",
   "execution_count": 2,
   "metadata": {
    "slideshow": {
     "slide_type": "fragment"
    }
   },
   "outputs": [
    {
     "name": "stdout",
     "output_type": "stream",
     "text": [
      "The integral of cos(x) from 0 to π/2 is equal to 1.00\n"
     ]
    }
   ],
   "source": [
    "def integral(f, a, b, precision = 4):\n",
    "    Nrec = 10**(precision+1)\n",
    "    Δx = (b-a)/Nrec\n",
    "    x = np.linspace(a, b, Nrec+1)\n",
    "    I = np.sum(f(x)[:-1]*Δx)\n",
    "    return I\n",
    "\n",
    "print(\"The integral of cos(x) from 0 to π/2 is equal to {I:.2f}\".format(\n",
    "    I = integral(np.cos, 0, np.pi/2)\n",
    "))"
   ]
  },
  {
   "cell_type": "markdown",
   "metadata": {
    "slideshow": {
     "slide_type": "slide"
    }
   },
   "source": [
    "### Exercise 2\n",
    "* Solve same problem as in Exercise 1:\n",
    "$$I = \\int_0^{\\pi/2}\\cos(x)dx$$\n",
    "* This time, write a a function called ```integrate``` that takes the following arguments:\n",
    "    * A function ```f``` to integrate,\n",
    "    * The upper and lower bounds ```a```, ```b```\n",
    "    * The number of rectangles to use.\n",
    "* The function returns the integral.\n",
    "\n",
    "\n",
    "#### Notes\n",
    "* Start easy, then add complexity.\n",
    "* Think through the steps. \n",
    "    * What variables or arrays do you need? Do they need to be initialized?\n",
    "    * How to treat the sum?"
   ]
  },
  {
   "cell_type": "code",
   "execution_count": 3,
   "metadata": {
    "slideshow": {
     "slide_type": "slide"
    }
   },
   "outputs": [
    {
     "data": {
      "text/plain": [
       "1.0007851925466307"
      ]
     },
     "execution_count": 3,
     "metadata": {},
     "output_type": "execute_result"
    }
   ],
   "source": [
    "def integrate(f, a, b, Nrec=1000):\n",
    "    Δx = (b - a)/Nrec\n",
    "    x = np.linspace(a, b, Nrec+1)\n",
    "    I = np.sum(f(x)[:-1])*Δx\n",
    "    return I\n",
    "\n",
    "def myfunc(x):\n",
    "    return np.cos(x)\n",
    "\n",
    "integrate(myfunc, 0, np.pi/2)"
   ]
  },
  {
   "cell_type": "markdown",
   "metadata": {
    "slideshow": {
     "slide_type": "slide"
    }
   },
   "source": [
    "## Trapazoid integration\n",
    "\n",
    "* In the simple version above, we used rectangles.\n",
    "* Try this with trapazoids instead.\n",
    "* $N_{trap}$ is the number of trapazoids ($N_{trap}=5$).\n",
    "* We have $N_{trap}+1$ points (6 points).\n",
    "\n",
    "<img src=http://ignite.byu.edu/che263/lectureNotes/L18_f02.svg width=500>\n",
    "\n"
   ]
  },
  {
   "cell_type": "markdown",
   "metadata": {
    "slideshow": {
     "slide_type": "slide"
    }
   },
   "source": [
    "\\begin{align}\n",
    "I_0 &= \\frac{\\Delta x}{2}(f_0+f_1), \\\\\n",
    "I_1 &= \\frac{\\Delta x}{2}(\\phantom{f_0+}f_1+f_2), \\\\\n",
    "I_2 &= \\frac{\\Delta x}{2}(\\phantom{f_0+f_1+}f_2+f_3), \\\\\n",
    "I_3 &= \\frac{\\Delta x}{2}(\\phantom{f_0+f_1+f_2+}f_3+f_4), \\\\\n",
    "I_4 &= \\frac{\\Delta x}{2}(\\phantom{f_0+f_1+f_2+f_3+}f_4+f_5). \\\\\n",
    "\\end{align}\n",
    "\n",
    "$$I =  \\left(\\Delta x\\sum_{i=0}^{5}f_i\\right) -\\frac{\\Delta x}{2}(f_0+f_{5}).$$\n",
    "\n",
    "<font color='blue'>\n",
    "$$I = \\left(\\Delta x\\sum_{i=0}^{N_{trap}}f_i\\right) -\\frac{\\Delta x}{2}(f_0+f_{N_{trap}}).$$\n",
    "</font>\n",
    "\n",
    "* Note the overlap of the terms: two of every $f$ value except first and last.\n",
    "    * So, we double all of them and then subtract the first and last."
   ]
  },
  {
   "cell_type": "markdown",
   "metadata": {
    "slideshow": {
     "slide_type": "slide"
    }
   },
   "source": [
    "### Exercise\n",
    "* Write a a function called ```integrate_trap``` that takes the following arguments:\n",
    "    * A function ```f``` to integrate,\n",
    "    * The upper and lower bounds ```a```, ```b```\n",
    "    * The number of trapazoids to use.\n",
    "* The function returns the integral.\n",
    "* **Try it out on the following:**\n",
    "\n",
    "$$I = \\int_0^{\\pi/2}\\cos(x)dx$$\n",
    "\n",
    "#### Notes\n",
    "* You can reuse and edit your code from the previous exercise.\n",
    "* Start with the simplest solution, then add features, testing regularly."
   ]
  },
  {
   "cell_type": "markdown",
   "metadata": {},
   "source": [
    "\n",
    "\n",
    "<font color='blue'>\n",
    "$$I = \\left(\\Delta x\\sum_{i=0}^{N_{trap}}f_i\\right) -\\frac{\\Delta x}{2}(f_0+f_{N_{trap}}).$$\n",
    "</font>"
   ]
  },
  {
   "cell_type": "code",
   "execution_count": 11,
   "metadata": {
    "slideshow": {
     "slide_type": "fragment"
    }
   },
   "outputs": [
    {
     "name": "stdout",
     "output_type": "stream",
     "text": [
      "The integral of cos(x) from 0 to π/s is equal to 0.9999997943832333\n"
     ]
    }
   ],
   "source": [
    "def integrate_trap(f, a, b, Ntrap = 1000):\n",
    "    Δx = (b-a)/Ntrap\n",
    "    x = np.linspace(a, b, Ntrap+1)\n",
    "    I = np.sum(f(x))*Δx - (f(x[0])+f(x[-1]))*Δx/2\n",
    "    return I\n",
    "\n",
    "print(\"The integral of cos(x) from 0 to π/s is equal to {I}\".format(\n",
    "      I = integrate_trap(np.cos, 0, np.pi/2)\n",
    "))"
   ]
  },
  {
   "cell_type": "code",
   "execution_count": null,
   "metadata": {},
   "outputs": [],
   "source": []
  }
 ],
 "metadata": {
  "celltoolbar": "Slideshow",
  "hide_input": false,
  "kernelspec": {
   "display_name": "Python 3 (ipykernel)",
   "language": "python",
   "name": "python3"
  },
  "language_info": {
   "codemirror_mode": {
    "name": "ipython",
    "version": 3
   },
   "file_extension": ".py",
   "mimetype": "text/x-python",
   "name": "python",
   "nbconvert_exporter": "python",
   "pygments_lexer": "ipython3",
   "version": "3.8.10"
  },
  "varInspector": {
   "cols": {
    "lenName": 16,
    "lenType": 16,
    "lenVar": 40
   },
   "kernels_config": {
    "python": {
     "delete_cmd_postfix": "",
     "delete_cmd_prefix": "del ",
     "library": "var_list.py",
     "varRefreshCmd": "print(var_dic_list())"
    },
    "r": {
     "delete_cmd_postfix": ") ",
     "delete_cmd_prefix": "rm(",
     "library": "var_list.r",
     "varRefreshCmd": "cat(var_dic_list()) "
    }
   },
   "types_to_exclude": [
    "module",
    "function",
    "builtin_function_or_method",
    "instance",
    "_Feature"
   ],
   "window_display": false
  }
 },
 "nbformat": 4,
 "nbformat_minor": 4
}
