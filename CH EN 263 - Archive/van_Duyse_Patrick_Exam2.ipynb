{
 "cells": [
  {
   "cell_type": "markdown",
   "id": "08355c2a-6fbc-494c-9c4d-a16ee841d6b5",
   "metadata": {},
   "source": [
    "# Exam 2\n",
    "\n",
    "**This exam is confidential and is not to be shared with anyone not in ChEn 263 Fall 2021**"
   ]
  },
  {
   "cell_type": "markdown",
   "id": "75b531a1-ca13-4c69-a60e-8ac0c96f175d",
   "metadata": {},
   "source": [
    "## Problem 1 (18 points)\n",
    "\n",
    "If I take two numbers $x_1$ and $x_2$ then the _arithmetic_ average is\n",
    "$$\\bar{x}_a=\\tfrac{1}{2}\\left( x_1 + x_2 \\right)$$\n",
    "the _geometric_ average is\n",
    "$$\\bar{x}_g=\\left( x_1~x_2 \\right)^\\tfrac{1}{2}$$\n",
    "and the _harmonic_ average is\n",
    "$$\\bar{x}_h=2\\left( x_1^{-1} + x_2^{-1} \\right)^{-1}$$\n",
    "\n",
    "These three averages each has uses in physics and engineering.\n",
    "\n",
    "Make a function that computes and prints all three types of averages of any two non-negative numbers. There should be a check to warn the user and gracefully stop computation if one or both input numbers is _negative_. In the case of the harmonic average you additionally need to make the code correctly compute the result of zero when one or both of the input numbers is zero. Test your function by calling it in turn for the following three sets of numbers. \n",
    "* -5 and 14\n",
    "* 0 and 9\n",
    "* 3 and 6\n",
    "\n",
    "The function should output with detailed print statements so the user can tell just by reading the output what two numbers are being averaged, what kind of average is being computed, and the average value. Also make sure your code itself is reasonably documented."
   ]
  },
  {
   "cell_type": "code",
   "execution_count": 1,
   "id": "7337f30b-9a0e-489b-9e91-164e56223cea",
   "metadata": {},
   "outputs": [
    {
     "name": "stdout",
     "output_type": "stream",
     "text": [
      "-5 and 14 are not valid arguments. The arguments cannot be negative numbers.\n",
      "The arithmetic average of  0 and 9 is 4.5\n",
      "The geometric average of  0 and 9 is 0.0\n",
      "The harmonic average of  0 and 9 is 0\n",
      "The arithmetic average of  3 and 6 is 4.5\n",
      "The geometric average of  3 and 6 is 4.242640687119285\n",
      "The harmonic average of  3 and 6 is 4.0\n"
     ]
    }
   ],
   "source": [
    "def triple_avg(x1, x2):\n",
    "    # Catch negative arguments\n",
    "    if(x1 < 0 or x2 < 0):\n",
    "        print(x1, \"and\", x2, \"are not valid arguments. The arguments cannot be negative numbers.\")\n",
    "        return\n",
    "    \n",
    "    # Calculate and print the arithmetic average\n",
    "    arithmetic_avg = (x1 + x2)/2\n",
    "    print(\"The arithmetic average of \",x1,\"and\",x2,\"is\",arithmetic_avg)\n",
    "    \n",
    "    # Calculate and print the geometric average\n",
    "    geometric_avg = (x1*x2)**0.5\n",
    "    print(\"The geometric average of \",x1,\"and\",x2,\"is\",geometric_avg)\n",
    "    \n",
    "    # Calculate and print the harmonic average, setting it first to zero\n",
    "    harmonic_avg = 0\n",
    "    # then only recalculating it's value if x1 and x2 are both non-zero\n",
    "    if(x1 != 0 and x2 != 0):\n",
    "        harmonic_avg = 2/(1/x1 + 1/x2)\n",
    "    print(\"The harmonic average of \",x1,\"and\",x2,\"is\",harmonic_avg)\n",
    "    \n",
    "    return\n",
    "\n",
    "triple_avg(-5, 14)\n",
    "triple_avg(0, 9)\n",
    "triple_avg(3, 6)"
   ]
  },
  {
   "attachments": {
    "edd2ff3b-bc97-46ea-bb0a-d1b59a712643.png": {
     "image/png": "[encoded data removed]"
    }
   },
   "cell_type": "markdown",
   "id": "cfa27fc3-9a63-4924-ae58-d4f8fb22a390",
   "metadata": {},
   "source": [
    "## Problem 2 (18 points)\n",
    "\n",
    "In Homework 10 Problem 1 you made a custom function that computes the Gaussian error function $\\mathrm{erf}(x)$ using a Taylor series centered on $x=0$. For a finite number of terms the resulting function starts to develop accuracy problems if $|x|$ is large. An alternative way to construct the needed function for large $|x|$ values and a relatively small number of terms is with an _asymptotic expansion_, which is kind of like a Taylor series except centered on $|x|\\rightarrow \\infty$. The formula for the asymptotic expansion in this case is\n",
    "\n",
    "![image.png](attachment:edd2ff3b-bc97-46ea-bb0a-d1b59a712643.png)  \n",
    "\n",
    "Implement this function in well-documented Python code and use 14 terms in the infinite series (i.e. `n_max = 13`). Then call your function and print out the value of $~~~1-\\mathrm{erf}(3.5)$\n",
    "\n",
    "You might want to make sure your function is working properly by comparing results to the built-in `math.erf` function (available once you `import math` in your code)."
   ]
  },
  {
   "cell_type": "code",
   "execution_count": 2,
   "id": "f84cc600-c3b1-4a68-a418-999c0230317a",
   "metadata": {},
   "outputs": [
    {
     "name": "stdout",
     "output_type": "stream",
     "text": [
      "1 - my_erf(3.5) = 7.430956330267691e-07\n",
      "1 - math.erf(3.5) = 7.4309837239106e-07\n"
     ]
    }
   ],
   "source": [
    "import math\n",
    "from numpy import exp, pi\n",
    "\n",
    "def my_erf(x):\n",
    "    # set constant n_max\n",
    "    n_max = 13\n",
    "    \n",
    "    # calculate the sum of products\n",
    "    sum = 0\n",
    "    for n in range(n_max + 1): #ranging from 0 to n_max (inclusive)\n",
    "        mult = 1\n",
    "        for k in range(1, n + 1): #ranging from 0 to n (inclusive)\n",
    "            mult *= (1 - 2*k)/(2*x**2)\n",
    "        sum += mult\n",
    "    \n",
    "    # plug the sum into the given equation and return the answer\n",
    "    answer = 1 - exp(-1 * x**2)/(pi**0.5*x)*sum\n",
    "    return answer\n",
    "\n",
    "print(\"1 - my_erf(3.5) =\", 1 - my_erf(3.5))\n",
    "print(\"1 - math.erf(3.5) =\", 1 - math.erf(3.5))"
   ]
  },
  {
   "cell_type": "markdown",
   "id": "fbaba463-4911-475f-a3ef-a7c0cec1f51f",
   "metadata": {},
   "source": [
    "## Problem 3 (9 points)\n",
    "\n",
    "Use Latex within Markdown to reproduce precisely the series formula for $\\mathrm{erf}(x)$ displayed in Problem 2. Every character and symbol should look exactly the same: font, style, position, and relative size. The equation as a whole should be similarly positioned relative to surrounding text."
   ]
  },
  {
   "cell_type": "markdown",
   "id": "1c457798-dcef-4ca5-8d4b-3a7fc65591a3",
   "metadata": {},
   "source": [
    "$$\n",
    "\\text{erf}(x) = 1 - \\frac\n",
    "        {\\text{exp}\\left(-x^2\\right)}\n",
    "        {\\sqrt{\\pi}x}\n",
    "    \\sum_{n=0}^{\\infty}\n",
    "        \\left[\n",
    "            \\prod_{k=1}^{n}\n",
    "                \\frac\n",
    "                    {1 - 2k}\n",
    "                    {2x^2}\n",
    "        \\right]\n",
    "$$"
   ]
  },
  {
   "cell_type": "markdown",
   "id": "6689c25f-eddf-482f-aed5-3645de48c04f",
   "metadata": {},
   "source": [
    "\n",
    "**Note**: You must submit your exam as a pdf file, but first make sure it is properly displaying the Markdown and results from your Python code. To this end, do the following \n",
    "1. Run $\\rightarrow$ Restart Kernel and Run All Cells\n",
    "2. Covert the ipynb file to html (File $\\rightarrow$ Export Notebook As $\\rightarrow$ HTML)\n",
    "3. Open the html file in your browser and _print to pdf_. Make sure file name has been changed to your personal name."
   ]
  },
  {
   "cell_type": "code",
   "execution_count": null,
   "id": "11f01977-48eb-4993-a919-dc40f84b6165",
   "metadata": {},
   "outputs": [],
   "source": []
  }
 ],
 "metadata": {
  "kernelspec": {
   "display_name": "Python 3 (ipykernel)",
   "language": "python",
   "name": "python3"
  },
  "language_info": {
   "codemirror_mode": {
    "name": "ipython",
    "version": 3
   },
   "file_extension": ".py",
   "mimetype": "text/x-python",
   "name": "python",
   "nbconvert_exporter": "python",
   "pygments_lexer": "ipython3",
   "version": "3.8.10"
  }
 },
 "nbformat": 4,
 "nbformat_minor": 5
}
