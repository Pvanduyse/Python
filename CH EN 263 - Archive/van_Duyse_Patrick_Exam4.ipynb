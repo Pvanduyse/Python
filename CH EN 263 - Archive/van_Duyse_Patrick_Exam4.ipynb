{
 "cells": [
  {
   "cell_type": "markdown",
   "id": "08355c2a-6fbc-494c-9c4d-a16ee841d6b5",
   "metadata": {},
   "source": [
    "# Exam 4 - Key\n",
    "\n",
    "**This exam is confidential and is not to be shared with anyone not in ChEn 263 Fall 2021**"
   ]
  },
  {
   "cell_type": "code",
   "execution_count": 1,
   "id": "c2f875e1-fd04-4ca5-9f9e-1d83d5d2e3c6",
   "metadata": {},
   "outputs": [],
   "source": [
    "# boilerplate import code, provided free of charge\n",
    "\n",
    "import numpy as np\n",
    "import matplotlib.pyplot as plt\n",
    "%matplotlib inline\n",
    "from scipy.interpolate import interp1d\n",
    "from scipy.integrate import quad, odeint\n",
    "from scipy.optimize import fsolve, curve_fit"
   ]
  },
  {
   "cell_type": "markdown",
   "id": "6c400b6b-6138-414d-ba45-626c94786506",
   "metadata": {},
   "source": [
    "## Problem 1 (9 points)\n",
    "The following ODE describes a process of interest $$\\frac{dy}{dt} = ye^{-t}-\\cos(t)$$ The initial condition is $y_0=\\sqrt{2}$.\n",
    "* Numerically solve $y$ for $0 \\leq t \\leq 9$.  \n",
    "* Make a smooth and well-formatted plot of the solution"
   ]
  },
  {
   "cell_type": "code",
   "execution_count": 2,
   "id": "d38eea63-f7bc-4b22-8cdb-53698d5af0f6",
   "metadata": {},
   "outputs": [
    {
     "data": {
      "image/png": "[encoded data removed]",
      "text/plain": [
       "<Figure size 432x288 with 1 Axes>"
      ]
     },
     "metadata": {
      "needs_background": "light"
     },
     "output_type": "display_data"
    }
   ],
   "source": [
    "# Initial constants\n",
    "a = 0\n",
    "b = 9\n",
    "N = 1000\n",
    "Δt = (b-a)/N\n",
    "y0 = np.sqrt(2)\n",
    "\n",
    "# Derivative equation\n",
    "def dy_by_dt(y, t):\n",
    "    return y*np.exp(-1*t) - np.cos(t)\n",
    "\n",
    "# Array spaces\n",
    "t_vals = np.linspace(a, b, N)\n",
    "y_vals = odeint(dy_by_dt, y0, t_vals)\n",
    "    \n",
    "# Plotting\n",
    "plt.rc('font', size=14)\n",
    "plt.title(r'$y$ vs $t$, given $\\frac{dy}{dt}$ and $y_0 = \\sqrt{2}$')\n",
    "plt.ylabel('y')\n",
    "plt.xlabel('t')\n",
    "plt.ylim([0,5])\n",
    "plt.plot(t_vals, y_vals);"
   ]
  },
  {
   "cell_type": "markdown",
   "id": "6ba51e1d-fdbc-4345-82e4-c10b8b620cad",
   "metadata": {},
   "source": [
    "## Problem 2 (12 points)\n",
    "The following equation describes the change in entropy across a gas compressor $$\\Delta S = \\int_{T_1}^{T_2}\\frac{C_p(T)}{T}~dT-R~\\ln\\left(\\frac{P_2}{P_1} \\right)$$ where $R$ is the ideal gas constant, $T$ is absolute temperature, $P$ is absolute pressure, and subscripts 1 and 2 indicate inlet and outlet respectively. The constant-pressure heat capacity $C_p$ as a function of temperature is already programmed below for methane (natural gas). \n",
    "\n",
    "If we can assume that $\\Delta S=0$ (entropy is constant) for a natural gas compressor, then solve for outlet temperature $T_2$. The other inlet and outlet parameters are known: $T_1=300~\\mathrm{K}$, $P_1=1~\\mathrm{bar}$, and $P_2=30~\\mathrm{bar}$. Perform your solution numerically using Python. You know from experience that when methane is compressed to this amount the temperature approximately doubles. \n",
    "\n",
    "Note that in numpy, the natural log is given by `np.log(...)`."
   ]
  },
  {
   "cell_type": "code",
   "execution_count": 3,
   "id": "e40c9241-8505-4822-a784-8807d9b6a5f2",
   "metadata": {},
   "outputs": [
    {
     "name": "stdout",
     "output_type": "stream",
     "text": [
      "The outlet temperature of methane in a natural gas processor, given inlet temperature (300 K), inlet pressure (1 bar) and outlet pressure (30 bar) is approximately 586 K\n"
     ]
    }
   ],
   "source": [
    "#----------------------------------------------------------------\n",
    "# Function that gives the heat capacity (J/mol.K) for methane, \n",
    "# with T in Kelvin\n",
    "# source: https://webbook.nist.gov/cgi/cbook.cgi?ID=C74828&Mask=1\n",
    "def Cp(T):\n",
    "    TT = T/1000.\n",
    "    A = [-0.703029, 108.4773, -42.52157, 5.862788, 0.678565]\n",
    "    return A[0] + A[1]*TT + A[2]*TT**2 + A[3]*TT**3 + A[4]*TT**-2\n",
    "#----------------------------------------------------------------\n",
    "\n",
    "# Define constants\n",
    "R = 8.314                                        # J/K⋅mol\n",
    "T1 = 300                                         # K\n",
    "P1 = 1                                           # bar\n",
    "P2 = 30                                          # bar\n",
    "P2_over_P1 = 30/1                                # unitless\n",
    "\n",
    "# Define required method\n",
    "def ΔS(T2, T1, P_ratio):                         # J\n",
    "    return quad(lambda T: Cp(T)/T, T1, T2)[0] - R*np.log(P_ratio)\n",
    "\n",
    "# use fsolve to numerically find the solution \n",
    "T2 = fsolve(ΔS, 600, args=(T1, P2_over_P1))[0]   # K\n",
    "\n",
    "# print out the solution\n",
    "print('The outlet temperature of methane in a natural gas processor, given inlet temperature ({T1} K), inlet pressure ({P1} bar) and outlet pressure ({P2} bar) is approximately {T2:.0f} K'.format(\n",
    "    T1 = T1,   # K\n",
    "    T2 = T2,   # K\n",
    "    P1 = P1,   # K\n",
    "    P2 = P2    # K\n",
    "))"
   ]
  },
  {
   "cell_type": "markdown",
   "id": "cfa27fc3-9a63-4924-ae58-d4f8fb22a390",
   "metadata": {},
   "source": [
    "## Problem 3 (9 points)\n",
    "\n",
    "$$y = x\\ln\\left(\\frac{\\pi}{2}-x \\right)$$\n",
    "$$\\sin\\left(2y+1\\right)=x-1$$\n",
    "\n",
    "The above two equations have more than one solution, each given by the pair $(x,y)$. Using Python find the one solution where $0<x<2$ and $-2<y<0$. Do not algebraically substitute one equation into the other, in other words, numerically solve both equations simultaneously."
   ]
  },
  {
   "cell_type": "code",
   "execution_count": 9,
   "id": "f84cc600-c3b1-4a68-a418-999c0230317a",
   "metadata": {},
   "outputs": [
    {
     "name": "stdout",
     "output_type": "stream",
     "text": [
      "The x and y values for which y = x*ln(pi/2 - x) and sin(2*y + 1) = x - 1 where [0 < x < 2], and [-2 < y < 0] are x = 0.9779 and y = -0.5111\n"
     ]
    }
   ],
   "source": [
    "def eq1(x, y):\n",
    "    return x*np.log(np.pi/2 - x) - y\n",
    "\n",
    "def eq2(x, y):\n",
    "    return x - 1 - np.sin(2*y + 1)\n",
    "\n",
    "def eq(xy):\n",
    "    x = xy[0]\n",
    "    y = xy[1]\n",
    "    return (eq1(x, y), eq2(x, y))\n",
    "\n",
    "xy_guess = np.array([1,-1])\n",
    "\n",
    "xy = fsolve(eq, xy_guess)\n",
    "\n",
    "print(\"The x and y values for which y = x*ln(pi/2 - x) and sin(2*y + 1) = x - 1 where [0 < x < 2], and [-2 < y < 0] are x = {X:.4f} and y = {Y:.4f}\".format(\n",
    "    X = xy[0],\n",
    "    Y = xy[1]\n",
    "))"
   ]
  },
  {
   "cell_type": "markdown",
   "id": "fbaba463-4911-475f-a3ef-a7c0cec1f51f",
   "metadata": {},
   "source": [
    "## Problem 4 (15 points)\n",
    "\n",
    "Due to thermal energy storage and transport in soil, it is found that soil temperature lags behind air temperature. Moreover, the average temperature in the soil varies with depth below ground level and the day of the year. It has been found that  at a particular depth below ground, the typical day of they year that the soil has its lowest temperature is \n",
    "\n",
    "| depth (ft) | Coldest day |\n",
    "| :--------: | :---------: |\n",
    "|     0      |     35      |\n",
    "|     2      |     49      |\n",
    "|     5      |     70      |\n",
    "|    12      |     98      |\n",
    "\n",
    "where day 1 is January 1 and day 365 is December 31.\n",
    "\n",
    "* Plot the above data as points (depth on the _x axis_ and day on the _y axis_).\n",
    "* Do a cubic spline interpolation on the data. Plot the spline as a smooth curve from depth of 0 to 12 feet.\n",
    "* Use the spline you just made along with other code to rapidly and accurately estimate the depth (in ft) when the coldest day would be March 26 (day 85).\n"
   ]
  },
  {
   "cell_type": "code",
   "execution_count": 37,
   "id": "1b2de005-6053-4969-b80e-7c614839def2",
   "metadata": {},
   "outputs": [
    {
     "name": "stdout",
     "output_type": "stream",
     "text": [
      "The depth at which the coldest day would be March 26th has been estimated to be 7.52 feet\n"
     ]
    },
    {
     "data": {
      "image/png": "[encoded data removed]",
      "text/plain": [
       "<Figure size 432x288 with 1 Axes>"
      ]
     },
     "metadata": {
      "needs_background": "light"
     },
     "output_type": "display_data"
    }
   ],
   "source": [
    "data_depth = np.array([0, 2, 5, 12])\n",
    "data_coldest_day = np.array([35, 49, 70, 98])\n",
    "\n",
    "depth_space = np.linspace(0, 12, 1000)\n",
    "\n",
    "cold_day_interp = interp1d(data_depth, data_coldest_day, kind='cubic')\n",
    "\n",
    "coldest_day_interp = cold_day_interp(depth_space)\n",
    "\n",
    "depth = fsolve(lambda depth: cold_day_interp(depth) - 85, 8)[0]\n",
    "\n",
    "print('The depth at which the coldest day would be March 26th has been estimated to be {D:.2f} feet'.format(D = depth))\n",
    "\n",
    "plt.title('Depth of soil vs coldest day')\n",
    "plt.ylabel('Day')\n",
    "plt.xlabel('depth (ft)')\n",
    "plt.plot(data_depth, data_coldest_day, '.')\n",
    "plt.plot(depth_space, coldest_day_interp, '-');"
   ]
  },
  {
   "cell_type": "markdown",
   "id": "6689c25f-eddf-482f-aed5-3645de48c04f",
   "metadata": {},
   "source": [
    "\n",
    "# Leave 5 minutes for uploading your work\n",
    "\n",
    "**Instructions**: Just like for Exams 2 and 3, you must submit your exam as a pdf file, but first make sure it is properly displaying the results from your Python code. To this end, do the following \n",
    "1. Run $\\rightarrow$ Restart Kernel and Run All Cells\n",
    "2. Covert the ipynb file to html (File $\\rightarrow$ Export Notebook As $\\rightarrow$ HTML)\n",
    "3. Open the html file in your browser and _print to pdf_. Make sure file name has been changed to your personal name. When you print to pdf, you can shrink the size of the pdf (i.e. less than 100%) to make longer lines of code fit. "
   ]
  },
  {
   "cell_type": "code",
   "execution_count": null,
   "id": "3e22e556-01bc-4650-9f6f-373808988367",
   "metadata": {},
   "outputs": [],
   "source": []
  }
 ],
 "metadata": {
  "kernelspec": {
   "display_name": "Python 3 (ipykernel)",
   "language": "python",
   "name": "python3"
  },
  "language_info": {
   "codemirror_mode": {
    "name": "ipython",
    "version": 3
   },
   "file_extension": ".py",
   "mimetype": "text/x-python",
   "name": "python",
   "nbconvert_exporter": "python",
   "pygments_lexer": "ipython3",
   "version": "3.8.10"
  }
 },
 "nbformat": 4,
 "nbformat_minor": 5
}
