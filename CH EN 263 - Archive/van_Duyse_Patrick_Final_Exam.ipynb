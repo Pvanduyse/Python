{
 "cells": [
  {
   "cell_type": "markdown",
   "metadata": {},
   "source": [
    "# Final Exam - Python Part\n",
    "\n",
    "**This exam is confidential and is not to be shared with anyone not in ChEn 263 Fall 2021**\n",
    "\n",
    "**If you get stuck on some part of a problem, try to demonstrate skill in other parts. In other words, don't abandon the entire problem**"
   ]
  },
  {
   "cell_type": "code",
   "execution_count": 1,
   "metadata": {},
   "outputs": [],
   "source": [
    "import sys\n",
    "sys.path.insert(2, 'C:\\\\Users\\\\pclavd\\\\Documents\\\\Python\\\\Modules')\n",
    "import conversions as conv\n",
    "\n",
    "import numpy as np\n",
    "import matplotlib.pyplot as plt\n",
    "from scipy.integrate import quad\n",
    "from scipy.integrate import odeint\n",
    "from scipy.optimize import fsolve\n",
    "from scipy.optimize import curve_fit\n",
    "from scipy.interpolate import interp1d"
   ]
  },
  {
   "attachments": {
    "3a5a89d0-9335-4e93-a3fc-183189119e2d.png": {
     "image/png": "[encoded data removed]"
    }
   },
   "cell_type": "markdown",
   "metadata": {},
   "source": [
    "## Problem 1 (10 points)\n",
    "\n",
    "Produce the following equation in Markdown (Latex), formatted exactly as shown (though it may display a bit smaller). By the way, that is the Greek letter psi and it may look slightly different depending on the font used on your system.\n",
    "\n",
    "![image.png](attachment:3a5a89d0-9335-4e93-a3fc-183189119e2d.png)"
   ]
  },
  {
   "cell_type": "markdown",
   "metadata": {},
   "source": [
    "$$ \\phi_w(T) = \\exp\n",
    "\\left[\n",
    "    -\\frac\n",
    "        {\\Delta H_m}\n",
    "        {R}\n",
    "    \\left(\n",
    "        \\frac{1}{T}\n",
    "        -\\frac{1}{T_m}\n",
    "    \\right)\n",
    "\\right]$$"
   ]
  },
  {
   "cell_type": "markdown",
   "metadata": {},
   "source": [
    "## Problem 2 (20 points)\n",
    "The following coupled ODEs describe a process of interest \n",
    "$$ \\frac{dy}{dt}+2y+5z=10$$\n",
    "$$ \\frac{dz}{dt}=y$$ \n",
    "with initial values $y(0) = 0$, $z(0)=0$\n",
    "* Numerically solve $y(t)$ and $z(t)$ for $0 \\leq t \\leq 7$.  \n",
    "* Make a smooth and well-formatted plot of the solution\n",
    "\n",
    "Note that this problem is repeated on the Excel part of the exam"
   ]
  },
  {
   "cell_type": "code",
   "execution_count": 2,
   "metadata": {},
   "outputs": [],
   "source": [
    "# Initial constants\n",
    "t_a = 0\n",
    "t_b = 7\n",
    "N = 1000\n",
    "Δt = (t_b-t_a)/N\n",
    "yz0 = [0,0]\n",
    "\n",
    "# Derivative equations\n",
    "d_dt = lambda yz, t: [10 - 2 * yz[0] - 5 * yz[1], yz[0]]"
   ]
  },
  {
   "cell_type": "code",
   "execution_count": 3,
   "metadata": {},
   "outputs": [],
   "source": [
    "# Array spaces\n",
    "t_vals = np.linspace(t_a, t_b, N)\n",
    "\n",
    "# Use odeint to calculate\n",
    "yz_vals = odeint(d_dt, yz0, t_vals)"
   ]
  },
  {
   "cell_type": "code",
   "execution_count": 4,
   "metadata": {},
   "outputs": [
    {
     "data": {
      "image/png": "[encoded data removed]",
      "text/plain": [
       "<Figure size 432x288 with 1 Axes>"
      ]
     },
     "metadata": {
      "needs_background": "light"
     },
     "output_type": "display_data"
    }
   ],
   "source": [
    "# Plot the results\n",
    "plt.plot(t_vals, yz_vals[:,0], label='y')\n",
    "plt.plot(t_vals, yz_vals[:,1], label='z')\n",
    "plt.xlabel('t', fontsize=12)\n",
    "plt.ylabel('y(t), z(t)', fontsize=12)\n",
    "plt.title('y, z vs t', fontsize=16)\n",
    "plt.legend(frameon=False);"
   ]
  },
  {
   "cell_type": "markdown",
   "metadata": {},
   "source": [
    "## Problem 3 (30 points)\n",
    "The following equation describes the change in _enthalpy_ or amount of work done by a gas compressor $$\\Delta H = \\int_{T_1}^{T_2}C_p(T)~dT$$ where $T$ is temperature and subscripts 1 and 2 indicate inlet and outlet respectively. The constant-pressure heat capacity $C_p$ as a function of temperature is already programmed below for methane (natural gas). The inlet temperature is $T_1=300~\\mathrm{K}$. \n",
    "\n",
    "In a previous calculation it was determined that if we can assume constant entropy ($\\Delta S=0$) for a natural gas compressor then the reversible outlet temperature is $T_{2,\\mathrm{rev}}=586~\\mathrm{K}$. However, that outlet calculation does not account for friction inside a real compressor--friction means you have to work harder! For a particular real compressor $$\\Delta H = 1.33~\\Delta H_\\mathrm{rev}$$ where $\\Delta H$ is computed with the real $T_2$ value and $\\Delta H_\\mathrm{rev}$ is computed with $T_{2,\\mathrm{rev}}$. Using Python, numerically determine both $T_2$ and $\\Delta H$ (with units) for this real compressor."
   ]
  },
  {
   "cell_type": "code",
   "execution_count": 5,
   "metadata": {},
   "outputs": [],
   "source": [
    "#----------------------------------------------------------------\n",
    "# Function that gives the heat capacity (J/mol.K) for methane, \n",
    "# with T in Kelvin\n",
    "# source: https://webbook.nist.gov/cgi/cbook.cgi?ID=C74828&Mask=1\n",
    "def Cp(T):\n",
    "    TT = T/1000.\n",
    "    A = [-0.703029, 108.4773, -42.52157, 5.862788, 0.678565]\n",
    "    return A[0] + A[1]*TT + A[2]*TT**2 + A[3]*TT**3 + A[4]*TT**-2\n",
    "#----------------------------------------------------------------\n",
    "\n",
    "# Define constants\n",
    "T1 = 300                                         # K\n",
    "T2_rev = 586                                     # K"
   ]
  },
  {
   "cell_type": "code",
   "execution_count": 6,
   "metadata": {},
   "outputs": [],
   "source": [
    "# Define required functions\n",
    "def ΔH(T2, T1):                                  # J\n",
    "    return quad(lambda T: Cp(T), T1, T2)[0]\n",
    "\n",
    "def equality(T2, T1, T2_rev):\n",
    "    return ΔH(T2, T1) - 1.33 * ΔH(T2_rev, T1)"
   ]
  },
  {
   "cell_type": "code",
   "execution_count": 7,
   "metadata": {},
   "outputs": [
    {
     "name": "stdout",
     "output_type": "stream",
     "text": [
      "The enthalpy of the system is 16.41 kJ/mol, and the outlet temperature is 662 K\n"
     ]
    }
   ],
   "source": [
    "# use fsolve to numerically find the solution\n",
    "T2 = fsolve(equality, 600, args=(T1, T2_rev))[0]        # K\n",
    "\n",
    "# print out the solution\n",
    "print(r'The enthalpy of the system is {ΔH:.2f} kJ/mol, and the outlet temperature is {T2:.0f} K'.format(ΔH=ΔH(T2, T1)/1000, T2=round(T2)))"
   ]
  },
  {
   "cell_type": "markdown",
   "metadata": {},
   "source": [
    "## Problem 4 (40 points)\n",
    "\n",
    "When you dissolve sugar in water, it lowers the freezing point. The following experimental data were collected (Raventos et al., _J. Food Eng._ 79 (2007) 577–585). \n",
    "\n",
    "| $w_s$      | $T$ ($^\\circ$C) |\n",
    "| :--------: | :---------------------: |\n",
    "|    0.10   |     -0.3    |\n",
    "|    0.20   |     -1.5    |\n",
    "|    0.30   |     -3.1    |\n",
    "|    0.40   |     -5.2    |\n",
    "\n",
    "where $w_s$ is mass fraction of sugar in the sugar-water mixture and $T$ is the freezing temperature. These temperatures appear to have noise, i.e. a statistically significant amount of random error. \n",
    "\n",
    "We expect that the true freezing temperature will obey the following thermodynamic model:\n",
    "\n",
    "$$ \\frac{1}{T} = \\frac{1}{T_m}-\\frac{R}{\\Delta H_m}\\left[ \\ln(1-x_s)+ A x_s^2 \\right]$$ \n",
    "\n",
    "* $x_s$ is mole fraction sugar\n",
    "* $A$ is a dimensionless 'Margules' fitting coefficient relating to the mixture, and which can be positive or negative\n",
    "* $\\Delta H_m=6.02~\\mathrm{kJ/mol}$ and $T_m=273.15~\\mathrm{K}$ are properties relating to freezing of pure water\n",
    "* $R$ is the ideal gas constant \n",
    "* The value of freezing temperature $T$ in the above formula will be absolute, i.e. in units $\\mathrm{K}$, not $^\\circ \\mathrm{C}$\n",
    "\n",
    "Note that you will need to do units conversions. You also need to convert between mass fraction $w_s$ and mole fraction $x_s$:\n",
    "\n",
    "\n",
    "$$x_s = \\frac{\\frac{w_s}{M_s}}{\\frac{w_s}{M_s}+\\frac{1-w_s}{M_w}}$$\n",
    "\n",
    "The molecular masses of sugar and water are respectively $M_s=342~\\mathrm{g/mol}$ and $M_w=18~\\mathrm{g/mol}$. \n",
    "\n",
    "Do the following:\n",
    "\n",
    "(a) Select an appropriate method to cause the thermodynamic model to best fit the experimental data. What is the value of $A$ for that fit?\n",
    "\n",
    "(b) Plot the above experimental data ($w_s$ on the _x axis_ and freezing temperature ($^\\circ \\mathrm{C}$) on the _y axis_). Add to your plot a smooth curve for your fit over the range $0\\le w_s \\le 0.45$.\n",
    "\n",
    "(c) A sample of orange juice freezes at $-2.0~^\\circ \\mathrm{C}$. Estimate its mass fraction of sugar using the thermodynamic model."
   ]
  },
  {
   "cell_type": "code",
   "execution_count": 8,
   "metadata": {},
   "outputs": [],
   "source": [
    "# Insert data\n",
    "# w_s (unitless), T (C)\n",
    "ws_T_data = np.array([\n",
    "    [0.10, -0.3],\n",
    "    [0.20, -1.5],\n",
    "    [0.30, -3.1],\n",
    "    [0.40, -5.2]\n",
    "])\n",
    "\n",
    "# Set constants\n",
    "ΔH_m = conv.kJ_J(6.02)         # J/mol\n",
    "T_m  = 273.15                  # K\n",
    "R    = 8.314                   # J/K⋅mol"
   ]
  },
  {
   "cell_type": "code",
   "execution_count": 9,
   "metadata": {},
   "outputs": [],
   "source": [
    "# Define required functions\n",
    "def x_s(w_s):                  # unitless\n",
    "    M_s  = 342                 # g/mol\n",
    "    M_w  = 18                  # g/mol\n",
    "    return (w_s/M_s)/(w_s/M_s + (1-w_s)/M_w)\n",
    "\n",
    "def T(w_s, A):                 # C\n",
    "    sub_A = 1/T_m\n",
    "    sub_B = R/ΔH_m\n",
    "    sub_C = np.log(1-x_s(w_s))\n",
    "    sub_D = A * x_s(w_s)**2\n",
    "    result_K = 1 / (sub_A - sub_B*(sub_C+sub_D))\n",
    "    return conv.K_C(result_K)"
   ]
  },
  {
   "cell_type": "markdown",
   "metadata": {},
   "source": [
    "(a) Select an appropriate method to cause the thermodynamic model to best fit the experimental data. What is the value of  𝐴  for that fit?"
   ]
  },
  {
   "cell_type": "code",
   "execution_count": 10,
   "metadata": {},
   "outputs": [
    {
     "name": "stdout",
     "output_type": "stream",
     "text": [
      "The 'Margules' fitting constant (A) for the fit of the given data is -14.87 with a least squares regression of 0.9960\n"
     ]
    }
   ],
   "source": [
    "# Fit the data to a curve of T() to find A\n",
    "\n",
    "A_fitted = curve_fit(T, ws_T_data[:,0], ws_T_data[:,1])[0][0]\n",
    "\n",
    "# get the Pearson's R2 value\n",
    "T_fit = T(ws_T_data[:,0], A_fitted)\n",
    "Covar = np.corrcoef(ws_T_data[:,1], T_fit)\n",
    "\n",
    "print(\"The \\'Margules\\' fitting constant (A) for the fit of the given data is {A:.2f} with a least squares regression of {R2:.4f}\".format(A=A_fitted, R2=Covar[0][1]**2))"
   ]
  },
  {
   "cell_type": "markdown",
   "metadata": {},
   "source": [
    "(b) Plot the above experimental data ( 𝑤𝑠  on the x axis and freezing temperature ( ∘C ) on the y axis). Add to your plot a smooth curve for your fit over the range  0≤𝑤𝑠≤0.45 ."
   ]
  },
  {
   "cell_type": "code",
   "execution_count": 11,
   "metadata": {},
   "outputs": [
    {
     "data": {
      "image/png": "[encoded data removed]",
      "text/plain": [
       "<Figure size 432x288 with 1 Axes>"
      ]
     },
     "metadata": {
      "needs_background": "light"
     },
     "output_type": "display_data"
    }
   ],
   "source": [
    "# Get the data points for the fit\n",
    "ws_vals = np.linspace(0, 0.45, 1000)\n",
    "T_vals = T(ws_vals, A_fitted)\n",
    "\n",
    "# Plot the data and the fit\n",
    "plt.title('Freezing Temperature (T) vs Mass Fraction of Sugar ($w_s$)', fontsize=12)\n",
    "plt.plot(ws_T_data[:,0], ws_T_data[:,1], 'o')\n",
    "plt.plot(ws_vals, T_vals, '-')\n",
    "plt.xlabel('$w_s$', fontsize=12)\n",
    "plt.ylabel('T ($\\degree$C)', fontsize=12)\n",
    "plt.legend(['data', 'fit'], frameon=False);"
   ]
  },
  {
   "cell_type": "markdown",
   "metadata": {},
   "source": [
    "(c) A sample of orange juice freezes at  −2.0 ∘C . Estimate its mass fraction of sugar using the thermodynamic model."
   ]
  },
  {
   "cell_type": "code",
   "execution_count": 12,
   "metadata": {},
   "outputs": [
    {
     "name": "stdout",
     "output_type": "stream",
     "text": [
      "According to the data we have, we would expect a glass of orange juice that freezes at -2.0 C to be approximately 23% sugar in mass\n"
     ]
    }
   ],
   "source": [
    "T_ojuice = -2.0             # C\n",
    "w_s_ojuice = fsolve(lambda w_s: T(w_s, A_fitted) - T_ojuice, 0.2)[0]\n",
    "print(\"According to the data we have, we would expect a glass of orange juice that freezes at {:.1f} C to be approximately {:.0f}% sugar in mass\".format(T_ojuice,w_s_ojuice*100))"
   ]
  },
  {
   "cell_type": "markdown",
   "metadata": {},
   "source": [
    "\n",
    "# Leave 5 minutes for uploading your work\n",
    "\n",
    "**Instructions**: You must submit your Python notebook as a **pdf** file and your Excel work as an Excel **xlsm** file. Make sure the Python is properly displaying the results from your code. To this end, do the following \n",
    "1. Run $\\rightarrow$ Restart Kernel and Run All Cells. If you have _broken code_ (interpreter throws an error) then comment out the offending line(s) and rerun, or manually run all subsequent cells, because broken code will keep code for the following cells from executing automatically. You will lose additional points if I can't see all your solutions.\n",
    "2. Covert the ipynb file to html (File $\\rightarrow$ Export Notebook As $\\rightarrow$ HTML)\n",
    "3. Open the html file in your browser and _print to pdf_. Make sure file name has been changed to your personal name. When you print to pdf, you can shrink the size of the pdf (i.e. less than 100%) to make longer lines of code fit. \n"
   ]
  }
 ],
 "metadata": {
  "kernelspec": {
   "display_name": "Python 3",
   "language": "python",
   "name": "python3"
  },
  "language_info": {
   "codemirror_mode": {
    "name": "ipython",
    "version": 3
   },
   "file_extension": ".py",
   "mimetype": "text/x-python",
   "name": "python",
   "nbconvert_exporter": "python",
   "pygments_lexer": "ipython3",
   "version": "3.7.3"
  }
 },
 "nbformat": 4,
 "nbformat_minor": 5
}
