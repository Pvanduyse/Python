{
 "cells": [
  {
   "cell_type": "markdown",
   "metadata": {},
   "source": [
    "# HW 6"
   ]
  },
  {
   "cell_type": "markdown",
   "metadata": {},
   "source": [
    "Open this file in Jupyter Lab. Then edit it to complete your homework. "
   ]
  },
  {
   "cell_type": "markdown",
   "metadata": {
    "tags": []
   },
   "source": [
    "### Problem 1 (2 points)"
   ]
  },
  {
   "cell_type": "markdown",
   "metadata": {},
   "source": [
    "  Do the following:\n",
    "* Read through the lesson notes that were not covered in class and browse the menus in Jupyter Lab for at least 10 minutes to become more familiar with programming features needed for this and future homeworks. \n",
    "* Insert a new cell just below this one (in between Problems 1 and 2); change it to a Markdown cell\n",
    "* Answer the following question in the newly created cell: What is the keyboard shortcut to *Run Selected Cells*? (hint: keyboard shortcut means using keyboard only and not clicking a menu item with the mouse.) \n",
    "* Insert a new cell below the last one. This time a Code cell.\n",
    "* Have your Code cell compute $$(-3.5)^2 + 2$$\n",
    "* Run both of your new cells. The Code cell should produce the result 14.25 "
   ]
  },
  {
   "cell_type": "markdown",
   "metadata": {},
   "source": [
    "shift + enter"
   ]
  },
  {
   "cell_type": "code",
   "execution_count": 1,
   "metadata": {},
   "outputs": [
    {
     "data": {
      "text/plain": [
       "14.25"
      ]
     },
     "execution_count": 1,
     "metadata": {},
     "output_type": "execute_result"
    }
   ],
   "source": [
    "(-3.5)**2 + 2"
   ]
  },
  {
   "cell_type": "markdown",
   "metadata": {},
   "source": [
    "### Problem 2 (6 points)"
   ]
  },
  {
   "cell_type": "markdown",
   "metadata": {
    "tags": []
   },
   "source": [
    "The ideal gas law is accurate for low-pressure gases (less than about 10 bar):\n",
    "$$P_{ig} = \\frac{RT}{V}$$\n",
    "where $P_{ig}$ is the absolute pressure, $R$ is the ideal gas constant, $T$ is absolute temperature, and $V$ is molar volume. There is only one value of $R$, but it can be expressed in different units. For SI units,\n",
    "$$R = 8.31446~\\mathrm{Pa~m^3/(mol~K)}$$\n",
    "\n",
    "The Peng-Robinson (PR) equation of state is more accurate than the ideal gas law at higher pressures and can also describe liquids quite well. It does this by allowing for attractive and repulsive molecular interactions and by having parameters that are customized for each molecule. The PR equation is\n",
    "$$P_{PR} = \\frac{RT}{V-b}-\\frac{a\\alpha}{V^2 +2Vb-b^2}$$\n",
    "\n",
    "where\n",
    "$$b = 0.0777961 RT_c/P_c$$\n",
    "$$a = 0.457236 R^2T_c^{2}/P_c$$\n",
    "$$\\alpha = (1+\\kappa-\\kappa\\sqrt{T/T_c})^2$$\n",
    "$$\\kappa = 0.37464+1.54226\\omega-0.26992\\omega^2$$\n",
    "\n",
    "Three molecule-specific properties are used: critical temperature $T_c$, critical pressure $P_c$, and acentric factor $\\omega$. Treating air as if it is a single molecule, its parameters are $T_c=132.45~\\mathrm{K}$, $P_c=37.74~\\mathrm{bar}$, and $\\omega=0$.\n",
    "\n",
    "Evaluate $P_{ig}$, and $P_{PR}$ for air for $T=500$ K, $V=5$ L/mol. Observe the following:\n",
    "* Code up the above equations in the proper order (it will take 14 lines of code)\n",
    "* Three Greek letters are used and may be named appropriately (omega, kappa, alpha)\n",
    "* Document your code by including units and variable descriptions as you declare them\n",
    "* Convert all input quantitites to SI units as you declare them and then all the units will be automatically correct. For example:\n",
    "\n",
    "```Pc = 37.74 * 1E5           # Critical pressure (Pa).```\n",
    "\n",
    "* In reporting the pressures, use units Pa and use a print statement so the output looks like:\n",
    "\n",
    "```The PR pressure is ####  Pa```\n",
    "* Your answer for $P_{PR}$ should be pretty close to $P_{ig}$ under the conditions of this problem"
   ]
  },
  {
   "cell_type": "code",
   "execution_count": 2,
   "metadata": {},
   "outputs": [
    {
     "name": "stdout",
     "output_type": "stream",
     "text": [
      "The ideal gas law pressure is 831446.0000000001 Pa\n",
      "The PR pressure is 832801.9388250824 Pa\n"
     ]
    }
   ],
   "source": [
    "# constants\n",
    "R = 8.31446                                                # ideal gas constant (Pa-m^3/mol-K)\n",
    "\n",
    "# critical properties of air\n",
    "T_c = 132.45                                               # critical temperature (K)\n",
    "P_c = 37.74 * 1E5                                          # critical pressure (Pa)\n",
    "omega = 0                                                  # acentric factor\n",
    "\n",
    "# environmental parameters\n",
    "T = 500                                                    # temperature (K)\n",
    "V = 5 * 1E-3                                               # volume (m^3/mol)\n",
    "\n",
    "# ideal gas law equation calculation\n",
    "P_ig = R * T / V                                           # absolute pressure (Pa)\n",
    "\n",
    "# Peng-Robinson equation calculations\n",
    "b = 0.0777961 * R * T_c / P_c                              # (m^3/mol)\n",
    "a = 0.457236 * R**2 * T_c**2 / P_c                         # (Pa * (m^3/mol)^2)\n",
    "kappa = 0.37464 + 1.54226 * omega - 0.26992 * omega**2     # (unitless)\n",
    "alpha = (1 + kappa - kappa * (T/T_c)**0.5)**2              # (unitless)\n",
    "P_PR = R*T/(V-b) - a*alpha/(V**2 + 2*V*b - b**2)           # Peng-Robinson pressure (Pa)\n",
    "\n",
    "# print outputs\n",
    "print(\"The ideal gas law pressure is\", P_ig, \"Pa\")\n",
    "print(\"The PR pressure is\", P_PR, \"Pa\")"
   ]
  },
  {
   "cell_type": "markdown",
   "metadata": {
    "tags": []
   },
   "source": [
    "### Upload\n",
    "When you are done with your two problems, make sure to restart/rerun the whole notebook, re-save with your name in the file name, and upload the *.ipynb file to Learning Suite. Don't put spaces in the file name."
   ]
  },
  {
   "cell_type": "code",
   "execution_count": null,
   "metadata": {},
   "outputs": [],
   "source": []
  }
 ],
 "metadata": {
  "kernelspec": {
   "display_name": "Python 3 (ipykernel)",
   "language": "python",
   "name": "python3"
  },
  "language_info": {
   "codemirror_mode": {
    "name": "ipython",
    "version": 3
   },
   "file_extension": ".py",
   "mimetype": "text/x-python",
   "name": "python",
   "nbconvert_exporter": "python",
   "pygments_lexer": "ipython3",
   "version": "3.8.10"
  },
  "varInspector": {
   "cols": {
    "lenName": 16,
    "lenType": 16,
    "lenVar": 40
   },
   "kernels_config": {
    "python": {
     "delete_cmd_postfix": "",
     "delete_cmd_prefix": "del ",
     "library": "var_list.py",
     "varRefreshCmd": "print(var_dic_list())"
    },
    "r": {
     "delete_cmd_postfix": ") ",
     "delete_cmd_prefix": "rm(",
     "library": "var_list.r",
     "varRefreshCmd": "cat(var_dic_list()) "
    }
   },
   "types_to_exclude": [
    "module",
    "function",
    "builtin_function_or_method",
    "instance",
    "_Feature"
   ],
   "window_display": false
  }
 },
 "nbformat": 4,
 "nbformat_minor": 4
}
