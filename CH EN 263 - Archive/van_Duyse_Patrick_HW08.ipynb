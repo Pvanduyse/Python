{
 "cells": [
  {
   "cell_type": "markdown",
   "metadata": {},
   "source": [
    "# Homework 8"
   ]
  },
  {
   "cell_type": "markdown",
   "metadata": {},
   "source": [
    "### Problem 1 (1 point)\n",
    "\n",
    "Write a function to compute the volume of a sphere given it's radius.\n",
    "Get $\\pi$ from numpy."
   ]
  },
  {
   "cell_type": "code",
   "execution_count": 8,
   "metadata": {},
   "outputs": [],
   "source": [
    "from numpy import pi\n",
    "def vol_sphere(radius):\n",
    "    return 4/3 * radius**3 * pi     # Volume of a Sphere: 4pi/3 * r^3"
   ]
  },
  {
   "cell_type": "markdown",
   "metadata": {},
   "source": [
    "### Problem 2 (2 points)\n",
    "\n",
    "Write a function to compute the vapor pressure of a species given $A$, $B$, and $C$ according to the following equation\n",
    "\n",
    "$$P_i^{sat} = \\exp\\left(A + \\frac{B}{T+C}\\right).$$\n",
    "\n",
    "Assume $T$ has units of K. Include a docstring documenting the function. Use numpy for $\\exp$."
   ]
  },
  {
   "cell_type": "code",
   "execution_count": 10,
   "metadata": {},
   "outputs": [],
   "source": [
    "from numpy import exp\n",
    "def pres_vapor(A, B, C, T):\n",
    "    \"\"\"\n",
    "    Calculates the vapor pressure of a species given A, B, and C, with T for temperature (K) as per the following equation: P = exp(A + B/(T+C))\n",
    "    \"\"\"\n",
    "    return exp(A + B/(T+C))"
   ]
  },
  {
   "cell_type": "markdown",
   "metadata": {},
   "source": [
    "### Problem 3 (2 points)\n",
    "A function can return more than two quantities, say ```x1``` and ```x2``` if you use the following return statement\n",
    "```return x1, x2```, where ```x1``` and ```x2``` are variables or expressions.\n",
    "You would the call the function as\n",
    "```x1,x2 = f(a,b,c)```.\n",
    "\n",
    "Write a function that will return the two roots of a quadratic equation $ax^2+bx+c=0$, given $a$, $b$, and $c$. Assume the roots are real. \n",
    "\n",
    "Try out the function for $x^2-5x+5$."
   ]
  },
  {
   "cell_type": "code",
   "execution_count": 24,
   "metadata": {},
   "outputs": [],
   "source": [
    "from numpy import sqrt\n",
    "def quadratic_roots(a, b, c):\n",
    "    \"\"\"\n",
    "    Returns the quadratic roots of an expression ax^2 + bx + c = 0, given a, b, and c.\n",
    "    \"\"\"\n",
    "    x1 = (-b + sqrt(b**2 - 4*a*c))/(2*a)\n",
    "    x2 = (-b - sqrt(b**2 - 4*a*c))/(2*a)\n",
    "    return x1,x2"
   ]
  },
  {
   "cell_type": "markdown",
   "metadata": {},
   "source": [
    "### Problem 4 (3 points)\n",
    "\n",
    "The first derivative of a function $f(x)$ can be approximated as\n",
    "$$\\frac{df(x)}{dx} \\approx \\frac{f(x+\\Delta x) - f(x)}{\\Delta x}.$$\n",
    "A good estimate for $\\Delta x$ is \n",
    "$$\\Delta x = \\epsilon|x|,$$\n",
    "where $\\epsilon$ is a small number.\n",
    "\n",
    "Write a function called ```derivative``` that takes ```f```, ```x```, and ```eps``` as arguments and returns the derivative evaluated at ```x```. Here, ```f``` is a function, ```x``` is where you are evaluating the derivative, and ```eps``` is $\\epsilon$ in the above equation. Give ```eps``` a default value of $10^{-8}$. \n",
    "\n",
    "Test it out on the following\n",
    "* $f(x) = x^2$ for $x=3$.\n",
    "* $f(x) = \\sin(x)$ for $x=\\pi/2$\n",
    "* $f(x) = \\exp(x)$ for $x=1.01325$\n",
    "\n",
    "In each case, compare to the exact solution.\n",
    "\n",
    "For $\\sin$ and $\\exp$, you can use numpy and call the derivative function like so\n",
    "```python\n",
    "d = derivative(np.sin, np.pi/2)\n",
    "d = derivative(np.exp, 1.01325)\n",
    "```\n",
    "For $f(x)=x^2$, you will need to write your own function that you can pass to the ```derivative``` function.\n"
   ]
  },
  {
   "cell_type": "code",
   "execution_count": 39,
   "metadata": {},
   "outputs": [
    {
     "name": "stdout",
     "output_type": "stream",
     "text": [
      "The derivative of x^2 for x = 3 is approximately 6.000000022747068\n",
      "The derivative of sin(x) for x = pi/2 is approximately -7.067899292141148e-09\n",
      "The derivative of e^x for x = 1.01325 is approximately 2.7545387414656375\n"
     ]
    }
   ],
   "source": [
    "from numpy import sin, exp, pi\n",
    "def derivative(f, x, esp = 10**-8):\n",
    "    delta_x = esp*abs(x)\n",
    "    return (f(x + delta_x)-f(x))/delta_x\n",
    "\n",
    "print(\"The derivative of x^2 for x = 3 is approximately\", derivative(lambda x: x**2, 3))\n",
    "print(\"The derivative of sin(x) for x = pi/2 is approximately\", derivative(lambda x: sin(x), pi/2))\n",
    "print(\"The derivative of e^x for x = 1.01325 is approximately\", derivative(lambda x: exp(x), 1.01325))"
   ]
  }
 ],
 "metadata": {
  "kernelspec": {
   "display_name": "Python 3 (ipykernel)",
   "language": "python",
   "name": "python3"
  },
  "language_info": {
   "codemirror_mode": {
    "name": "ipython",
    "version": 3
   },
   "file_extension": ".py",
   "mimetype": "text/x-python",
   "name": "python",
   "nbconvert_exporter": "python",
   "pygments_lexer": "ipython3",
   "version": "3.8.10"
  },
  "varInspector": {
   "cols": {
    "lenName": 16,
    "lenType": 16,
    "lenVar": 40
   },
   "kernels_config": {
    "python": {
     "delete_cmd_postfix": "",
     "delete_cmd_prefix": "del ",
     "library": "var_list.py",
     "varRefreshCmd": "print(var_dic_list())"
    },
    "r": {
     "delete_cmd_postfix": ") ",
     "delete_cmd_prefix": "rm(",
     "library": "var_list.r",
     "varRefreshCmd": "cat(var_dic_list()) "
    }
   },
   "types_to_exclude": [
    "module",
    "function",
    "builtin_function_or_method",
    "instance",
    "_Feature"
   ],
   "window_display": false
  }
 },
 "nbformat": 4,
 "nbformat_minor": 4
}
