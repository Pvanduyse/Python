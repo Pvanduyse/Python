{
 "cells": [
  {
   "cell_type": "markdown",
   "metadata": {},
   "source": [
    "# Homework 9"
   ]
  },
  {
   "cell_type": "markdown",
   "metadata": {},
   "source": [
    "### Problem 1 (3 points)\n",
    "\n",
    "Write a function called \"uc\" that will convert units (\"uc\" for \"unit conversion\", \"uc\" because its short, and easy to type). The function should take a string argument. The value this string holds will determine a multiplication factor to return, which does the unit conversion. \n",
    "\n",
    "For example, If I have a variable ```x``` in units of feet, and I want to convert it to meters, I might have something like:\n",
    "\n",
    "``` x * uc(\"ft_to_m\") ```\n",
    "\n",
    "where uc is the function, and \"ft_to_m\" is a string I pass to the function. The function has to decide what kind of unit conversion based on the string it is passed. \n",
    "\n",
    "Set up the function to allow conversions from the following:\n",
    "* ft to m\n",
    "* s to hr\n",
    "* lbm to kg\n",
    "* J to Btu\n",
    "\n",
    "and vice-versa for each.\n",
    "\n",
    "The function should include a docstring documentation."
   ]
  },
  {
   "cell_type": "code",
   "execution_count": null,
   "metadata": {},
   "outputs": [],
   "source": []
  },
  {
   "cell_type": "markdown",
   "metadata": {},
   "source": [
    "### Problem 2 (2 points)"
   ]
  },
  {
   "cell_type": "markdown",
   "metadata": {},
   "source": [
    "You are given the following function:\n",
    "\n",
    "$$ y(t) = 5\\left[1-\\exp\\left(-\\frac{(t-\\theta)}{\\tau}\\right)\\right]S(t),$$\n",
    "\n",
    "$$ S(t) = \\left\\{\\begin{align} 0 & \\mbox{  when }t<\\theta \\\\ 1 & \\mbox{   when }t\\ge\\theta\\end{align}.\\right.$$\n",
    "\n",
    "Write a function called ```y``` for $y(t)$ according to this equation. Pass in $\\theta$ and $\\tau$ as extra parameters that have default values of 0.1 and 0.2, respectively. Evaluate the function at t=0.1 using the default values of $\\tau$ and $\\theta$, and with values $\\tau = 0.05$ and $\\theta = 0.1$."
   ]
  },
  {
   "cell_type": "code",
   "execution_count": null,
   "metadata": {},
   "outputs": [],
   "source": []
  },
  {
   "cell_type": "markdown",
   "metadata": {},
   "source": [
    "### Problem 3 (3 points)\n",
    "\n",
    "Problem 2 of HW6 had you code up the Peng-Robinson equation of state. \n",
    "\n",
    "(a) Take what you did there, and turn it into a function called P_PR that takes as arguments the temperature in K, the molar volume in m$^3$/mol, and returns the pressure in Pa. Your function should also accept as arguments the $P_c$, $T_c$, and $\\omega$ values for a particular molecule, but should default to the values for air as was done in the original problem. Lastly, you need to test that your function is working by putting in some test values for $T$ and $V$.\n",
    "\n",
    "(b) Add into your function a conditional that checks if the output pressure is above $P_c$ and if it is, prints a statement saying that \"the fluid is supercritical\". Demonstrate that it works by calling your function for conditions that would lead pressure to be not supercritical and supercritical."
   ]
  },
  {
   "cell_type": "code",
   "execution_count": null,
   "metadata": {},
   "outputs": [],
   "source": []
  }
 ],
 "metadata": {
  "kernelspec": {
   "display_name": "Python 3 (ipykernel)",
   "language": "python",
   "name": "python3"
  },
  "language_info": {
   "codemirror_mode": {
    "name": "ipython",
    "version": 3
   },
   "file_extension": ".py",
   "mimetype": "text/x-python",
   "name": "python",
   "nbconvert_exporter": "python",
   "pygments_lexer": "ipython3",
   "version": "3.8.10"
  },
  "varInspector": {
   "cols": {
    "lenName": 16,
    "lenType": 16,
    "lenVar": 40
   },
   "kernels_config": {
    "python": {
     "delete_cmd_postfix": "",
     "delete_cmd_prefix": "del ",
     "library": "var_list.py",
     "varRefreshCmd": "print(var_dic_list())"
    },
    "r": {
     "delete_cmd_postfix": ") ",
     "delete_cmd_prefix": "rm(",
     "library": "var_list.r",
     "varRefreshCmd": "cat(var_dic_list()) "
    }
   },
   "types_to_exclude": [
    "module",
    "function",
    "builtin_function_or_method",
    "instance",
    "_Feature"
   ],
   "window_display": false
  }
 },
 "nbformat": 4,
 "nbformat_minor": 4
}
