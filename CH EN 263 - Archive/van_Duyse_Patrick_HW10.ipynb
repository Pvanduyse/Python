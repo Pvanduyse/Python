{
 "cells": [
  {
   "cell_type": "markdown",
   "metadata": {},
   "source": [
    "# Homework 10"
   ]
  },
  {
   "attachments": {
    "092bc5c9-be26-4000-9557-42ad38f6415f.png": {
     "image/png": "[encoded data removed]"
    },
    "266d55df-460b-4a05-9bf9-8031d245eb0a.png": {
     "image/png": "[encoded data removed]"
    },
    "d10fb0fa-443d-46c6-afc8-42bc8d335fb6.png": {
     "image/png": "[encoded data removed]"
    }
   },
   "cell_type": "markdown",
   "metadata": {},
   "source": [
    "### Problem 1 (6 points)\n",
    "\n",
    "The Gaussian error function is a function used in statistics and physics. It is defined as \n",
    "\n",
    "![image.png](attachment:d10fb0fa-443d-46c6-afc8-42bc8d335fb6.png)\n",
    "\n",
    "There is not an analytic solution to this integral. However, it has a Taylor series expansion \n",
    "\n",
    "![image.png](attachment:092bc5c9-be26-4000-9557-42ad38f6415f.png)\n",
    "\n",
    "which can further be decomposed into \n",
    "\n",
    "![image.png](attachment:266d55df-460b-4a05-9bf9-8031d245eb0a.png)\n",
    "\n",
    "(a) Use Python to program the third equation for $\\mathrm{erf}(x)$ using nested loops: an _inner loop_ for the product over $k$ and an _outer loop_ for the sum over $n$. Prove that your error function gets the correct value for $x=1.2$ for at least 6 digits (see code below). Because you cannot do an infinite number of terms in your Taylor series, you must choose an upper value for _n_ called `n_max`. Make `n_max = 100`. Your code should be well-documented.\n",
    "\n",
    "(b) Modify your code to improve its speed by causing the _inner loop_ to terminate early (i.e. before `n` reaches `n_max` while leaving `n_max` unchanged) by checking to see if the error in the value of $\\mathrm{erf}(x)$ is less than $\\epsilon=10^{-6}$. As demonstrated in the lecture notes for a different example, this is done by looking at the magnitude of each term in the Taylor series to see if it is smaller than $\\epsilon$. Once a term that is too small has been identified, then no further terms are included in the sum."
   ]
  },
  {
   "cell_type": "code",
   "execution_count": 1,
   "metadata": {
    "tags": []
   },
   "outputs": [
    {
     "name": "stdout",
     "output_type": "stream",
     "text": [
      "The error function evaluated at x = 1.2 is 0.9103139782296353\n",
      "0.9103140515033431\n"
     ]
    }
   ],
   "source": [
    "import math  # you will need to install the Python 'math' package using conda if this line causes an error\n",
    "from numpy import pi, sqrt\n",
    "x = 1.2\n",
    "\n",
    "print(\"The error function evaluated at x =\",x,\"is\",math.erf(x))\n",
    "\n",
    "# add your custom function below to evaluat erf(x) by Taylor series and compare to the above result\n",
    "\n",
    "def my_erf(X):\n",
    "    \"\"\"\n",
    "    my_erf(X): Calculate the gaussian error of a variable X.\n",
    "    \"\"\"\n",
    "    result = 0;                                 # create a clean variable for the sum\n",
    "    constant = 2/sqrt(pi)                       # calculate the external variables and constants seperately\n",
    "    n_max = 100                                 # set the number of iterations to approximate infinity\n",
    "    marg_err = 10**-6                           # margine of error beneath which we can exit the sum prematurely\n",
    "    for n in range(n_max+1):                    # run through the sum iterations\n",
    "        partial_sum = X/(2*n+1)                 # calculate the variables and constants outside the product seperately, creating a variable for the products\n",
    "        for k in range(1,n+1):                  # run through the product iterations, making sure to start at k = 1, and to include n within the loop\n",
    "            partial_sum *= -1 * X**2 / (k)      # calculate and apply product at this iteration\n",
    "        result += partial_sum                   # apply sum at this iteration\n",
    "        if abs(partial_sum) < marg_err: break   # exit sum loop early if the magnitude of error is smaller than the margin of error\n",
    "    result *= constant                          # apply external variables and constants\n",
    "    return result                               # return value\n",
    "\n",
    "print(my_erf(1.2))"
   ]
  },
  {
   "cell_type": "markdown",
   "metadata": {},
   "source": [
    "### Problem 2 (2 points) \n",
    "Use Latex within Markdown to reproduce precisely one of the above 3 equations for $\\mathrm{erf}(x)$"
   ]
  },
  {
   "cell_type": "markdown",
   "metadata": {},
   "source": [
    "$$\n",
    "\\text{erf}(x) = \\frac{2}{\\sqrt\\pi} \\sum_{n = 0}^{\\infty} \\frac{x}{2n+1} \\prod_{k = 1}^{n} \\frac{-x^2}{k}\n",
    "$$"
   ]
  },
  {
   "cell_type": "markdown",
   "metadata": {
    "jupyter": {
     "outputs_hidden": true
    }
   },
   "source": []
  },
  {
   "cell_type": "markdown",
   "metadata": {},
   "source": [
    "$ \\alpha^2 $"
   ]
  },
  {
   "cell_type": "markdown",
   "metadata": {},
   "source": [
    "\n",
    "**Note**: Before submitting your homework, do the following \n",
    "1. Make sure file name has been changed to your actual name\n",
    "2. Run --> Restart Kernel\n",
    "3. Covert the ipynb file to html (file --> export --> html). Then open the html file in your browser and print to pdf."
   ]
  }
 ],
 "metadata": {
  "kernelspec": {
   "display_name": "Python 3 (ipykernel)",
   "language": "python",
   "name": "python3"
  },
  "language_info": {
   "codemirror_mode": {
    "name": "ipython",
    "version": 3
   },
   "file_extension": ".py",
   "mimetype": "text/x-python",
   "name": "python",
   "nbconvert_exporter": "python",
   "pygments_lexer": "ipython3",
   "version": "3.8.10"
  },
  "varInspector": {
   "cols": {
    "lenName": 16,
    "lenType": 16,
    "lenVar": 40
   },
   "kernels_config": {
    "python": {
     "delete_cmd_postfix": "",
     "delete_cmd_prefix": "del ",
     "library": "var_list.py",
     "varRefreshCmd": "print(var_dic_list())"
    },
    "r": {
     "delete_cmd_postfix": ") ",
     "delete_cmd_prefix": "rm(",
     "library": "var_list.r",
     "varRefreshCmd": "cat(var_dic_list()) "
    }
   },
   "types_to_exclude": [
    "module",
    "function",
    "builtin_function_or_method",
    "instance",
    "_Feature"
   ],
   "window_display": false
  }
 },
 "nbformat": 4,
 "nbformat_minor": 4
}
