{
 "cells": [
  {
   "cell_type": "markdown",
   "metadata": {
    "slideshow": {
     "slide_type": "fragment"
    }
   },
   "source": [
    "# Homework 11\n",
    "\n",
    "As with prior homeworks, the lesson notes on Learning Suite contain lots of details that we went over quickly. Go back and study the examples (this is your free text book for this course!) in order to learn what is needed to complete the homework. \n",
    "\n",
    "Part of programming is following recipes, but not all. You must be able to _synthesize_ information, meaning take different parts, make modifications, and create a new thing. Another skill in programming is to compare existing code with its output and deduce how it works and how to modify it for your purposes. "
   ]
  },
  {
   "cell_type": "code",
   "execution_count": 1,
   "metadata": {},
   "outputs": [],
   "source": [
    "# put needed modules here (see what is in the notes)\n",
    "import numpy as np\n",
    "import matplotlib.pyplot as plt\n",
    "%matplotlib inline"
   ]
  },
  {
   "cell_type": "markdown",
   "metadata": {},
   "source": [
    "### Problem 1 (2 points)\n",
    "\n",
    "Follow the procedure in the notes to solve the matrix equation $\\mathbf{Ax}=\\mathbf{b}$ for $\\mathbf{x}$ where \n",
    "\n",
    "$$    \\mathbf{A} = \\left[ \\begin{array}{rr}\n",
    "      0.25 & 0 & 0.5 \\\\\n",
    "      -0.25 & 0.5 & 0 \\\\\n",
    "      0.25 & 0.75 & 0.25 \\\\ \\end{array} \\right] $$\n",
    "\n",
    "$$ \\mathbf{b} = \\left[ \\begin{array}{r}\n",
    "      1 \\\\ 0 \\\\ 0 \\end{array} \\right] $$\n",
    "\n",
    "First you need to properly enter $\\mathbf{A}$ and $\\mathbf{b}$ into Python, then solve for $\\mathbf{x}$. Pay close attention to how to enter rows and columns of the matrix. Then check your solution by matrix-multiplying $\\mathbf{A}$ and $\\mathbf{x}$ to prove that it is equal to $\\mathbf{b}$. Another check: when you print out $\\mathbf{x}$, the zero element should be $-1$. "
   ]
  },
  {
   "cell_type": "code",
   "execution_count": 2,
   "metadata": {},
   "outputs": [
    {
     "name": "stdout",
     "output_type": "stream",
     "text": [
      "A  =\n",
      "[[ 0.25  0.    0.5 ]\n",
      " [-0.25  0.5   0.  ]\n",
      " [ 0.25  0.75  0.25]]\n",
      "b  = [1 0 0]\n",
      "x  = [-1.  -0.5  2.5]\n",
      "Ax = [1. 0. 0.]\n"
     ]
    }
   ],
   "source": [
    "A = np.array([[0.25, 0, 0.5],[-0.25, 0.5, 0],[0.25, 0.75, 0.25]])     # Define the array such that A[n][m] access the element in the nth row and the mth column\n",
    "b = np.array([1, 0, 0])                                               # Insert the value of b\n",
    "x = np.linalg.solve(A,b)                                              # Use numpy to solve for x\n",
    "print(\"A  =\")                                                          # Print out the value and results\n",
    "print(A)\n",
    "print(\"b  =\", b)\n",
    "print(\"x  =\", x)\n",
    "print(\"Ax =\", np.dot(A,x))"
   ]
  },
  {
   "cell_type": "markdown",
   "metadata": {},
   "source": [
    "### Problem 2 (1 point)\n",
    "\n",
    "* Make an array of $x$ from 0 to 5 with 1000 points, evenly spaced.\n",
    "* create the following $y$-type arrays\n",
    "    * $2x$\n",
    "    * $x^2 -3x + 4$\n",
    "    * $\\sin(5x)$\n",
    "* Plot each $y$ array versus $x$ on a single plot. The plot doesn't yet have to be \"pretty\" (we'll learn to do that soon)."
   ]
  },
  {
   "cell_type": "code",
   "execution_count": 3,
   "metadata": {},
   "outputs": [
    {
     "name": "stdout",
     "output_type": "stream",
     "text": [
      "Plot of y = 2x, y = x^2 - 3x + 4, and y = sin(5x)\n"
     ]
    },
    {
     "data": {
      "text/plain": [
       "[<matplotlib.lines.Line2D at 0x7f5c747bc850>]"
      ]
     },
     "execution_count": 3,
     "metadata": {},
     "output_type": "execute_result"
    },
    {
     "data": {
      "image/png": "[encoded data removed]",
      "text/plain": [
       "<Figure size 432x288 with 1 Axes>"
      ]
     },
     "metadata": {
      "needs_background": "light"
     },
     "output_type": "display_data"
    }
   ],
   "source": [
    "x = np.linspace(0,5,1000)\n",
    "y1 = 2*x\n",
    "y2 = x**2 - 3*x + 4\n",
    "y3 = np.sin(5*x)\n",
    "\n",
    "\n",
    "print(\"Plot of y = 2x, y = x^2 - 3x + 4, and y = sin(5x)\")\n",
    "plt.plot(x, y1)\n",
    "plt.plot(x, y2)\n",
    "plt.plot(x, y3)"
   ]
  },
  {
   "cell_type": "markdown",
   "metadata": {},
   "source": [
    "### Problem 3 (2 points)\n",
    "\n",
    "The ideal gas law can be expressed as\n",
    "$\\rho = \\frac{MP}{RT}$ where in this case\n",
    "* $M=29~\\mathrm{kg/kmol}$\n",
    "* $R=8314~\\mathrm{J/(kmol \\cdot K)}$\n",
    "* $P=101325~\\mathrm{Pa}$\n",
    "\n",
    "Find $\\rho$ for $T=300,350,\\ldots1000~\\mathrm{K}$ \n",
    "\n",
    "* Store $\\rho$ and $T$ as arrays\n",
    "* Plot $\\rho$ versus $T$"
   ]
  },
  {
   "cell_type": "code",
   "execution_count": 7,
   "metadata": {},
   "outputs": [
    {
     "name": "stdout",
     "output_type": "stream",
     "text": [
      "Plot of the density according to the ideal gas law for the following constants:\n",
      "M = 29 kg/kmol\n",
      "R = 8314 J/(kmol*K)\n",
      "P = 101325 Pa\n",
      "T = 300 K, 350 K, 400 K ... 1000 K\n"
     ]
    },
    {
     "data": {
      "image/png": "[encoded data removed]",
      "text/plain": [
       "<Figure size 432x288 with 1 Axes>"
      ]
     },
     "metadata": {
      "needs_background": "light"
     },
     "output_type": "display_data"
    }
   ],
   "source": [
    "M = 29                          # kg/kmol\n",
    "R = 8314                        # J/(kmol*K)\n",
    "P = 101325                      # Pa\n",
    "T = np.linspace(300,1000,15)    # K             | 300 K, 350 K, ... 1000 K\n",
    "\n",
    "𝜌 = (M*P)/(R*T)                 # kg/m^3\n",
    "\n",
    "print(\"Plot of the density according to the ideal gas law for the following constants:\")\n",
    "print(\"M =\", M, \"kg/kmol\")\n",
    "print(\"R =\", R, \"J/(kmol*K)\")\n",
    "print(\"P =\", P, \"Pa\")\n",
    "print(\"T = 300 K, 350 K, 400 K ... 1000 K\")\n",
    "plt.plot(T,𝜌);"
   ]
  },
  {
   "cell_type": "markdown",
   "metadata": {},
   "source": [
    "### Problem 4 (3 points)\n",
    "\n",
    "We have an array $t$ that is storing a series of times (see below), and we want to compute the array of differences $\\delta t$ between adjacent times, i.e. $\\delta t_i = t_{i+1} - t_i$\n",
    "\n",
    "1. What is the length of array $t$?\n",
    "2. What will be the length of array $\\delta t$?\n",
    "3. Create $\\delta t$ using a `for` loop or a nested array (choose one). Print your resulting array. (There is an example of a nested array in the notes.)\n",
    "4. Create a different version of $\\delta t$ using slice-indexing and not a loop or nested array. Prove that you get the same (correct) result as in 3. above."
   ]
  },
  {
   "cell_type": "code",
   "execution_count": 5,
   "metadata": {},
   "outputs": [
    {
     "name": "stdout",
     "output_type": "stream",
     "text": [
      "Array t has 20 elements\n",
      "𝛿𝑡 will have 19 elements\n",
      "𝛿𝑡 (for loop) = [0.00519201 0.008924   0.05150365 0.10265789 0.01849523 0.0260607\n",
      " 0.06202102 0.00262901 0.07387573 0.06282502 0.02410695 0.0229147\n",
      " 0.12078709 0.14506406 0.12058017 0.02950857 0.00302003 0.0020224\n",
      " 0.08349777]\n",
      "𝛿𝑡 (sliced) = [0.00519201 0.008924   0.05150365 0.10265789 0.01849523 0.0260607\n",
      " 0.06202102 0.00262901 0.07387573 0.06282502 0.02410695 0.0229147\n",
      " 0.12078709 0.14506406 0.12058017 0.02950857 0.00302003 0.0020224\n",
      " 0.08349777]\n"
     ]
    }
   ],
   "source": [
    "t = np.array([ \n",
    "    0.01136646,  0.01655847,  0.02548247,  0.07698612,  0.17964401,\n",
    "    0.19813924,  0.22419994,  0.28622096,  0.28884997,  0.3627257 ,\n",
    "    0.42555072,  0.44965767,  0.47257237,  0.59335946,  0.73842352,\n",
    "    0.85900369,  0.88851226,  0.89153229,  0.89355469,  0.97705246,\n",
    "    ])\n",
    "\n",
    "#-------------------------------------your code below here\n",
    "\n",
    "# Print out the required lengths\n",
    "print(\"Array t has\", len(t), \"elements\")\n",
    "print(\"𝛿𝑡 will have\", len(t)-1, \"elements\")\n",
    "\n",
    "# initialise an empty vector and fill it\n",
    "𝛿𝑡_looped = np.empty(len(t)-1)\n",
    "for i in range(len(𝛿t_looped)):\n",
    "    𝛿𝑡_looped[i] = t[i+1] - t[i]\n",
    "print(\"𝛿𝑡 (for loop) =\", 𝛿𝑡_looped)\n",
    "\n",
    "# initialise 𝛿𝑡 directly using two subsets of t.\n",
    "𝛿𝑡_sliced = t[1:] - t[:-1]\n",
    "print(\"𝛿𝑡 (sliced) =\", 𝛿𝑡_sliced)"
   ]
  },
  {
   "cell_type": "code",
   "execution_count": null,
   "metadata": {},
   "outputs": [],
   "source": []
  }
 ],
 "metadata": {
  "kernelspec": {
   "display_name": "Python 3 (ipykernel)",
   "language": "python",
   "name": "python3"
  },
  "language_info": {
   "codemirror_mode": {
    "name": "ipython",
    "version": 3
   },
   "file_extension": ".py",
   "mimetype": "text/x-python",
   "name": "python",
   "nbconvert_exporter": "python",
   "pygments_lexer": "ipython3",
   "version": "3.8.10"
  },
  "varInspector": {
   "cols": {
    "lenName": 16,
    "lenType": 16,
    "lenVar": 40
   },
   "kernels_config": {
    "python": {
     "delete_cmd_postfix": "",
     "delete_cmd_prefix": "del ",
     "library": "var_list.py",
     "varRefreshCmd": "print(var_dic_list())"
    },
    "r": {
     "delete_cmd_postfix": ") ",
     "delete_cmd_prefix": "rm(",
     "library": "var_list.r",
     "varRefreshCmd": "cat(var_dic_list()) "
    }
   },
   "types_to_exclude": [
    "module",
    "function",
    "builtin_function_or_method",
    "instance",
    "_Feature"
   ],
   "window_display": false
  }
 },
 "nbformat": 4,
 "nbformat_minor": 4
}
