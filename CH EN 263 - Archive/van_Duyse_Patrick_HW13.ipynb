{
 "cells": [
  {
   "cell_type": "markdown",
   "metadata": {},
   "source": [
    "# Homework 13"
   ]
  },
  {
   "cell_type": "code",
   "execution_count": 1,
   "metadata": {},
   "outputs": [],
   "source": [
    "import numpy as np\n",
    "import matplotlib.pyplot as plt\n",
    "%matplotlib inline"
   ]
  },
  {
   "cell_type": "markdown",
   "metadata": {},
   "source": [
    "## Problem 1 (1 point)\n",
    "\n",
    "If a dictionary has a value that is an array, we can access elements of the array as follows. (First we make the dictionary, then we access an array element.)\n",
    "\n",
    "```python\n",
    "a = {\n",
    "    'CO2':np.array([0.1, 2.2, 33.3]),\n",
    "    'H2O':np.array([0.2, 3.8, 44.4]),  # useful optional end comma \n",
    "    }                                  # makes each line the same\n",
    "a['CO2'][1]    # --> 2.2\n",
    "```\n",
    "\n",
    "That is ```a['CO2']``` is the array, and the following ```[1]``` accesses the given element.\n",
    "\n",
    "The heat capacity of a species $i$ is given by\n",
    "$$c_{p,i}(T) = R_g(a_{0,i} + a_{1,i}T + a_{2,i}T^2 + a_{3,i}T^3 + a_{4,i}T^4)$$ where $R_g$ is the ideal gas constant, $T$ is absolute temperature in K, and $a_{k,i}$ is a constant particular to species $i$.\n",
    "\n",
    "The following species data are given:\n",
    "\n",
    "\n",
    "| Species | $a_0$           | $a_1$             | $a_2$            | $a_3$             | $a_4$             |\n",
    "|---------|-----------------|-------------------|------------------|-------------------|-------------------|\n",
    "| CO2     | 2.356773520E+00 |   8.984596770E-03 | -7.123562690E-06 |   2.459190220E-09 |  -1.436995480E-13 |\n",
    "| H2O     | 4.198640560E+00 |  -2.036434100E-03 |  6.520402110E-06 |  -5.487970620E-09 |   1.771978170E-12 |\n",
    "| O2      | 3.782456360E+00 |  -2.996734160E-03 |  9.847302010E-06 |  -9.681295090E-09 |   3.243728370E-12 |\n",
    "| N2      | 3.298677000E+00 |   1.408240400E-03 | -3.963222000E-06 |   5.641515000E-09 |  -2.444854000E-12 |\n",
    "| CH4     | 5.149876130E+00 |  -1.367097880E-02 |  4.918005990E-05 |  -4.847430260E-08 |   1.666939560E-11 |\n",
    "\n",
    "* Declare a dictionary variable containing these data. It should have the np.array of sequential $a_{k,i}$ values linked to the species name.\n"
   ]
  },
  {
   "cell_type": "code",
   "execution_count": 2,
   "metadata": {},
   "outputs": [
    {
     "name": "stdout",
     "output_type": "stream",
     "text": [
      "Species data:\n",
      "CO2\n",
      "\ta0: 2.356773520E+00\n",
      "\ta1: 8.984596770E-03\n",
      "\ta2: -7.123562690E-06\n",
      "\ta3: 2.459190220E-09\n",
      "\ta4: -1.436995480E-13\n",
      "H2O\n",
      "\ta0: 4.198640560E+00\n",
      "\ta1: -2.036434100E-03\n",
      "\ta2: 6.520402110E-06\n",
      "\ta3: -5.487970620E-09\n",
      "\ta4: 1.771978170E-12\n",
      "O2\n",
      "\ta0: 3.782456360E+00\n",
      "\ta1: -2.996734160E-03\n",
      "\ta2: 9.847302010E-06\n",
      "\ta3: -9.681295090E-09\n",
      "\ta4: 3.243728370E-12\n",
      "N2\n",
      "\ta0: 3.298677000E+00\n",
      "\ta1: 1.408240400E-03\n",
      "\ta2: -3.963222000E-06\n",
      "\ta3: 5.641515000E-09\n",
      "\ta4: -2.444854000E-12\n",
      "CH4\n",
      "\ta0: 5.149876130E+00\n",
      "\ta1: -1.367097880E-02\n",
      "\ta2: 4.918005990E-05\n",
      "\ta3: -4.847430260E-08\n",
      "\ta4: 1.666939560E-11\n"
     ]
    }
   ],
   "source": [
    "species = {\n",
    "        \"CO2\":np.array([2.356773520E+00,  8.984596770E-03, -7.123562690E-06,  2.459190220E-09, -1.436995480E-13]),\n",
    "        \"H2O\":np.array([4.198640560E+00, -2.036434100E-03,  6.520402110E-06, -5.487970620E-09,  1.771978170E-12]),\n",
    "        \"O2\" :np.array([3.782456360E+00, -2.996734160E-03,  9.847302010E-06, -9.681295090E-09,  3.243728370E-12]),\n",
    "        \"N2\" :np.array([3.298677000E+00,  1.408240400E-03, -3.963222000E-06,  5.641515000E-09, -2.444854000E-12]),\n",
    "        \"CH4\":np.array([5.149876130E+00, -1.367097880E-02,  4.918005990E-05, -4.847430260E-08,  1.666939560E-11])\n",
    "}\n",
    "\n",
    "print(\"Species data:\")\n",
    "for k, v in species.items():\n",
    "    print(k)\n",
    "    for i in range(len(v)):\n",
    "        print(\"\\ta%s: %s\"%(i, f'{v[i]:.9E}'))"
   ]
  },
  {
   "cell_type": "markdown",
   "metadata": {},
   "source": [
    "## Problem 2 (2 points)\n",
    "\n",
    "(Continuation of Problem 1)\n",
    "* Now write a function called ```cp``` that takes two arguments: a string that gives the name of the species, and the temperature. \n",
    "* The function should return the heat capacity of the given species at the given temperature, in units $\\mathrm{J/(mol\\cdot K)}$.\n",
    "* Test your function for \"H2O\" and 900 K -- the answer should be around $40~\\mathrm{J/(mol\\cdot K)}$.\n",
    "* Make sure your code is documented, including with units where applicable\n",
    "* There are multiple ways to do this function using array math or loops. Think about how to make your code efficient.\n",
    "    "
   ]
  },
  {
   "cell_type": "code",
   "execution_count": 3,
   "metadata": {},
   "outputs": [
    {
     "name": "stdout",
     "output_type": "stream",
     "text": [
      "The heat capacity of H2O at 900K is aproximately 39.99 J/(mol*K)\n"
     ]
    }
   ],
   "source": [
    "def cp(spec_name, T):\n",
    "    \"\"\"\n",
    "    Calculates the heat capacity of a molecule given its species name and the temperature\n",
    "    spec_name: Species name as a molecular formula\n",
    "    T:         Temperature in Kelvins\n",
    "    Returns in units of J/(mol*K)\n",
    "    \"\"\"\n",
    "    R_g = 8.31446           # J/(mol*K)\n",
    "    cp = 0\n",
    "    for i in range(len(species[spec_name])):\n",
    "        cp += R_g*species[spec_name][i]*T**i\n",
    "    return cp               # J/(mol*K)\n",
    "\n",
    "spec_name = \"H2O\"           # Species name as a molecular formula\n",
    "T = 900                     # K\n",
    "\n",
    "print(\"The heat capacity of %s at %sK is aproximately %s J/(mol*K)\"%(\n",
    "    spec_name,\n",
    "    T,\n",
    "    f'{cp(spec_name,T):.2f}'\n",
    "))"
   ]
  },
  {
   "cell_type": "markdown",
   "metadata": {},
   "source": [
    "## Problem 3 (2 points)\n",
    "(Continuation of Problem 2)\n",
    "* When molecules are mixed, you can estimate the mixture heat capacity from \n",
    "$$c_p(x,T) = \\sum_i x_ic_{p,i}(T),$$\n",
    "where $x_i$ are species mole fractions (dimensionless).\n",
    "\n",
    "* Write a function called ```cp_mix``` that takes two arguments: a dictionary containing the names and mole fractions of species, and the temperature.\n",
    "* Document your function\n",
    "* This function should evaluate the mixture $c_p$ using array math or a loop that calls the function you wrote Problem 2.\n",
    "    "
   ]
  },
  {
   "cell_type": "code",
   "execution_count": 4,
   "metadata": {},
   "outputs": [],
   "source": [
    "def cp_mix(mole_frac,T):\n",
    "    \"\"\"\n",
    "    Calculates the mixture heat capacity given mole fractions and the temperature\n",
    "    mole_frac: Mole fractions maped by molecular formula\n",
    "    T:         Temperature in Kelvins\n",
    "    Returns in units of J/(mol*K)\n",
    "    \"\"\"\n",
    "    cp_mix = 0\n",
    "    for k in mole_frac.keys():\n",
    "        cp_mix += mole_frac[k] * cp(k, T)\n",
    "    return cp_mix                          # J/(mol*K)"
   ]
  },
  {
   "cell_type": "markdown",
   "metadata": {},
   "source": [
    "## Problem 4 (1 point)\n",
    "(Continuation of Problem 3)\n",
    "* Use the function ```cp_mix``` to evaluate the mixture heat capacity at T=900 K, for the following mixture (corresponding to a stoichiometric mixture of methane and air (CH4 + 2O2 + 7.52 N2):\n",
    "    * $x_{CH_4} = 0.095$,\n",
    "    * $x_{O2} = 0.19$,\n",
    "    * $x_{N2} = 0.715$.\n",
    "* How do you know your answer is right? The answer should be a \"weighted average\" of the species values, and closest to the value for N2."
   ]
  },
  {
   "cell_type": "code",
   "execution_count": 5,
   "metadata": {},
   "outputs": [
    {
     "name": "stdout",
     "output_type": "stream",
     "text": [
      "The heat capacity of the given mixture at 900K is aproximately 36.04 J/(mol*K)\n"
     ]
    }
   ],
   "source": [
    "mole_frac = {\n",
    "    \"CH4\":0.095,\n",
    "    \"O2\":0.19,\n",
    "    \"N2\":0.715\n",
    "}\n",
    "print(\"The heat capacity of the given mixture at %sK is aproximately %s J/(mol*K)\"%(\n",
    "    T,\n",
    "    f'{cp_mix(mole_frac,T):.2f}'\n",
    "))"
   ]
  },
  {
   "cell_type": "markdown",
   "metadata": {},
   "source": [
    "## Problem 5 (2 points)\n",
    "(Continuation of Problem 4)\n",
    "* Create an array of temperatures from 300 to 1000 K with steps of 2 K.\n",
    "* Use your cp_mix function to find an array of cp values at each temperature for the same mixture as in Problem 4.\n",
    "* Plot $c_{p,mix}$ versus $T$."
   ]
  },
  {
   "cell_type": "code",
   "execution_count": 6,
   "metadata": {},
   "outputs": [],
   "source": [
    "T = np.arange(300,1000,2)     # K\n",
    "cp_values = cp_mix(mole_frac, T)"
   ]
  },
  {
   "cell_type": "code",
   "execution_count": 7,
   "metadata": {},
   "outputs": [
    {
     "data": {
      "image/png": "[encoded data removed]",
      "text/plain": [
       "<Figure size 576x360 with 1 Axes>"
      ]
     },
     "metadata": {
      "needs_background": "light"
     },
     "output_type": "display_data"
    }
   ],
   "source": [
    "plt.figure(figsize=(8, 5))\n",
    "plt.rcParams.update({'font.size': 16})\n",
    "\n",
    "plt.plot(T, cp_values)\n",
    "plt.title(\"Heat Capacity of a Methane and Air mixture\")\n",
    "plt.xlabel(\"Temperature (K)\")\n",
    "plt.ylabel(r\"Heat capacity $(\\frac{J}{mol \\times K})$\");"
   ]
  },
  {
   "cell_type": "code",
   "execution_count": null,
   "metadata": {},
   "outputs": [],
   "source": []
  }
 ],
 "metadata": {
  "kernelspec": {
   "display_name": "Python 3 (ipykernel)",
   "language": "python",
   "name": "python3"
  },
  "language_info": {
   "codemirror_mode": {
    "name": "ipython",
    "version": 3
   },
   "file_extension": ".py",
   "mimetype": "text/x-python",
   "name": "python",
   "nbconvert_exporter": "python",
   "pygments_lexer": "ipython3",
   "version": "3.8.10"
  },
  "varInspector": {
   "cols": {
    "lenName": 16,
    "lenType": 16,
    "lenVar": 40
   },
   "kernels_config": {
    "python": {
     "delete_cmd_postfix": "",
     "delete_cmd_prefix": "del ",
     "library": "var_list.py",
     "varRefreshCmd": "print(var_dic_list())"
    },
    "r": {
     "delete_cmd_postfix": ") ",
     "delete_cmd_prefix": "rm(",
     "library": "var_list.r",
     "varRefreshCmd": "cat(var_dic_list()) "
    }
   },
   "types_to_exclude": [
    "module",
    "function",
    "builtin_function_or_method",
    "instance",
    "_Feature"
   ],
   "window_display": false
  }
 },
 "nbformat": 4,
 "nbformat_minor": 4
}
