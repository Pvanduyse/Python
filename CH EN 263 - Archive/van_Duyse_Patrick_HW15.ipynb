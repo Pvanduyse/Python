{
 "cells": [
  {
   "cell_type": "markdown",
   "metadata": {},
   "source": [
    "# Homework 15"
   ]
  },
  {
   "cell_type": "markdown",
   "metadata": {},
   "source": [
    "### Problem 1 (2 points)\n",
    "\n",
    "* Paste or type the following code into a **separate file called units.py**\n",
    "* The file should be in the same folder as this notebook.\n",
    "* Import or load the module and use it to convert a temperature of 212 degrees F to into degrees C.\n",
    "\n",
    "```Python\n",
    "\"\"\"\n",
    "Simple unit conversion module.\n",
    "Some basic conversions for length and temperature.\n",
    "\"\"\"\n",
    "\n",
    "ft_to_m = 0.3048\n",
    "m_to_ft = 3.28084\n",
    "\n",
    "ft_to_in = 12.0\n",
    "in_to_ft = 1.0/12.0\n",
    "mi_to_ft = 5280.0\n",
    "ft_to_mi = 1.0/5280.0\n",
    "in_to_mi = 1.0/12.0/5280.0\n",
    "mi_to_in = 5280.0*12.0\n",
    "\n",
    "m_to_km  = 0.001\n",
    "m_to_dm  = 10.0\n",
    "m_to_cm  = 100.0\n",
    "m_to_mm  = 1000.0\n",
    "m_to_um  = 1.0E6  # m to micrometers\n",
    "\n",
    "def K_to_C(T_K) :\n",
    "    return T_K - 278.15\n",
    "\n",
    "def C_to_K(T_C) :\n",
    "    return T_C + 278.15\n",
    "\n",
    "def F_to_C(T_F) :\n",
    "    return (T_F - 32.0)/1.8\n",
    "\n",
    "def C_to_F(T_C) :\n",
    "    return T_C*1.8 + 32.0\n",
    "```"
   ]
  },
  {
   "cell_type": "code",
   "execution_count": 1,
   "metadata": {},
   "outputs": [
    {
     "name": "stdout",
     "output_type": "stream",
     "text": [
      "212 degrees Fahrenheit is equivalent to 100 degrees Celcius\n"
     ]
    }
   ],
   "source": [
    "import numpy as np\n",
    "import units as u\n",
    "\n",
    "temp = 212                # F\n",
    "print(\"{TF} degrees Fahrenheit is equivalent to {TC:.0f} degrees Celcius\".format(\n",
    "    TF = temp,            # F\n",
    "    TC = u.F_to_C(temp)   # C\n",
    "))"
   ]
  },
  {
   "cell_type": "markdown",
   "metadata": {},
   "source": [
    "## Problem 2 (3 points)\n",
    "* Write a cylinder class similar to the cube class that we discussed in class.\n",
    "* Your class should include an `__init__` function and assume default radius and height of one, but allow the user to change these when an object is created from the class.\n",
    "* The `__init__` function should also print out the dimensions of the cylinder\n",
    "* Your class should have functions to compute the volume and the surface area (including the ends). Each function should print the results, not just return them.\n",
    "* Create two cylinder objects: the first with the default radius and height and a second with radius 2 and height 10. Call their respective functions to print the volume and surface area of each object.\n",
    "* Your outputs should be well-formatted and easy to understand. Your code should be commented."
   ]
  },
  {
   "cell_type": "code",
   "execution_count": 2,
   "metadata": {},
   "outputs": [],
   "source": [
    "class cylinder():\n",
    "    \n",
    "    def __init__(self, radius = 1, height = 1, units = \"meters\"):\n",
    "        # Initialize and store the relative values.\n",
    "        self.H = height\n",
    "        self.R = radius\n",
    "        self.U = units\n",
    "        print(\"New cylinder of radius {R} and height {H}\".format(R = radius, H = height))\n",
    "    \n",
    "    def cross_section(self):\n",
    "        # Calculate the cross-section of the cylinder\n",
    "        return np.pi*self.R**2\n",
    "    \n",
    "    def volume(self):\n",
    "        # Calculate the volume of the cylinder\n",
    "        return self.cross_section() * self.H\n",
    "    \n",
    "    def print_volume(self):\n",
    "        # Print the calculated valume of the cylinder\n",
    "        print(\"The volume of this cylinder is {V:.2f} {U} cubed.\".format(\n",
    "            V = self.volume(),\n",
    "            U = self.U\n",
    "        ))\n",
    "    \n",
    "    def surface(self):\n",
    "        # Calculate the surface area of the cylinder\n",
    "        return 2 * (self.cross_section() + self.H * self.R * np.pi)\n",
    "    \n",
    "    def print_surface(self):\n",
    "        # Print the calculated surface area of the cylinder\n",
    "        print(\"The surface area of this cylinder is {S:.2f} {U} squared.\".format(\n",
    "            S = self.surface(),\n",
    "            U = self.U\n",
    "        ))"
   ]
  },
  {
   "cell_type": "code",
   "execution_count": 3,
   "metadata": {},
   "outputs": [
    {
     "name": "stdout",
     "output_type": "stream",
     "text": [
      "New cylinder of radius 1 and height 1\n",
      "New cylinder of radius 2 and height 10\n",
      "The volume of this cylinder is 3.14 meters cubed.\n",
      "The volume of this cylinder is 125.66 meters cubed.\n",
      "The surface area of this cylinder is 12.57 meters squared.\n",
      "The surface area of this cylinder is 150.80 meters squared.\n"
     ]
    }
   ],
   "source": [
    "cylinders = (cylinder(), cylinder(2, 10))\n",
    "\n",
    "for cyl in cylinders:\n",
    "    cyl.print_volume()\n",
    "    \n",
    "for cyl in cylinders:\n",
    "    cyl.print_surface()"
   ]
  },
  {
   "cell_type": "markdown",
   "metadata": {},
   "source": [
    "## Problem 3 (3 points)\n",
    "\n",
    "Think of a new problem (could deal with mathematics, physics, biology, engineering, psychology, gospel living, dating, etc.) for which a Python class could be useful. \n",
    "\n",
    "A class enables multiple instances or cases or members of that class (i.e. objects) to be created as needed. Each object should have a way to: \n",
    "\n",
    "1. initialize the object with the bare minimum amount of information (using the `__init__` function)\n",
    "2. store or modify additional information associated with the object\n",
    "3. retrieve or report information about the object\n",
    "4. perform some function or task associated with the data about the object\n",
    "\n",
    "Write a well-commented class that fulfills these requirements. Create at least two objects in that class and demonstrate that each of the above bulleted features works."
   ]
  },
  {
   "cell_type": "code",
   "execution_count": 4,
   "metadata": {},
   "outputs": [],
   "source": [
    "class Location():\n",
    "    def __init__(self, building, room_num):\n",
    "        self.building = building\n",
    "        self.room_num = room_num\n",
    "        \n",
    "    def get():\n",
    "        return \"Room {R} of the {B}\".format(R = self.room_num, B = self.building)\n",
    "    "
   ]
  },
  {
   "cell_type": "code",
   "execution_count": 5,
   "metadata": {},
   "outputs": [],
   "source": [
    "class Section():\n",
    "    \n",
    "    def __init__(self, time, location):\n",
    "        self.time = time\n",
    "        self.location = location"
   ]
  },
  {
   "cell_type": "code",
   "execution_count": 6,
   "metadata": {},
   "outputs": [],
   "source": [
    "class Course():\n",
    "    \n",
    "    def __init__(self, id_code, name, professor, credits):\n",
    "        self.id_code = id_code\n",
    "        self.name = name\n",
    "        self.professor = professor\n",
    "        self.credit = credits\n",
    "    \n",
    "    def get(self):\n",
    "        return \"{ID}: {N}, a {C} credit class taught by {P}\".format(\n",
    "            ID = self.id_code,\n",
    "            N = self.name,\n",
    "            C = self.credit,\n",
    "            P = self.professor\n",
    "        )"
   ]
  },
  {
   "cell_type": "code",
   "execution_count": 7,
   "metadata": {},
   "outputs": [],
   "source": [
    "class Catalog():\n",
    "    \n",
    "    def __init__ (self, course_map):\n",
    "        if not isinstance(course_map, dict):\n",
    "            raise TypeError(\"Schedule must be given as a dict, but was given as a {T}\".format(T=type(course_map)))\n",
    "        self.courses = course_map.keys()\n",
    "        self.sections = course_map.values()\n",
    "        \n",
    "    def list_courses(self):\n",
    "        print(\"The courses offered this upcomming semester are:\")\n",
    "        for c in self.courses:\n",
    "            print(c.get())\n",
    "        \n",
    "    def list_sections(self, id_code):\n",
    "        for c in self.courses:\n",
    "            if self.courses[i].id_code == id_code:\n",
    "                print(c.get)\n",
    "                for j in range(len(self.courses[i])):\n",
    "                    print(\"Section {I}: {T} in {L}\".format(\n",
    "                        I=j+1,\n",
    "                        T=self.courses[i][j].time,\n",
    "                        L=self.courses[i][j].location.get\n",
    "                    ))\n",
    "                    return\n",
    "        print(\"Course not found\")\n",
    "        return"
   ]
  },
  {
   "cell_type": "code",
   "execution_count": 8,
   "metadata": {},
   "outputs": [],
   "source": [
    "#class Class():\n",
    "    \n",
    "    #def __init__ (self, course, section):\n",
    "        "
   ]
  },
  {
   "cell_type": "code",
   "execution_count": 9,
   "metadata": {},
   "outputs": [],
   "source": [
    "cs142 = Course('CS 142', \"Intro to Programming\", \"Dr. Patrick van Duyse\", 3)\n",
    "cs235 = Course('CS 235', \"Data Structures\", \"Dr. Patrick van Duyse\", 2)\n",
    "TMCB1141 = Location(\"TMCB\", 1141)\n",
    "TMCB1001 = Location(\"TMCB\", 1001)\n",
    "cs_catalog = Catalog({\n",
    "    cs142:[\n",
    "        Section(\"MWF 10:00 AM - 10:50 AM\", TMCB1141),\n",
    "        Section(\"TTh 10:00 AM - 11:15 AM\", TMCB1141)\n",
    "    ],\n",
    "    cs235:[\n",
    "        Section(\"MW 11:00 AM - 11:50 AM\", TMCB1141),\n",
    "        Section(\"TTh 8:00 AM - 8:50 AM\", TMCB1001)\n",
    "    ]\n",
    "})"
   ]
  },
  {
   "cell_type": "code",
   "execution_count": 10,
   "metadata": {},
   "outputs": [
    {
     "name": "stdout",
     "output_type": "stream",
     "text": [
      "The courses offered this upcomming semester are:\n",
      "CS 142: Intro to Programming, a 3 credit class taught by Dr. Patrick van Duyse\n",
      "CS 235: Data Structures, a 2 credit class taught by Dr. Patrick van Duyse\n"
     ]
    },
    {
     "data": {
      "text/plain": [
       "dict_keys([<__main__.Course object at 0x7f9e9408dbe0>, <__main__.Course object at 0x7f9e9408d6a0>])"
      ]
     },
     "execution_count": 10,
     "metadata": {},
     "output_type": "execute_result"
    }
   ],
   "source": [
    "cs_catalog.list_courses()\n",
    "#cs_catalog.list_sections(\"CS 142\")\n",
    "diction = {\n",
    "    cs142:[\n",
    "        Section(\"MWF 10:00 AM - 10:50 AM\", TMCB1141),\n",
    "        Section(\"TTh 10:00 AM - 11:15 AM\", TMCB1141)\n",
    "    ],\n",
    "    cs235:[\n",
    "        Section(\"MW 11:00 AM - 11:50 AM\", TMCB1141),\n",
    "        Section(\"TTh 8:00 AM - 8:50 AM\", TMCB1001)\n",
    "    ]\n",
    "}\n",
    "diction.keys()"
   ]
  },
  {
   "cell_type": "markdown",
   "metadata": {},
   "source": [
    "## Note:\n",
    "\n",
    "I essentially started building a data framework for a university course catalogue.\n",
    "\n",
    "This ended up being significantly larger than I intended it to be. Is it complete? No, but it's significantly more than was requested by the program."
   ]
  },
  {
   "cell_type": "code",
   "execution_count": null,
   "metadata": {},
   "outputs": [],
   "source": []
  }
 ],
 "metadata": {
  "hide_input": false,
  "kernelspec": {
   "display_name": "Python 3 (ipykernel)",
   "language": "python",
   "name": "python3"
  },
  "language_info": {
   "codemirror_mode": {
    "name": "ipython",
    "version": 3
   },
   "file_extension": ".py",
   "mimetype": "text/x-python",
   "name": "python",
   "nbconvert_exporter": "python",
   "pygments_lexer": "ipython3",
   "version": "3.8.10"
  },
  "varInspector": {
   "cols": {
    "lenName": 16,
    "lenType": 16,
    "lenVar": 40
   },
   "kernels_config": {
    "python": {
     "delete_cmd_postfix": "",
     "delete_cmd_prefix": "del ",
     "library": "var_list.py",
     "varRefreshCmd": "print(var_dic_list())"
    },
    "r": {
     "delete_cmd_postfix": ") ",
     "delete_cmd_prefix": "rm(",
     "library": "var_list.r",
     "varRefreshCmd": "cat(var_dic_list()) "
    }
   },
   "types_to_exclude": [
    "module",
    "function",
    "builtin_function_or_method",
    "instance",
    "_Feature"
   ],
   "window_display": false
  }
 },
 "nbformat": 4,
 "nbformat_minor": 4
}
