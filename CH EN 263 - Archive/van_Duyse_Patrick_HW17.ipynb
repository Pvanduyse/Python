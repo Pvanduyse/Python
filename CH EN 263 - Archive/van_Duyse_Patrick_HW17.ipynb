{
 "cells": [
  {
   "cell_type": "markdown",
   "metadata": {},
   "source": [
    "# Homework 17\n",
    "\n",
    "Each of the problems below requires you to **combine** Python programming concepts from previous homeworks and to perform proper **units conversion**.  "
   ]
  },
  {
   "cell_type": "code",
   "execution_count": 1,
   "metadata": {},
   "outputs": [],
   "source": [
    "from all_imports import *"
   ]
  },
  {
   "cell_type": "markdown",
   "metadata": {},
   "source": [
    "### Problem 1 (3 points) \n",
    "\n",
    "(Continuation of HW 16 Problem 1.)\n",
    "\n",
    "Your task is to **estimate** and **plot** the pressure drop $\\Delta P$ across a horizontal section of pipe as a function of volumetric flowrate $Q$ through the pipe. This is something you might do in ChEn 374. Specifically, plot pressure drop (in kPa) for a \"very smooth wall\" pipe that has diameter $2.5~\\mathrm{cm}$ and length $100~\\mathrm{m}$ and $0\\le Q \\le 100~\\mathrm{liters/min}$. Use fluid properties for liquid water at room temperature (i.e. look them up). Use closely spaced $Q$ values so that the transition from laminar to turbulent flow is visible in the plot.\n",
    "\n",
    "The pressure drop for steady incompressible fluid flow is $$\\Delta P = \\frac{1}{2}\\rho v^2 f \\frac{L}{D}$$ where $\\rho$ is fluid density, $v$ is average velocity, $f$ is the Darcy friction factor, $D$ is diameter, and $L$ is length.\n",
    "\n",
    "To determine the friction factor, you must know if the flow is laminar or turbulent by looking at the Reynolds number $\\mathrm{Re}$. If $\\mathrm{Re}\\lesssim 3000$ the flow is laminar and $$f=\\frac{64}{\\mathrm{Re}}$$ If $\\mathrm{Re}$ is larger than this then turbulent flow prevails and the Colebrook equation (Homework 16) can determine $f$. At the transition from laminar to turbulent flow there is an abrupt increase in $f$. \n",
    "\n",
    "The dimensionless Reynolds number comes from $$\\mathrm{Re}=\\frac{vD\\rho}{\\mu}$$ where $\\mu$ is fluid viscosity and other variables are previously defined. Finally, the relationship between velocity and volumetric flowrate $Q$ is $$Q = vA = \\frac{\\pi}{4}D^2v$$"
   ]
  },
  {
   "cell_type": "code",
   "execution_count": 2,
   "metadata": {},
   "outputs": [],
   "source": [
    "def ΔPressure(ρ, v, f, L, D):\n",
    "    return 0.5 * ρ * v**2 * f * L / D\n",
    "\n",
    "def Reynolds(v, D, ρ, μ):\n",
    "    return v * D * ρ / μ\n",
    "\n",
    "def velocity(Q, D):\n",
    "    return Q * 4 /np.pi / D**2\n",
    "\n",
    "def f_laminar(Re):\n",
    "    return 64/Re\n",
    "\n",
    "def f_turbulent(Re, ϵ, D):\n",
    "    return fsolve(lambda f: 1/np.sqrt(f) + 2*np.log10((ϵ/D/3.7) + (2.51/(Re*np.sqrt(f)))), 0.01)\n",
    "\n",
    "def Darcy_Friction(Re, ϵ, D):\n",
    "    return f_laminar(Re) if Re < 3000 else f_turbulent(Re, ϵ, D)"
   ]
  },
  {
   "cell_type": "code",
   "execution_count": 3,
   "metadata": {},
   "outputs": [],
   "source": [
    "D = 2.5/u.m_to_cm                                  # m\n",
    "L = 100                                            # m\n",
    "ρ = 1000                                           # kg/m^3\n",
    "μ = 1/1000                                         # kg/(m*s)\n",
    "ϵ = 0.0025                                         # m"
   ]
  },
  {
   "cell_type": "code",
   "execution_count": 4,
   "metadata": {},
   "outputs": [],
   "source": [
    "Q = np.linspace(0.01, 10, 1000)                    # L/min\n",
    "Q_conv = Q/u.min_to_s/u.m3_to_L                    # m^3/s\n",
    "v = velocity(Q_conv, D)                            # m/s\n",
    "Re = Reynolds(v, D, ρ, μ)                          # {dimensionless}\n",
    "\n",
    "f = np.zeros(len(Re))                              # {dimensionless}\n",
    "for i in range(len(f)):\n",
    "    f[i] = Darcy_Friction(Re[i], ϵ, D)\n",
    "\n",
    "ΔP = np.zeros(len(f))                              # kg/(m*s^2) / Pa\n",
    "for i in range(len(ΔP)):\n",
    "    ΔP[i] = ΔPressure(ρ, v[i], f[i], L, D)/1000    # kPa"
   ]
  },
  {
   "cell_type": "code",
   "execution_count": 5,
   "metadata": {},
   "outputs": [
    {
     "data": {
      "image/png": "[encoded data removed]",
      "text/plain": [
       "<Figure size 432x288 with 1 Axes>"
      ]
     },
     "metadata": {
      "needs_background": "light"
     },
     "output_type": "display_data"
    }
   ],
   "source": [
    "#Plot the calculated pressure drop agains the given volumetric flowrates\n",
    "plt.plot(Q, ΔP)\n",
    "plt.title(\"Pressure drop estimate (ΔP) \\n vs Volumetric flowrate (Q)\", fontsize=16)\n",
    "plt.ylabel(\"ΔP (kPa)\", fontsize=16)\n",
    "plt.xlabel(\"Q (L/min)\", fontsize=16);"
   ]
  },
  {
   "cell_type": "markdown",
   "metadata": {},
   "source": [
    "### Problem 2 (5 points)\n",
    "\n",
    "(Continuation of HW 6 Problem 2 and HW 9 Problem 3)\n",
    "\n",
    "An equation of state (EOS) is used to correlate and predict the relationship between pressure, temperature, and volume for a fluid. The Peng-Robinson EOS, and similar ones, are useful because with one equation one can predict both the vapor and liquid states of a substance. Furthermore, one can predict the _saturation pressure_, or the pressure at which the vapor and liquid are in equilibrium.  In this problem you will do such predictions like you might do in ChEn 373.\n",
    "\n",
    "The Peng-Robinson EOS is pressure-explicit, meaning it has the form $P_{PR}(V,T)$. However, we often need to solve instead for $V$ as a function of $P$ and $T$. One way to do this inversion is with an equation solver like `fsolve` where you solve the following for $V$: $$P-P_{PR}(V,T) = 0$$ To do this you need a guess value for $V$. If you are trying to find a vapor root or solution, a good guess value is the volume from the ideal gas law: $V_{V,\\mathrm{guess}} = RT/P$. If you are trying to find a liquid root a good guess value is $V_{L,\\mathrm{guess}}=0.9b$, where $b$ is a molecular size parameter in the Peng-Robinson EOS. \n",
    "\n",
    "Under the set of conditions where both liquid and vapor can coexist, the EOS will have three roots, meaning three $V$ values can produce the same $P_{PR}$ value. The smallest root is for the liquid, the middle root is for the material inside the liquid-vapor interface, and the largest root is for the vapor.\n",
    "\n",
    "Once you can solve for the vapor and liquid roots, $V_V(P,T)$ and $V_L(P,T)$, then you can use the EOS to solve for the saturation pressure, which is the exact pressure when the two phases are in equilibrium. The formula is $$P_\\mathrm{sat}\\cdot \\left( V_V-V_L \\right) - \\int_{V_L}^{V_V} P_{PR}(V,T)~dV = 0$$ \n",
    "\n",
    "In HW 9 Problem 3 you made a function that can give the Peng-Robinson pressure as a function of three molecular constants: $P_c$, $T_c$, and $\\omega$; and two variables: absolute temperature $T$ and molar volume $V$. Here we will do calculations on n-hexane for which $P_c=30.250~\\mathrm{bar}$, $T_c=507.6~\\mathrm{K}$, and $\\omega=0.3013$. Use $T=350~\\mathrm{K}$ for all calculations.\n",
    "\n",
    "**(a)** Make a plot of $P$ (in bar) vs. $V/b$ for the range $1.2\\le V/b \\le 1000$. Make your plot semilog, with $V/b$ displayed on a log scale. Note that volume is made dimensionless in the plot by dividing by parameter $b$ used in the Peng-Robinsion EOS. If this is right you should see a big \"wiggle\" in the curve that indicates the two-phase region discussed above.\n",
    "\n",
    "**(b)** Create two functions that can solve for $V$ as a function of $P$ and $T$. The first function will be to find the vapor solution; the second to find the liquid solution. Use the guess values indicated above and use the `fsolve` function. Test your functions at a pressure value from the plot in part (a) such that there should be distinct vapor and liquid roots. \n",
    "\n",
    "**(c)** Now we will use the EOS to estimate the _saturation pressure_ (in bar) as discussed above. Compare your estimate to the experimental value 0f $1.3~\\mathrm{bar}$.\n"
   ]
  },
  {
   "cell_type": "code",
   "execution_count": 6,
   "metadata": {},
   "outputs": [],
   "source": [
    "# constants for n-hexane\n",
    "R   = 8.31446                                              # gas constant (kg*m^2)/(K*mol*s^2)\n",
    "P_c = 30.250*u.bar_to_pa                                   # critical pressure (Pa)\n",
    "T_c = 507.6                                                # critical temperature (K)\n",
    "ω   = 0.3013                                               # acentric factor\n",
    "\n",
    "# Peng Robinson constants\n",
    "a   = 0.457236 * R**2 * T_c**2 / P_c                       # (kg/(m*s**2) * (m^3/mol)^2)\n",
    "b   = 0.0777961 * R * T_c / P_c                            # (m^3/mol)\n",
    "\n",
    "# environmental parameters\n",
    "T   = 350                                                  # ambient temperature (K)"
   ]
  },
  {
   "cell_type": "code",
   "execution_count": 7,
   "metadata": {},
   "outputs": [],
   "source": [
    "def Peng_Robinson_Pressure(V, T):\n",
    "    κ = 0.37464 + 1.54226 * ω - 0.26992 * ω**2             # (unitless)\n",
    "    α = (1 + κ - κ * (T/T_c)**0.5)**2                      # (unitless)\n",
    "    return R*T/(V-b) - a*α/(V**2 + 2*V*b - b**2)           # Peng-Robinson pressure (Pa)\n",
    "\n",
    "def Peng_Robinson_Volume_Vapor(P, T):\n",
    "    V_vapor_guess = R*T/P\n",
    "    return fsolve(lambda V, T: P - Peng_Robinson_Pressure(V, T), V_vapor_guess, args=(T))[0]\n",
    "\n",
    "def Peng_Robinson_Volume_Liquid(P, T):\n",
    "    V_liquid_guess = 0.9*b\n",
    "    return fsolve(lambda V, T: P - Peng_Robinson_Pressure(V, T), V_liquid_guess, args=(T))[0]"
   ]
  },
  {
   "cell_type": "code",
   "execution_count": 8,
   "metadata": {},
   "outputs": [],
   "source": [
    "V_by_b = np.logspace(0.079181245, 3, 1000)                 # (unitless)\n",
    "P_pa   = Peng_Robinson_Pressure(V_by_b*b, T)               # (Pa)\n",
    "P_bar  = P_pa/u.bar_to_pa                                  # (bar)"
   ]
  },
  {
   "cell_type": "code",
   "execution_count": 9,
   "metadata": {},
   "outputs": [
    {
     "data": {
      "image/png": "[encoded data removed]",
      "text/plain": [
       "<Figure size 432x288 with 1 Axes>"
      ]
     },
     "metadata": {
      "needs_background": "light"
     },
     "output_type": "display_data"
    }
   ],
   "source": [
    "plt.plot(V_by_b, P_bar)\n",
    "plt.title(\"Pressure (P) \\n vs Adjusted Volume (V/b)\", fontsize=16)\n",
    "plt.xscale(\"log\")\n",
    "plt.ylabel(\"P (bar)\", fontsize=16)\n",
    "plt.xlabel(\"V/b (unitless)\", fontsize=16);"
   ]
  },
  {
   "cell_type": "code",
   "execution_count": 10,
   "metadata": {},
   "outputs": [
    {
     "name": "stdout",
     "output_type": "stream",
     "text": [
      "-0.0018645670906791106\n",
      "8.704414216915692e-05\n"
     ]
    },
    {
     "name": "stderr",
     "output_type": "stream",
     "text": [
      "/usr/lib/python3/dist-packages/scipy/optimize/minpack.py:162: RuntimeWarning: The iteration is not making good progress, as measured by the \n",
      "  improvement from the last ten iterations.\n",
      "  warnings.warn(msg, RuntimeWarning)\n"
     ]
    }
   ],
   "source": [
    "print(Peng_Robinson_Volume_Vapor(P_pa[200], T))\n",
    "print(Peng_Robinson_Volume_Liquid(P_pa[200], T))"
   ]
  },
  {
   "cell_type": "code",
   "execution_count": null,
   "metadata": {},
   "outputs": [],
   "source": []
  }
 ],
 "metadata": {
  "hide_input": false,
  "kernelspec": {
   "display_name": "Python 3 (ipykernel)",
   "language": "python",
   "name": "python3"
  },
  "language_info": {
   "codemirror_mode": {
    "name": "ipython",
    "version": 3
   },
   "file_extension": ".py",
   "mimetype": "text/x-python",
   "name": "python",
   "nbconvert_exporter": "python",
   "pygments_lexer": "ipython3",
   "version": "3.8.10"
  },
  "varInspector": {
   "cols": {
    "lenName": 16,
    "lenType": 16,
    "lenVar": 40
   },
   "kernels_config": {
    "python": {
     "delete_cmd_postfix": "",
     "delete_cmd_prefix": "del ",
     "library": "var_list.py",
     "varRefreshCmd": "print(var_dic_list())"
    },
    "r": {
     "delete_cmd_postfix": ") ",
     "delete_cmd_prefix": "rm(",
     "library": "var_list.r",
     "varRefreshCmd": "cat(var_dic_list()) "
    }
   },
   "types_to_exclude": [
    "module",
    "function",
    "builtin_function_or_method",
    "instance",
    "_Feature"
   ],
   "window_display": false
  }
 },
 "nbformat": 4,
 "nbformat_minor": 4
}
