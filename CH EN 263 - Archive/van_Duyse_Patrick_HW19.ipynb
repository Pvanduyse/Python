{
 "cells": [
  {
   "cell_type": "markdown",
   "metadata": {},
   "source": [
    "# Homework 19"
   ]
  },
  {
   "cell_type": "code",
   "execution_count": 1,
   "metadata": {},
   "outputs": [],
   "source": [
    "import numpy as np"
   ]
  },
  {
   "cell_type": "markdown",
   "metadata": {},
   "source": [
    "## Problem 1 (2 points)\n",
    "\n",
    "Do the following.\n",
    "1. Given the sampled data ```xg``` and ```yg``` below, find the linear interpolant $y_w$ corresponding to $x_w=0.54$\n",
    "2. Also find the result using a cubic spline interpolation \n",
    "3. The ```xg``` and ```yg``` sampled values are obtained from underlying function $y=\\exp(4x)$, so it's possible to know the _true_ value of $y$ at $x_w$. Find the relative error between your interpolants and this exact value. The relative error is given by $\\epsilon = |(y-y_\\mathrm{exact})/y_\\mathrm{exact}|$ \n",
    "4. In a Markdown cell comment on how accurate are the two interpolated values"
   ]
  },
  {
   "cell_type": "code",
   "execution_count": 2,
   "metadata": {},
   "outputs": [],
   "source": [
    "# The sampled data \n",
    "xg = np.array([0,0.2,0.4,0.8,1.0])\n",
    "yg = np.exp(4.0*xg)"
   ]
  },
  {
   "cell_type": "code",
   "execution_count": null,
   "metadata": {},
   "outputs": [],
   "source": [
    "\n"
   ]
  },
  {
   "cell_type": "markdown",
   "metadata": {},
   "source": []
  },
  {
   "cell_type": "markdown",
   "metadata": {},
   "source": [
    "## Problem 2 (5 points)\n",
    "\n",
    "A large turbulent jet of gas is emitted from a nozzle. Data from a detailed physics simulation of the jet is given on Learning Suite in file `HW19_data.txt`. You are going to use these data. Carefully do the following.\n",
    "\n",
    "1. Download and save the data file in your Python working directory (where you have this notebook). Load the data into an array.\n",
    "    * Review the lesson on Python file I/O\n",
    "    * If you are having trouble accessing the data file within Python, the following code can help to identify in which directory the Python kernel is looking:\n",
    "    ```Python\n",
    "    import os\n",
    "    print(os.path.abspath(os.getcwd()))\n",
    "    ```\n",
    "2.  Use array slicing to get an array of position values ('pos' column 0) and another array of axial velocities ('uvel' column 4)\n",
    "    * Double check that you got the right data by comparing to the original text file. \n",
    "    * For accessing elements of two-dimensional numpy arrays, the convention is `[row, column]`.\n",
    "3. Plot these data, namely position (units of m) vs. velocity (units of m/s). \n",
    "    * If all goes well, the plot should look like a \"spiky volcanic island\"\n",
    "    * Normally, I ask you to plot 'experimental' data as points, but in this case the data are plentiful and closely spaced, so instead plot as a line.\n",
    "    * At the beginning as you are setting up your plot, put this code to enlarge fonts to 18 and the figure to 8x6 inches:\n",
    "        ```Python\n",
    "        plt.rc('font',size=18)\n",
    "        plt.figure(figsize=(8,6))\n",
    "        ```\n",
    "4. Attempt to smooth the noise while also preserving the underlying features of the sampled data. \n",
    "    * Use the following two methods. \n",
    "        * polynomial fit\n",
    "        * Gaussian kernel smoothing\n",
    "    * In each case make a reasonable choice of required parameter (polynomial order or $\\sigma$ value) and add the smoothed curve to the plot\n",
    "    * Your parameter choice should show up in the label displayed in the plot legend.\n",
    "    * When you get done there should be three curves including the original sampled data.\n",
    "5. Full points on the problem requires that your plot looks beautiful and is easy to interpret.\n",
    "    * Make sure the limits of your x and y axes are appropriate. It is ok to not show the left and right ends of the polynomial, for instance, in order to better show the central part of the plot\n",
    "    * The colors and line patterns should be chosen so the user can readily see the important features.\n",
    "    * The legend should not cover up any data. You can move the location of the legend by using `plt.legend(loc='...')` (Google to figure out what commands go in `'...'`)   \n",
    "6. Finally, in a Markdown cell evaluate how well the two smoothing methods worked to accomplish the objectives."
   ]
  },
  {
   "cell_type": "code",
   "execution_count": null,
   "metadata": {},
   "outputs": [],
   "source": []
  },
  {
   "cell_type": "markdown",
   "metadata": {},
   "source": []
  },
  {
   "cell_type": "markdown",
   "metadata": {},
   "source": [
    "## Problem 3 (1 point)\n",
    "\n",
    "Figure out how to save your above plot as a .png file. Prove that you saved it by embedding or attaching it in a Markdown cell below. This is a good chance to prove you can interpret documentation or do internet searches to acquire new skills in Python. Make sure it is still showing up when you upload your pdf of this assignment to Learning Suite. Good luck!"
   ]
  },
  {
   "cell_type": "markdown",
   "metadata": {},
   "source": []
  }
 ],
 "metadata": {
  "hide_input": false,
  "kernelspec": {
   "display_name": "Python 3 (ipykernel)",
   "language": "python",
   "name": "python3"
  },
  "language_info": {
   "codemirror_mode": {
    "name": "ipython",
    "version": 3
   },
   "file_extension": ".py",
   "mimetype": "text/x-python",
   "name": "python",
   "nbconvert_exporter": "python",
   "pygments_lexer": "ipython3",
   "version": "3.8.10"
  },
  "varInspector": {
   "cols": {
    "lenName": 16,
    "lenType": 16,
    "lenVar": 40
   },
   "kernels_config": {
    "python": {
     "delete_cmd_postfix": "",
     "delete_cmd_prefix": "del ",
     "library": "var_list.py",
     "varRefreshCmd": "print(var_dic_list())"
    },
    "r": {
     "delete_cmd_postfix": ") ",
     "delete_cmd_prefix": "rm(",
     "library": "var_list.r",
     "varRefreshCmd": "cat(var_dic_list()) "
    }
   },
   "types_to_exclude": [
    "module",
    "function",
    "builtin_function_or_method",
    "instance",
    "_Feature"
   ],
   "window_display": false
  }
 },
 "nbformat": 4,
 "nbformat_minor": 4
}
