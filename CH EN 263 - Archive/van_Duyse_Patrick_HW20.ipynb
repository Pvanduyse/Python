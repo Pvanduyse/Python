{
 "cells": [
  {
   "cell_type": "markdown",
   "metadata": {},
   "source": [
    "# Homework 20"
   ]
  },
  {
   "cell_type": "code",
   "execution_count": null,
   "metadata": {},
   "outputs": [],
   "source": []
  },
  {
   "cell_type": "markdown",
   "metadata": {},
   "source": [
    "### Problem 1 (4 points)\n",
    "\n",
    "If you are living on the International Space Station and accidentally get ejected into space without a space suit, you would die of suffocation in a minute or two. But would you die of freezing first? Let's find out!\n",
    "\n",
    "Assuming your are on the shadowed side of Earth, the following is a simple model that describes how your body's average temperature $T$ could change in time. The term on the left is the accumulation term; the first term on the right is a generation term (from your metabolism); the second term on the right is emission by radiation into space (space does not return any radiation to you). \n",
    "\n",
    "$$ m c_p\\frac{dT}{dt} = \\dot{Q}- \\sigma A T^4$$\n",
    "\n",
    "where $m$ is total body mass, $c_p$ is heat capacity, $\\dot{Q}$ is heat generation by your body, $A$ is effective surface area of your body that emits radiation, and $\\sigma$ is the Stefan-Boltzmann radiation constant (look it up online). \n",
    "\n",
    "Your code should be well-documented and all constants should be specified with units. You should use SI units generally in this problem, though will need to switch between $\\mathrm{K}$ and $^\\circ\\mathrm{C}$. A couple notes on that: Temperature in the radiation term must be absolute (i.e. units $\\mathrm{K}$). Recall from ChEn 170 that for heat capacity the denominator contains a change in temperature (i.e. either $\\Delta\\mathrm{K}$ or $\\Delta^\\circ\\mathrm{C}$ which are perfectly the same). Once you get an answer in $\\mathrm{K}$ you will need to convert to $^\\circ\\mathrm{C}$ in the final plot. \n",
    "\n",
    "To solve this problem you need to do the following. \n",
    "1. Reasonably estimate the values of $m$ and $A$ for your body (or for 'a friend'). The area that emits radiation could be estimated, for instance, by treating your body as if it were a cylinder of water.\n",
    "2. Assume $c_p$ for your body is the value for water\n",
    "3. Reasonably estimate what your $\\dot{Q}$ would be in this scenario: a person while resting generates about $100~\\mathrm{W}$ heat and while vigorously exercising generates around $300~\\mathrm{W}$.\n",
    "4. Rearrange the above equation and determine what is needed to implement into `odeint`\n",
    "5. Make a smooth well-formatted plot of body temperature ($^\\circ\\mathrm{C}$) over time ($\\mathrm{s}$). Adjust the timescale so that the plot readily shows the most relevant region of interest.\n",
    "6. Based on the model result, estimate the time when you would get to hypothermia. Normal body temperature is $37^\\circ\\mathrm{C}$; hypothermia begins at $35^\\circ\\mathrm{C}$."
   ]
  },
  {
   "cell_type": "code",
   "execution_count": null,
   "metadata": {},
   "outputs": [],
   "source": []
  },
  {
   "cell_type": "markdown",
   "metadata": {},
   "source": []
  },
  {
   "cell_type": "markdown",
   "metadata": {},
   "source": [
    "### Problem 2 (3 points)\n",
    "\n",
    "Problem 2 of HW5 had you solve two simultaneous ODEs to describe a falling droplet. Repeat that problem using Python to generate a solution and make separate plots of $v$ and $x$ vs. $t$. "
   ]
  },
  {
   "cell_type": "code",
   "execution_count": null,
   "metadata": {},
   "outputs": [],
   "source": []
  },
  {
   "cell_type": "markdown",
   "metadata": {
    "jupyter": {
     "outputs_hidden": true
    }
   },
   "source": [
    "### Problem 3 (1 point)\n",
    "\n",
    "Speaking of Excel, we will be using Excel again after Thanksgiving break. You need to install/enable the \"Developer Tab\" in Excel so that you can do VBA programming and custom functions. Do an online search of how to do that, then do it on whatever computer you use for completing Excel homework. Describe what you did and how it went."
   ]
  }
 ],
 "metadata": {
  "kernelspec": {
   "display_name": "Python 3 (ipykernel)",
   "language": "python",
   "name": "python3"
  },
  "language_info": {
   "codemirror_mode": {
    "name": "ipython",
    "version": 3
   },
   "file_extension": ".py",
   "mimetype": "text/x-python",
   "name": "python",
   "nbconvert_exporter": "python",
   "pygments_lexer": "ipython3",
   "version": "3.9.5"
  }
 },
 "nbformat": 4,
 "nbformat_minor": 4
}
