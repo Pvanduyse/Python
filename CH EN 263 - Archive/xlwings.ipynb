{
 "cells": [
  {
   "cell_type": "markdown",
   "metadata": {},
   "source": [
    "## Introduction to [xlwings](https://www.xlwings.org/)\n",
    "\n",
    "* xlwings provides a Python interface to and from Excel.\n",
    "* Excel can be extended with VBA, but what if you want to use one of the built-in packages in Python for data analysis and visualization?\n",
    "* xlwings provides this functionality with minimal effort.\n",
    "* [Quickstart guide](https://docs.xlwings.org/en/stable/index.html)"
   ]
  },
  {
   "cell_type": "code",
   "execution_count": 1,
   "metadata": {},
   "outputs": [
    {
     "ename": "ModuleNotFoundError",
     "evalue": "No module named 'psutil'",
     "output_type": "error",
     "traceback": [
      "\u001b[0;31m---------------------------------------------------------------------------\u001b[0m",
      "\u001b[0;31mModuleNotFoundError\u001b[0m                       Traceback (most recent call last)",
      "\u001b[0;32m/tmp/ipykernel_241/2894223695.py\u001b[0m in \u001b[0;36m<module>\u001b[0;34m\u001b[0m\n\u001b[0;32m----> 1\u001b[0;31m \u001b[0;32mimport\u001b[0m \u001b[0mxlwings\u001b[0m \u001b[0;32mas\u001b[0m \u001b[0mxw\u001b[0m\u001b[0;34m\u001b[0m\u001b[0;34m\u001b[0m\u001b[0m\n\u001b[0m\u001b[1;32m      2\u001b[0m \u001b[0;34m\u001b[0m\u001b[0m\n\u001b[1;32m      3\u001b[0m \u001b[0;32mimport\u001b[0m \u001b[0mnumpy\u001b[0m \u001b[0;32mas\u001b[0m \u001b[0mnp\u001b[0m\u001b[0;34m\u001b[0m\u001b[0;34m\u001b[0m\u001b[0m\n\u001b[1;32m      4\u001b[0m \u001b[0;32mimport\u001b[0m \u001b[0mmatplotlib\u001b[0m\u001b[0;34m.\u001b[0m\u001b[0mpyplot\u001b[0m \u001b[0;32mas\u001b[0m \u001b[0mplt\u001b[0m\u001b[0;34m\u001b[0m\u001b[0;34m\u001b[0m\u001b[0m\n\u001b[1;32m      5\u001b[0m \u001b[0mget_ipython\u001b[0m\u001b[0;34m(\u001b[0m\u001b[0;34m)\u001b[0m\u001b[0;34m.\u001b[0m\u001b[0mrun_line_magic\u001b[0m\u001b[0;34m(\u001b[0m\u001b[0;34m'matplotlib'\u001b[0m\u001b[0;34m,\u001b[0m \u001b[0;34m'inline'\u001b[0m\u001b[0;34m)\u001b[0m\u001b[0;34m\u001b[0m\u001b[0;34m\u001b[0m\u001b[0m\n",
      "\u001b[0;32m~/.local/lib/python3.8/site-packages/xlwings/__init__.py\u001b[0m in \u001b[0;36m<module>\u001b[0;34m\u001b[0m\n\u001b[1;32m      9\u001b[0m     \u001b[0;32mfrom\u001b[0m \u001b[0;34m.\u001b[0m \u001b[0;32mimport\u001b[0m \u001b[0m_xlwindows\u001b[0m \u001b[0;32mas\u001b[0m \u001b[0mxlplatform\u001b[0m\u001b[0;34m\u001b[0m\u001b[0;34m\u001b[0m\u001b[0m\n\u001b[1;32m     10\u001b[0m \u001b[0;32melse\u001b[0m\u001b[0;34m:\u001b[0m\u001b[0;34m\u001b[0m\u001b[0;34m\u001b[0m\u001b[0m\n\u001b[0;32m---> 11\u001b[0;31m     \u001b[0;32mfrom\u001b[0m \u001b[0;34m.\u001b[0m \u001b[0;32mimport\u001b[0m \u001b[0m_xlmac\u001b[0m \u001b[0;32mas\u001b[0m \u001b[0mxlplatform\u001b[0m\u001b[0;34m\u001b[0m\u001b[0;34m\u001b[0m\u001b[0m\n\u001b[0m\u001b[1;32m     12\u001b[0m \u001b[0;34m\u001b[0m\u001b[0m\n\u001b[1;32m     13\u001b[0m \u001b[0mtime_types\u001b[0m \u001b[0;34m=\u001b[0m \u001b[0mxlplatform\u001b[0m\u001b[0;34m.\u001b[0m\u001b[0mtime_types\u001b[0m\u001b[0;34m\u001b[0m\u001b[0;34m\u001b[0m\u001b[0m\n",
      "\u001b[0;32m~/.local/lib/python3.8/site-packages/xlwings/_xlmac.py\u001b[0m in \u001b[0;36m<module>\u001b[0;34m\u001b[0m\n\u001b[1;32m      7\u001b[0m \u001b[0;32mimport\u001b[0m \u001b[0matexit\u001b[0m\u001b[0;34m\u001b[0m\u001b[0;34m\u001b[0m\u001b[0m\n\u001b[1;32m      8\u001b[0m \u001b[0;34m\u001b[0m\u001b[0m\n\u001b[0;32m----> 9\u001b[0;31m \u001b[0;32mimport\u001b[0m \u001b[0mpsutil\u001b[0m\u001b[0;34m\u001b[0m\u001b[0;34m\u001b[0m\u001b[0m\n\u001b[0m\u001b[1;32m     10\u001b[0m \u001b[0;32mimport\u001b[0m \u001b[0maem\u001b[0m\u001b[0;34m\u001b[0m\u001b[0;34m\u001b[0m\u001b[0m\n\u001b[1;32m     11\u001b[0m \u001b[0;32mimport\u001b[0m \u001b[0mappscript\u001b[0m\u001b[0;34m\u001b[0m\u001b[0;34m\u001b[0m\u001b[0m\n",
      "\u001b[0;31mModuleNotFoundError\u001b[0m: No module named 'psutil'"
     ]
    }
   ],
   "source": [
    "import xlwings as xw\n",
    "\n",
    "import numpy as np\n",
    "import matplotlib.pyplot as plt\n",
    "%matplotlib inline"
   ]
  },
  {
   "cell_type": "markdown",
   "metadata": {},
   "source": [
    "#### Open a workbook and select a worksheet"
   ]
  },
  {
   "cell_type": "code",
   "execution_count": null,
   "metadata": {},
   "outputs": [],
   "source": [
    "mybuk  = xw.Book('data.xlsx')\n",
    "cheet = mybuk.sheets['my data']"
   ]
  },
  {
   "cell_type": "markdown",
   "metadata": {},
   "source": [
    "#### Get data from Excel and push data to Excel"
   ]
  },
  {
   "cell_type": "code",
   "execution_count": null,
   "metadata": {},
   "outputs": [],
   "source": [
    "ft_per_m = cheet.range('B4').value\n",
    "ft_per_m"
   ]
  },
  {
   "cell_type": "code",
   "execution_count": null,
   "metadata": {},
   "outputs": [],
   "source": [
    "lbm_per_kg = 2.20462\n",
    "cheet.range('A6').color = (31,121,207)\n",
    "cheet.range('B6').color = (148,206,88)\n",
    "cheet.range('A6').value = \"lbm_per_kg\"\n",
    "cheet.range('B6').value = lbm_per_kg"
   ]
  },
  {
   "cell_type": "markdown",
   "metadata": {},
   "source": [
    "#### Get arrays"
   ]
  },
  {
   "cell_type": "code",
   "execution_count": null,
   "metadata": {},
   "outputs": [],
   "source": [
    "t = cheet.range('E2:E42').value                    # --> list \n",
    "t = np.array( cheet.range('E2:E42').value )        # --> numpy array\n",
    "v = cheet.range('F2:F42').options(np.array).value  # --> numpy array alternative\n",
    "\n",
    "# OR THIS\n",
    "\n",
    "tv = np.array(cheet.range('E2').expand().value)    # expand() --> smart sizing --> matrix\n",
    "t = tv[:,0]\n",
    "v = tv[:,1]\n",
    "\n",
    "# OR THIS\n",
    "\n",
    "t = np.array(cheet.range('E2').expand('vertical').value)    # expand() --> smart sizing --> matrix\n",
    "v = np.array(cheet.range('F2').expand('vertical').value)    # expand() --> smart sizing --> matrix"
   ]
  },
  {
   "cell_type": "code",
   "execution_count": null,
   "metadata": {},
   "outputs": [],
   "source": [
    "plt.plot(t,v);"
   ]
  },
  {
   "cell_type": "markdown",
   "metadata": {},
   "source": [
    "#### Put arrays"
   ]
  },
  {
   "cell_type": "code",
   "execution_count": null,
   "metadata": {},
   "outputs": [],
   "source": [
    "data = np.array([1,2,3])\n",
    "\n",
    "cheet.range('a10').value = data                          # --> horizontal\n",
    "\n",
    "cheet.range('a12').options(transpose=True).value = data  # --> vertical\n",
    "cheet.range('a16').value = data[:,np.newaxis]            # --> vertial alternative"
   ]
  },
  {
   "cell_type": "code",
   "execution_count": null,
   "metadata": {},
   "outputs": [],
   "source": [
    "T = np.linspace(300,1000,len(t))\n",
    "\n",
    "cheet.range('J1').value = \"t (s)\"\n",
    "cheet.range('K1').value = \"T (K)\"\n",
    "cheet.range('J2').value = t[:,np.newaxis]    \n",
    "cheet.range('K2').value = T[:,np.newaxis]"
   ]
  },
  {
   "cell_type": "markdown",
   "metadata": {},
   "source": [
    "#### Add an Excel formula"
   ]
  },
  {
   "cell_type": "code",
   "execution_count": null,
   "metadata": {},
   "outputs": [],
   "source": [
    "cheet.range('H1').value = \"sum(t)\"\n",
    "cheet.range('H2').formula = \"=sum(E:E)\""
   ]
  },
  {
   "cell_type": "markdown",
   "metadata": {},
   "source": [
    "#### Make a plot and include it in Excel as a picture"
   ]
  },
  {
   "cell_type": "code",
   "execution_count": null,
   "metadata": {},
   "outputs": [],
   "source": [
    "fig = plt.figure()\n",
    "\n",
    "plt.rc(\"font\", size=14)\n",
    "plt.plot(t,-T**3)\n",
    "plt.xlabel('t (s)')\n",
    "plt.ylabel('T (K)')\n",
    "\n",
    "cheet.pictures.add(fig, name=\"T_vs_t\", update=True, left=720, top=150)\n",
    "plt.close()          # keeps the plot from showing right here"
   ]
  },
  {
   "cell_type": "markdown",
   "metadata": {},
   "source": [
    "#### Sheets"
   ]
  },
  {
   "cell_type": "code",
   "execution_count": null,
   "metadata": {},
   "outputs": [],
   "source": [
    "#check if the sheet already exists in workbook and delete it\n",
    "for sheet in mybuk.sheets:\n",
    "    if 'New Sheet' in sheet.name: \n",
    "        sheet.delete()\n",
    "        print(\"deleted old sheet\")\n",
    "#make the new sheet\n",
    "mybuk.sheets.add(\"New Sheet\", after=\"my data\")\n",
    "\n",
    "print(\"list of sheets:\")\n",
    "for s in mybuk.sheets:\n",
    "    print(\"  \",s.name)\n",
    "    \n",
    "mybuk.sheets[1].name"
   ]
  },
  {
   "cell_type": "markdown",
   "metadata": {},
   "source": [
    "#### Save and close"
   ]
  },
  {
   "cell_type": "code",
   "execution_count": null,
   "metadata": {},
   "outputs": [],
   "source": [
    "mybuk.save()\n",
    "mybuk.close()"
   ]
  },
  {
   "cell_type": "markdown",
   "metadata": {},
   "source": [
    "## Run Python from Excel\n",
    "* You can call Python functions from Excel\n",
    "* [Click here for details](https://docs.xlwings.org/en/stable/addin.html)\n",
    "* Here are initial, one-time setup instructions that are tested on a Mac:\n",
    "    * In a terminal type ```xlwings runpython install```\n",
    "    * In a terminal type ```xlwings addin install``` Then follow the instructions.\n",
    "    * Open Excel, and in the xlwings tab, I set the PYTHONPATH environment variable to be what I get when I type ```env | grep PYTHONPATH``` in a terminal (without the PYTHONPATH= part).\n",
    "  \n",
    "* Then, to create a workbook already setup for interfacing with Python, type in a terminal: ```xlwings quickstart some_project_name```. This will create a folder some_project_name with two files: some_project_name.xlsm, and some_project_name.py. You can edit both of these.\n",
    "\n",
    "* On Windows, (but not Mac, unfortunately), you can also setup user defined functions (UDFs) that allow you to write Python functions that can be called directly from within Excel code cells."
   ]
  },
  {
   "cell_type": "code",
   "execution_count": null,
   "metadata": {},
   "outputs": [],
   "source": []
  }
 ],
 "metadata": {
  "kernelspec": {
   "display_name": "Python 3 (ipykernel)",
   "language": "python",
   "name": "python3"
  },
  "language_info": {
   "codemirror_mode": {
    "name": "ipython",
    "version": 3
   },
   "file_extension": ".py",
   "mimetype": "text/x-python",
   "name": "python",
   "nbconvert_exporter": "python",
   "pygments_lexer": "ipython3",
   "version": "3.8.10"
  },
  "varInspector": {
   "cols": {
    "lenName": 16,
    "lenType": 16,
    "lenVar": 40
   },
   "kernels_config": {
    "python": {
     "delete_cmd_postfix": "",
     "delete_cmd_prefix": "del ",
     "library": "var_list.py",
     "varRefreshCmd": "print(var_dic_list())"
    },
    "r": {
     "delete_cmd_postfix": ") ",
     "delete_cmd_prefix": "rm(",
     "library": "var_list.r",
     "varRefreshCmd": "cat(var_dic_list()) "
    }
   },
   "types_to_exclude": [
    "module",
    "function",
    "builtin_function_or_method",
    "instance",
    "_Feature"
   ],
   "window_display": false
  }
 },
 "nbformat": 4,
 "nbformat_minor": 4
}
