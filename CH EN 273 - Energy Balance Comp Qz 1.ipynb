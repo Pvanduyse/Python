{
 "cells": [
  {
   "cell_type": "markdown",
   "id": "2c3397d6-35b1-40b9-a5e1-08313b6d1ab2",
   "metadata": {},
   "source": [
    "# **CH EN 273** - Energy Balance Comp Qz 1"
   ]
  },
  {
   "cell_type": "code",
   "execution_count": 1,
   "id": "0e3978b7-f9c2-4fe2-8626-5b0c5f06fa88",
   "metadata": {},
   "outputs": [],
   "source": [
    "import numpy as np\n",
    "π = np.pi\n",
    "import pandas as pd\n",
    "from scipy.integrate import quad\n",
    "from scipy.optimize import fsolve\n",
    "from IPython.display import display, Markdown, Latex"
   ]
  },
  {
   "cell_type": "markdown",
   "id": "62fe9e15-708e-4c3f-8837-16fd1dffd70b",
   "metadata": {},
   "source": [
    "> Use the normal/common assumptions for simplifying balances around unit operations (e.g. pumps, turbines, compressors, valves, heat exchangers, etc.).\n",
    ">\n",
    "> Imagine you work for Air Products and need to purchase a compressor to fill gas cylinders with a new product gas called Knottsonium (MW=20 g/mol, Cp=30 J/(mol·K))--a compound used to run newly-developed personal space ships that travel near light speed. A 7.4hp compressor takes 1.5 kg/min of Knottsonium from 1 bar (absolute) and 300 K to 10.4bar (absolute).\n",
    ">\n",
    "> What will be the temperature of the exiting gas? (Report your answer in Kelvin with 1 decimal point accuracy.)"
   ]
  },
  {
   "cell_type": "markdown",
   "id": "83afd7fe-a939-43cc-915b-7fb6f0b89261",
   "metadata": {},
   "source": [
    "#### Overall\n",
    "- $\\dot{m}_{\\kappa} = 1.5 \\frac{\\text{kg}}{min}$ (No Accumulation)\n",
    "- $\\text{MW}_\\kappa = 20 \\frac{\\text{g}}{\\text{mol}}$\n",
    "- $C_p = 30 \\frac{\\text{J}}{\\text{mol}\\cdot\\text{K}}$\n",
    "- $\\dot{W}_S = 7.4\\text{ hp}$\n",
    "\n",
    "#### Stream 1 (Uncompressed)\n",
    "- $\\text{P}_1 = 1\\text{ bar}$\n",
    "- $\\text{T}_1 = 300\\text{ K}$\n",
    "\n",
    "#### Stream 2 (Compressed)\n",
    "- $\\text{P}_2 = 10.4\\text{ bar}$\n",
    "- $\\text{T}_2 = \\text{ ? K}$"
   ]
  },
  {
   "cell_type": "markdown",
   "id": "5d248283-ab15-45b2-aec7-81cd0141a361",
   "metadata": {},
   "source": [
    "#### General Energy Balance\n",
    "\n",
    "$$\n",
    "\\frac{d}{dt}\\left(mu+PE+KE\\right)_{\\text{mis}} = -\\sum_i^{N_{\\text{streams}}}\\nu\\dot{m_i}\\left(h_i+\\frac{1}{2}s_i^2+gz_i\\right) + \\dot{Q} + \\dot{W}_{\\text{nonstream }Pv}\n",
    "$$\n",
    "\n",
    "#### Simplified\n",
    "\n",
    "$$\n",
    "\\cancel{\\frac{d}{dt}\\left(mu+PE+KE\\right)_{\\text{mis}}}^\\text{ Steady State} = \\left[\\dot{m}\\left(\\Delta{h} + \\cancel{\\frac{1}{2}\\Delta{s^2} + g\\Delta{z}}^\\text{Negligible}\\right)\\right]^\\text{1 in,1 out} + \\cancel{\\dot{Q}}^\\text{adiabatic} + \\dot{W}_\\text{S}\n",
    "$$\n",
    "\n",
    "#### Final Balance\n",
    "\n",
    "$$\n",
    "\\dot{W}_\\text{S} = \\dot{m}\\Delta{h}\n",
    "$$"
   ]
  },
  {
   "cell_type": "markdown",
   "id": "4f83680b-e37e-41be-8f49-aa65380e8ece",
   "metadata": {},
   "source": [
    "#### Equation for $\\Delta{h}$\n",
    "\n",
    "$$\n",
    "\\Delta{h}_\\kappa = \\int_{T_1}^{T_2}C_p(T)dT = \\int_{T_1}^{T_2}C_{p,\\kappa}dT = C_{p,\\kappa}\\left(T_2-T_1\\right)\n",
    "$$\n",
    "\n",
    "#### Solve for $T_2$\n",
    "\n",
    "$$\n",
    "\\dot{W}_\\text{S} = \\dot{n}_\\kappa \\cdot C_{p,\\kappa}\\left(T_2-T_1\\right)\n",
    "$$\n",
    "\n",
    "$$\n",
    "T_2 = \\frac{\\dot{W}_\\text{S}}{\\dot{n}_\\kappa \\cdot C_{p,\\kappa}} + T_1\n",
    "$$"
   ]
  },
  {
   "cell_type": "code",
   "execution_count": 2,
   "id": "e04a1dc3-d4bc-4347-98bd-eb54f75c0e94",
   "metadata": {},
   "outputs": [],
   "source": [
    "ṁ_κ = 1.5*1000/60 #kg/min => g/s\n",
    "MW_κ = 20 #g/mol\n",
    "Cp_κ = 30 #J/mol·K\n",
    "Ẇ_s = 7.4/1.341 * 10**3 #hp => W (J/s)\n",
    "T_1 = 300 #K\n",
    "\n",
    "ṅ_κ = ṁ_κ/MW_κ #mol/s"
   ]
  },
  {
   "cell_type": "code",
   "execution_count": 10,
   "id": "293bc89b-33c1-4918-8146-dbba62c2df48",
   "metadata": {},
   "outputs": [
    {
     "data": {
      "text/markdown": [
       "$T_2 = 447.2 \\text{ K}$"
      ],
      "text/plain": [
       "<IPython.core.display.Markdown object>"
      ]
     },
     "metadata": {},
     "output_type": "display_data"
    }
   ],
   "source": [
    "T_2 = Ẇ_s/ṅ_κ/Cp_κ + T_1\n",
    "display(Markdown(rf\"$T_2 = {T_2:.1f} \\text{{ K}}$\"))"
   ]
  }
 ],
 "metadata": {
  "kernelspec": {
   "display_name": "Python 3 (ipykernel)",
   "language": "python",
   "name": "python3"
  },
  "language_info": {
   "codemirror_mode": {
    "name": "ipython",
    "version": 3
   },
   "file_extension": ".py",
   "mimetype": "text/x-python",
   "name": "python",
   "nbconvert_exporter": "python",
   "pygments_lexer": "ipython3",
   "version": "3.13.0"
  }
 },
 "nbformat": 4,
 "nbformat_minor": 5
}
