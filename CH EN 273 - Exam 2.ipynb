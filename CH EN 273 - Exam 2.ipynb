{
 "cells": [
  {
   "cell_type": "markdown",
   "id": "667762e4-a561-48ea-a2f8-7842e9c30d58",
   "metadata": {},
   "source": [
    "# CH EN 273 - Exam 2"
   ]
  },
  {
   "cell_type": "code",
   "execution_count": 1,
   "id": "c2f37120-dd4f-4bb4-916e-abcb55e0b0fe",
   "metadata": {},
   "outputs": [
    {
     "name": "stdout",
     "output_type": "stream",
     "text": [
      "molecular_weights is starting import\n",
      "import completed\n"
     ]
    }
   ],
   "source": [
    "import numpy as np\n",
    "π = np.pi\n",
    "import pandas as pd\n",
    "from scipy.integrate import quad\n",
    "from scipy.optimize import fsolve\n",
    "from IPython.display import display, Markdown, Latex\n",
    "from myengineerpkg import molecular_weights as mw\n",
    "from myengineerpkg import sigfig as sf"
   ]
  },
  {
   "cell_type": "code",
   "execution_count": 2,
   "id": "d65301d4-2e99-4b52-9f13-b14b61d2fcad",
   "metadata": {},
   "outputs": [],
   "source": [
    "P_atmos = {\n",
    "    \"sea_level\": 1.00,\n",
    "    \"provo\": 0.849,\n",
    "    \"denver\": 0.820,\n",
    "    \"kansas_city\": 0.968,\n",
    "    \"boise\": 0.906,\n",
    "    \"phoenix\": 0.961,\n",
    "    \"dallas\": 0.985,\n",
    "    \"tuscon\": 0.910\n",
    "} #atm"
   ]
  },
  {
   "cell_type": "markdown",
   "id": "87c833c2-7853-4ac6-bfaa-786acfff5589",
   "metadata": {
    "jp-MarkdownHeadingCollapsed": true
   },
   "source": [
    "## Question 2\n",
    "\n",
    "I chose \"C. No, both species evaporate\".\n",
    "\n",
    "Note, this is only the case if we are at a temperature and pressure at which both species can be gases, which means that there may be temperatures/pressures where only of of the two substances can be gases. These conditions, are not usually found \"in an open beaker in a room of dry air\" so I am choosing C instead of D."
   ]
  },
  {
   "cell_type": "markdown",
   "id": "48ea55a4-8c25-4c24-b338-2844b0697451",
   "metadata": {
    "jp-MarkdownHeadingCollapsed": true
   },
   "source": [
    "## Question 3\n",
    "\n",
    "I chose \"A. All Liquid\"\n",
    "\n",
    "As component A is in vapor-liquid equilibrium at 1 bar (ie, $\\text{P}^\\text{sat}$ of 1 bar at 75 C) and component B has a $\\text{P}^\\text{sat}$ of 2 bar at 75 C, the bubble point (at 75C) of a 50-50 mixutre is going to be the average of their $\\text{P}^\\text{sat}$: (1+2)/2 = 1.5 bar. Since the system pressure is higher than the bubble point pressure, we can expect the mixture to be in a liquid state."
   ]
  },
  {
   "cell_type": "markdown",
   "id": "5a107463-4d5e-4c90-a03c-d8bd8377f9d6",
   "metadata": {
    "jp-MarkdownHeadingCollapsed": true
   },
   "source": [
    "## Question 4\n",
    "\n",
    "**I am assuming that the mass of the system is constant**\n",
    "\n",
    "I chose \"A. increases.\"\n",
    "\n",
    "Since we can treat liquids as incompressible, the only way that the volume can expand is if the pressure drops to the vapor pressure (or bubble point pressure if it's a mixture) at which point the liquid either enters liquid-vapor equilibrium, or entirely evaporates into a gas."
   ]
  },
  {
   "cell_type": "markdown",
   "id": "6ea03b03-0924-41bd-9e3b-47ed876449e4",
   "metadata": {
    "jp-MarkdownHeadingCollapsed": true
   },
   "source": [
    "## Question 5\n",
    "\n",
    "I chose \"C. some liquid evaporates\"\n",
    "\n",
    "As the liquid is incompressible, the extra 0.4L of volume will be occupied by vapor, nor liquid, resulting in a pressure drop. The liquid would evaporate until the pressure reached the vapor pressure again (resulting an a new vapor-liquid equilibrium), or until there is no liquid left."
   ]
  },
  {
   "cell_type": "markdown",
   "id": "2e1b7808-7ee5-4fb4-9720-360230a1bf93",
   "metadata": {
    "jp-MarkdownHeadingCollapsed": true
   },
   "source": [
    "## Question 6\n",
    "\n",
    "I chose \"C. 4 bar\"\n",
    "\n",
    "Since $P_\\text{water}^\\text{sat}$ is 1 bar at 100 C, the partial pressure of water in this system is 1 bar. Since 25% of the vapor (by mass) of the system is water, then water's partial pressure is equal to 25% of the overall pressure.\n",
    "\n",
    "1 bar / 25% = 4 bar"
   ]
  },
  {
   "cell_type": "markdown",
   "id": "b988a977-709a-4036-a3e7-24627be3a6c6",
   "metadata": {
    "jp-MarkdownHeadingCollapsed": true
   },
   "source": [
    "## Question 7"
   ]
  },
  {
   "cell_type": "markdown",
   "id": "445b11e5-76d9-499c-a5c6-ea62fab280a5",
   "metadata": {},
   "source": [
    "I chose \"B. greater than 100 CFM\"\n",
    "\n",
    "Since the oxygen demand is being exactly met in both circumstances, I will assume $\\dot{n}$ is constant. T and R are also constant.\n",
    "\n",
    "$$\n",
    "P_\\text{denv} \\cdot \\dot{V}_\\text{denv} = P_\\text{STP} \\cdot \\dot{V}_\\text{STP}\n",
    "$$\n",
    "\n",
    "\n",
    "$$\n",
    "\\dot{V}_\\text{denv} = \\dot{V}_\\text{STP} \\cdot \\frac{P_\\text{STP}}{P_\\text{denv}}\n",
    "$$"
   ]
  },
  {
   "cell_type": "code",
   "execution_count": 3,
   "id": "46e8511b-dcc1-4762-9dc8-8ca039389ecf",
   "metadata": {},
   "outputs": [
    {
     "data": {
      "text/markdown": [
       "$\\dot{V}_\\text{denv} = 120.5\\frac{\\text{ ft}^3}{\\text{min}}$"
      ],
      "text/plain": [
       "<IPython.core.display.Markdown object>"
      ]
     },
     "metadata": {},
     "output_type": "display_data"
    }
   ],
   "source": [
    "V̇_STP = 100 #ft^3 / min or CFM\n",
    "P_STP = 1 #atm\n",
    "P_denv = 0.83 #atm\n",
    "\n",
    "V̇_denv = V̇_STP*P_STP/P_denv\n",
    "display(Markdown(rf\"$\\dot{{V}}_\\text{{denv}} = {V̇_denv:0.1f}\\frac{{\\text{{ ft}}^3}}{{\\text{{min}}}}$\"))"
   ]
  },
  {
   "cell_type": "markdown",
   "id": "e8d9cc09-42cd-4d17-997a-285bfe52cd3e",
   "metadata": {},
   "source": [
    "This is to be expected, as the pressure is lower, which (in a steady-state isothermal setting) would result in an increased volume."
   ]
  },
  {
   "cell_type": "markdown",
   "id": "be70bb67-776c-450a-8d20-88ba75c084b1",
   "metadata": {
    "jp-MarkdownHeadingCollapsed": true
   },
   "source": [
    "## Question 8"
   ]
  },
  {
   "cell_type": "markdown",
   "id": "8f20f56d-ab67-4d95-b1c6-e5783ac18283",
   "metadata": {},
   "source": [
    "I chose \"B. $\\text{T}_2 = \\text{T}_1$\"\n",
    "\n",
    "Looking at an energy balance:\n",
    "\n",
    "$$\n",
    "\\frac{d}{dt}\\left(mu+PE+KE\\right)_{\\text{mis}} = -\\sum_i^{N_{\\text{streams}}}\\nu\\dot{m_i}\\left(h_i+\\frac{1}{2}s_i^2+gz_i\\right) + \\dot{Q} + \\dot{W}_{\\text{nonstream }Pv}\n",
    "$$\n",
    "\n",
    "We can cancel all but one term:\n",
    "\n",
    "$$\n",
    "\\cancel{\\frac{d}{dt}\\left(mu+PE+KE\\right)_{\\text{mis}}}^\\text{ Steady State} = \\left[\\dot{m}\\left(\\Delta{h} + \\cancel{\\frac{1}{2}\\Delta{s^2} + g\\Delta{z}}^\\text{Negligible}\\right)\\right]^\\text{1 in,1 out} + \\cancel{\\dot{Q}}^\\text{adiabatic} + \\cancel{\\dot{W}_\\text{S}}^\\text{No Work}\n",
    "$$\n",
    "\n",
    "Which leaves us with:\n",
    "\n",
    "$$\n",
    "0 = \\dot{m}\\Delta{h}\n",
    "$$\n",
    "\n",
    "And since $\\dot{m} \\neq 0$ we have:\n",
    "\n",
    "$$\n",
    "\\Delta{h} = 0\n",
    "$$\n",
    "\n",
    "As $h$ varies with $T$, this is only possible if $T$ is constant.\n",
    "\n",
    "(Note that this is the case because we are dealing with an ideal gas)"
   ]
  },
  {
   "cell_type": "markdown",
   "id": "73addc7c-edf9-4d9e-b8c1-5d319db4293c",
   "metadata": {
    "jp-MarkdownHeadingCollapsed": true
   },
   "source": [
    "## $\\textcolor{red}{\\text{Question 9}}$\n",
    "\n",
    "I chose \"A. $x_\\text{pentane} = 0.1 \\text{; } y_\\text{pentane} = 0.235$\n",
    "\n",
    "The blue line is the bubble point, which aligns with the liquid composition. The red line is the dew point, which aligns with the vapor composition. Drawing a horisontal line at $P = 0.9 \\text{ atm}$ yields intersects the bubble point line at $x_\\text{pentane} = 0.1$ and the dew point line at $y_\\text{pentane} = 0.235$"
   ]
  },
  {
   "cell_type": "markdown",
   "id": "c7b07ff9-93e5-4c44-89e8-be6044d72dbf",
   "metadata": {
    "jp-MarkdownHeadingCollapsed": true
   },
   "source": [
    "## Question 10\n",
    "\n",
    "I chose \"C. $f_{O_2} < f_{C_2H_4}$\"\n",
    "\n",
    "$$\n",
    "2\\text{ C}_2\\text{H}_4 + \\text{O}_2 \\rightarrow 2\\text{ C}_2\\text{H}_4\\text{O}\n",
    "$$\n",
    "\n",
    "Since (stoichiometrically) twice as much of the ethylene will react as oxygen, and there is more than half as much oxygen as there is ethylene, the fraction of oxygen that reacts will always be less than the fraction of ethylene that reactions (regardless of how far the reaction proceeds).\n",
    "\n",
    "However, for the sake of double checking, if 60 kmol of oxygen gas remain, that means that 40 kmol of oxygen gas reacted, from which we know that $\\xi = 40\\text{ kmol}$, due to which we can calculate that 80 kmol of ethylene reacted. 40/100 < 80/100."
   ]
  },
  {
   "cell_type": "markdown",
   "id": "013f496c-d9e9-403d-b3d8-a60890281003",
   "metadata": {},
   "source": [
    "## $\\textcolor{red}{\\text{Question 11}}$\n",
    "\n",
    "- benzene: B\n",
    "- ethylbenzene: E"
   ]
  },
  {
   "cell_type": "code",
   "execution_count": 4,
   "id": "dd726e48-14f7-4420-99cf-d89e8fadeb00",
   "metadata": {},
   "outputs": [],
   "source": [
    "def P_sat(coeffs, T):\n",
    "    A,B,C = coeffs\n",
    "    return 10**(A-B/(T+C))"
   ]
  },
  {
   "cell_type": "code",
   "execution_count": 5,
   "id": "e8d841bc-30a2-4095-aa26-ebc557b196ab",
   "metadata": {},
   "outputs": [
    {
     "data": {
      "text/markdown": [
       "$P^\\text{sat}_B = 6600 \\text{ mmHg}$"
      ],
      "text/plain": [
       "<IPython.core.display.Markdown object>"
      ]
     },
     "metadata": {},
     "output_type": "display_data"
    },
    {
     "data": {
      "text/markdown": [
       "$P^\\text{sat}_E = 1640 \\text{ mmHg}$"
      ],
      "text/plain": [
       "<IPython.core.display.Markdown object>"
      ]
     },
     "metadata": {},
     "output_type": "display_data"
    }
   ],
   "source": [
    "T = 167 #C\n",
    "y_B = 0.83 #mol of B vapor per total mol of vapor\n",
    "y_E = 1-y_B\n",
    "P_sat_B = P_sat([6.81404, 1090.43, 197.146], T) #mmHg\n",
    "display(Markdown(rf\"$P^\\text{{sat}}_B = {sf.round(P_sat_B,3)} \\text{{ mmHg}}$\"))\n",
    "P_sat_E = P_sat([7.15610, 1559.55, 228.582], T) #mmHg\n",
    "display(Markdown(rf\"$P^\\text{{sat}}_E = {sf.round(P_sat_E,3)} \\text{{ mmHg}}$\"))"
   ]
  },
  {
   "cell_type": "markdown",
   "id": "88c63485-2b74-4d60-b611-e435953f104e",
   "metadata": {},
   "source": [
    "$$ x_B = \\frac{y_B \\cdot P_B^\\text{sat}}{P} $$\n",
    "$$ x_E = \\frac{y_E \\cdot P_E^\\text{sat}}{P} = 1 - x_B $$\n",
    "$$ P =  y_B \\cdot P_B^\\text{sat} + y_E \\cdot P_E^\\text{sat} $$"
   ]
  },
  {
   "cell_type": "code",
   "execution_count": 6,
   "id": "f8ab7876-ecd3-4c92-8991-ab2727b91602",
   "metadata": {},
   "outputs": [
    {
     "data": {
      "text/markdown": [
       "$P = 5760 \\text{ mmHg}$"
      ],
      "text/plain": [
       "<IPython.core.display.Markdown object>"
      ]
     },
     "metadata": {},
     "output_type": "display_data"
    },
    {
     "data": {
      "text/markdown": [
       "$x_\\text{benzene} = 0.952$"
      ],
      "text/plain": [
       "<IPython.core.display.Markdown object>"
      ]
     },
     "metadata": {},
     "output_type": "display_data"
    },
    {
     "data": {
      "text/markdown": [
       "$x_\\text{ethylbenzene} = 0.0483$"
      ],
      "text/plain": [
       "<IPython.core.display.Markdown object>"
      ]
     },
     "metadata": {},
     "output_type": "display_data"
    }
   ],
   "source": [
    "P = y_B*P_sat_B + y_E*P_sat_E #mmHg\n",
    "x_B = y_B*P_sat_B/P\n",
    "x_E = y_E*P_sat_E/P\n",
    "display(Markdown(rf\"$P = {sf.round(P,3)} \\text{{ mmHg}}$\"))\n",
    "display(Markdown(rf\"$x_\\text{{benzene}} = {sf.round(x_B,3)}$\"))\n",
    "display(Markdown(rf\"$x_\\text{{ethylbenzene}} = {sf.round(x_E,3)}$\"))"
   ]
  },
  {
   "cell_type": "markdown",
   "id": "d4ce163c-0d32-4bbc-8193-32f84b24dd79",
   "metadata": {},
   "source": [
    "## $\\textcolor{red}{\\text{Question 12}}$\n",
    "\n",
    "STLP reads as \"Standard Liter per Minute\"\n",
    "\n",
    "$\\dot{n}$ and $\\text{R}$ do not change with STP changes, so\n",
    "\n",
    "$$ \\dot{\\text{V}}_\\text{STP} \\cdot \\frac{\\text{P}_\\text{STP}}{\\text{T}_\\text{STP}} = \\dot{\\text{V}} \\cdot \\frac{\\text{P}}{\\text{T}} $$\n",
    "\n",
    "which results in \n",
    "\n",
    "$$ \\dot{\\text{V}} = \\dot{\\text{V}}_\\text{STP} \\cdot \\frac{\\text{T} \\cdot \\text{P}_\\text{STP}}{\\text{T}_\\text{STP} \\cdot \\text{P}} $$\n"
   ]
  },
  {
   "cell_type": "code",
   "execution_count": 7,
   "id": "1c7c9b54-fd22-4593-88f2-32e4c22e12b3",
   "metadata": {},
   "outputs": [
    {
     "data": {
      "text/markdown": [
       "$\\dot{\\text{V}} = 800.3 \\frac{\\text{L}}{\\text{min}}$"
      ],
      "text/plain": [
       "<IPython.core.display.Markdown object>"
      ]
     },
     "metadata": {},
     "output_type": "display_data"
    }
   ],
   "source": [
    "V̇_STP = 121 #L / min or STLP\n",
    "P_STP = 101.325 #kPa (14.7 psi is essentially 1 atm)\n",
    "T_STP = (60-32)*5/9 #F => C\n",
    "P = 32.5 #kPa\n",
    "T = 33 #C\n",
    "\n",
    "V̇ = V̇_STP*T/P*P_STP/T_STP\n",
    "display(Markdown(rf\"$\\dot{{\\text{{V}}}} = {V̇:0.1f} \\frac{{\\text{{L}}}}{{\\text{{min}}}}$\"))"
   ]
  },
  {
   "cell_type": "markdown",
   "id": "6c0b4dcb-bdfb-4e9c-9e1a-416d2bd41ab1",
   "metadata": {
    "jp-MarkdownHeadingCollapsed": true
   },
   "source": [
    "## Question 13"
   ]
  },
  {
   "cell_type": "code",
   "execution_count": 8,
   "id": "f6c69ef6-b104-436e-8ec9-ff6976c88fd2",
   "metadata": {},
   "outputs": [
    {
     "data": {
      "text/markdown": [
       "$\\text{P} = 446.0 \\text{ Pa}$"
      ],
      "text/plain": [
       "<IPython.core.display.Markdown object>"
      ]
     },
     "metadata": {},
     "output_type": "display_data"
    }
   ],
   "source": [
    "V = 13.2 #L\n",
    "P_gauge = 360 #kPa\n",
    "P = P_gauge + P_atmos[\"provo\"]*101.325 #kPa + atm to kPa\n",
    "T = 307 #K\n",
    "R = 8.314 #J/K·mol\n",
    "\n",
    "display(Markdown(rf\"$\\text{{P}} = {P:0.1f} \\text{{ Pa}}$\"))"
   ]
  },
  {
   "cell_type": "markdown",
   "id": "52a1bde7-7e09-469c-a777-3d94d3986d86",
   "metadata": {},
   "source": [
    "Since the pressure is above 202 kPa (~2 atm) I won't be assuming ideal gas EOS, and will instead be using the van Der Waals EOS.\n",
    "\n",
    "$$ P = \\frac{RT}{v-b}-\\frac{a}{v^2} $$\n",
    "$$ a = \\frac{27}{64} \\frac{R^2T_C^2}{P_C} $$\n",
    "$$ b = \\frac{RT_C}{8P_C} $$\n",
    "$$ v = V/n $$"
   ]
  },
  {
   "cell_type": "code",
   "execution_count": 9,
   "id": "4e41928b-9452-47cd-bd02-dbe9dbd2183a",
   "metadata": {},
   "outputs": [],
   "source": [
    "# Critical point data for isobutane taken from zybooks\n",
    "T_C = 408.1\t#K\n",
    "P_C = 36*101.325 #atm => kPa\n",
    "a = 27/64 * R**2*T_C**2/P_C\n",
    "b = R*T_C/8/P_C"
   ]
  },
  {
   "cell_type": "code",
   "execution_count": 10,
   "id": "bf90a960-5cac-4cb3-b736-1de4080bcb7f",
   "metadata": {},
   "outputs": [],
   "source": [
    "def P_VDW(n): #n is in mol\n",
    "    v = V/n\n",
    "    return R*T/(v-b) - a/v**2"
   ]
  },
  {
   "cell_type": "code",
   "execution_count": 11,
   "id": "f1e77739-802d-474a-8a43-80bd967bf84a",
   "metadata": {},
   "outputs": [
    {
     "data": {
      "text/markdown": [
       "$n = 2.50\\text{ mol}$"
      ],
      "text/plain": [
       "<IPython.core.display.Markdown object>"
      ]
     },
     "metadata": {},
     "output_type": "display_data"
    }
   ],
   "source": [
    "n = fsolve(lambda n: P_VDW(n)-P,1)[0]\n",
    "display(Markdown(rf\"$n = {n:0.2f}\\text{{ mol}}$\"))"
   ]
  },
  {
   "cell_type": "code",
   "execution_count": 12,
   "id": "eadbdebb-15e8-4b9b-881a-d069b05226b2",
   "metadata": {},
   "outputs": [
    {
     "data": {
      "text/markdown": [
       "$n_\\text{ideal} = 2.31\\text{ mol}$"
      ],
      "text/plain": [
       "<IPython.core.display.Markdown object>"
      ]
     },
     "metadata": {},
     "output_type": "display_data"
    }
   ],
   "source": [
    "# checking ideal gas version for comparison\n",
    "n_ideal = P*V/R/T\n",
    "display(Markdown(rf\"$n_\\text{{ideal}} = {n_ideal:0.2f}\\text{{ mol}}$\"))"
   ]
  },
  {
   "cell_type": "markdown",
   "id": "22b2c74d-2ee2-4066-9e4e-7698450009d8",
   "metadata": {},
   "source": [
    "Well within the difference expected between ideal gas EOS and van Der Waals EOS"
   ]
  },
  {
   "cell_type": "markdown",
   "id": "9279d523-ef77-4c2a-92a6-a46a62167920",
   "metadata": {},
   "source": [
    "## Question 14"
   ]
  },
  {
   "cell_type": "markdown",
   "id": "9eb94646-73e2-4d5e-9ea6-5339f28615c1",
   "metadata": {},
   "source": [
    "### Initial Information\n"
   ]
  },
  {
   "cell_type": "markdown",
   "id": "f4f971c9-49f8-4e1e-92c9-c4a678410935",
   "metadata": {},
   "source": [
    "#### Reactions\n",
    "\n",
    "Reactor 1:\n",
    "$$ \\xi_1: 4 NH_3 + 5 O_2 \\rightarrow 4 NO + 6 H_2O $$\n",
    "$$ \\xi_2: 2 NH_3 + 1.5 O_2 \\rightarrow N_2 + 3 H_2O $$\n",
    "\n",
    "Reactor 2:\n",
    "$$ \\xi_3: NO + 0.5 O_2 \\rightarrow NO_2 $$\n",
    "\n",
    "Scrubber:\n",
    "$$ \\xi_4: 2 NO_2 + 0.5 O_2 + H_2O \\rightarrow 2 HNO_3 $$"
   ]
  },
  {
   "cell_type": "markdown",
   "id": "6f75811e-5c23-4f35-bfb2-73f02418d4d7",
   "metadata": {},
   "source": [
    "#### Flows, Conversions, and Ratios\n",
    "- $ \\dot{n}_{1} = 1000 \\frac{\\text{mol}}{\\text{min}}$\n",
    "- $ x_{2,O_2} = 0.21 $ (**Assumed since it isn't given in the problem set**)\n",
    "- $ x_{2,N_2} = 1 - x_{2,O_2} $ (**For simplicity I am ignoring other inert gases**)\n",
    "- $ x_{5,NO_2} = 0.005$\n",
    "- $ x_{5,H_2O} = 0.1$\n",
    "- $ x_{6,HNO_3} = 0.6$\n",
    "- $ x_{6,H_2O} = 1 - x_{6,HNO_3}$\n",
    "- $ f_{\\xi_1,NH_3} = 0.93 $"
   ]
  },
  {
   "cell_type": "markdown",
   "id": "2fcc9449-0163-4cad-8a7a-e27cf491b495",
   "metadata": {
    "jp-MarkdownHeadingCollapsed": true
   },
   "source": [
    "#### Mole Balances\n",
    "\n",
    "Reactor 1:\n",
    "$$ \\dot{n}_{1,NH_3} - 4\\xi_1 - 2\\xi_2 = 0 $$\n",
    "$$ \\dot{n}_{2,O_2} - 5\\xi_1 - 1.5\\xi_2 = \\dot{n}_{3,O_2} $$\n",
    "$$ 4\\xi_1 = \\dot{n}_{3,NO} $$\n",
    "$$ \\dot{n}_{2,N_2} + \\xi_2 = \\dot{n}_{3,N_2} $$\n",
    "$$ 6\\xi_1 + 3\\xi_2 = \\dot{n}_{3,H_2O} $$\n",
    "\n",
    "Reactor 2:\n",
    "\n",
    "$$ \\dot{n}_{3,NO} - \\xi_3 = 0 $$\n",
    "$$ \\dot{n}_{3,O_2} - 0.5\\xi_3 = \\dot{n}_{4,O_2} $$\n",
    "$$ \\xi_3 = \\dot{n}_{4,NO_2} $$\n",
    "$$ \\dot{n}_{3,N_2} = \\dot{n}_{4,N_2} $$\n",
    "$$ \\dot{n}_{3,H_2O} = \\dot{n}_{4,H_2O} $$\n",
    "\n",
    "Scrubber:\n",
    "\n",
    "$$ \\dot{n}_{4,NO_2} - 2\\xi_4 = \\dot{n}_{5,NO_2} $$\n",
    "$$ \\dot{n}_{4,O_2} - 0.5\\xi_4 = \\dot{n}_{5,O_2} $$\n",
    "$$ \\dot{n}_{4,H_2O} + \\dot{n}_{7,H_2O} - \\xi_4 = \\dot{n}_{5,H_2O} + \\dot{n}_{6,H_2O}$$\n",
    "$$ \\xi_4 = \\dot{n}_{6,HNO_3} $$\n",
    "$$ \\dot{n}_{4,N_2} = \\dot{n}_{5,N_2} $$"
   ]
  },
  {
   "cell_type": "markdown",
   "id": "30f8398c-e70f-473c-96ee-6b4d7e05bc40",
   "metadata": {},
   "source": [
    "#### Extra Equations\n",
    "$$ f_{\\xi_1,NH_3} \\cdot \\frac{\\dot{n}_{1,NH_3}}{4} = \\frac{\\dot{n}_{3,NO}}{4}$$\n",
    "$$ \\frac{\\dot{n}_{2}}{\\dot{n}_{1}} = \\frac{10}{1} $$"
   ]
  },
  {
   "cell_type": "code",
   "execution_count": 13,
   "id": "5866d325-2ad1-4044-9193-d48629dfa1e8",
   "metadata": {},
   "outputs": [],
   "source": [
    "# Define flow rates, ratios, and conversions\n",
    "ṅ1 = 1000.0 #mol/min\n",
    "x1_NH3 = 1\n",
    "x2_O2 = 0.21\n",
    "x2_N2 = 1 - x2_O2\n",
    "x5_NO2 = 0.005\n",
    "x5_H2O = 0.1\n",
    "x6_HNO3 = 0.6\n",
    "x6_H2O = 1 - x6_HNO3\n",
    "x7_H2O = 1\n",
    "f_ξ1_NH3 = 0.93"
   ]
  },
  {
   "cell_type": "markdown",
   "id": "5402fbb7-3774-4d49-89de-16b97c4859e5",
   "metadata": {},
   "source": [
    "### Reactor 1"
   ]
  },
  {
   "cell_type": "markdown",
   "id": "2d663db4-ca0f-4a88-9c07-10594677d4fe",
   "metadata": {},
   "source": [
    "#### DOF\n",
    "$$ 3 \\text{ in} + 2 \\text{ reactions} + 4 \\text{ out} - 5 \\text{ Balances} - 1 \\text{ mole ratio} - 1 \\text{ flow rate} - 2 \\text{ extra equations} = 0 \\text{ DOF} $$"
   ]
  },
  {
   "cell_type": "code",
   "execution_count": 14,
   "id": "b3ccf2be-1599-40bd-a5ec-0621cec83d03",
   "metadata": {},
   "outputs": [],
   "source": [
    "ṅ1_NH3 = x1_NH3*ṅ1\n",
    "\n",
    "ṅ3_NO = f_ξ1_NH3 * ṅ1_NH3 #Extra equation 1\n",
    "ξ1 = ṅ3_NO / 4 #NO mole balance\n",
    "ξ2 = (ṅ1_NH3 - 4 * ξ1)/2 #NH3 mole balance\n",
    "\n",
    "ṅ2 = 10 * ṅ1 #Extra equation 2\n",
    "ṅ2_O2 = x2_O2 * ṅ2\n",
    "ṅ2_N2 = x2_N2 * ṅ2\n",
    "\n",
    "ṅ3_O2 = ṅ2_O2 - 5 * ξ1 - 1.5 * ξ2 #O2 mole balance\n",
    "ṅ3_N2 = ṅ2_N2 + ξ2 #N2 mole balance\n",
    "ṅ3_H2O = 6 * ξ1 + 3 * ξ2 #H2O mole balance"
   ]
  },
  {
   "cell_type": "markdown",
   "id": "41a959c3-cf90-4c52-b35c-bd1830a23cf1",
   "metadata": {},
   "source": [
    "### Reactor 2"
   ]
  },
  {
   "cell_type": "code",
   "execution_count": 15,
   "id": "2dfe35c8-7b72-48db-9c1c-d71511871a84",
   "metadata": {},
   "outputs": [],
   "source": [
    "ξ3 = ṅ3_NO #NO mole balance\n",
    "ṅ4_O2 = ṅ3_O2 - 0.5 * ξ3 #O2 mole balance\n",
    "ṅ4_NO2 = ξ3 #NO2 mole balance\n",
    "\n",
    "ṅ4_N2 = ṅ3_N2\n",
    "ṅ4_H2O = ṅ3_H2O"
   ]
  },
  {
   "cell_type": "markdown",
   "id": "af9b9274-c1c2-4cef-86d8-0897f88bc320",
   "metadata": {},
   "source": [
    "### Scrubber"
   ]
  },
  {
   "cell_type": "markdown",
   "id": "7998d579-4fd7-461b-ae9d-ea07e819139c",
   "metadata": {},
   "source": [
    "#### DOF\n",
    "$$ 5 \\text{ in} + 1 \\text{ reaction} + 6 \\text{ out} - 5 \\text{ Balances} - 3 \\text{ mole ratio} - 4 \\text{ flow rate} - 0 \\text{ extra equations} = 0 \\text{ DOF} $$"
   ]
  },
  {
   "cell_type": "code",
   "execution_count": 16,
   "id": "ad15d873-9def-49b0-a403-048f6d4b91a2",
   "metadata": {},
   "outputs": [],
   "source": [
    "ṅ5_N2 = ṅ4_N2\n",
    "\n",
    "# I need to choose 4 independent unknowns to solve for the other 4 equations\n",
    "# I choose ξ4, ṅ5, ṅ6, ṅ7\n",
    "def func(inputs):\n",
    "    ξ4, ṅ5, ṅ6, ṅ7 = inputs\n",
    "\n",
    "    ṅ5_NO2 = x5_NO2 * ṅ5\n",
    "    ṅ5_H2O = x5_H2O * ṅ5\n",
    "    ṅ6_HNO3 = x6_HNO3 * ṅ6\n",
    "    ṅ6_H2O = x6_H2O * ṅ6\n",
    "    ṅ7_H2O = x7_H2O * ṅ7\n",
    "\n",
    "    x5_N2 = ṅ5_N2/ṅ5\n",
    "    x5_O2 = 1 - x5_NO2 - x5_H2O - x5_N2\n",
    "\n",
    "    ṅ5_O2 = x5_O2 * ṅ5\n",
    "    \n",
    "    eq1 = ξ4 - ṅ6_HNO3\n",
    "    eq2 = ṅ4_NO2 - 2 * ξ4 - ṅ5_NO2\n",
    "    eq3 = ṅ4_O2 - 0.5 * ξ4 - ṅ5_O2\n",
    "    eq4 = ṅ4_H2O + ṅ7_H2O - 4 * ξ4 - ṅ5_H2O - ṅ6_H2O\n",
    "    return eq1,eq2,eq3,eq4"
   ]
  },
  {
   "cell_type": "code",
   "execution_count": 17,
   "id": "2e9c823b-b01e-4406-966c-c4393b29e126",
   "metadata": {},
   "outputs": [],
   "source": [
    "ξ4, ṅ5, ṅ6, ṅ7 = fsolve(func, [250, 250, 250, 250])\n",
    "\n",
    "ṅ3 = ṅ3_NO + ṅ3_O2 + ṅ3_N2 + ṅ3_H2O\n",
    "ṅ4 = ṅ4_NO2 + ṅ4_O2 + ṅ4_N2 + ṅ4_H2O\n",
    "\n",
    "x5_N2 = ṅ5_N2/ṅ5"
   ]
  },
  {
   "cell_type": "code",
   "execution_count": 18,
   "id": "c377e048-6c66-449a-819a-ae4c53e9843e",
   "metadata": {},
   "outputs": [
    {
     "data": {
      "text/markdown": [
       "$x_{5,N_2} = 0.873$"
      ],
      "text/plain": [
       "<IPython.core.display.Markdown object>"
      ]
     },
     "metadata": {},
     "output_type": "display_data"
    },
    {
     "data": {
      "text/markdown": [
       "$\\dot{n}_1 = 1000\\frac{\\text{mol}}{\\text{min}}$"
      ],
      "text/plain": [
       "<IPython.core.display.Markdown object>"
      ]
     },
     "metadata": {},
     "output_type": "display_data"
    },
    {
     "data": {
      "text/markdown": [
       "$\\dot{n}_2 = 10000\\frac{\\text{mol}}{\\text{min}}$"
      ],
      "text/plain": [
       "<IPython.core.display.Markdown object>"
      ]
     },
     "metadata": {},
     "output_type": "display_data"
    },
    {
     "data": {
      "text/markdown": [
       "$\\dot{n}_3 = 11200\\frac{\\text{mol}}{\\text{min}}$"
      ],
      "text/plain": [
       "<IPython.core.display.Markdown object>"
      ]
     },
     "metadata": {},
     "output_type": "display_data"
    },
    {
     "data": {
      "text/markdown": [
       "$\\dot{n}_4 = 10800\\frac{\\text{mol}}{\\text{min}}$"
      ],
      "text/plain": [
       "<IPython.core.display.Markdown object>"
      ]
     },
     "metadata": {},
     "output_type": "display_data"
    },
    {
     "data": {
      "text/markdown": [
       "$\\dot{n}_5 = 9090\\frac{\\text{mol}}{\\text{min}}$"
      ],
      "text/plain": [
       "<IPython.core.display.Markdown object>"
      ]
     },
     "metadata": {},
     "output_type": "display_data"
    },
    {
     "data": {
      "text/markdown": [
       "$\\dot{n}_6 = 737\\frac{\\text{mol}}{\\text{min}}$"
      ],
      "text/plain": [
       "<IPython.core.display.Markdown object>"
      ]
     },
     "metadata": {},
     "output_type": "display_data"
    },
    {
     "data": {
      "text/markdown": [
       "$\\dot{n}_7 = 1470\\frac{\\text{mol}}{\\text{min}}$"
      ],
      "text/plain": [
       "<IPython.core.display.Markdown object>"
      ]
     },
     "metadata": {},
     "output_type": "display_data"
    }
   ],
   "source": [
    "display(Markdown(rf\"$x_{{5,N_2}} = {x5_N2:0.03}$\"))\n",
    "display(Markdown(rf\"$\\dot{{n}}_1 = {np.round(ṅ1,-1):0.0f}\\frac{{\\text{{mol}}}}{{\\text{{min}}}}$\"))\n",
    "display(Markdown(rf\"$\\dot{{n}}_2 = {np.round(ṅ2,-2):0.0f}\\frac{{\\text{{mol}}}}{{\\text{{min}}}}$\"))\n",
    "display(Markdown(rf\"$\\dot{{n}}_3 = {np.round(ṅ3,-2):0.0f}\\frac{{\\text{{mol}}}}{{\\text{{min}}}}$\"))\n",
    "display(Markdown(rf\"$\\dot{{n}}_4 = {np.round(ṅ4,-2):0.0f}\\frac{{\\text{{mol}}}}{{\\text{{min}}}}$\"))\n",
    "display(Markdown(rf\"$\\dot{{n}}_5 = {np.round(ṅ5,-1):0.0f}\\frac{{\\text{{mol}}}}{{\\text{{min}}}}$\"))\n",
    "display(Markdown(rf\"$\\dot{{n}}_6 = {np.round(ṅ6,0):0.0f}\\frac{{\\text{{mol}}}}{{\\text{{min}}}}$\"))\n",
    "display(Markdown(rf\"$\\dot{{n}}_7 = {np.round(ṅ7,-1):0.0f}\\frac{{\\text{{mol}}}}{{\\text{{min}}}}$\"))"
   ]
  },
  {
   "cell_type": "markdown",
   "id": "4d55c46f-a1a1-4671-bd79-b6d73472b3e0",
   "metadata": {},
   "source": [
    "## Question 15"
   ]
  },
  {
   "cell_type": "code",
   "execution_count": 19,
   "id": "fbb37896-68a9-49dd-9f52-8076e38b76a1",
   "metadata": {
    "jupyter": {
     "source_hidden": true
    }
   },
   "outputs": [],
   "source": [
    "# uncomment the line below if numpy isn't loaded already\n",
    "# import numpy as np \n",
    "\n",
    "hexaneMW=86.17536   # molecular weight of hexane in g/mol\n",
    "hexaneTC=507.6      # critical temperature of hexane in K\n",
    "hexanePC=30.25e5    # critical pressure of hexane in Pa\n",
    "hexaneACEN=0.301261 # acentric factor of hexane (unitless)\n",
    "\n",
    "def hexaneICP(t):\n",
    "    '''\n",
    "    Input temperature in K\n",
    "    Return IDEAL GAS heat capacity of hexane in J/mol/K\n",
    "    '''\n",
    "    A=104400\n",
    "    B=352300\n",
    "    C=1694.6\n",
    "    D=236900\n",
    "    E=761.6\n",
    "    cp=A + B*((C/t)/np.sinh(C/t))**2 + D*((E/t)/np.cosh(E/t))**2  # J/kmol/K\n",
    "    return(cp/1000) # J/mol/K\n",
    "\n",
    "def hexaneLCP(t):\n",
    "    '''\n",
    "    Input temperature in K\n",
    "    Return LIQUID heat capacity of hexane in J/mol/K\n",
    "    '''\n",
    "    A=172120\n",
    "    B=-183.78\n",
    "    C=0.88734\n",
    "    cp=A + B*t + C*t**2  # J/kmol/K\n",
    "    return(cp/1000) # J/mol/K\n",
    "\n",
    "def hexaneSCP(t):\n",
    "    '''\n",
    "    Input temperature in K\n",
    "    Return SOLID heat capacity of hexane in J/mol/K\n",
    "    '''\n",
    "    A=-19370\n",
    "    B=1656\n",
    "    C=-8.372\n",
    "    D=0.0202\n",
    "    cp=A + B*t + C*t**2 + D*t**3  # J/kmol/K\n",
    "    return(cp/1000) # J/mol/K\n",
    "\n",
    "def hexaneLDN(t):\n",
    "    '''\n",
    "    Input temperature in K\n",
    "    Return LIQUID density of hexane in mol/m**3\n",
    "    '''\n",
    "    A=0.70824\n",
    "    B=0.26411\n",
    "    C=507.6\n",
    "    D=0.27537\n",
    "    rho=A/(B**(1+(1-t/C)**D)) # kmol/m**3\n",
    "    return(rho*1000) # mol/m**3\n",
    "\n",
    "def hexaneVP(t):\n",
    "    '''\n",
    "    Input temperature in K\n",
    "    Return LIQUID vapor pressure of hexane in Pa\n",
    "    '''\n",
    "    A=104.65\n",
    "    B=-6995.5\n",
    "    C=-12.702\n",
    "    D=1.2381E-05\n",
    "    E=2\n",
    "    lnVP=A + B/t + C*np.log(t) + D*t**E\n",
    "    return(np.exp(lnVP)) # Pa\n",
    "\n",
    "def hexaneSVP(t):\n",
    "    '''\n",
    "    Input temperature in K\n",
    "    Return SOLID vapor pressure (sublimation pressure) of hexane in Pa\n",
    "    '''\n",
    "    A=1064.4\n",
    "    B=-35352\n",
    "    C=-167.06\n",
    "    D=0\n",
    "    E=0\n",
    "    lnVP=A + B/t + C*np.log(t) + D*t**E\n",
    "    return(np.exp(lnVP)) # Pa\n",
    "\n",
    "def hexaneHVP(t):\n",
    "    '''\n",
    "    Input temperature in K\n",
    "    Return heat of vaporization of hexane in J/mol\n",
    "    '''\n",
    "    tr=t/hexaneTC\n",
    "    A=43848000\n",
    "    B=0.34057\n",
    "    C=0.063282\n",
    "    D=-0.017037\n",
    "    hvp=A*(1-tr)**(B + C*tr + D*tr**2) # J/kmol\n",
    "    return(hvp/1000) # J/mol"
   ]
  },
  {
   "cell_type": "markdown",
   "id": "e56474e9-da77-4171-acc7-5153afe5a6ad",
   "metadata": {},
   "source": [
    "Start from energy balance\n",
    "\n",
    "$$\n",
    "\\frac{d}{dt}\\left(mu+PE+KE\\right)_{\\text{mis}} = -\\sum_i^{N_{\\text{streams}}}\\nu\\dot{m_i}\\left(h_i+\\frac{1}{2}s_i^2+gz_i\\right) + \\dot{Q} + \\dot{W}_{\\text{nonstream }Pv}\n",
    "$$\n",
    "\n",
    "Simplify (Heat Exchanger)\n",
    "\n",
    "$$\n",
    "\\cancel{\\frac{d}{dt}\\left(mu+PE+KE\\right)_{\\text{mis}}}^\\text{ Solid State} = -\\sum_i^{N_{\\text{streams}}}\\nu\\dot{m_i}\\left(h_i+\\cancel{\\frac{1}{2}s_i^2+gz_i}^\\text{ Negligible}\\right) + \\cancel{\\dot{Q}}^\\text{ Adiabatic} + \\cancel{\\dot{W}_{\\text{nonstream }Pv}}\n",
    "$$\n",
    "\n",
    "Which Becomes\n",
    "\n",
    "$$\n",
    "\\sum_i^{N_{\\text{streams}}}\\nu\\dot{m_i}h_i = 0\n",
    "$$\n",
    "\n",
    "Asking for $\\dot{m}_3$"
   ]
  },
  {
   "cell_type": "code",
   "execution_count": 20,
   "id": "7d7674c9-5069-4b6f-acef-8bac3617f5f1",
   "metadata": {},
   "outputs": [],
   "source": [
    "# hexane in\n",
    "ṁ_hexane = 11 #kg/s\n",
    "ṅ_hexane = ṁ_hexane/mw.by_formula(\"C6H14\")*1000 #mol\n",
    "P_hexane = 150 #kPa\n",
    "T1 = 300 #K\n",
    "\n",
    "# hexane out\n",
    "T2 = 370 #K\n",
    "\n",
    "# water in (saturated)\n",
    "P_water = 500 #kPa\n",
    "# from Zybooks steam tables\n",
    "T3 = 151.83 + 273.15 #C => K\n",
    "h3 = 2748.1 #kJ/kg\n",
    "\n",
    "# water out\n",
    "T4 = 373.15 #K\n",
    "Cp_4 = 7.540E-02 #kJ/mol\n",
    "h4 = (T4-273.15)*Cp_4"
   ]
  },
  {
   "cell_type": "code",
   "execution_count": 21,
   "id": "60236caf-fcfa-48c1-9c77-9723653e305c",
   "metadata": {},
   "outputs": [],
   "source": [
    "Δh_hexane = quad(hexaneLCP,T2,T1)[0] * 1000\n",
    "Δh_water = h3-h4"
   ]
  },
  {
   "cell_type": "code",
   "execution_count": 22,
   "id": "127fd009-433d-4d2a-b233-3a21de9148c4",
   "metadata": {},
   "outputs": [
    {
     "data": {
      "text/markdown": [
       "$\\dot{m}_\\text{water} = 38.1 \\frac{\\text{kg}}{\\text{s}}$"
      ],
      "text/plain": [
       "<IPython.core.display.Markdown object>"
      ]
     },
     "metadata": {},
     "output_type": "display_data"
    }
   ],
   "source": [
    "ṅ_water = fsolve(lambda ṅ_water: ṅ_water * Δh_water + ṅ_hexane * Δh_hexane,100)[0]\n",
    "ṁ_water = ṅ_water/mw.by_formula(\"H2O\")/1000 #kg\n",
    "display(Markdown(rf\"$\\dot{{m}}_\\text{{water}} = {ṁ_water:.03} \\frac{{\\text{{kg}}}}{{\\text{{s}}}}$\"))"
   ]
  },
  {
   "cell_type": "markdown",
   "id": "a354d4b5-ffd3-447a-8a29-d85b766d478a",
   "metadata": {},
   "source": [
    "Next step was correcting the above to use ṅ_water and ṅ_hexane instead of ṁ_water and ṁ_hexane, then converting the final answer back to ṁ_water. Ran out of time.\n",
    "\n",
    "I've since gone back and done so, then cleaned it up a little bit. Took another 15 minutes or so?"
   ]
  },
  {
   "cell_type": "code",
   "execution_count": null,
   "id": "54b9622d-337a-4ddc-bf18-9ca348f6e714",
   "metadata": {},
   "outputs": [],
   "source": []
  }
 ],
 "metadata": {
  "kernelspec": {
   "display_name": "Python 3 (ipykernel)",
   "language": "python",
   "name": "python3"
  },
  "language_info": {
   "codemirror_mode": {
    "name": "ipython",
    "version": 3
   },
   "file_extension": ".py",
   "mimetype": "text/x-python",
   "name": "python",
   "nbconvert_exporter": "python",
   "pygments_lexer": "ipython3",
   "version": "3.13.0"
  }
 },
 "nbformat": 4,
 "nbformat_minor": 5
}
