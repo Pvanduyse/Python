{
 "cells": [
  {
   "cell_type": "markdown",
   "id": "667762e4-a561-48ea-a2f8-7842e9c30d58",
   "metadata": {},
   "source": [
    "# CH EN 273 - Final Exam"
   ]
  },
  {
   "cell_type": "code",
   "execution_count": 1,
   "id": "c2f37120-dd4f-4bb4-916e-abcb55e0b0fe",
   "metadata": {},
   "outputs": [],
   "source": [
    "import numpy as np\n",
    "π = np.pi\n",
    "from scipy.integrate import quad\n",
    "from scipy.optimize import fsolve\n",
    "from IPython.display import display, Markdown, Latex"
   ]
  },
  {
   "cell_type": "code",
   "execution_count": 2,
   "id": "d65301d4-2e99-4b52-9f13-b14b61d2fcad",
   "metadata": {},
   "outputs": [],
   "source": [
    "P_atmos = {\n",
    "    \"sea_level\": 1.00,\n",
    "    \"provo\": 0.849,\n",
    "    \"denver\": 0.820,\n",
    "    \"kansas_city\": 0.968,\n",
    "    \"boise\": 0.906,\n",
    "    \"phoenix\": 0.961,\n",
    "    \"dallas\": 0.985,\n",
    "    \"tuscon\": 0.910\n",
    "} #atm"
   ]
  },
  {
   "cell_type": "markdown",
   "id": "9223b6a6-c3a0-4eac-b394-4328ea34a4c7",
   "metadata": {},
   "source": [
    "### PROBLEM 2\n",
    "\n",
    "> On a warm humid day (30°C and 50% relative humidity) an air conditioner is producing air at a rate of 0.5 m3/min at 20°C. If it was drier outside and the same amount of power was used, the flow rate of air____________."
   ]
  },
  {
   "cell_type": "markdown",
   "id": "c3aedfd9-9b9b-4784-b92c-d58788982704",
   "metadata": {},
   "source": [
    "**Answer: Would increase.**\n",
    "\n",
    "Reasoning: Wet air has a higher heat capacity (by volume) than dry air, so the energy required to cool the same volume is less for dry air. Since the energy stays the same, the volumetric flow rate must increase.\n",
    "\n",
    "The above assumes that we are talking about the volumetric flow rate. Mass flow rate, I would be less sure about, as the wet air would also be denser than the dry air."
   ]
  },
  {
   "cell_type": "markdown",
   "id": "3b3bdf39-146b-4635-be08-a3af28f15617",
   "metadata": {},
   "source": [
    "### PROBLEM 3\n",
    "\n",
    ">On a warm day (30°C) you’re drinking a cold beverage (5°C) in Atlanta, Georgia, where the relative humidity is 80%. Do you need a coaster? What if you are in Moab, Utah on a relatively cold evening (5°C) when the relative humidity is 60%?"
   ]
  },
  {
   "cell_type": "markdown",
   "id": "1483e27f-d025-4141-98cb-56e13466d8ba",
   "metadata": {},
   "source": [
    "**Answer: Yes, No.**\n",
    "\n",
    "Downtown Atlanta has an elevation of 1050 ft above sea level, and an atmospheric pressure of about 0.96 atm at 30C.\n",
    "Checking the Psychometric charts for 1.00 atm, I find the spot where the wet-bulb temp is 30C and humidity is 80%, then follow it horizontally (keeping mass constant) to find that it will hit 100% humidity (the dew point) when to cools to somewhere between 25 and 30 C. 5 C is quite a bit colder than 25 C, so it is reasonable to assume that there will be significant condensation from the glass.\n",
    "\n",
    "For Moab, Utah, however, I would say no. Since the beverage is the same temperature as the ambient air, and the ambient air isn't at 100% relative humidity, there is no reason for there to be significant condensation."
   ]
  },
  {
   "cell_type": "markdown",
   "id": "d0219bfc-c17d-4706-8ff1-16fbd360b6a4",
   "metadata": {},
   "source": [
    "### PROBLEM 4\n",
    "\n",
    "> An endothermic reaction takes place in a continuous adiabatic reactor at constant pressure. There is one inlet and one outlet. The enthalpy of the outlet stream is:"
   ]
  },
  {
   "cell_type": "markdown",
   "id": "4049d4bd-ed00-43c5-8b73-2f498fa7b19c",
   "metadata": {},
   "source": [
    "**Answer: The same as the inlet.**\n",
    "\n",
    "I am assuming the reactor is steady-state (IE, no accumulation)\n",
    "\n",
    "Reasoning: Since the system is Adiabatic, no energy is flowing in or out of the system. As such, the total enthalpy coming in is going to be equal to the enthalpy going out, regardless of whether there is a reaction or whether that reaction is exothermic or endothermic. It's safe to assume, however, that the temperatures will not be the same."
   ]
  },
  {
   "cell_type": "markdown",
   "id": "8f456fb4-4c52-4b21-939d-6d69d46ca055",
   "metadata": {},
   "source": [
    "### PROBLEM 5\n",
    "\n",
    "> An electric fan is turned on in a well-insulated room with all the doors closed. The room temperature ___________."
   ]
  },
  {
   "cell_type": "markdown",
   "id": "e02e894c-1498-40c3-b3cf-7c834b99231f",
   "metadata": {},
   "source": [
    "**Answer: more information needed (increases OR stays the same).**\n",
    "\n",
    "Reasoning: We've been told that the room is well-insulated, and the doors are closed. As such, I'd assume that air isn't leaving the room (closed system), and that the heat entering/leaving through the walls is negligible (temperature-wise adiabatic).\n",
    "\n",
    "From an energy balance standpoint, we have work being done by the fan (to move the air around), drawing energy from the outlet (and that from outside the room). This means that the energy inside the room is increasing over time. Initially, that would be mostly velocity, but I'm sure the fan would heat up (no fan is 100% effective), and the rate of airflow would eventually level out (ie, the kinetic energy would stop increasing), which means that it's reasonable to imply that the air would eventually get warmer. As such, in a *perfectly sealed, adiabatic system* the temperature would slowly rise. This would lead me to say that the temperature **increases**.\n",
    "\n",
    "However, since the system is *not perfectly* sealed/adiabatic (just well insulated, with closed doors), and the rate at which the room would heat up seems like it would be quite small, I don't know that it actually would increase. If the impact of the fan is in the same order of magnitude as the impact of air-flow under the door or of heat transfer through the walls (which have been stated as negligible), then you could assume that it would **stay the same**. It's hard to know without knowing the Wattage of the fan, the size of the room, and the actual flow of energy into the walls/air out from under the door. So I would go with **more information needed**"
   ]
  },
  {
   "cell_type": "markdown",
   "id": "794a3a77-1f14-4332-8ed9-037f36595d16",
   "metadata": {},
   "source": [
    "### PROBLEM 6\n",
    "\n",
    "> A 10,000 gallon water tank atop a building delivers fresh drinking water for its occupants. A top floor resident and bottom floor resident are filling their bathtubs.  Assuming frictionless pipes and isothermal flow, which one will fill faster?"
   ]
  },
  {
   "cell_type": "markdown",
   "id": "50b677ec-6218-4446-88cc-552b0143df3d",
   "metadata": {},
   "source": [
    "**Answer: The bottom floor resident.**\n",
    "\n",
    "Reasoning: Energy is constant. The higher water will have higher potential energy. The lower water will consequently need to have higher thermal, chemical, or kinetic energy unless it does work on something on its way down. Thermal is ruled out (isothermal). Chemical is also ruled out (same water, nothing to cause one to react but not the other). And we've been told it's frictionless, which implies it's not doing work. That leaves just kinetic energy: IE the water at the bottom is flowing faster than the water at the top. "
   ]
  },
  {
   "cell_type": "markdown",
   "id": "f6d2f389-3412-4607-b1ca-e71a9ff20db9",
   "metadata": {},
   "source": [
    "### PROBLEM 7\n",
    "\n",
    "> A sample of a solid compound begins at 65 °C. Heat is applied to increase the temperature by 46 °F. The sample is then cooled so that the temperature is reduced by -23 °R. What is the final temperature of the substance in units of K? (To be clear, the temperature first increases then decreases.)\n",
    ">\n",
    "> Report your answer with 2 decimal point accuracy. Is the problem is impossible, enter 99999."
   ]
  },
  {
   "cell_type": "code",
   "execution_count": 3,
   "id": "1043db88-4328-46fa-8c69-c12d829416d7",
   "metadata": {},
   "outputs": [
    {
     "data": {
      "text/markdown": [
       "$T_\\text{final} = 350.93 \\text{ K}$"
      ],
      "text/plain": [
       "<IPython.core.display.Markdown object>"
      ]
     },
     "metadata": {},
     "output_type": "display_data"
    }
   ],
   "source": [
    "T_init = 65 # C\n",
    "ΔT_1__F = 46 # F - temperature differences are the same between F and R\n",
    "ΔT_2__F = -23 # F - temperature differences are the same between F and R\n",
    "\n",
    "ΔT_1__C = ΔT_1__F*5/9\n",
    "ΔT_2__C = ΔT_2__F*5/9\n",
    "\n",
    "T_final__C = T_init+ΔT_1__C+ΔT_2__C\n",
    "\n",
    "T_final__K = T_final__C + 273.15\n",
    "display(Markdown(rf\"$T_\\text{{final}} = {T_final__K:.2F} \\text{{ K}}$\"))"
   ]
  },
  {
   "cell_type": "markdown",
   "id": "c33130b6-984f-4b8e-bbb7-25057fd215d3",
   "metadata": {},
   "source": [
    "**Answer: 350.93 K**\n",
    "\n",
    "Using the Conversion for C to K from Zybooks:\n",
    "> T(K) = T(°C) + 273.15"
   ]
  },
  {
   "cell_type": "markdown",
   "id": "9c304de4-876b-49e9-9290-55cc534b76ec",
   "metadata": {},
   "source": [
    "### PROBLEM 8\n",
    "\n",
    "> Pure ethanol (0.95 kg) is heated from 39 to 95 °C at a constant pressure of 1 atm. How much heat is required? Report your answer in units of kJ to 1 decimal point accuracy."
   ]
  },
  {
   "cell_type": "markdown",
   "id": "32ae48c8-954a-47ff-954a-d1391615ccb0",
   "metadata": {},
   "source": [
    "Ethanol is liquid at 39 C, and boils at around 78.5 C. As such, we will need to calculate the enthalpy change from 39 C to around 78.5 C (using liquid heat capacity) then the heat of vaporization, followed by the enthalpy change from around 78.5 C to 95 C (using gas heat capacity).\n",
    "\n",
    "**Since I don't have another equation for liquid heat capacity than that in Zybooks, I'll be using it from 39 to 78 even though the equation says High T of 75.**"
   ]
  },
  {
   "cell_type": "code",
   "execution_count": 4,
   "id": "09c75f36-1c4e-48e4-a758-7b320f0330ea",
   "metadata": {},
   "outputs": [],
   "source": [
    "P = 760 # mmHg = 1 atm\n",
    "\n",
    "# I initially couldn't find the boiling point of EtOH in Zybooks, so this would have calculated it from T_sat at 1 atm.\n",
    "EtOH_PSAT_COEFS = {\n",
    "    'A': 8.13484,\n",
    "    'B': 1662.48,\n",
    "    'C': 238.131\n",
    "}\n",
    "T_sat__EtOH = EtOH_PSAT_COEFS['B']/(EtOH_PSAT_COEFS['A'] - np.log10(P)) - EtOH_PSAT_COEFS['C']\n",
    "\n",
    "# display(Markdown(rf\"$T_\\text{{sat}}$ of Ethanol at 1 atm = ${T_sat__EtOH:.2f} C$\"))\n",
    "\n",
    "T_1 = 39 # C (liquid)\n",
    "T_v = 78.5 # C (boiling point)\n",
    "T_2 = 95 # C (gas)\n",
    "\n",
    "m = 0.95 * 1000 # g EtOH\n",
    "MW_EtOH = 46.07 # g/mol from Zybooks\n",
    "\n",
    "n = m / MW_EtOH # mol EtOH"
   ]
  },
  {
   "cell_type": "code",
   "execution_count": 5,
   "id": "9f7d6f19-c8e9-4199-9733-c9779fe4d088",
   "metadata": {},
   "outputs": [
    {
     "data": {
      "text/plain": [
       "0.07264623453125"
      ]
     },
     "execution_count": 5,
     "metadata": {},
     "output_type": "execute_result"
    }
   ],
   "source": [
    "Cp_COEFS_EtOH_liquid = {\n",
    "    'a': 9.839E-02,\n",
    "    'b': 0,\n",
    "    'c': 0,\n",
    "    'd': 0\n",
    "} # liquid, 25 C to 75 C. kJ/(mol*C). Requires T in C.\n",
    "\n",
    "Cp_COEFS_EtOH_gas = {\n",
    "    'a': 6.134E-02,\n",
    "    'b': 1.572E-04,\n",
    "    'c': -8.749E-08,\n",
    "    'd': 1.983E-11\n",
    "} # gas, 0 C to 1200 C. kJ/(mol*C). Requires T in C.\n",
    "\n",
    "def C_p(T, COEFS):\n",
    "    return COEFS['a'] + COEFS['b']*T + COEFS['c']*T**2 + COEFS['d']*T**3\n",
    "\n",
    "C_p(75, Cp_COEFS_EtOH_gas) # kJ/(mol*C) ### Used to test the equation. Compared to DIPPR, it's close enough I don't think I made any major mistakes."
   ]
  },
  {
   "cell_type": "code",
   "execution_count": 6,
   "id": "0db524c9-c53a-4391-8f4b-428894c71fcc",
   "metadata": {},
   "outputs": [
    {
     "data": {
      "text/markdown": [
       "$\\Delta{H} = 917.9 \\text{ kJ}$"
      ],
      "text/plain": [
       "<IPython.core.display.Markdown object>"
      ]
     },
     "metadata": {},
     "output_type": "display_data"
    }
   ],
   "source": [
    "Δh_1 = quad(lambda T: C_p(T,Cp_COEFS_EtOH_liquid),T_1,T_v)[0] # kJ/mol\n",
    "Δh_v = 39.4 #kJ/mol from Zybooks\n",
    "Δh_2 = quad(lambda T: C_p(T,Cp_COEFS_EtOH_gas),T_v,T_2)[0] # kJ/mol\n",
    "\n",
    "ΔH = (Δh_1 + Δh_v + Δh_2) * n #kJ\n",
    "display(Markdown(rf\"$\\Delta{{H}} = {ΔH:.1f} \\text{{ kJ}}$\"))"
   ]
  },
  {
   "cell_type": "markdown",
   "id": "7a9e84db-ab56-438b-a33e-2f8e5c1ff2d3",
   "metadata": {},
   "source": [
    "### PROBLEM 9\n",
    "\n",
    "> Methanol may be produced by reacting carbon monoxide and hydrogen at moderate pressure. Consider a case where a stoichiometric feed of CO and H2 are fed in a single line to a reactor. The total molar flowrate of the inlet stream is 98.3 mol/min. The conversion is 100%, and the reactor has only one outlet stream. The inlet and outlet streams are at 25 °C and 125 °C, respectively. Determine the heat transfer rate. Report your answer in kW with 1 decimal place accuracy.\n",
    ">\n",
    "> The entire process occurs at a constant pressure of 5 atm, all compounds are in the gas phase, and all gases may be considered ideal."
   ]
  },
  {
   "cell_type": "markdown",
   "id": "52f0d86d-f461-4e3b-8c2a-3f5cfa6a26a5",
   "metadata": {},
   "source": [
    "Reaction:\n",
    "$$\n",
    "CO + 2H_2 \\rightarrow H_3COH\n",
    "$$\n",
    "\n",
    "Using heat of formation + heat capacity to measure the energy in, then the energy out, to find the required energy."
   ]
  },
  {
   "cell_type": "code",
   "execution_count": 7,
   "id": "9a405b33-4d39-4b28-8df5-9960445f92b2",
   "metadata": {},
   "outputs": [],
   "source": [
    "P = 5 # atm\n",
    "\n",
    "ṅ__in = 98.3 # mol/min\n",
    "\n",
    "x_CO__in = 1/3\n",
    "x_H2__in = 1 - x_CO__in\n",
    "\n",
    "f_conv = 1.00\n",
    "T__in = 25 # C\n",
    "T__STD = 25 # C\n",
    "T__out = 125 # C"
   ]
  },
  {
   "cell_type": "code",
   "execution_count": 8,
   "id": "2d8a8a27-1942-4367-ac03-e839962b5e4a",
   "metadata": {},
   "outputs": [],
   "source": [
    "# Heat of Formation is at 25C\n",
    "Δhf_H2 = 0 #kJ/mol\n",
    "Δhf_CO = -110.52 #kJ/mol\n",
    "Δhf_MeOH = -201.2 #kJ/mol\n",
    "\n",
    "Cp_COEFS_MeOH_gas = {\n",
    "    'a': 4.293E-02,\n",
    "    'b': 8.301E-05,\n",
    "    'c': -1.870E-08,\n",
    "    'd': -8.030E-12\n",
    "} # gas, 0 C to 700 C. kJ/(mol*C). Requires T in C.\n",
    "Δh_MeOH__out = quad(lambda T: C_p(T,Cp_COEFS_MeOH_gas),T__STD,T__out)[0] # kJ/mol from 25 to 125"
   ]
  },
  {
   "cell_type": "code",
   "execution_count": 9,
   "id": "fb9c73f7-1a98-4b5d-aa61-425df3c395d0",
   "metadata": {},
   "outputs": [
    {
     "data": {
      "text/markdown": [
       "$\\dot{Q}_\\text{needed} = -46.8 \\text{ kW}$"
      ],
      "text/plain": [
       "<IPython.core.display.Markdown object>"
      ]
     },
     "metadata": {},
     "output_type": "display_data"
    }
   ],
   "source": [
    "ṅ_CO__in = x_CO__in * ṅ__in\n",
    "ṅ_H2__in = ṅ__in - ṅ_CO__in\n",
    "\n",
    "ξ = ṅ_CO__in * f_conv\n",
    "\n",
    "ṅ_MeOH__out = ξ\n",
    "\n",
    "# Since the inlet is at 25 C (which is also standard for the heat of formation) there is no need to add inlet heat capacity.\n",
    "Q̇_in__toSTP = 0 # kJ/min ##relative to standard heat of formation\n",
    "Q̇_react__STP = Δhf_MeOH * ṅ_MeOH__out - Δhf_CO * ṅ_CO__in - Δhf_H2 * ṅ_H2__in #kJ/min energy needed for the reaction at STP\n",
    "Q̇_out__to125C = Δh_MeOH__out * ṅ_MeOH__out #kJ/min energy needed to heat the products to 770\n",
    "\n",
    "Q̇_needed = (Q̇_out__to125C + Q̇_react__STP - Q̇_in__toSTP) / 60 #kJ/min * 1min/60sec => kW\n",
    "\n",
    "display(Markdown(rf\"$\\dot{{Q}}_\\text{{needed}} = {Q̇_needed:.1f} \\text{{ kW}}$\"))"
   ]
  },
  {
   "cell_type": "markdown",
   "id": "15763b65-0d14-4f93-aae9-c2c878a7afcd",
   "metadata": {},
   "source": [
    "In this case, the heat transfer is negative, in that the heat is produced by the reaction and needing to be transfered out."
   ]
  },
  {
   "cell_type": "markdown",
   "id": "aa5bb854-cca9-472f-83f3-db1d2c3c6bc4",
   "metadata": {},
   "source": [
    "### PROBLEM 10\n",
    "\n",
    "> Use the following information for this problem. (The standard state for the heats of formation is 25 °C and 1 atm.)\n",
    "\n",
    "| Component | Δℎ∘𝑓 (kJ/mol) | 𝐶𝑝 (kJ mol-1 K-1) |\n",
    "| --- | --- | --- |\n",
    "| A | -120 | 0.15 |\n",
    "| B | -200 | 0.3 |\n",
    "| C | -100 | 0.1 |\n",
    "| D | -130 | 0.05 |\n",
    "\n",
    "> What is the heat of reaction at 770 °C for the reaction below?\n",
    ">\n",
    "> 2 A + B → 1C + 4D\n",
    ">\n",
    "> Report your answer in units of kJ/mol with 1 decimal point accuracy.\n",
    ">\n",
    ">(All species are in the gas phase, and the reaction occurs at 1 atm.)"
   ]
  },
  {
   "cell_type": "markdown",
   "id": "1a93ed3a-2e29-440e-9754-0b4b04633efb",
   "metadata": {},
   "source": [
    "For this, I'm first going to calculate the change in energy from 770 C to 25 C for the reactants, then the difference in heat of formation, then the change in energy from 25 C to 770 C for the products."
   ]
  },
  {
   "cell_type": "code",
   "execution_count": 10,
   "id": "48a9325f-676c-4034-b3a3-bd09f2cba7b6",
   "metadata": {},
   "outputs": [],
   "source": [
    "Δhf_A = -120 #kJ/mol\n",
    "Δhf_B = -200 #kJ/mol\n",
    "Δhf_C = -100 #kJ/mol\n",
    "Δhf_D = -130 #kJ/mol\n",
    "\n",
    "Cp_A = 0.15 #kJ/(mol*K)\n",
    "Cp_B = 0.3  #kJ/(mol*K)\n",
    "Cp_C = 0.1  #kJ/(mol*K)\n",
    "Cp_D = 0.05 #kJ/(mol*K)\n",
    "\n",
    "n_A = 2 # A reacting per reaction\n",
    "n_B = 1 # B reacting per reaction\n",
    "n_C = 1 # C produced per reaction\n",
    "n_D = 4 # D produced per reaction\n",
    "\n",
    "T_react = 770 # C\n",
    "T_STD = 25 # C"
   ]
  },
  {
   "cell_type": "code",
   "execution_count": 11,
   "id": "6489ff5e-2a27-4a72-8c68-1065e020949c",
   "metadata": {},
   "outputs": [
    {
     "data": {
      "text/markdown": [
       "$\\Delta{h}_{\\text{reaction},770 C} = -403.5 \\frac{\\text{kJ}}{\\text{mol}}$"
      ],
      "text/plain": [
       "<IPython.core.display.Markdown object>"
      ]
     },
     "metadata": {},
     "output_type": "display_data"
    }
   ],
   "source": [
    "# heat of reactants relative to STD\n",
    "Δh_reactants_770C = (n_A*Cp_A + n_B*Cp_B) * (T_STD - T_react) # energy required to change temperature\n",
    "\n",
    "# heat of reaction at STD\n",
    "Δh_reaction__STD = n_C*Δhf_C + n_D*Δhf_D - n_A*Δhf_A - n_B*Δhf_B # kJ/mol energy required for the reaction. If negative, then energy is released.\n",
    "\n",
    "# heat of products relative to STD\n",
    "Δh_products__770C = (n_C*Cp_C + n_D*Cp_D) * (T_react - T_STD) # kJ/mol energy required to change temperature\n",
    "\n",
    "Δh_reaction = Δh_reactants_770C + Δh_reaction__STD + Δh_products__770C\n",
    "display(Markdown(rf\"$\\Delta{{h}}_{{\\text{{reaction}},770 C}} = {Δh_reaction:.1f} \\frac{{\\text{{kJ}}}}{{\\text{{mol}}}}$\"))"
   ]
  },
  {
   "cell_type": "markdown",
   "id": "0247f330-e474-4009-9627-71a6853d5883",
   "metadata": {},
   "source": [
    "### PROBLEM 11\n",
    "\n",
    ">A large tropical greenhouse is being built in a city in Colorado with an elevation of 1500 m above sea level. The environment inside the greenhouse must approximate that of the native environment of the plants and insects being housed. In the winter, this requires heating and humidification as the natural conditions in this area of Colorado during this time of year is cold and dry.\n",
    ">\n",
    ">A stream (T = 16 °C), consisting of 200 kg/min dry air and 2.5 lb/min water, is heated at a rate of 50 kW. What is the final relative humidity (RH) of the stream after heating?"
   ]
  },
  {
   "cell_type": "code",
   "execution_count": 12,
   "id": "66df4499-78a6-4bdb-acb9-f7b2ea7051af",
   "metadata": {},
   "outputs": [],
   "source": [
    "T_1 = 16 # C\n",
    "ṁ_air = 200 / 60 # kg/s dry air\n",
    "ṁ_water = 2.5 / 2.20462 / 60 # kg/s water from lb/min\n",
    "Q̇ = 50 # kW"
   ]
  },
  {
   "cell_type": "code",
   "execution_count": 13,
   "id": "4cd559f5-38a1-4860-a3b0-9d4310369f8b",
   "metadata": {},
   "outputs": [
    {
     "data": {
      "text/plain": [
       "0.005669911367945497"
      ]
     },
     "execution_count": 13,
     "metadata": {},
     "output_type": "execute_result"
    }
   ],
   "source": [
    "humidity_ratio = ṁ_water/ṁ_air\n",
    "humidity_ratio"
   ]
  },
  {
   "cell_type": "code",
   "execution_count": 14,
   "id": "78f3c3be-d13c-4627-807a-d6132413c789",
   "metadata": {},
   "outputs": [
    {
     "data": {
      "text/plain": [
       "46.0"
      ]
     },
     "execution_count": 14,
     "metadata": {},
     "output_type": "execute_result"
    }
   ],
   "source": [
    "h_in = 31 #kJ/kg Dry Air from Psychrometric charts at 1500 ft elevation. Intersection of 16 C (dry bulb) and humidity ratio of 0.0055\n",
    "Ḣ_in = h_in * ṁ_air # kJ/s = kW\n",
    "Ḣ_out = Ḣ_in + Q̇ # kW\n",
    "h_out = Ḣ_out / ṁ_air  #kJ/kg Dry Air\n",
    "h_out"
   ]
  },
  {
   "cell_type": "markdown",
   "id": "39fb4280-9e16-4cbc-bacc-c0fdce50563d",
   "metadata": {},
   "source": [
    "From the psychrometric charts at 1500 ft elevation, the intersection of humidity ratio of 0.0055 (which should be constant) and specific enthalpy of 46 kJ/kg Dry Air is at around **18% RH** and 30 C."
   ]
  },
  {
   "cell_type": "markdown",
   "id": "0ef66158-c1e5-4af0-8b90-ffeae66ebb20",
   "metadata": {},
   "source": [
    "### PROBLEM 12\n",
    "\n",
    "> The American Petroleum Institute (API) is a national trade association for oil and gas processing. They define standard conditions as 60 °F and 1 atm.\n",
    "> \n",
    "> Pentane at 136 °F and 22.4 psia flows at a rate of 1.07 ft3/min. What is the flowrate in SCIM (standard cubic inches per minute) for the API standard?"
   ]
  },
  {
   "cell_type": "code",
   "execution_count": 15,
   "id": "f7fca643-67a5-4600-8835-2a54002ac317",
   "metadata": {},
   "outputs": [],
   "source": [
    "R_imp = 10.73 # psia·ft3/lbmol·°R\n",
    "T_STD__API = 60 + 459.67 # °R\n",
    "P_STD__API = 14.696 # psia\n",
    "v_STD__API = R_imp * T_STD__API / P_STD__API # ft3/lbmol\n",
    "T = 136 + 459.67 # °R\n",
    "P = 22.4 # psia\n",
    "V̇ = 1.07 # ft3/min\n",
    "ṅ = P * V̇ / (R_imp * T) # lbmol/min"
   ]
  },
  {
   "cell_type": "code",
   "execution_count": 16,
   "id": "6c003dcc-8fdf-4407-9068-2ff47541c450",
   "metadata": {},
   "outputs": [
    {
     "data": {
      "text/markdown": [
       "$\\dot{V}_\\text{STD,API} = 2459 \\text{ SCIM}$"
      ],
      "text/plain": [
       "<IPython.core.display.Markdown object>"
      ]
     },
     "metadata": {},
     "output_type": "display_data"
    }
   ],
   "source": [
    "V̇_STD__API = ṅ * v_STD__API * 12**3 # in3/min or SCIM\n",
    "display(Markdown(rf\"$\\dot{{V}}_\\text{{STD,API}} = {V̇_STD__API:.0f} \\text{{ SCIM}}$\"))"
   ]
  },
  {
   "cell_type": "markdown",
   "id": "35cf24a8-94e0-4e65-b062-8c62b416a266",
   "metadata": {},
   "source": [
    "### PROBLEM 13\n",
    "\n",
    "> Methanol is a chemical with a variety of uses such as inks, resins, adhesives, fuel. It is also used as a building block to synthesize many other chemicals. One way to make methanol synthesis more sustainable is to generate syngas (a combination of CO and H2) from combustion of biomass and then make methanol from the syngas through the following reaction.\n",
    ">\n",
    "> CO + 2 H2 = CH3OH\n",
    ">\n",
    "> Consider the reactor below. The feed is a mixture of syngas at 207 °C. Determine the temperature of the exiting stream if the reactor operates adiabatically. (All species are in the gas phase and behave ideally.)\n",
    "> ![PFD](https://learningsuite.byu.edu/plugins/Upload/fileDownload.php?fileId=fl0ccIidiUCq&service=scout&appId=student&courseID=NWKvdiPaysDR)\n",
    "> \n",
    "> Report your answer in the box below, and upload your work to the \"Final Exam Partial Credit\" assignment on Learning Suite."
   ]
  },
  {
   "cell_type": "markdown",
   "id": "44310565-da5b-40d1-9795-fafc38fb4ea1",
   "metadata": {},
   "source": [
    "Start from energy balance\n",
    "\n",
    "$$\n",
    "\\frac{d}{dt}\\left(mu+PE+KE\\right)_{\\text{mis}} = -\\sum_i^{N_{\\text{streams}}}\\nu\\dot{m_i}\\left(h_i+\\frac{1}{2}s_i^2+gz_i\\right) + \\dot{Q} + \\dot{W}_{\\text{nonstream }Pv}\n",
    "$$\n",
    "\n",
    "Simplify (Steady State, No Work, Adiabatic (except for reaction))\n",
    "\n",
    "$$\n",
    "0 = -\\sum_i^{N_{\\text{streams}}}\\nu\\dot{m_i}\\left(h_i\\right) + \\dot{Q}_\\text{react}\n",
    "$$\n",
    "\n",
    "Which Becomes\n",
    "\n",
    "$$\n",
    "\\sum_\\text{inlets}^{N_{\\text{streams}}}\\dot{m_i}h_i + \\dot{Q}_\\text{react} = \\sum_\\text{exits}^{N_{\\text{streams}}}\\dot{m_e}h_e\n",
    "$$\n",
    "\n",
    "Asking for $T_\\text{out}$\n",
    "\n"
   ]
  },
  {
   "cell_type": "markdown",
   "id": "5e3df9e9-9f92-4205-bdc1-b1559a89fb65",
   "metadata": {},
   "source": [
    "Next steps would be to get an energy path from 207 C to standard (25 C), then across the reaction. That will tell us how much energy needs to leave with the products. We can then setup a function to calculate the enthalpy of products based on their temperature. Setting them equal to each other (overall adiabatic) in fsolve will get us the temperature we are looking for."
   ]
  },
  {
   "cell_type": "code",
   "execution_count": 17,
   "id": "e4b4b35e-e77f-4038-975c-9139b875f4a3",
   "metadata": {},
   "outputs": [],
   "source": [
    "T__in = 207 # C\n",
    "T__STD = 25 # C\n",
    "\n",
    "ṅ_CO__in = 22 # mol/s\n",
    "ṅ_H2__in = 88 # mol/s\n",
    "\n",
    "ṅ_CO__out = 2.2 # mol/s\n",
    "ṅ_H2__out = 48.4 # mol/s\n",
    "ṅ_MeOH__out = 19.8 # mol/s\n",
    "\n",
    "# Used to test that the flow rates worked stoichiometrically. They did.\n",
    "ξ = ṅ_MeOH__out #mol/s"
   ]
  },
  {
   "cell_type": "code",
   "execution_count": 18,
   "id": "89b00139-c6e7-4ed6-b23e-f9594e801d63",
   "metadata": {},
   "outputs": [],
   "source": [
    "# Heat of Formation is at 25C\n",
    "Δhf_H2 = 0 #kJ/mol\n",
    "Δhf_CO = -110.52 #kJ/mol\n",
    "Δhf_MeOH = -201.2 #kJ/mol\n",
    "\n",
    "Cp_COEFS_H2_gas = {\n",
    "    'a': 2.884E-02,\n",
    "    'b': 7.650E-08,\n",
    "    'c': 3.288E-09,\n",
    "    'd': -8.698E-13\n",
    "} # gas, 0 C to 1500 C. kJ/(mol*C). Requires T in C.\n",
    "\n",
    "Cp_COEFS_CO_gas = {\n",
    "    'a': 2.895E-02,\n",
    "    'b': 4.110E-06,\n",
    "    'c': 3.548E-09,\n",
    "    'd': -2.220E-12\n",
    "} # gas, 0 C to 1501 C. kJ/(mol*C). Requires T in C.\n",
    "\n",
    "Cp_COEFS_MeOH_gas = {\n",
    "    'a': 4.293E-02,\n",
    "    'b': 8.301E-05,\n",
    "    'c': -1.870E-08,\n",
    "    'd': -8.030E-12\n",
    "} # gas, 0 C to 700 C. kJ/(mol*C). Requires T in C."
   ]
  },
  {
   "cell_type": "code",
   "execution_count": 19,
   "id": "fb77ec62-294c-442f-8aa4-d88070881cc6",
   "metadata": {},
   "outputs": [
    {
     "data": {
      "text/plain": [
       "-1940.2003483199169"
      ]
     },
     "execution_count": 19,
     "metadata": {},
     "output_type": "execute_result"
    }
   ],
   "source": [
    "Δh_H2__in = quad(lambda T: C_p(T,Cp_COEFS_H2_gas),T__in,T__STD)[0] # kJ/mol from 207 to 25 C. Negative, because heat is not needed, but released.\n",
    "Δh_CO__in = quad(lambda T: C_p(T,Cp_COEFS_CO_gas),T__in,T__STD)[0] # kJ/mol from 207 to 25 C. Negative, because heat is not needed, but released.\n",
    "\n",
    "Q̇_reactants__toSTD = Δh_H2__in * ṅ_H2__in + Δh_CO__in * ṅ_CO__in # kJ/s = kW. this will be negative, since energy is released, not generated.\n",
    "Q̇_reaction__STD = ξ * Δhf_MeOH - ξ * Δhf_CO - 2 * ξ * Δhf_H2 # kW # negative since energy is released, not needed\n",
    "\n",
    "def Q̇_products__toT(T):\n",
    "    Δh_H2__out = quad(lambda T: C_p(T,Cp_COEFS_H2_gas),T__STD,T)[0] # kJ/mol, positive since energy is needed\n",
    "    Δh_CO__out = quad(lambda T: C_p(T,Cp_COEFS_CO_gas),T__STD,T)[0] # kJ/mol, positive since energy is needed\n",
    "    Δh_MeOH__out = quad(lambda T: C_p(T,Cp_COEFS_MeOH_gas),T__STD,T)[0] # kJ/mol, positive since energy is needed\n",
    "    return Δh_H2__out * ṅ_H2__out + Δh_CO__out * ṅ_CO__out + Δh_MeOH__out * ṅ_MeOH__out # kW\n",
    "\n",
    "def Q̇(T): # Q̇ [kW], T [C], overall energy balance. Should be 0, since it's overall adiabatic\n",
    "    return Q̇_reactants__toSTD+Q̇_reaction__STD+Q̇_products__toT(T)\n",
    "\n",
    "#test the function\n",
    "Q̇(200)"
   ]
  },
  {
   "cell_type": "code",
   "execution_count": 20,
   "id": "465c3da1-b5ec-4fab-9fd5-490b9098cc86",
   "metadata": {},
   "outputs": [
    {
     "data": {
      "text/markdown": [
       "$T_\\text{out} = 833.0 C$"
      ],
      "text/plain": [
       "<IPython.core.display.Markdown object>"
      ]
     },
     "metadata": {},
     "output_type": "display_data"
    }
   ],
   "source": [
    "T__out = fsolve(Q̇,600)[0]\n",
    "display(Markdown(rf\"$T_\\text{{out}} = {T__out:.1f} C$\"))"
   ]
  },
  {
   "cell_type": "markdown",
   "id": "2d63ef21-4463-47fe-b023-7da89d798f6b",
   "metadata": {},
   "source": [
    "### PROBLEM 14\n",
    "\n",
    "> Many acids are used in the semiconductor industry to make computer chips. You are performing a safety review of the cylindrical tanks (dimensions below) that will be used to store such acids at a new semiconductor fabrication plant (fab) being built. Your task is to model how quickly acid (rho = 1.05 g/mL) will escape if a leak develops in the tank.\n",
    ">\n",
    "> ![Tank Diagram](https://learningsuite.byu.edu/plugins/Upload/fileDownload.php?fileId=d9NtUMSk_ABv&service=scout&appId=student&courseID=NWKvdiPaysDR)\n",
    "> \n",
    "> Consider a case where a hole develops at the bottom of an initially-full tank. The size of the hole increases with time as the flow erodes the tank material. The volumetric flowrate of the leak (𝑉˙, L/min) as a function of time (𝑡, min) is given by\n",
    "> $\\dot{V} \\left[\\frac{\\text{L}}{\\text{min}}\\right]= 2 + \\frac {4} {\\text{min}} t$\n",
    ">\n",
    "> How long (in minutes) does it take for half the contents of the tank to drain?\n",
    ">\n",
    "> Report your answer in the box below, and upload your work to the \"Final Exam Partial Credit\" assignment on Learning Suite."
   ]
  },
  {
   "cell_type": "markdown",
   "id": "c0a2a5c4-b555-466e-b6a2-b9519f2dfa8f",
   "metadata": {},
   "source": [
    "I'm starting by calculating the volume of liquid in the tank (V_0) at the start, then writing up a function for the leakage at a point in time. Another function allows us to use an integral to subtract the amount leaked from the original amount to give us the amount left in the tank at any point in time.\n",
    "\n",
    "We can then use fsolve to see at what point in time the tank's content will be half the original amount.\n",
    "\n",
    "As it turns out, the density is irrelevant to this problem."
   ]
  },
  {
   "cell_type": "code",
   "execution_count": 21,
   "id": "aaac828d-cd84-4922-998e-de6f8f57c143",
   "metadata": {},
   "outputs": [
    {
     "data": {
      "text/plain": [
       "3577.864669110647"
      ]
     },
     "execution_count": 21,
     "metadata": {},
     "output_type": "execute_result"
    }
   ],
   "source": [
    "ρ = 1.05 # g/mL\n",
    "D = 1.5 # m\n",
    "z = 2.5 # m\n",
    "\n",
    "# full volume\n",
    "V_0 = π*D**2/4 * z * 1000 # L from m3 (πhD^2/4)\n",
    "\n",
    "def V̇_leak(t): # V̇ [L/min], t [min]\n",
    "    return 2 + 4 * t\n",
    "\n",
    "def V_remaining(t): # V [L], t [min]\n",
    "    return V_0 - quad(V̇_leak,0,t)[0]\n",
    "\n",
    "# test the function before passing it to fsolve\n",
    "V_remaining(20)"
   ]
  },
  {
   "cell_type": "code",
   "execution_count": 22,
   "id": "21058054-01ba-4824-9d5c-2c1bebf639ec",
   "metadata": {},
   "outputs": [
    {
     "data": {
      "text/markdown": [
       "$t_\\text{half} = 32.74 \\text{ min}$"
      ],
      "text/plain": [
       "<IPython.core.display.Markdown object>"
      ]
     },
     "metadata": {},
     "output_type": "display_data"
    }
   ],
   "source": [
    "# solve for the point in time where the amount left is exactly half of the original amount\n",
    "t_half = fsolve(lambda t: (V_0/2.0 - V_remaining(t)), 20)[0]\n",
    "display(Markdown(rf\"$t_\\text{{half}} = {t_half:.2f} \\text{{ min}}$\"))"
   ]
  },
  {
   "cell_type": "code",
   "execution_count": null,
   "id": "f84cc899-009e-483b-a4f3-d180cc48f856",
   "metadata": {},
   "outputs": [],
   "source": []
  }
 ],
 "metadata": {
  "kernelspec": {
   "display_name": "Python 3 (ipykernel)",
   "language": "python",
   "name": "python3"
  },
  "language_info": {
   "codemirror_mode": {
    "name": "ipython",
    "version": 3
   },
   "file_extension": ".py",
   "mimetype": "text/x-python",
   "name": "python",
   "nbconvert_exporter": "python",
   "pygments_lexer": "ipython3",
   "version": "3.13.0"
  }
 },
 "nbformat": 4,
 "nbformat_minor": 5
}
