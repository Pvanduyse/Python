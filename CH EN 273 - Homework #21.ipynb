{
 "cells": [
  {
   "cell_type": "markdown",
   "id": "7390b19a-bc26-48f0-9fa0-0117b8ee794a",
   "metadata": {},
   "source": [
    "# CH EN 273 - Homework #21"
   ]
  },
  {
   "cell_type": "code",
   "execution_count": 1,
   "id": "f23f85d9-a361-4e1b-ac53-f3a6b065e99c",
   "metadata": {},
   "outputs": [],
   "source": [
    "import numpy as np\n",
    "π = np.pi\n",
    "import pandas as pd\n",
    "from scipy.integrate import quad\n",
    "from scipy.optimize import fsolve\n",
    "from IPython.display import display, Markdown, Latex"
   ]
  },
  {
   "cell_type": "markdown",
   "id": "e144d39e-8a73-419b-b24c-3dc2365b732b",
   "metadata": {},
   "source": [
    "## zyBooks Challenge Activity 6.10.5"
   ]
  },
  {
   "cell_type": "markdown",
   "id": "a782f29a-c6fe-4b89-83dd-fb51acb6806c",
   "metadata": {},
   "source": [
    "#### Part 1"
   ]
  },
  {
   "cell_type": "code",
   "execution_count": 2,
   "id": "80d4bffd-e883-46b3-9d65-1fb6d9a8e0df",
   "metadata": {},
   "outputs": [],
   "source": [
    "m = 0.318 #kg of water\n",
    "T_1 = 300 #C\n",
    "T_2 = 500 #C\n",
    "P = 1800 #kPa (isobarically)\n",
    "\n",
    "# Asked for ΔU and Q_12\n",
    "v_1 = 0.14025 #m^3/kg\n",
    "u_1 = 2777.4 #kJ/kg\n",
    "\n",
    "v_2 = 0.19551 #m^3/kg\n",
    "u_2 = 3118.5 #kJ/kg"
   ]
  },
  {
   "cell_type": "code",
   "execution_count": 3,
   "id": "12ab3a80-af07-4817-9155-1456c32b33bd",
   "metadata": {},
   "outputs": [
    {
     "data": {
      "text/markdown": [
       "$\\Delta{U} = 108\\space\\text{kJ}$"
      ],
      "text/plain": [
       "<IPython.core.display.Markdown object>"
      ]
     },
     "metadata": {},
     "output_type": "display_data"
    },
    {
     "data": {
      "text/markdown": [
       "$\\Delta{V} = 0.0176\\space\\text{m}^3$"
      ],
      "text/plain": [
       "<IPython.core.display.Markdown object>"
      ]
     },
     "metadata": {},
     "output_type": "display_data"
    },
    {
     "data": {
      "text/markdown": [
       "$W_{pv} = -P\\Delta{V} = -31.6\\space\\text{kJ}$"
      ],
      "text/plain": [
       "<IPython.core.display.Markdown object>"
      ]
     },
     "metadata": {},
     "output_type": "display_data"
    },
    {
     "data": {
      "text/markdown": [
       "$Q_{12} = \\Delta{U} - W_{pv} = 140\\space\\text{kJ}$"
      ],
      "text/plain": [
       "<IPython.core.display.Markdown object>"
      ]
     },
     "metadata": {},
     "output_type": "display_data"
    }
   ],
   "source": [
    "U_1 = m*u_1\n",
    "U_2 = m*u_2\n",
    "ΔU = U_2-U_1\n",
    "display(Markdown(rf\"$\\Delta{{U}} = {ΔU:.0f}\\space\\text{{kJ}}$\"))\n",
    "\n",
    "V_1 = m*v_1\n",
    "V_2 = m*v_2\n",
    "ΔV = V_2-V_1\n",
    "display(Markdown(rf\"$\\Delta{{V}} = {ΔV:.03}\\space\\text{{m}}^3$\"))\n",
    "\n",
    "W_pv = -1*P*ΔV\n",
    "display(Markdown(rf\"$W_{{pv}} = -P\\Delta{{V}} = {W_pv:0.03}\\space\\text{{kJ}}$\"))\n",
    "\n",
    "Q_12 = ΔU - W_pv\n",
    "display(Markdown(rf\"$Q_{{12}} = \\Delta{{U}} - W_{{pv}} = {Q_12:0.0f}\\space\\text{{kJ}}$\"))"
   ]
  },
  {
   "cell_type": "markdown",
   "id": "0b3bb4bd-2362-499c-8aa5-12f124e5ad21",
   "metadata": {},
   "source": [
    "#### Part 2\n",
    "\n",
    "As you increase the amount of mass in the Cylinder, the amount of work done to expand it will increase. This is easily seen if you decrease or increase mass by drastic amounts."
   ]
  },
  {
   "cell_type": "markdown",
   "id": "9685f20c-26f7-48aa-b16b-fe20f12b4782",
   "metadata": {},
   "source": [
    "## zyBooks Challenge Activity 6.10.6"
   ]
  },
  {
   "cell_type": "markdown",
   "id": "9683a610-4b33-43cb-a8a3-3e2c82a57eb0",
   "metadata": {},
   "source": [
    "#### Part 1"
   ]
  },
  {
   "cell_type": "code",
   "execution_count": 4,
   "id": "638be752-966f-425a-b5d3-e0b120688eac",
   "metadata": {},
   "outputs": [],
   "source": [
    "#steady state\n",
    "v⃗ = 261 #m/s\n",
    "T_1 = 20.3+273 #K\n",
    "P = 82.9 #kPa\n",
    "r = 0.357 #m\n",
    "MW = 29.0 #g/mol\n",
    "R =  8.314 #J/K⋅mol\n",
    "C_p = 3.5*R #J/K⋅mol"
   ]
  },
  {
   "cell_type": "code",
   "execution_count": 5,
   "id": "f5e1f751-6321-4c95-9b46-b15faf5c15bf",
   "metadata": {},
   "outputs": [
    {
     "data": {
      "text/markdown": [
       "$\\dot{V}_1 = \\vec{v}\\cdot{r}\\cdot{\\pi^2} = 1.05e+02\\space\\text{m}^3$"
      ],
      "text/plain": [
       "<IPython.core.display.Markdown object>"
      ]
     },
     "metadata": {},
     "output_type": "display_data"
    },
    {
     "data": {
      "text/markdown": [
       "$\\dot{n} = \\frac{P\\dot{V}_1}{RT_1} = 3.55\\space\\text{kmol}$"
      ],
      "text/plain": [
       "<IPython.core.display.Markdown object>"
      ]
     },
     "metadata": {},
     "output_type": "display_data"
    },
    {
     "data": {
      "text/markdown": [
       "$\\dot{m} = MW\\cdot{n} = 103\\space\\text{kg}$"
      ],
      "text/plain": [
       "<IPython.core.display.Markdown object>"
      ]
     },
     "metadata": {},
     "output_type": "display_data"
    }
   ],
   "source": [
    "A = π*r**2 #m^2\n",
    "V̇_1 = v⃗*A #m^3/s\n",
    "display(Markdown(rf\"$\\dot{{V}}_1 = \\vec{{v}}\\cdot{{r}}\\cdot{{\\pi^2}} = {V̇_1:.03}\\space\\text{{m}}^3$\"))\n",
    "\n",
    "ṅ = P*V̇_1/R/T_1 #kmol\n",
    "display(Markdown(rf\"$\\dot{{n}} = \\frac{{P\\dot{{V}}_1}}{{RT_1}} = {ṅ:.03}\\space\\text{{kmol}}$\"))\n",
    "\n",
    "ṁ = MW*ṅ #kg\n",
    "display(Markdown(rf\"$\\dot{{m}} = MW\\cdot{{n}} = {ṁ:.0f}\\space\\text{{kg}}$\"))"
   ]
  },
  {
   "cell_type": "code",
   "execution_count": 6,
   "id": "de525a8e-9d5d-4976-a605-723a050e8f6a",
   "metadata": {},
   "outputs": [
    {
     "data": {
      "text/markdown": [
       "$T_2 = T_1 + \\frac{\\vec{v}^2}{2\\cdot{C_p}} = 334\\space\\text{K}$"
      ],
      "text/plain": [
       "<IPython.core.display.Markdown object>"
      ]
     },
     "metadata": {},
     "output_type": "display_data"
    }
   ],
   "source": [
    "#ṁ*(h_1-h_2) + ṁ*0.5*v⃗**2 = 0\n",
    "#C_p(T_1-T_2) + ṁ*0.5*v⃗**2\n",
    "T_2 = T_1 + (v⃗**2)*0.5/C_p/MW\n",
    "display(Markdown(rf\"$T_2 = T_1 + \\frac{{\\vec{{v}}^2}}{{2\\cdot{{C_p}}}} = {T_2:.0f}\\space\\text{{K}}$\"))"
   ]
  },
  {
   "cell_type": "markdown",
   "id": "75d41df7-1383-4c89-965d-498b6c4676d0",
   "metadata": {},
   "source": [
    "#### Part 2\n",
    "\n",
    "As you increase the pressure, the density of the air will also increase, resulting in a larger amount of mass flowing through."
   ]
  },
  {
   "cell_type": "markdown",
   "id": "11bc1d90-4193-4fc5-b825-20fd59f3613b",
   "metadata": {},
   "source": [
    "## zyBooks Challenge Activity 6.10.10"
   ]
  },
  {
   "cell_type": "markdown",
   "id": "871f9f35-c8e4-4f97-bfe3-9b40217a9e73",
   "metadata": {},
   "source": [
    "#### Part 1"
   ]
  },
  {
   "cell_type": "code",
   "execution_count": 7,
   "id": "0d52fd89-3dd2-4313-a354-f132247c2e7d",
   "metadata": {},
   "outputs": [],
   "source": [
    "#H2O (Steam/Water) => S/W\n",
    "#C7H8 (Toluene) => T\n",
    "\n",
    "ṁ_S = 2.59/60 #kg/s\n",
    "\n",
    "P_S = 200 #kPa\n",
    "T_S = 150 #C\n",
    "h_S = 2769.1 #kJ/kg (From Steam tables)\n",
    "\n",
    "P_W = 100 #kPa\n",
    "T_W = 99.61 #C (From Saturated Water: Pressure table 1)\n",
    "h_W = 417.50 #kJ/kg\n",
    "\n",
    "ṁ_T = 43.1/60 #kg/s\n",
    "MW_T = 92.14 #g/mol\n",
    "T_1T = 20.6 #C\n",
    "T_2T = 82.5 #C\n",
    "toluene_CP_coeffs = [1.488E-01, 3.240E-04]"
   ]
  },
  {
   "cell_type": "code",
   "execution_count": 8,
   "id": "46587c22-ef6c-4aa8-bbfa-24e957f15209",
   "metadata": {},
   "outputs": [
    {
     "data": {
      "text/markdown": [
       "$\\dot{Q} = -21.6\\space\\text{kW}$"
      ],
      "text/plain": [
       "<IPython.core.display.Markdown object>"
      ]
     },
     "metadata": {},
     "output_type": "display_data"
    }
   ],
   "source": [
    "Δh_S = h_W-h_S #kJ/kg\n",
    "ΔH_S = ṁ_S*Δh_S #kJ/s\n",
    "\n",
    "def C_p(coeffs, T):\n",
    "    result = 0\n",
    "    for index in range(0,len(coeffs)):\n",
    "        result += coeffs[index]*T**index\n",
    "    return result #kJ/mol*C\n",
    "\n",
    "Δh_T = quad(lambda T: C_p(toluene_CP_coeffs,T), T_1T, T_2T)[0]/MW_T*1000 #kJ/kg\n",
    "ΔH_T = ṁ_T*Δh_T #kJ/s\n",
    "\n",
    "\n",
    "Q̇ = ΔH_S+ΔH_T\n",
    "display(Markdown(rf\"$\\dot{{Q}} = {Q̇:.03}\\space\\text{{kW}}$\"))"
   ]
  },
  {
   "cell_type": "markdown",
   "id": "69947d2f-1c36-40be-895d-c5487fbf2051",
   "metadata": {},
   "source": [
    "#### Part 2\n",
    "\n",
    "If you increase the amount of mass that is flowing through the system and being heated (without decreasing the output temperature), you are also naturally increasing the heat that is being transfered"
   ]
  },
  {
   "cell_type": "code",
   "execution_count": null,
   "id": "e2711ce2-5767-405a-8654-e897aa7c3b4f",
   "metadata": {},
   "outputs": [],
   "source": []
  }
 ],
 "metadata": {
  "kernelspec": {
   "display_name": "Python 3 (ipykernel)",
   "language": "python",
   "name": "python3"
  },
  "language_info": {
   "codemirror_mode": {
    "name": "ipython",
    "version": 3
   },
   "file_extension": ".py",
   "mimetype": "text/x-python",
   "name": "python",
   "nbconvert_exporter": "python",
   "pygments_lexer": "ipython3",
   "version": "3.13.0"
  }
 },
 "nbformat": 4,
 "nbformat_minor": 5
}
