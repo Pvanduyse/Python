{
 "cells": [
  {
   "cell_type": "markdown",
   "id": "99514765-c5cf-47f9-80a4-7d57b97e6d63",
   "metadata": {},
   "source": [
    "# CH EN 273 - Homework #21"
   ]
  },
  {
   "cell_type": "code",
   "execution_count": 1,
   "id": "f67a7783-56a8-4aa3-9f20-6bf33ce6b306",
   "metadata": {},
   "outputs": [
    {
     "name": "stdout",
     "output_type": "stream",
     "text": [
      "molecular_weights is starting import\n",
      "import completed\n"
     ]
    }
   ],
   "source": [
    "import numpy as np\n",
    "π = np.pi\n",
    "import pandas as pd\n",
    "from scipy.integrate import quad\n",
    "from scipy.optimize import fsolve\n",
    "from IPython.display import display, Markdown, Latex\n",
    "from myengineerpkg import molecular_weights as mw"
   ]
  },
  {
   "cell_type": "markdown",
   "id": "cced5038-cdca-4798-8fdc-7e61efe8dfea",
   "metadata": {},
   "source": [
    "## zyBooks Challenge Activity 3.10.3"
   ]
  },
  {
   "cell_type": "markdown",
   "id": "a21c8090-f18b-4a20-b5a1-b9f644f00341",
   "metadata": {},
   "source": [
    "#### Part 1\n",
    "- Butane ($C_4H_{10}$): B\n",
    "- Air: A\n",
    "- Nitrogen ($N_2$): N\n",
    "- Oxygen ($O_2$): O\n",
    "- Water ($H_2O$): W\n",
    "- Carbon Dioxide ($CO_2$): C\n",
    "\n",
    "$$\n",
    "2C_4H_{10} + 13O_2 \\rightarrow 10H_2O + 8CO_2\n",
    "$$"
   ]
  },
  {
   "cell_type": "code",
   "execution_count": 2,
   "id": "083549bc-31b4-48d6-989c-b4ede8f29604",
   "metadata": {},
   "outputs": [],
   "source": [
    "ṁ_1B = 1960 #mg/day\n",
    "MW_B = mw.by_formula(\"C4H10\") #mg/mmol\n",
    "ṅ_1B = ṁ_1B/MW_B #mmol/day\n",
    "excess_air = 2.67 #267%\n",
    "ξ = ṅ_1B/2 #mmol/day"
   ]
  },
  {
   "cell_type": "code",
   "execution_count": 5,
   "id": "4ba44b80-5542-4c26-bde0-f2639b194b0a",
   "metadata": {},
   "outputs": [
    {
     "data": {
      "text/markdown": [
       "\n",
       "$$\\dot{n}_{2,CO_2} = 135 \\space\\frac{\\text{mmol}}{\\text{day}}$$\n",
       "$$\\dot{n}_{2,O_2} = 585 \\space\\frac{\\text{mmol}}{\\text{day}}$$\n",
       "$$\\dot{n}_{2,H_2O} = 169 \\space\\frac{\\text{mmol}}{\\text{day}}$$\n"
      ],
      "text/plain": [
       "<IPython.core.display.Markdown object>"
      ]
     },
     "metadata": {},
     "output_type": "display_data"
    }
   ],
   "source": [
    "ṅ_2C = 8*ξ\n",
    "ṅ_2O = 13*ξ*excess_air\n",
    "ṅ_2W = 10*ξ\n",
    "display(Markdown(rf\"\"\"\n",
    "$$\\dot{{n}}_{{2,CO_2}} = {ṅ_2C:.0f} \\space\\frac{{\\text{{mmol}}}}{{\\text{{day}}}}$$\n",
    "$$\\dot{{n}}_{{2,O_2}} = {ṅ_2O:.0f} \\space\\frac{{\\text{{mmol}}}}{{\\text{{day}}}}$$\n",
    "$$\\dot{{n}}_{{2,H_2O}} = {ṅ_2W:.0f} \\space\\frac{{\\text{{mmol}}}}{{\\text{{day}}}}$$\n",
    "\"\"\"))"
   ]
  },
  {
   "cell_type": "markdown",
   "id": "3a1281f7-d8a7-4ba8-9c70-9cde451bc35e",
   "metadata": {},
   "source": [
    "#### Part 2\n",
    "If you are feeding less air (your only source of oxygen) then (as it is an excess reactant) there will be less air in your outlet stream."
   ]
  },
  {
   "cell_type": "markdown",
   "id": "7cd3f5c5-feb3-42ae-a716-d60d6a015ef2",
   "metadata": {},
   "source": [
    "## zyBooks Challenge Activity 3.10.4"
   ]
  },
  {
   "cell_type": "markdown",
   "id": "9e6c29c9-4348-4c24-bd3d-1e602c73156d",
   "metadata": {},
   "source": [
    "#### Part 1\n",
    "- Acetic Acid ($CH_3$): B\n",
    "- Air: A\n",
    "- Nitrogen ($N_2$): N\n",
    "- Oxygen ($O_2$): O\n",
    "- Water ($H_2O$): W\n",
    "- Carbon Dioxide ($CO_2$): C\n",
    "\n",
    "$$\n",
    "2C_4H_{10} + 13O_2 \\rightarrow 10H_2O + 8CO_2\n",
    "$$"
   ]
  },
  {
   "cell_type": "markdown",
   "id": "68edb6a8-00db-4859-bc9c-d38359aae9f4",
   "metadata": {},
   "source": [
    "## zyBooks Challenge Activity 3.10.8"
   ]
  },
  {
   "cell_type": "code",
   "execution_count": null,
   "id": "311bbae5-f765-42ae-a1af-ff5d2c9de197",
   "metadata": {},
   "outputs": [],
   "source": []
  },
  {
   "cell_type": "markdown",
   "id": "309123e7-da16-44e7-910e-070ce7fd4309",
   "metadata": {},
   "source": [
    "## zyBooks Challenge Activity 3.10.10"
   ]
  },
  {
   "cell_type": "code",
   "execution_count": null,
   "id": "79307676-87b3-4d15-9632-4a32438d3766",
   "metadata": {},
   "outputs": [],
   "source": []
  }
 ],
 "metadata": {
  "kernelspec": {
   "display_name": "Python 3 (ipykernel)",
   "language": "python",
   "name": "python3"
  },
  "language_info": {
   "codemirror_mode": {
    "name": "ipython",
    "version": 3
   },
   "file_extension": ".py",
   "mimetype": "text/x-python",
   "name": "python",
   "nbconvert_exporter": "python",
   "pygments_lexer": "ipython3",
   "version": "3.13.0"
  }
 },
 "nbformat": 4,
 "nbformat_minor": 5
}
