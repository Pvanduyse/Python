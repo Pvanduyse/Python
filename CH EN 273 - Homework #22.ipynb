{
 "cells": [
  {
   "cell_type": "markdown",
   "id": "99514765-c5cf-47f9-80a4-7d57b97e6d63",
   "metadata": {},
   "source": [
    "# CH EN 273 - Homework #22"
   ]
  },
  {
   "cell_type": "code",
   "execution_count": 1,
   "id": "f67a7783-56a8-4aa3-9f20-6bf33ce6b306",
   "metadata": {},
   "outputs": [
    {
     "name": "stdout",
     "output_type": "stream",
     "text": [
      "molecular_weights is starting import\n",
      "import completed\n"
     ]
    }
   ],
   "source": [
    "import numpy as np\n",
    "π = np.pi\n",
    "import pandas as pd\n",
    "from scipy.integrate import quad\n",
    "from scipy.optimize import fsolve\n",
    "from IPython.display import display, Markdown, Latex\n",
    "from myengineerpkg import molecular_weights as mw"
   ]
  },
  {
   "cell_type": "markdown",
   "id": "cced5038-cdca-4798-8fdc-7e61efe8dfea",
   "metadata": {},
   "source": [
    "## zyBooks Challenge Activity 3.10.3"
   ]
  },
  {
   "cell_type": "markdown",
   "id": "a21c8090-f18b-4a20-b5a1-b9f644f00341",
   "metadata": {},
   "source": [
    "#### Part 1\n",
    "- Butane ($C_4H_{10}$): B\n",
    "- Air: A\n",
    "- Nitrogen ($N_2$): N\n",
    "- Oxygen ($O_2$): O\n",
    "- Water ($H_2O$): W\n",
    "- Carbon Dioxide ($CO_2$): C\n",
    "\n",
    "$$\n",
    "2C_4H_{10} + 13O_2 \\rightarrow 10H_2O + 8CO_2\n",
    "$$"
   ]
  },
  {
   "cell_type": "code",
   "execution_count": 2,
   "id": "083549bc-31b4-48d6-989c-b4ede8f29604",
   "metadata": {},
   "outputs": [],
   "source": [
    "ṁ_1B = 1960 #mg/day\n",
    "MW_B = mw.by_formula(\"C4H10\") #mg/mmol\n",
    "ṅ_1B = ṁ_1B/MW_B #mmol/day\n",
    "excess_air = 2.67 #267%\n",
    "ξ = ṅ_1B/2 #mmol/day"
   ]
  },
  {
   "cell_type": "code",
   "execution_count": 5,
   "id": "4ba44b80-5542-4c26-bde0-f2639b194b0a",
   "metadata": {},
   "outputs": [
    {
     "data": {
      "text/markdown": [
       "\n",
       "$$\\dot{n}_{2,CO_2} = 135 \\space\\frac{\\text{mmol}}{\\text{day}}$$\n",
       "$$\\dot{n}_{2,O_2} = 585 \\space\\frac{\\text{mmol}}{\\text{day}}$$\n",
       "$$\\dot{n}_{2,H_2O} = 169 \\space\\frac{\\text{mmol}}{\\text{day}}$$\n"
      ],
      "text/plain": [
       "<IPython.core.display.Markdown object>"
      ]
     },
     "metadata": {},
     "output_type": "display_data"
    }
   ],
   "source": [
    "ṅ_2C = 8*ξ\n",
    "ṅ_2O = 13*ξ*excess_air\n",
    "ṅ_2W = 10*ξ\n",
    "display(Markdown(rf\"\"\"\n",
    "$$\\dot{{n}}_{{2,CO_2}} = {ṅ_2C:.0f} \\space\\frac{{\\text{{mmol}}}}{{\\text{{day}}}}$$\n",
    "$$\\dot{{n}}_{{2,O_2}} = {ṅ_2O:.0f} \\space\\frac{{\\text{{mmol}}}}{{\\text{{day}}}}$$\n",
    "$$\\dot{{n}}_{{2,H_2O}} = {ṅ_2W:.0f} \\space\\frac{{\\text{{mmol}}}}{{\\text{{day}}}}$$\n",
    "\"\"\"))"
   ]
  },
  {
   "cell_type": "markdown",
   "id": "3a1281f7-d8a7-4ba8-9c70-9cde451bc35e",
   "metadata": {},
   "source": [
    "#### Part 2\n",
    "If you are feeding less air (your only source of oxygen) then (as it is an excess reactant) there will be less air in your outlet stream."
   ]
  },
  {
   "cell_type": "markdown",
   "id": "7cd3f5c5-feb3-42ae-a716-d60d6a015ef2",
   "metadata": {},
   "source": [
    "## zyBooks Challenge Activity 3.10.4"
   ]
  },
  {
   "cell_type": "markdown",
   "id": "9e6c29c9-4348-4c24-bd3d-1e602c73156d",
   "metadata": {},
   "source": [
    "#### Part 1\n",
    "\n",
    ">Blaise and Agatha are investigating parallel gas phase reactions between acetic acid (AA, $C_2H_4O_2$) and hydrogen (H, $H_2$). The reaction products are ethanol (E, $C_2H_6O$) and water (W, $H_2O$) for the first reaction, and ethyl acetate (EA, $C_4H_8O_2$) and water for the second reaction. The reactor operates at steady state with 164 mol/min acetic acid and 102 mol/min hydrogen entering at 101 C. The reactor effluent exits at 251 C. The conversion of acetic acid is measured as 39.2%, and the conversion of hydrogen is 81.5%. Using atom balances, determine some unknown component molar flow rates."
   ]
  },
  {
   "cell_type": "markdown",
   "id": "ade35cdb-ab2f-41bd-87a4-97797c193c3a",
   "metadata": {},
   "source": [
    "- Acetic Acid ($C_2H_4O_2$): AA\n",
    "- Hydrogen ($H_2$): H\n",
    "- Ethanol ($C_2H_6O$): E\n",
    "- Water ($H_2O$): W\n",
    "- Ethyl Acetate ($C_4H_8O_2$): EA\n",
    "\n",
    "$$\n",
    "\\xi_1: C_2H_4O_2 + 2H_2 \\rightarrow C_2H_6O + H_2O\n",
    "$$\n",
    "$$\n",
    "\\xi_2: 2C_2H_4O_2 + 2H_2 \\rightarrow C_4H_8O_2 + 2H_2O\n",
    "$$\n"
   ]
  },
  {
   "cell_type": "code",
   "execution_count": 25,
   "id": "6d05f2dc-f9b2-48c4-aed0-8001bfbb1cdb",
   "metadata": {},
   "outputs": [
    {
     "data": {
      "text/plain": [
       "16.622"
      ]
     },
     "metadata": {},
     "output_type": "display_data"
    },
    {
     "data": {
      "text/plain": [
       "21.372999999999998"
      ]
     },
     "metadata": {},
     "output_type": "display_data"
    }
   ],
   "source": [
    "ṅ_AA__in = 164 # mol / min\n",
    "ṅ_H__in = 102 # mol / min\n",
    "f_AA = 0.362\n",
    "f_H = 0.745\n",
    "\n",
    "# ξ1 + 2*ξ2 = f_AA*ṅ_AA__in\n",
    "# 2*ξ1 + 2*ξ2 = f_H*ṅ_H__in\n",
    "ξ1 = f_H*ṅ_H__in - f_AA*ṅ_AA__in\n",
    "ξ2 = (f_AA*ṅ_AA__in - ξ1)/2\n",
    "\n",
    "ṅ_AA__out = (1-f_AA)*ṅ_AA__in\n",
    "ṅ_H__out = (1-f_H)*ṅ_H__in\n",
    "ṅ_E__out = ξ1\n",
    "ṅ_W__out = ξ1 + 2*ξ2\n",
    "ṅ_EA__out = ξ2\n",
    "\n",
    "ṅ_in = ṅ_AA__in + ṅ_H__in\n",
    "ṅ_out = ṅ_AA__out + ṅ_H__out + ṅ_E__out + ṅ_W__out + ṅ_EA__out\n",
    "\n",
    "display(ξ1)\n",
    "display(ξ2)"
   ]
  },
  {
   "cell_type": "markdown",
   "id": "68edb6a8-00db-4859-bc9c-d38359aae9f4",
   "metadata": {},
   "source": [
    "## zyBooks Challenge Activity 3.10.8"
   ]
  },
  {
   "cell_type": "code",
   "execution_count": null,
   "id": "311bbae5-f765-42ae-a1af-ff5d2c9de197",
   "metadata": {},
   "outputs": [],
   "source": []
  },
  {
   "cell_type": "markdown",
   "id": "309123e7-da16-44e7-910e-070ce7fd4309",
   "metadata": {},
   "source": [
    "## zyBooks Challenge Activity 3.10.10"
   ]
  },
  {
   "cell_type": "code",
   "execution_count": null,
   "id": "79307676-87b3-4d15-9632-4a32438d3766",
   "metadata": {},
   "outputs": [],
   "source": []
  }
 ],
 "metadata": {
  "kernelspec": {
   "display_name": "Python 3 (ipykernel)",
   "language": "python",
   "name": "python3"
  },
  "language_info": {
   "codemirror_mode": {
    "name": "ipython",
    "version": 3
   },
   "file_extension": ".py",
   "mimetype": "text/x-python",
   "name": "python",
   "nbconvert_exporter": "python",
   "pygments_lexer": "ipython3",
   "version": "3.13.0"
  }
 },
 "nbformat": 4,
 "nbformat_minor": 5
}
