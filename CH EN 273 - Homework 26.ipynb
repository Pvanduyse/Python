{
 "cells": [
  {
   "cell_type": "code",
   "execution_count": 2,
   "id": "3303d26c-945d-4c40-9603-06d005a17ddf",
   "metadata": {},
   "outputs": [
    {
     "name": "stdout",
     "output_type": "stream",
     "text": [
      "molecular_weights is starting import\n",
      "import completed\n"
     ]
    }
   ],
   "source": [
    "import numpy as np\n",
    "π = np.pi\n",
    "import pandas as pd\n",
    "from scipy.integrate import quad\n",
    "from scipy.optimize import fsolve\n",
    "from IPython.display import display, Markdown, Latex\n",
    "from myengineerpkg import molecular_weights as mw"
   ]
  },
  {
   "cell_type": "code",
   "execution_count": 3,
   "id": "925ff4e6-ddce-441b-ab4c-6da917931417",
   "metadata": {},
   "outputs": [
    {
     "data": {
      "text/html": [
       "<div>\n",
       "<style scoped>\n",
       "    .dataframe tbody tr th:only-of-type {\n",
       "        vertical-align: middle;\n",
       "    }\n",
       "\n",
       "    .dataframe tbody tr th {\n",
       "        vertical-align: top;\n",
       "    }\n",
       "\n",
       "    .dataframe thead th {\n",
       "        text-align: right;\n",
       "    }\n",
       "</style>\n",
       "<table border=\"1\" class=\"dataframe\">\n",
       "  <thead>\n",
       "    <tr style=\"text-align: right;\">\n",
       "      <th></th>\n",
       "      <th>C3H8</th>\n",
       "      <th>O2</th>\n",
       "      <th>N2</th>\n",
       "      <th>CO2</th>\n",
       "      <th>H2O</th>\n",
       "    </tr>\n",
       "  </thead>\n",
       "  <tbody>\n",
       "    <tr>\n",
       "      <th>1</th>\n",
       "      <td>100</td>\n",
       "      <td>0</td>\n",
       "      <td>0</td>\n",
       "      <td>0</td>\n",
       "      <td>0</td>\n",
       "    </tr>\n",
       "    <tr>\n",
       "      <th>2</th>\n",
       "      <td>0</td>\n",
       "      <td>600</td>\n",
       "      <td>2256</td>\n",
       "      <td>0</td>\n",
       "      <td>0</td>\n",
       "    </tr>\n",
       "    <tr>\n",
       "      <th>3</th>\n",
       "      <td>0</td>\n",
       "      <td>100</td>\n",
       "      <td>2256</td>\n",
       "      <td>300</td>\n",
       "      <td>400</td>\n",
       "    </tr>\n",
       "  </tbody>\n",
       "</table>\n",
       "</div>"
      ],
      "text/plain": [
       "   C3H8   O2    N2  CO2  H2O\n",
       "1   100    0     0    0    0\n",
       "2     0  600  2256    0    0\n",
       "3     0  100  2256  300  400"
      ]
     },
     "metadata": {},
     "output_type": "display_data"
    }
   ],
   "source": [
    "ṅ = {\n",
    "    \"C3H8\": [100,  0,     0    ],\n",
    "    \"O2\":   [0,    600,   100  ],\n",
    "    \"N2\":   [0,    2256,  2256 ],\n",
    "    \"CO2\":  [0,    0,     300  ],\n",
    "    \"H2O\":  [0,    0,     400  ]\n",
    "}\n",
    "ṅ = pd.DataFrame(ṅ, index = range(1,4))\n",
    "display(ṅ)"
   ]
  },
  {
   "cell_type": "code",
   "execution_count": null,
   "id": "681f8401-cb03-49d5-8083-ba7526966c5a",
   "metadata": {},
   "outputs": [],
   "source": []
  }
 ],
 "metadata": {
  "kernelspec": {
   "display_name": "Python 3 (ipykernel)",
   "language": "python",
   "name": "python3"
  },
  "language_info": {
   "codemirror_mode": {
    "name": "ipython",
    "version": 3
   },
   "file_extension": ".py",
   "mimetype": "text/x-python",
   "name": "python",
   "nbconvert_exporter": "python",
   "pygments_lexer": "ipython3",
   "version": "3.13.0"
  }
 },
 "nbformat": 4,
 "nbformat_minor": 5
}
