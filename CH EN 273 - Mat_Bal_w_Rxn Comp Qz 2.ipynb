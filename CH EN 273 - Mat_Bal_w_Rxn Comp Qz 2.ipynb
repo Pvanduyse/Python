{
 "cells": [
  {
   "cell_type": "markdown",
   "id": "2c3397d6-35b1-40b9-a5e1-08313b6d1ab2",
   "metadata": {},
   "source": [
    "# CH EN 273 - Mat Bal w/Rxns Comp Qz 2"
   ]
  },
  {
   "cell_type": "code",
   "execution_count": 1,
   "id": "0e3978b7-f9c2-4fe2-8626-5b0c5f06fa88",
   "metadata": {},
   "outputs": [],
   "source": [
    "import numpy as np\n",
    "π = np.pi\n",
    "import pandas as pd\n",
    "from scipy.integrate import quad\n",
    "from scipy.optimize import fsolve\n",
    "from IPython.display import display, Markdown, Latex"
   ]
  },
  {
   "cell_type": "markdown",
   "id": "62fe9e15-708e-4c3f-8837-16fd1dffd70b",
   "metadata": {},
   "source": [
    "> Homes in remote places, far from natural gas lines, are often heated with propane. The propane is stored in a large tank on the property and periodically refilled as needed.\n",
    "Propane (MW = 44.097 g/mol) is being fed at a rate of 0.5 mol/hr to a heater of a cabin in a remote part of Alaska. To ensure efficient burning, air is supplied in 96% excess, and no CO is present in the products. If the conversion of propane is 97%, what is the mole fraction of CO2 in the exhaust?\n",
    ">\n",
    "> (Two streams, one pure propane and the other air, enter the furnace, and one exits.)\n",
    ">\n",
    "> Report your answer as a percentage to 1 decimal place accuracy."
   ]
  },
  {
   "cell_type": "markdown",
   "id": "83afd7fe-a939-43cc-915b-7fb6f0b89261",
   "metadata": {},
   "source": [
    "#### Stream 1 (Propane)\n",
    "- Propane: 100% P\n",
    "\n",
    "#### Stream 2 (Air)\n",
    "- Oxygen: 21% O\n",
    "- Inert (N2, Ar, etc): 79% I\n",
    "\n",
    "#### Stream 3 (Outlet)\n",
    "- Propane: P\n",
    "- Oxygen: O\n",
    "- Inert: I\n",
    "- Water: W\n",
    "- Carbon Dioxide: C\n",
    "\n",
    "$$\n",
    "C_3H_8 + 5O_2 \\rightarrow 3CO_2 + 4H_2O\n",
    "$$"
   ]
  },
  {
   "cell_type": "code",
   "execution_count": 2,
   "id": "03d34ce0-112a-4dbd-ac39-686aa3b952e6",
   "metadata": {},
   "outputs": [],
   "source": [
    "MW_P = 44.097 #g/mol\n",
    "ṅ1_P = 0.5 #mol/hr\n",
    "f_conv_P = 0.97\n",
    "x2_O = 0.21\n",
    "f_excess_O = 0.96"
   ]
  },
  {
   "cell_type": "code",
   "execution_count": 3,
   "id": "9ba460c5-ec63-4f99-9d26-0541e1df35a2",
   "metadata": {},
   "outputs": [],
   "source": [
    "# get the oxygen supply\n",
    "ṅ_stoic_O = ṅ1_P*5\n",
    "ṅ2_O = (1+f_excess_O) * ṅ_stoic_O\n",
    "\n",
    "# calculate inert gas flow rates from oxygen flow rate\n",
    "ṅ2 = ṅ2_O/0.21\n",
    "ṅ2_I = ṅ2 - ṅ2_O"
   ]
  },
  {
   "cell_type": "code",
   "execution_count": 4,
   "id": "833b2325-ca33-4bbf-a1ab-59b40593e8ac",
   "metadata": {},
   "outputs": [],
   "source": [
    "#get ksee from the conversion of Propane\n",
    "ṅ3_P = (1-f_conv_P)*ṅ1_P\n",
    "ξ = ṅ1_P - ṅ3_P\n",
    "\n",
    "# calculate outlets of reacting materials from mass balances\n",
    "ṅ3_O = ṅ2_O - 5*ξ\n",
    "ṅ3_C = 3*ξ\n",
    "ṅ3_W = 4*ξ\n",
    "\n",
    "# calculate outlets of inert gases from mass balances\n",
    "ṅ3_I = ṅ2_I\n",
    "\n",
    "ṅ3 = ṅ3_P + ṅ3_O + ṅ3_I + ṅ3_C + ṅ3_W"
   ]
  },
  {
   "cell_type": "code",
   "execution_count": 11,
   "id": "5e2be18f-86c9-4201-912d-414f67ecfaf3",
   "metadata": {},
   "outputs": [
    {
     "data": {
      "text/markdown": [
       "$x_{3,CO_2} = 6.0\\%$"
      ],
      "text/plain": [
       "<IPython.core.display.Markdown object>"
      ]
     },
     "metadata": {},
     "output_type": "display_data"
    },
    {
     "data": {
      "text/markdown": [
       "$x_{3,H_2O} = 8.0\\%$"
      ],
      "text/plain": [
       "<IPython.core.display.Markdown object>"
      ]
     },
     "metadata": {},
     "output_type": "display_data"
    },
    {
     "data": {
      "text/markdown": [
       "$x_{3,C_3H_8} = 0.1\\%$"
      ],
      "text/plain": [
       "<IPython.core.display.Markdown object>"
      ]
     },
     "metadata": {},
     "output_type": "display_data"
    },
    {
     "data": {
      "text/markdown": [
       "$x_{3,O_2} = 10.2\\%$"
      ],
      "text/plain": [
       "<IPython.core.display.Markdown object>"
      ]
     },
     "metadata": {},
     "output_type": "display_data"
    },
    {
     "data": {
      "text/markdown": [
       "$x_{3,inert} = 75.8\\%$"
      ],
      "text/plain": [
       "<IPython.core.display.Markdown object>"
      ]
     },
     "metadata": {},
     "output_type": "display_data"
    }
   ],
   "source": [
    "x3_C = ṅ3_C/ṅ3\n",
    "x3_W = ṅ3_W/ṅ3\n",
    "x3_P = ṅ3_P/ṅ3\n",
    "x3_O = ṅ3_O/ṅ3\n",
    "x3_I = ṅ3_I/ṅ3\n",
    "\n",
    "display(Markdown(rf\"$x_{{3,CO_2}} = {x3_C*100:.1f}\\%$\"))\n",
    "display(Markdown(rf\"$x_{{3,H_2O}} = {x3_W*100:.1f}\\%$\"))\n",
    "display(Markdown(rf\"$x_{{3,C_3H_8}} = {x3_P*100:.1f}\\%$\"))\n",
    "display(Markdown(rf\"$x_{{3,O_2}} = {x3_O*100:.1f}\\%$\"))\n",
    "display(Markdown(rf\"$x_{{3,inert}} = {x3_I*100:.1f}\\%$\"))"
   ]
  },
  {
   "cell_type": "code",
   "execution_count": null,
   "id": "0511e200-e383-433a-a088-5e1b416ef49e",
   "metadata": {},
   "outputs": [],
   "source": []
  }
 ],
 "metadata": {
  "kernelspec": {
   "display_name": "Python 3 (ipykernel)",
   "language": "python",
   "name": "python3"
  },
  "language_info": {
   "codemirror_mode": {
    "name": "ipython",
    "version": 3
   },
   "file_extension": ".py",
   "mimetype": "text/x-python",
   "name": "python",
   "nbconvert_exporter": "python",
   "pygments_lexer": "ipython3",
   "version": "3.13.0"
  }
 },
 "nbformat": 4,
 "nbformat_minor": 5
}
