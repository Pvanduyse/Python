{
 "cells": [
  {
   "cell_type": "code",
   "execution_count": 1,
   "id": "9d2821e3-1972-4a07-a84e-fe87abccf9a1",
   "metadata": {},
   "outputs": [],
   "source": [
    "import sys\n",
    "sys.path.insert(2, r'../Modules')\n",
    "import numpy as np\n",
    "import linear_algebra as lin\n",
    "import matrix as mtx\n",
    "import conversions as conv\n",
    "import molecular_weights as mw"
   ]
  },
  {
   "cell_type": "code",
   "execution_count": 2,
   "id": "7fccc598-3aa6-4c6c-9a07-e560277bffce",
   "metadata": {},
   "outputs": [],
   "source": [
    "def mole_frac_from_mass_frac(FORMULAS, MASS_FRAC):\n",
    "    avg_mw = mw.from_mass_frac(FORMULAS, MASS_FRAC)\n",
    "    return (MASS_FRAC/mw.by_formula(FORMULAS))*avg_mw\n",
    "def mass_frac_from_mole_frac(FORMULAS, MOLE_FRAC):\n",
    "    avg_mw = mw.from_mole_frac(FORMULAS, MOLE_FRAC)\n",
    "    return mw.by_formula(FORMULAS)*MOLE_FRAC/avg_mw"
   ]
  },
  {
   "cell_type": "code",
   "execution_count": 3,
   "id": "5e100f33-0914-4f81-b72d-f5f88643f69f",
   "metadata": {},
   "outputs": [],
   "source": [
    "formulas = [\"CO2\",\"CH4\",\"C2H6\",\"H2O\"]"
   ]
  },
  {
   "cell_type": "code",
   "execution_count": 4,
   "id": "f23faeeb-18a1-4220-8bc2-15033185585b",
   "metadata": {},
   "outputs": [
    {
     "name": "stdout",
     "output_type": "stream",
     "text": [
      "Mass fractions\n",
      "CO2: 0.357\n",
      "CH4: 0.326\n",
      "C2H6: 0.244\n",
      "H2O: 0.073\n"
     ]
    }
   ],
   "source": [
    "mass_fractions = mass_frac_from_mole_frac(formulas, [0.2,0.5,0.2,0.1])\n",
    "print(\"Mass fractions\")\n",
    "for i in range(len(formulas)):\n",
    "    print(\"{Form}: {Mass_frac:.3f}\".format(Form = formulas[i], Mass_frac = mass_fractions[i]))"
   ]
  },
  {
   "cell_type": "code",
   "execution_count": 5,
   "id": "8adddd5a-300f-4d5c-971d-79b7077b6509",
   "metadata": {},
   "outputs": [
    {
     "name": "stdout",
     "output_type": "stream",
     "text": [
      "Mole fractions\n",
      "CO2: 0.0948\n",
      "CH4: 0.6505\n",
      "C2H6: 0.1388\n",
      "H2O: 0.1159\n"
     ]
    }
   ],
   "source": [
    "mole_fractions = mole_frac_from_mass_frac(formulas, [0.2,0.5,0.2,0.1])\n",
    "print(\"Mole fractions\")\n",
    "for i in range(len(formulas)):\n",
    "    print(\"{Form}: {Mole_frac:.4f}\".format(Form = formulas[i], Mole_frac = mole_fractions[i]))"
   ]
  },
  {
   "cell_type": "code",
   "execution_count": 6,
   "id": "80392003-dbff-457c-8f59-f4259b79d64f",
   "metadata": {},
   "outputs": [
    {
     "name": "stdout",
     "output_type": "stream",
     "text": [
      "N2:\n",
      "\tMole Fraction: 7.808e-01\n",
      "\tMass Fraction: 7.551e-01\n",
      "O2:\n",
      "\tMole Fraction: 2.095e-01\n",
      "\tMass Fraction: 2.314e-01\n",
      "Ar:\n",
      "\tMole Fraction: 9.340e-03\n",
      "\tMass Fraction: 1.288e-02\n",
      "CO2:\n",
      "\tMole Fraction: 4.120e-04\n",
      "\tMass Fraction: 6.259e-04\n",
      "Ne:\n",
      "\tMole Fraction: 1.818e-05\n",
      "\tMass Fraction: 1.266e-05\n",
      "He:\n",
      "\tMole Fraction: 5.240e-06\n",
      "\tMass Fraction: 7.240e-07\n",
      "CH4:\n",
      "\tMole Fraction: 1.790e-06\n",
      "\tMass Fraction: 9.913e-07\n",
      "Kr:\n",
      "\tMole Fraction: 1.000e-06\n",
      "\tMass Fraction: 2.893e-06\n",
      "H2:\n",
      "\tMole Fraction: 5.000e-07\n",
      "\tMass Fraction: 3.480e-08\n",
      "Xe:\n",
      "\tMole Fraction: 9.000e-08\n",
      "\tMass Fraction: 4.079e-07\n"
     ]
    }
   ],
   "source": [
    "air_formulas = [\"N2\",\"O2\",\"Ar\",\"CO2\",\"Ne\",\"He\",\"CH4\",\"Kr\",\"H2\",\"Xe\"]\n",
    "air_mole_fractions = [0.78084, 0.20946,0.00934,0.000412,0.00001818,0.00000524,0.00000179,0.0000010,0.0000005,0.00000009]\n",
    "air_mass_fractions = mass_frac_from_mole_frac(air_formulas, air_mole_fractions)\n",
    "for i in range(len(air_formulas)):\n",
    "    print(\"{Form}:\\n\\tMole Fraction: {Mole_frac:.3e}\\n\\tMass Fraction: {Mass_frac:.3e}\".format(\n",
    "        Form = air_formulas[i],\n",
    "        Mole_frac = air_mole_fractions[i],\n",
    "        Mass_frac = air_mass_fractions[i]\n",
    "    ))"
   ]
  },
  {
   "cell_type": "code",
   "execution_count": null,
   "id": "af825302-b92d-41aa-a21b-a70609c4581f",
   "metadata": {},
   "outputs": [],
   "source": []
  }
 ],
 "metadata": {
  "kernelspec": {
   "display_name": "Python 3 (ipykernel)",
   "language": "python",
   "name": "python3"
  },
  "language_info": {
   "codemirror_mode": {
    "name": "ipython",
    "version": 3
   },
   "file_extension": ".py",
   "mimetype": "text/x-python",
   "name": "python",
   "nbconvert_exporter": "python",
   "pygments_lexer": "ipython3",
   "version": "3.8.10"
  }
 },
 "nbformat": 4,
 "nbformat_minor": 5
}
