{
 "cells": [
  {
   "cell_type": "code",
   "execution_count": 1,
   "id": "9d2821e3-1972-4a07-a84e-fe87abccf9a1",
   "metadata": {},
   "outputs": [],
   "source": [
    "import sys\n",
    "sys.path.insert(2, r'../Modules')\n",
    "import numpy as np\n",
    "import linear_algebra as lin\n",
    "import matrix as mtx\n",
    "import conversions as conv\n",
    "import molecular_weights as mw"
   ]
  },
  {
   "cell_type": "code",
   "execution_count": 2,
   "id": "5e100f33-0914-4f81-b72d-f5f88643f69f",
   "metadata": {},
   "outputs": [],
   "source": [
    "formulas = [\"CO2\",\"CH4\",\"C2H6\",\"H2O\"]\n",
    "mole_fractions = np.array([0.2,0.5,0.2,0.1])\n",
    "mass_fractions = mw.by_formula(formulas)*mole_fractions/np.sum(mw.by_formula(formulas)*mole_fractions)"
   ]
  },
  {
   "cell_type": "code",
   "execution_count": 3,
   "id": "f23faeeb-18a1-4220-8bc2-15033185585b",
   "metadata": {},
   "outputs": [
    {
     "name": "stdout",
     "output_type": "stream",
     "text": [
      "Mass fractions\n",
      "CO2: 0.357\n",
      "CH4: 0.326\n",
      "C2H6: 0.244\n",
      "H2O: 0.073\n"
     ]
    }
   ],
   "source": [
    "print(\"Mass fractions\")\n",
    "for i in range(len(formulas)):\n",
    "    print(\"{Form}: {Mass_frac:.3f}\".format(Form = formulas[i], Mass_frac = mass_fractions[i]))"
   ]
  },
  {
   "cell_type": "code",
   "execution_count": 4,
   "id": "eef63a29-c885-45a1-aed6-12f91d15db32",
   "metadata": {},
   "outputs": [],
   "source": [
    "formulas = [\"CO2\",\"CH4\",\"C2H6\",\"H2O\"]\n",
    "mass_fractions = np.array([0.2,0.5,0.2,0.1])\n",
    "mole_fractions = (mass_fractions/mw.by_formula(formulas))/np.sum(mass_fractions/mw.by_formula(formulas))"
   ]
  },
  {
   "cell_type": "code",
   "execution_count": 5,
   "id": "03511568-ef34-4f28-a109-a88e8e8b1f04",
   "metadata": {},
   "outputs": [
    {
     "name": "stdout",
     "output_type": "stream",
     "text": [
      "Mole fractions\n",
      "CO2: 0.0948\n",
      "CH4: 0.6505\n",
      "C2H6: 0.1388\n",
      "H2O: 0.1159\n"
     ]
    }
   ],
   "source": [
    "print(\"Mole fractions\")\n",
    "for i in range(len(formulas)):\n",
    "    print(\"{Form}: {Mole_frac:.4f}\".format(Form = formulas[i], Mole_frac = mole_fractions[i]))"
   ]
  },
  {
   "cell_type": "code",
   "execution_count": null,
   "id": "3b7014d3-b413-465a-829f-5e8654e66190",
   "metadata": {},
   "outputs": [],
   "source": []
  }
 ],
 "metadata": {
  "kernelspec": {
   "display_name": "Python 3 (ipykernel)",
   "language": "python",
   "name": "python3"
  },
  "language_info": {
   "codemirror_mode": {
    "name": "ipython",
    "version": 3
   },
   "file_extension": ".py",
   "mimetype": "text/x-python",
   "name": "python",
   "nbconvert_exporter": "python",
   "pygments_lexer": "ipython3",
   "version": "3.8.10"
  }
 },
 "nbformat": 4,
 "nbformat_minor": 5
}
