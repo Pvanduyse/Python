{
 "cells": [
  {
   "cell_type": "markdown",
   "id": "ec89d5e5-a50b-4a85-95cb-f25646ee388a",
   "metadata": {},
   "source": [
    "<span style=\"font-family:Times; font-size:3em; font-weight:bold\">\n",
    "Python Practice with `fsolve` and `quad`\n",
    "</span><br/>\n",
    "\n",
    "---"
   ]
  },
  {
   "cell_type": "code",
   "execution_count": 23,
   "id": "ac63c276-9add-4ff2-8b12-9eb42fa2b466",
   "metadata": {},
   "outputs": [
    {
     "name": "stdout",
     "output_type": "stream",
     "text": [
      "molecular_weights is starting import\n",
      "import completed\n"
     ]
    }
   ],
   "source": [
    "import numpy as np\n",
    "from scipy.optimize import fsolve\n",
    "from scipy.integrate import quad\n",
    "from myengineerpkg import molecular_weights as mw"
   ]
  },
  {
   "cell_type": "markdown",
   "id": "0936c443-11b1-4a7c-85b5-5ef547a16fb0",
   "metadata": {},
   "source": [
    "# Properties of Ethanol from DIPPR"
   ]
  },
  {
   "cell_type": "code",
   "execution_count": 2,
   "id": "163be34a-31cc-47c3-8e26-cdf616659268",
   "metadata": {},
   "outputs": [],
   "source": [
    "ethanolMW=46.07      # molecular weight of ethanol in g/mol\n",
    "ethanolTC=514        # critical temperature of ethanol in K\n",
    "ethanolPC=61.37e5    # critical pressure of ethanol in Pa\n",
    "ethanolACEN=0.643558 # acentric factor of ethanol (unitless)\n",
    "\n",
    "def ethanolICP(t):\n",
    "    '''\n",
    "    Input temperature in K\n",
    "    Return IDEAL GAS heat capacity of ethanol in J/mol/K\n",
    "    '''\n",
    "    A=49200; B=145770; C=1662.8; D=93900; E=744.7\n",
    "    cp=A + B*((C/t)/np.sinh(C/t))**2 + D*((E/t)/np.cosh(E/t))**2  # J/kmol/K\n",
    "    return(cp/1000) # J/mol/K\n",
    "\n",
    "def ethanolLCP(t):\n",
    "    '''\n",
    "    Input temperature in K\n",
    "    Return LIQUID heat capacity of ethanol in J/mol/K\n",
    "    '''\n",
    "    A=102640; B=-139.63; C=-0.030341; D=0.0020386; E=0\n",
    "    cp=A + B*t + C*t**2 + D*t**3 + E*t**4 # J/kmol/K\n",
    "    return(cp/1000) # J/mol/K\n",
    "\n",
    "def ethanolLDN(t):\n",
    "    '''\n",
    "    Input temperature in K\n",
    "    Return LIQUID density of ethanol in mol/m**3\n",
    "    '''\n",
    "    A=1.6288; B=0.27469; C=514; D=0.23178\n",
    "    rho=A/(B**(1+(1-t/C)**D)) # kmol/m**3\n",
    "    return(rho*1000) # mol/m**3\n",
    "\n",
    "def ethanolVP(t):\n",
    "    '''\n",
    "    Input temperature in K\n",
    "    Return LIQUID vapor pressure of ethanol in Pa\n",
    "    '''\n",
    "    A=73.304; B=-7122.3; C=-7.1424; D=2.8853E-06; E=2\n",
    "    lnVP=A + B/t + C*np.log(t) + D*t**E\n",
    "    return(np.exp(lnVP)) # Pa\n",
    "\n",
    "def ethanolHVP(t):\n",
    "    '''\n",
    "    Input temperature in K\n",
    "    Return heat of vaporization of ethanol in J/mol\n",
    "    '''\n",
    "    tr=t/ethanolTC\n",
    "    A=65831000; B=1.1905; C=-1.7666; D=1.0012\n",
    "    hvp=A*(1-tr)**(B + C*tr + D*tr**2) # J/kmol\n",
    "    return(hvp/1000) # J/mol"
   ]
  },
  {
   "cell_type": "markdown",
   "id": "a89b6db9-91c0-4d51-ad6c-e8c7b76f5691",
   "metadata": {},
   "source": [
    "# Practice Integration 1\n",
    "**Question**\n",
    "One kilogram of liquid *ethanol* in a piston/cylinder apparatus is heated from 300 K to 350 K in a beaker under constant pressure. How much heat is needed?\n",
    "\n",
    "### Solution Approch\n",
    "The energy balance for a closed system is\n",
    "$$\\Delta U=Q + W$$\n",
    "There is not shaft work, and mass is constant, so \n",
    "$$m\\Delta u=Q$$\n",
    "Assuming the liquid is incompressible, the change in internal energy is\n",
    "$$\\Delta u=\\int^{350\\text{ K}}_{300\\text{ K}}C^{\\text{liq}}_vdT\\cong\\int^{350\\text{ K}}_{300\\text{ K}}C^{\\text{liq}}_pdT$$\n",
    "\n",
    "### Numerical Solution\n",
    "**Knowns**"
   ]
  },
  {
   "cell_type": "code",
   "execution_count": 3,
   "id": "df87f974-fa89-4b99-bbf5-cea13a86da0c",
   "metadata": {},
   "outputs": [],
   "source": [
    "m=1        # mass of ethanol in kg\n",
    "T1=300     # initial temperature in K\n",
    "T2=350     # final temperature in K"
   ]
  },
  {
   "cell_type": "markdown",
   "id": "4e78676c-6622-46ea-83f0-49769700f496",
   "metadata": {},
   "source": [
    "**Perform the integration**"
   ]
  },
  {
   "cell_type": "code",
   "execution_count": 8,
   "id": "c9d2eaf4-046c-470d-bfe5-81263c6a2587",
   "metadata": {},
   "outputs": [
    {
     "data": {
      "text/plain": [
       "6222.228354166667"
      ]
     },
     "execution_count": 8,
     "metadata": {},
     "output_type": "execute_result"
    }
   ],
   "source": [
    "Δu=quad(ethanolLCP,T1,T2)[0]   # fill in here\n",
    "Δu #J/mol"
   ]
  },
  {
   "cell_type": "markdown",
   "id": "752529e9-53e0-4d57-bdb0-793d16f7303d",
   "metadata": {},
   "source": [
    "**Fix the units**"
   ]
  },
  {
   "cell_type": "code",
   "execution_count": 21,
   "id": "b42f4448-f609-41cf-9fa3-f3ab619e0b8c",
   "metadata": {},
   "outputs": [
    {
     "data": {
      "text/plain": [
       "21.706099413935316"
      ]
     },
     "execution_count": 21,
     "metadata": {},
     "output_type": "execute_result"
    }
   ],
   "source": [
    "n=m*1000/ethanolMW  # fill in here\n",
    "n #mol"
   ]
  },
  {
   "cell_type": "markdown",
   "id": "1d93aaa6-e11e-40e8-9d0a-00275b69d296",
   "metadata": {},
   "source": [
    "**Calculate and print the solution**"
   ]
  },
  {
   "cell_type": "code",
   "execution_count": 20,
   "id": "d039291a-548e-44e0-a26d-931be2b7875f",
   "metadata": {},
   "outputs": [
    {
     "name": "stdout",
     "output_type": "stream",
     "text": [
      "Q = 135060.3 J\n"
     ]
    }
   ],
   "source": [
    "Q=n*Δu\n",
    "print(f\"Q = {n*Δu:.1f} J\")"
   ]
  },
  {
   "cell_type": "markdown",
   "id": "82a1377c-ae7f-4cb5-ae0f-4eb4781e6cca",
   "metadata": {},
   "source": [
    "# Practice Integration 2\n",
    "**Question**\n",
    "One kilogram of liquid *1-propanol* in a piston/cylinder apparatus is heated from 300 K to 350 K in a beaker under constant pressure. How much heat is needed?"
   ]
  },
  {
   "cell_type": "markdown",
   "id": "2efc3f98-6325-4a80-9082-82b3ec40b86e",
   "metadata": {},
   "source": [
    "## Solution\n",
    "**Properties**"
   ]
  },
  {
   "cell_type": "code",
   "execution_count": 25,
   "id": "3d15827a-d53e-4611-93ee-943cfa808073",
   "metadata": {},
   "outputs": [],
   "source": [
    "def propanolLCP(t):\n",
    "    '''\n",
    "    Input temperature in K\n",
    "    Return LIQUID heat capacity of ethanol in J/mol/K\n",
    "    '''\n",
    "    A=158760; B=-635; C=1.969; D=0; E=0\n",
    "    cp=A + B*t + C*t**2 + D*t**3 + E*t**4 # J/kmol/K\n",
    "    return(cp/1000) # J/mol/K\n",
    "\n",
    "propanolMW = mw.by_formula(\"C3H8O\")"
   ]
  },
  {
   "cell_type": "markdown",
   "id": "c032023b-ffaa-4c6f-b3e2-deefc52eeaf2",
   "metadata": {},
   "source": [
    "**Perform the integration**"
   ]
  },
  {
   "cell_type": "code",
   "execution_count": 26,
   "id": "e67fc651-0f4e-4184-b9af-cf2238f1deb2",
   "metadata": {},
   "outputs": [
    {
     "data": {
      "text/plain": [
       "8038.541666666667"
      ]
     },
     "execution_count": 26,
     "metadata": {},
     "output_type": "execute_result"
    }
   ],
   "source": [
    "Δu=quad(propanolLCP,T1,T2)[0]      # fill in here\n",
    "Δu #J/mol"
   ]
  },
  {
   "cell_type": "markdown",
   "id": "bbafdf4f-3eca-425b-af6f-5940e8d3c9be",
   "metadata": {},
   "source": [
    "**Fix the units**"
   ]
  },
  {
   "cell_type": "code",
   "execution_count": 27,
   "id": "38128c0f-15fb-4348-aac5-15f0e3d3d6e0",
   "metadata": {},
   "outputs": [
    {
     "data": {
      "text/plain": [
       "np.float64(16.64004259850905)"
      ]
     },
     "execution_count": 27,
     "metadata": {},
     "output_type": "execute_result"
    }
   ],
   "source": [
    "n=m*1000/propanolMW     # fill in here\n",
    "n #mol"
   ]
  },
  {
   "cell_type": "markdown",
   "id": "a817ec2e-6e2a-4d57-9e31-f865ac96d1d0",
   "metadata": {},
   "source": [
    "**Calculate and print the solution**"
   ]
  },
  {
   "cell_type": "code",
   "execution_count": 28,
   "id": "ef577057-02d8-415c-b593-6430ffa1757b",
   "metadata": {},
   "outputs": [
    {
     "name": "stdout",
     "output_type": "stream",
     "text": [
      "Q = 133761.7 J\n"
     ]
    }
   ],
   "source": [
    "Q=n*Δu\n",
    "print(\"Q = %.1f J\" % Q)"
   ]
  },
  {
   "cell_type": "markdown",
   "id": "8cf76573-f8b9-4b8b-9316-d095365cf544",
   "metadata": {},
   "source": [
    "# Practice fsolve 1\n",
    "**Question**\n",
    "One kilojoule of heat is added to 0.1 kg of vapor *ethanol* initailly at 380 K and 1 atm in a piston/cylinder apparatus. What is the final temperature if the process occurs isobarically?"
   ]
  },
  {
   "cell_type": "markdown",
   "id": "c08feb87-0f8f-4e87-acaf-24b8885dfcc8",
   "metadata": {},
   "source": [
    "## Solution Approach\n",
    "From above, the design equation above,\n",
    "$$m\\Delta u=m\\int^{T_\\text{final}}_{380\\text{ K}}C^{\\text{vap}}_vdT=Q$$\n",
    "Because this is an ideal gas, $C_v^\\text{vap}=C_p^\\text{vap}-R$ to give\n",
    "$$m\\Delta u=m\\int^{T_\\text{final}}_{380\\text{ K}}\\left[C^{\\text{vap}}_p-R\\right]dT=Q$$\n",
    "`fsolve` may be used to determine $T_\\text{final}$.\n",
    "## Numerical Solution\n",
    "**Knowns**"
   ]
  },
  {
   "cell_type": "code",
   "execution_count": 61,
   "id": "fa87f43a-5771-4a4f-a5b9-b8dd92e7b4ad",
   "metadata": {},
   "outputs": [],
   "source": [
    "m=0.1                       # mass of ethanol in kg\n",
    "n=m/(ethanolMW/1000)        # moles of ethanol\n",
    "T1=380                      # initial temperature in K\n",
    "Q=1000                      # heat added in J\n",
    "R=8.314                     # gas constant in J/mol/K"
   ]
  },
  {
   "cell_type": "markdown",
   "id": "5d2a9365-2340-43a0-b55a-f3a032966e9a",
   "metadata": {},
   "source": [
    "**`fsolve` function**"
   ]
  },
  {
   "cell_type": "code",
   "execution_count": 62,
   "id": "4ae64215-a1f0-46a3-862c-690a3e0a3793",
   "metadata": {},
   "outputs": [],
   "source": [
    "def LCP(T,coeffs):\n",
    "    result = 0\n",
    "    for index in range(len(coeffs)):\n",
    "        result += coeffs[index]*T**index\n",
    "    return result\n",
    "\n",
    "def ICP(T,coeffs):\n",
    "    A,B,C,D,E = coeffs\n",
    "    return (A + B*((C/T)/np.sinh(C/T))**2 + D*((E/T)/np.cosh(E/T))**2)/1000\n",
    "\n",
    "def f(T2):\n",
    "    return n*quad(lambda T: ICP(T,[49200,145770,1662.8,93900,744.7])-R, T1, T2)[0] - Q"
   ]
  },
  {
   "cell_type": "markdown",
   "id": "d2f6a81a-95b4-484f-86ed-de94029e6639",
   "metadata": {},
   "source": [
    "**Define guess values**"
   ]
  },
  {
   "cell_type": "code",
   "execution_count": 63,
   "id": "92a28fa6-f6da-4729-a0f0-e887a29a614f",
   "metadata": {},
   "outputs": [
    {
     "data": {
      "text/plain": [
       "2115.4857662570744"
      ]
     },
     "execution_count": 63,
     "metadata": {},
     "output_type": "execute_result"
    }
   ],
   "source": [
    "guess = 400\n",
    "f(guess)"
   ]
  },
  {
   "cell_type": "markdown",
   "id": "3cb7b456-c24a-4f31-b519-ccb8f58ea32d",
   "metadata": {},
   "source": [
    "**Obtain and print the solutions**"
   ]
  },
  {
   "cell_type": "code",
   "execution_count": 64,
   "id": "fff1b7e1-ab43-4194-a2d6-721626906d67",
   "metadata": {},
   "outputs": [
    {
     "name": "stdout",
     "output_type": "stream",
     "text": [
      "Tf = 386.5 K\n"
     ]
    }
   ],
   "source": [
    "Tf=fsolve(f,guess)[0]      # fill in here\n",
    "print(\"Tf = %.1f K\" % Tf)"
   ]
  },
  {
   "cell_type": "markdown",
   "id": "8fd694a6-fc5b-4dbc-9ea2-8ab56a376a62",
   "metadata": {},
   "source": [
    "# Practice fsolve 2\n",
    "**Question**\n",
    "Ethanol(1) and 1-propanol(2) are mixed, and the system is brought to a state where vapor and liquid exist in equilibrium. The pressure is 80 kPa, and the vapor mole fraction of ethanol is measured to be 0.2. What is the temperature of the system, and what is the composition of the liquid?\n",
    "\n",
    "## Solution Approch\n",
    "Vapor liquid equilibrium for low pressures and chemically-similar compounds is described by Raoult's Law. (Remember that this class will always use Raoult's Law for VLE. You will learn more accurate approaches later.)\n",
    "$$x_iP_i^\\text{sat}(T)=y_iP$$\n",
    "One Raoult's Law statement may be written for each component in the system. For the case under consideration, the following is obtained.\n",
    "$$x_1P_1^\\text{sat}(T)=y_1P$$\n",
    "$$(1-x_1)P_2^\\text{sat}(T)=(1-y_1)P$$\n",
    "The problem statement gave values for $y_1$ and $P$. the remaining unknowns are $x_1$ and $T$. Functions were defined for the vapor pressures as a function of temperature in previous locations in this document.\n",
    "## Numerical Solution\n",
    "**Knowns**"
   ]
  },
  {
   "cell_type": "code",
   "execution_count": 72,
   "id": "da43bd2c-b8b9-4284-9282-ef03f11dffe1",
   "metadata": {},
   "outputs": [],
   "source": [
    "x1=0.2       # liquid mole fraction of ethanol\n",
    "P=80e3       # system pressure in Pa"
   ]
  },
  {
   "cell_type": "markdown",
   "id": "974d1c2b-2f90-45bb-bead-f58d2260d6e1",
   "metadata": {},
   "source": [
    "**Properties**"
   ]
  },
  {
   "cell_type": "code",
   "execution_count": 73,
   "id": "05e4a64f-d745-4780-8a64-3363d0c598c5",
   "metadata": {},
   "outputs": [],
   "source": [
    "def VP(T,coeffs):\n",
    "    A,B,C,D,E = coeffs\n",
    "    return np.exp(A + B/T + C*np.log(T) + D*T**E)\n",
    "\n",
    "eth_VP = lambda T: VP(T,[73.304,-7122.3,-7.1424,2.8853E-06,2])\n",
    "prop_VP = lambda T: VP(T,[84.66416,-8307.24422,-8.57673,7.50905E-18,6])"
   ]
  },
  {
   "cell_type": "markdown",
   "id": "dad6e4f8-b112-4cc8-a7a6-eea3b044ae04",
   "metadata": {},
   "source": [
    "**`fsolve` function**"
   ]
  },
  {
   "cell_type": "code",
   "execution_count": 81,
   "id": "88490ac2-a2bf-4e80-a6ef-ca3fd63f3966",
   "metadata": {},
   "outputs": [],
   "source": [
    "def f(variables):\n",
    "    y1,T = variables\n",
    "    eq1 = x1*eth_VP(T) - y1*P\n",
    "    eq2 = (1-x1)*prop_VP(T) - (1-y1)*P\n",
    "    return [eq1,eq2]"
   ]
  },
  {
   "cell_type": "markdown",
   "id": "d6a054a3-f496-471f-bf0d-1456a437565d",
   "metadata": {},
   "source": [
    "**Define guess values**"
   ]
  },
  {
   "cell_type": "code",
   "execution_count": 82,
   "id": "c4779bdb-a33e-4c03-9a4c-739d2fcb2a40",
   "metadata": {},
   "outputs": [
    {
     "data": {
      "text/plain": [
       "[np.float64(64508.50203894217), np.float64(183348.64105073246)]"
      ]
     },
     "execution_count": 82,
     "metadata": {},
     "output_type": "execute_result"
    }
   ],
   "source": [
    "guess = np.array([0.5,400])\n",
    "f(guess)"
   ]
  },
  {
   "cell_type": "markdown",
   "id": "7cd4e69a-30e9-4a5d-a1fa-a1de6effa215",
   "metadata": {},
   "source": [
    "**Obtain and print the solutions**"
   ]
  },
  {
   "cell_type": "code",
   "execution_count": 86,
   "id": "770638db-ffc2-424a-8be7-835674348209",
   "metadata": {},
   "outputs": [],
   "source": [
    "y1,T = fsolve(f,guess)"
   ]
  },
  {
   "cell_type": "code",
   "execution_count": 87,
   "id": "06814152-49de-488e-aae4-12fd9449ed7c",
   "metadata": {},
   "outputs": [
    {
     "name": "stdout",
     "output_type": "stream",
     "text": [
      "0.3424373528373853\n",
      "359.321141932948\n"
     ]
    }
   ],
   "source": [
    "print(y1)\n",
    "print(T)"
   ]
  },
  {
   "cell_type": "code",
   "execution_count": null,
   "id": "6cc18d90-fa6e-4b80-88b1-5d90a3d0c80a",
   "metadata": {},
   "outputs": [],
   "source": []
  }
 ],
 "metadata": {
  "kernelspec": {
   "display_name": "Python 3 (ipykernel)",
   "language": "python",
   "name": "python3"
  },
  "language_info": {
   "codemirror_mode": {
    "name": "ipython",
    "version": 3
   },
   "file_extension": ".py",
   "mimetype": "text/x-python",
   "name": "python",
   "nbconvert_exporter": "python",
   "pygments_lexer": "ipython3",
   "version": "3.13.0"
  }
 },
 "nbformat": 4,
 "nbformat_minor": 5
}
