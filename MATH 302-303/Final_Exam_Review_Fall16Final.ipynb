{
 "cells": [
  {
   "cell_type": "markdown",
   "id": "a6fde56e-0da6-4388-8450-81e7fd5c2436",
   "metadata": {},
   "source": [
    "## Exam Review - Fall 2016 Final Exam\n",
    "---\n",
    "---"
   ]
  },
  {
   "cell_type": "code",
   "execution_count": 1,
   "id": "90f8bd72-7f04-4649-8a7a-363d22cfc663",
   "metadata": {},
   "outputs": [],
   "source": [
    "import sys\n",
    "sys.path.insert(2, r'../Modules')\n",
    "import numpy as np\n",
    "import linear_algebra as lin\n",
    "import matrix as mtx\n",
    "import conversions as conv\n",
    "import molecular_weights as mw"
   ]
  },
  {
   "cell_type": "markdown",
   "id": "d4b62ee2-1b8d-462e-a64c-4c3f04e3bc9a",
   "metadata": {},
   "source": [
    "---\n",
    "---\n",
    "##### 1. Find the volume of a parallelpiped with edges given by the following vectors:\n",
    "**ī** + 2**j̄** + 4**k̄**  \n",
    "**ī** + **k̄**  \n",
    "3**j̄** - **k̄**\n",
    "\n",
    "---"
   ]
  },
  {
   "cell_type": "code",
   "execution_count": 2,
   "id": "a7e3f0ab-c19d-489d-85f3-02ed6f2ec184",
   "metadata": {},
   "outputs": [
    {
     "name": "stdout",
     "output_type": "stream",
     "text": [
      "The volume of the parallepiped in question is 11.0\n",
      "The volume of the parallepiped in question is 11.0\n"
     ]
    }
   ],
   "source": [
    "vec1 = np.array([1,2,4])\n",
    "vec2 = np.array([1,0,1])\n",
    "vec3 = np.array([0,3,-1])\n",
    "Matrix = np.array([vec1,vec2,vec3])\n",
    "\n",
    "print(\"The volume of the parallepiped in question is {volume}\".format(volume=mtx.determinant(Matrix)))\n",
    "print(\"The volume of the parallepiped in question is {volume}\".format(volume=lin.dot_product(lin.cross_product(vec1,vec2),vec3)))"
   ]
  },
  {
   "cell_type": "markdown",
   "id": "8e7afe1d-bc63-486f-bd4b-218be517d9d3",
   "metadata": {},
   "source": [
    "---\n",
    "---\n",
    "##### 2. Which point is in the plane containing the origin and parallel to  \n",
    "2*x* + *y* - *z* = 4\n",
    "\n",
    "---"
   ]
  },
  {
   "cell_type": "markdown",
   "id": "68a3e9db-0860-43ab-90a7-0ed4ef8ee0d6",
   "metadata": {},
   "source": [
    "If we are dealing with parallel planes, then *a* can be anything, as the tangent vector and slope won't change. So \"plugging\" the origin into the equation and solving for *a* gives us the last piece of the parallel plane in question"
   ]
  },
  {
   "cell_type": "code",
   "execution_count": 3,
   "id": "dcffd2dc-2393-41a4-9fa7-c23dc104567e",
   "metadata": {},
   "outputs": [
    {
     "name": "stdout",
     "output_type": "stream",
     "text": [
      "2𝑥 + 𝑦 - 𝑧 = 0.0\n"
     ]
    }
   ],
   "source": [
    "options2 = {\n",
    "    '𝐚':np.array([1,3,1]),\n",
    "    '𝐛':np.array([1,1,1]),\n",
    "    '𝐜':np.array([2,0,4]),\n",
    "    '𝐝':np.array([0,1,2]),\n",
    "    '𝐞':np.array([5,1,6]),\n",
    "}\n",
    "\n",
    "coef = np.array([2,1,-1])\n",
    "a = lambda var: lin.dot_product(var, coef)\n",
    "\n",
    "origin = np.zeros(3)\n",
    "print(\"2𝑥 + 𝑦 - 𝑧 = {a}\".format(a=a(origin)))"
   ]
  },
  {
   "cell_type": "markdown",
   "id": "67ea40c3-5bbe-4793-8619-b242b094b60f",
   "metadata": {},
   "source": [
    "Then, \"plugging\" the various points into the equation we can see which of them have the same *a*, and will thus be on the same plane."
   ]
  },
  {
   "cell_type": "code",
   "execution_count": 4,
   "id": "cc5054c6-23e8-48dd-8a08-19738a23ddf2",
   "metadata": {},
   "outputs": [
    {
     "name": "stdout",
     "output_type": "stream",
     "text": [
      "𝐚: [1 3 1] · [ 2  1 -1] = 4 != 0.0 \n",
      "𝐛: [1 1 1] · [ 2  1 -1] = 2 != 0.0 \n",
      "𝐜: [2 0 4] · [ 2  1 -1] = 0 == 0.0 <-----\n",
      "𝐝: [0 1 2] · [ 2  1 -1] = -1 != 0.0 \n",
      "𝐞: [5 1 6] · [ 2  1 -1] = 5 != 0.0 \n"
     ]
    }
   ],
   "source": [
    "for key in options2:\n",
    "    print(\"{key}: {value} · {coef} = {a_option} {EQ} {a_origin} {arrow}\".format(\n",
    "        key=key, value=options2[key], coef=coef, a_option = a(options2[key]), a_origin = a(origin),\n",
    "        EQ = \"==\" if a(options2[key]) == a(origin) else \"!=\",\n",
    "        arrow = \"<-----\" if a(options2[key]) == a(origin) else \"\"\n",
    "    ))"
   ]
  },
  {
   "cell_type": "markdown",
   "id": "45e7ab47-79ba-44c5-bde3-dd5dab6b831a",
   "metadata": {},
   "source": [
    "---\n",
    "---\n",
    "##### 3. Which vector is perpendicular to the following line?  \n",
    "**r̄**(*t*) = (**ī** + 3 **j̄** + **k̄**) + *t*(2**ī** + **j̄** + 2**k̄**)  \n",
    "\n",
    "---"
   ]
  },
  {
   "cell_type": "code",
   "execution_count": 5,
   "id": "558d01e2-ab1d-43ac-8bec-79620d97bd1b",
   "metadata": {},
   "outputs": [
    {
     "name": "stdout",
     "output_type": "stream",
     "text": [
      "r̄(𝑡) = [1 3 1] + 𝑡[2 1 2]\n"
     ]
    }
   ],
   "source": [
    "options3 = {\n",
    "    '𝐚':np.array([2,-1,1]),\n",
    "    '𝐛':np.array([1,-2,1]),\n",
    "    '𝐜':np.array([1,-2,4]),\n",
    "    '𝐝':np.array([1,2,-2]),\n",
    "    '𝐞':np.array([-2,3,1]),\n",
    "}\n",
    "r_0 = np.array([1,3,1])\n",
    "r_slope = np.array([2,1,2])\n",
    "r = lambda t: r_0 + t * r_slope\n",
    "print(\"r̄(𝑡) = {inter} + 𝑡{slope}\".format(inter = r_0, slope = r_slope))"
   ]
  },
  {
   "cell_type": "markdown",
   "id": "fb007cc5-eb02-4ef6-a82a-cf9195802b17",
   "metadata": {},
   "source": [
    "The dot product of two perpendicular vectors is equal to 0."
   ]
  },
  {
   "cell_type": "code",
   "execution_count": 6,
   "id": "dcbe6569-54f4-42ab-9206-074244232884",
   "metadata": {},
   "outputs": [
    {
     "name": "stdout",
     "output_type": "stream",
     "text": [
      "𝐚: [ 2 -1  1] · [2 1 2] = 5 != 0 \n",
      "𝐛: [ 1 -2  1] · [2 1 2] = 2 != 0 \n",
      "𝐜: [ 1 -2  4] · [2 1 2] = 8 != 0 \n",
      "𝐝: [ 1  2 -2] · [2 1 2] = 0 == 0 <-----\n",
      "𝐞: [-2  3  1] · [2 1 2] = 1 != 0 \n"
     ]
    }
   ],
   "source": [
    "for key in options3:\n",
    "    dot = lin.dot_product(r_slope,options3[key])\n",
    "    print(\"{key}: {value} · {slope} = {dot} {EQ} 0 {arrow}\".format(\n",
    "        key=key, value=options3[key], slope=r_slope, dot=dot,\n",
    "        EQ = \"==\" if dot == 0 else \"!=\",\n",
    "        arrow = \"<-----\" if dot == 0 else \"\"\n",
    "    ))"
   ]
  },
  {
   "cell_type": "markdown",
   "id": "62ea66ae-1ef8-45b6-bba0-83737d242058",
   "metadata": {},
   "source": [
    "---\n",
    "---\n",
    "##### 4. What is the distance between the line **r̄**(𝑡) = (1,0,1)+𝑡(1,2,2) and the point P(3,3,3)?\n",
    "\n",
    "---"
   ]
  },
  {
   "cell_type": "code",
   "execution_count": 7,
   "id": "d88bdb6f-c114-4ced-be59-3948d686ae9e",
   "metadata": {},
   "outputs": [
    {
     "name": "stdout",
     "output_type": "stream",
     "text": [
      "r̄(𝑡) = [1 0 1] + 𝑡[1 2 2]\n",
      "P = [3 3 3]\n"
     ]
    }
   ],
   "source": [
    "options4 = {\n",
    "    '𝐚':1,\n",
    "    '𝐛':4/5,\n",
    "    '𝐜':3/4,\n",
    "    '𝐝':2,\n",
    "    '𝐞':np.sqrt(2),\n",
    "}\n",
    "\n",
    "r_0 = np.array([1,0,1])\n",
    "r_slope = np.array([1,2,2])\n",
    "r = lambda t: r_0 + t*r_slope\n",
    "print(\"r̄(𝑡) = {inter} + 𝑡{slope}\".format(inter = r_0,slope = r_slope))\n",
    "\n",
    "P = np.array([3,3,3])\n",
    "print(\"P = {point}\".format(point=P)) "
   ]
  },
  {
   "cell_type": "markdown",
   "id": "3a9b13ca-da39-453c-814d-24920145f3e3",
   "metadata": {},
   "source": [
    "Setting Q = **r̄(0)** and substracting it from P we find **Q̄P̄**. Then taking the norm of the cross product of **Q̄P̄** and the slope of **r̄** and dividing it by ||**r̄**|| we find the length of the component of **Q̄P̄** that is perpendicular to **r̄**, and thus the shortest distance between P and **r̄**."
   ]
  },
  {
   "cell_type": "code",
   "execution_count": 8,
   "id": "7fb065d6-5705-4103-ade6-0a54ab2e0a70",
   "metadata": {},
   "outputs": [
    {
     "name": "stdout",
     "output_type": "stream",
     "text": [
      "The distance between P and r̄, calculated using the cross product formula is 1.0\n",
      "Alternatively, using the point_line_distance(P,r̄) function we get 1.0\n",
      "||(P-R(0)) 𝗑 R_slope|| / ||R_slope||  =  ||[2 3 2] 𝗑 [1 2 2]|| / ||[1 2 2]||  =  ||[ 2. -2.  1.]|| / 3.0  =  1.0\n"
     ]
    }
   ],
   "source": [
    "dist = lin.norm(lin.cross_product(P-r(0),r_slope))/lin.norm(r_slope)\n",
    "\n",
    "print(\"The distance between P and r̄, calculated using the cross product formula is {dist}\".format(\n",
    "    dist = dist))\n",
    "print(\"Alternatively, using the point_line_distance(P,r̄) function we get {dist}\".format(\n",
    "    dist = lin.point_line_distance(P,r)))\n",
    "\n",
    "print(\"||(P-R(0)) 𝗑 R_slope|| / ||R_slope||  =  ||{PR0} 𝗑 {slope}|| / ||{slope}||  =  ||{cross}|| / {slope_norm}  =  {dist}\".format(\n",
    "        PR0=P-r(0), slope=r_slope, dist = dist, cross=lin.cross_product(P-r(0),r_slope), slope_norm = lin.norm(r_slope)))"
   ]
  },
  {
   "cell_type": "code",
   "execution_count": 9,
   "id": "7bc00511-0041-4794-a201-d36c722fecac",
   "metadata": {},
   "outputs": [
    {
     "name": "stdout",
     "output_type": "stream",
     "text": [
      "𝐚: 1.00 == 1.0 <-----\n",
      "𝐛: 0.80 != 1.0 \n",
      "𝐜: 0.75 != 1.0 \n",
      "𝐝: 2.00 != 1.0 \n",
      "𝐞: 1.41 != 1.0 \n"
     ]
    }
   ],
   "source": [
    "for key in options4:\n",
    "    print(\"{key}: {value:.2f} {EQ} {dist} {arrow}\".format(\n",
    "        key=key, value=options4[key], dist = dist,\n",
    "        EQ = \"==\" if options4[key] == dist else \"!=\",\n",
    "        arrow = \"<-----\" if options4[key] == dist else \"\"\n",
    "    ))"
   ]
  },
  {
   "cell_type": "markdown",
   "id": "ffba800a-1e97-4bd9-8779-490f582da740",
   "metadata": {},
   "source": [
    "---\n",
    "---\n",
    "##### 5. For which values of k does the system with the given augmented matrix have a unique solution?\n",
    "---"
   ]
  },
  {
   "cell_type": "code",
   "execution_count": 10,
   "id": "1eba0087-09b4-4694-803b-3c9c45e409ad",
   "metadata": {},
   "outputs": [],
   "source": [
    "A = lambda k: np.array([[1, -1],[k, 1]])\n",
    "b = np.array([[2],[-2]])\n",
    "A_inv = lambda k: mtx.inverse(A(k))"
   ]
  },
  {
   "cell_type": "code",
   "execution_count": 11,
   "id": "e10c57f7-b243-4d78-a228-4f0fb9c594d1",
   "metadata": {},
   "outputs": [],
   "source": [
    "options5 = {\n",
    "    '𝐚':0,\n",
    "    '𝐛':-1,\n",
    "    '𝐜':1,\n",
    "    '𝐝':2,\n",
    "    '𝐞':3,\n",
    "}"
   ]
  },
  {
   "cell_type": "code",
   "execution_count": 12,
   "id": "8c018930-66ce-4646-9c14-970b32aaddd1",
   "metadata": {},
   "outputs": [
    {
     "name": "stdout",
     "output_type": "stream",
     "text": [
      "𝐚: x̄ =\n",
      "[[ 0.]\n",
      " [-2.]]\n",
      "𝐛: 𝑨(-1.00)_inv == None\n",
      "𝐜: x̄ =\n",
      "[[ 0.]\n",
      " [-2.]]\n",
      "𝐝: x̄ =\n",
      "[[ 1.11022302e-16]\n",
      " [-2.00000000e+00]]\n",
      "𝐞: x̄ =\n",
      "[[ 0.]\n",
      " [-2.]]\n"
     ]
    }
   ],
   "source": [
    "for key in options5:\n",
    "    if (A_inv(options5[key]) is None):\n",
    "        print(\"{key}: 𝑨({value:.2f})_inv == None\".format(key=key, value=options5[key]))\n",
    "    else:\n",
    "        print(\"{key}: x̄ =\\n{X}\".format(key=key, X=mtx.multiply(A_inv(options5[key])[0],b)))"
   ]
  },
  {
   "cell_type": "code",
   "execution_count": null,
   "id": "b2e7b655-7df2-4f51-a6f0-1d842a035bfe",
   "metadata": {},
   "outputs": [],
   "source": []
  }
 ],
 "metadata": {
  "kernelspec": {
   "display_name": "Python 3 (ipykernel)",
   "language": "python",
   "name": "python3"
  },
  "language_info": {
   "codemirror_mode": {
    "name": "ipython",
    "version": 3
   },
   "file_extension": ".py",
   "mimetype": "text/x-python",
   "name": "python",
   "nbconvert_exporter": "python",
   "pygments_lexer": "ipython3",
   "version": "3.8.10"
  }
 },
 "nbformat": 4,
 "nbformat_minor": 5
}
