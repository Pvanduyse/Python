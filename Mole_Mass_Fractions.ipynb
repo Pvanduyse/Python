{
 "cells": [
  {
   "cell_type": "code",
   "execution_count": 1,
   "id": "9d2821e3-1972-4a07-a84e-fe87abccf9a1",
   "metadata": {},
   "outputs": [
    {
     "name": "stdout",
     "output_type": "stream",
     "text": [
      "molecular_weights is starting import\n",
      "import completed\n"
     ]
    }
   ],
   "source": [
    "import numpy as np\n",
    "import myengineerpkg.linear_algebra as lin\n",
    "import myengineerpkg.matrix as mtx\n",
    "import myengineerpkg.conversions as conv\n",
    "import myengineerpkg.molecular_weights as mw"
   ]
  },
  {
   "cell_type": "code",
   "execution_count": 2,
   "id": "7fccc598-3aa6-4c6c-9a07-e560277bffce",
   "metadata": {},
   "outputs": [],
   "source": [
    "def mole_frac_from_mass_frac(FORMULAS, MASS_FRAC):\n",
    "    avg_mw = mw.from_mass_frac(FORMULAS, MASS_FRAC)\n",
    "    return (MASS_FRAC/mw.by_formula(FORMULAS))*avg_mw\n",
    "def mass_frac_from_mole_frac(FORMULAS, MOLE_FRAC):\n",
    "    avg_mw = mw.from_mole_frac(FORMULAS, MOLE_FRAC)\n",
    "    return mw.by_formula(FORMULAS)*MOLE_FRAC/avg_mw"
   ]
  },
  {
   "cell_type": "code",
   "execution_count": 3,
   "id": "5e100f33-0914-4f81-b72d-f5f88643f69f",
   "metadata": {},
   "outputs": [
    {
     "name": "stdout",
     "output_type": "stream",
     "text": [
      "O2: 31.998\n",
      "CO: 28.009999999999998\n",
      "CO2: 44.009\n",
      "H2: 2.016\n"
     ]
    }
   ],
   "source": [
    "formulas = [\"O2\",\"CO\",\"CO2\",\"H2\"]\n",
    "for form in formulas:\n",
    "    print(\"{Formula}: {MW}\".format(\n",
    "        Formula = form,\n",
    "        MW = mw.by_formula(form)\n",
    "    ))"
   ]
  },
  {
   "cell_type": "code",
   "execution_count": 4,
   "id": "f23faeeb-18a1-4220-8bc2-15033185585b",
   "metadata": {},
   "outputs": [
    {
     "name": "stdout",
     "output_type": "stream",
     "text": [
      "Mass fractions\n",
      "O2: 0.262\n",
      "CO: 0.261\n",
      "CO2: 0.459\n",
      "H2: 0.019\n"
     ]
    }
   ],
   "source": [
    "mass_fractions = mass_frac_from_mole_frac(formulas, [0.22,0.25,0.28,0.25])\n",
    "print(\"Mass fractions\")\n",
    "for i in range(len(formulas)):\n",
    "    print(\"{Form}: {Mass_frac:.3f}\".format(Form = formulas[i], Mass_frac = mass_fractions[i]))"
   ]
  },
  {
   "cell_type": "code",
   "execution_count": 5,
   "id": "8adddd5a-300f-4d5c-971d-79b7077b6509",
   "metadata": {},
   "outputs": [
    {
     "name": "stdout",
     "output_type": "stream",
     "text": [
      "Mole fractions\n",
      "O2: 0.0470\n",
      "CO: 0.0611\n",
      "CO2: 0.0435\n",
      "H2: 0.8484\n"
     ]
    }
   ],
   "source": [
    "mole_fractions = mole_frac_from_mass_frac(formulas, [0.22,0.25,0.28,0.25])\n",
    "print(\"Mole fractions\")\n",
    "for i in range(len(formulas)):\n",
    "    print(\"{Form}: {Mole_frac:.4f}\".format(Form = formulas[i], Mole_frac = mole_fractions[i]))"
   ]
  },
  {
   "cell_type": "code",
   "execution_count": 6,
   "id": "80392003-dbff-457c-8f59-f4259b79d64f",
   "metadata": {},
   "outputs": [
    {
     "name": "stdout",
     "output_type": "stream",
     "text": [
      "N2:\n",
      "  Mole Fraction: 7.808e-01\n",
      "  Mass Fraction: 7.551e-01\n",
      "O2:\n",
      "  Mole Fraction: 2.095e-01\n",
      "  Mass Fraction: 2.314e-01\n",
      "Ar:\n",
      "  Mole Fraction: 9.340e-03\n",
      "  Mass Fraction: 1.288e-02\n",
      "CO2:\n",
      "  Mole Fraction: 4.120e-04\n",
      "  Mass Fraction: 6.259e-04\n",
      "Ne:\n",
      "  Mole Fraction: 1.818e-05\n",
      "  Mass Fraction: 1.266e-05\n",
      "He:\n",
      "  Mole Fraction: 5.240e-06\n",
      "  Mass Fraction: 7.240e-07\n",
      "CH4:\n",
      "  Mole Fraction: 1.790e-06\n",
      "  Mass Fraction: 9.913e-07\n",
      "Kr:\n",
      "  Mole Fraction: 1.000e-06\n",
      "  Mass Fraction: 2.893e-06\n",
      "H2:\n",
      "  Mole Fraction: 5.000e-07\n",
      "  Mass Fraction: 3.480e-08\n",
      "Xe:\n",
      "  Mole Fraction: 9.000e-08\n",
      "  Mass Fraction: 4.079e-07\n"
     ]
    }
   ],
   "source": [
    "air_formulas = [\"N2\",\"O2\",\"Ar\",\"CO2\",\"Ne\",\"He\",\"CH4\",\"Kr\",\"H2\",\"Xe\"]\n",
    "air_mole_fractions = [0.78084, 0.20946,0.00934,0.000412,0.00001818,0.00000524,0.00000179,0.0000010,0.0000005,0.00000009]\n",
    "air_mass_fractions = mass_frac_from_mole_frac(air_formulas, air_mole_fractions)\n",
    "for i in range(len(air_formulas)):\n",
    "    print(\"{Form}:\\n  Mole Fraction: {Mole_frac:.3e}\\n  Mass Fraction: {Mass_frac:.3e}\".format(\n",
    "        Form = air_formulas[i],\n",
    "        Mole_frac = air_mole_fractions[i],\n",
    "        Mass_frac = air_mass_fractions[i]\n",
    "    ))"
   ]
  },
  {
   "cell_type": "code",
   "execution_count": 7,
   "id": "093249fa-f82e-4f43-a4e3-1aa93f8ab5e7",
   "metadata": {},
   "outputs": [],
   "source": [
    "product_multiply = np.vectorize(lambda X,Y: X*Y)"
   ]
  },
  {
   "cell_type": "code",
   "execution_count": 8,
   "id": "2f2b6bf2-8a2b-4ec7-997d-a94793d66578",
   "metadata": {},
   "outputs": [
    {
     "data": {
      "text/plain": [
       "array([0.03359332, 0.23146704, 0.73493964])"
      ]
     },
     "execution_count": 8,
     "metadata": {},
     "output_type": "execute_result"
    }
   ],
   "source": [
    "MW = [30,80,60]\n",
    "rho = [0.80,1.15,0.70]\n",
    "mole_fraction = [0.07,0.26,0.67]\n",
    "mass_fraction = product_multiply(MW,mole_fraction)/sum(product_multiply(MW,mole_fraction))\n",
    "volume_fraction = product_multiply(mass_fraction,np.vectorize(lambda X: 1/X)(rho))/sum(product_multiply(mass_fraction,np.vectorize(lambda X: 1/X)(rho)))\n",
    "volume_fraction"
   ]
  },
  {
   "cell_type": "code",
   "execution_count": null,
   "id": "8ba15990-9609-4290-9cfe-d19f62cd601c",
   "metadata": {},
   "outputs": [],
   "source": []
  }
 ],
 "metadata": {
  "kernelspec": {
   "display_name": "Python 3 (ipykernel)",
   "language": "python",
   "name": "python3"
  },
  "language_info": {
   "codemirror_mode": {
    "name": "ipython",
    "version": 3
   },
   "file_extension": ".py",
   "mimetype": "text/x-python",
   "name": "python",
   "nbconvert_exporter": "python",
   "pygments_lexer": "ipython3",
   "version": "3.12.5"
  }
 },
 "nbformat": 4,
 "nbformat_minor": 5
}
