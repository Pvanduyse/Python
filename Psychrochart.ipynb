{
 "cells": [
  {
   "cell_type": "code",
   "execution_count": 1,
   "id": "3230d8ad-467c-4481-a3da-5ca744df5f09",
   "metadata": {},
   "outputs": [],
   "source": [
    "from psychrochart import PsychroChart\n",
    "\n",
    "# Load default style:\n",
    "chart_default = PsychroChart.create()\n",
    "#attributes = [word for word in dir(chart_default) if '__' not in word and word[0] != \"_\"]\n",
    "#for a in attributes:\n",
    "#    print(a)\n",
    "#    display(getattr(chart_default,a))\n",
    "#    print(\"\\n\")\n",
    "# customize anything\n",
    "#chart_default.limits.range_temp_c = (15.0, 35.0)\n",
    "#chart_default.limits.range_humidity_g_kg = (5, 25)\n",
    "chart_default.config.saturation.linewidth = 1\n",
    "chart_default.config.constant_wet_temp.color = \"darkblue\"\n",
    "# plot\n",
    "axes = chart_default.plot()\n",
    "axes.get_figure()\n",
    "# or store on disk\n",
    "chart_default.save(\"my-custom-chart.svg\")"
   ]
  },
  {
   "cell_type": "code",
   "execution_count": null,
   "id": "c0238323-80b1-4376-ab13-6ea0b7f0f086",
   "metadata": {},
   "outputs": [],
   "source": []
  }
 ],
 "metadata": {
  "kernelspec": {
   "display_name": "Python 3 (ipykernel)",
   "language": "python",
   "name": "python3"
  },
  "language_info": {
   "codemirror_mode": {
    "name": "ipython",
    "version": 3
   },
   "file_extension": ".py",
   "mimetype": "text/x-python",
   "name": "python",
   "nbconvert_exporter": "python",
   "pygments_lexer": "ipython3",
   "version": "3.13.0"
  }
 },
 "nbformat": 4,
 "nbformat_minor": 5
}
