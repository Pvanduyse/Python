{
 "cells": [
  {
   "cell_type": "code",
   "execution_count": 1,
   "id": "5b9907f2-84a6-4a2f-996f-620a197d429e",
   "metadata": {},
   "outputs": [],
   "source": [
    "from sympy import *\n",
    "import pandas as pd\n",
    "init_printing(use_unicode=True)"
   ]
  },
  {
   "cell_type": "code",
   "execution_count": 27,
   "id": "e47c1dfe-c6ce-475a-a5d0-0cea8c3cdf3e",
   "metadata": {},
   "outputs": [],
   "source": [
    "def my_solve(expression, keys):\n",
    "    result = solve(expression, [var[key] for key in keys])\n",
    "    result = result[0] if len(result) > 0 else []\n",
    "    for i in range(len(result)):\n",
    "        if isinstance(var[keys[i]], Symbol):\n",
    "            var[keys[i]] = result[i]\n",
    "\n",
    "def set_symbols(dictionary, keys):\n",
    "    for key in keys:\n",
    "        dictionary[key] = symbols(key)"
   ]
  },
  {
   "cell_type": "code",
   "execution_count": 25,
   "id": "0d54c3ce-ed8b-4acb-ae16-0527dab388cd",
   "metadata": {},
   "outputs": [
    {
     "data": {
      "text/plain": [
       "{'n_1': 423,\n",
       " 'n_2': n_2,\n",
       " 'x_1B': 0.057,\n",
       " 'x_1X2': 0.539,\n",
       " 'x_1N2': x_1N2,\n",
       " 'x_2B': x_2B,\n",
       " 'x_2X2': x_2X2,\n",
       " 'x_2N2': x_2N2,\n",
       " 'x_2W': x_2W,\n",
       " 'x_3B': x_3B,\n",
       " 'x_3X2': x_3X2,\n",
       " 'x_3N2': x_3N2,\n",
       " 'x_3W': x_3W,\n",
       " 'x_3CO2': x_3CO2,\n",
       " 'x_3NO2': x_3NO2,\n",
       " 'x_4X2': x_4X2,\n",
       " 'x_4N2': x_4N2,\n",
       " 'x_4W': x_4W,\n",
       " 'x_4CO2': x_4CO2,\n",
       " 'x_4NO2': x_4NO2,\n",
       " 'x_5B': x_5B,\n",
       " 'x_5W': x_5W,\n",
       " 'x_6B': x_6B,\n",
       " 'x_6W': x_6W,\n",
       " 'x_7B': x_7B,\n",
       " 'x_7W': x_7W}"
      ]
     },
     "metadata": {},
     "output_type": "display_data"
    }
   ],
   "source": [
    "var = {}\n",
    "var['n_1'] = 423 #mol/hr\n",
    "var['n_2'] = symbols('n_2')\n",
    "var['x_1B'] = 0.057\n",
    "var['x_1X2'] = 0.539\n",
    "var['x_1N2'] = symbols('x_1N2')\n",
    "\n",
    "set_symbols(var,['n_2','x_1N2','x_2B','x_2X2','x_2N2','x_2W','x_3B','x_3X2','x_3N2','x_3W','x_3CO2','x_3NO2','x_4X2','x_4N2','x_4W','x_4CO2','x_4NO2','x_5B','x_5W','x_6B','x_6W','x_7B','x_7W'])\n",
    "display(var)"
   ]
  },
  {
   "cell_type": "code",
   "execution_count": 26,
   "id": "d25bbf25-db68-4d2b-a5eb-a62ec0bc26a4",
   "metadata": {},
   "outputs": [
    {
     "data": {
      "text/plain": [
       "{'n_1': 423,\n",
       " 'n_2': n_2,\n",
       " 'x_1B': 0.057,\n",
       " 'x_1X2': 0.539,\n",
       " 'x_1N2': 0.404000000000000,\n",
       " 'x_2B': -x_2N2 - x_2W - x_2X2 + 1,\n",
       " 'x_2X2': x_2X2,\n",
       " 'x_2N2': x_2N2,\n",
       " 'x_2W': x_2W,\n",
       " 'x_3B': x_3B,\n",
       " 'x_3X2': x_3X2,\n",
       " 'x_3N2': x_3N2,\n",
       " 'x_3W': x_3W,\n",
       " 'x_3CO2': x_3CO2,\n",
       " 'x_3NO2': x_3NO2,\n",
       " 'x_4X2': x_4X2,\n",
       " 'x_4N2': x_4N2,\n",
       " 'x_4W': x_4W,\n",
       " 'x_4CO2': x_4CO2,\n",
       " 'x_4NO2': x_4NO2,\n",
       " 'x_5B': x_5B,\n",
       " 'x_5W': x_5W,\n",
       " 'x_6B': x_6B,\n",
       " 'x_6W': x_6W,\n",
       " 'x_7B': x_7B,\n",
       " 'x_7W': x_7W}"
      ]
     },
     "metadata": {},
     "output_type": "display_data"
    }
   ],
   "source": [
    "for i in range(1,3):\n",
    "    keys = [key for key,value in var.items() if key.startswith(f\"x_{i}\")]\n",
    "    my_solve(1 - sum([var[key] for key in keys]), keys)\n",
    "display(var)"
   ]
  },
  {
   "cell_type": "code",
   "execution_count": null,
   "id": "4b83f0a4-bcfb-45aa-b5ef-6885c4b92698",
   "metadata": {},
   "outputs": [],
   "source": []
  },
  {
   "cell_type": "code",
   "execution_count": null,
   "id": "bc2e12aa-81de-42fe-84ab-eb939d1dd8fd",
   "metadata": {},
   "outputs": [],
   "source": []
  }
 ],
 "metadata": {
  "kernelspec": {
   "display_name": "jupyter_with_pkgs",
   "language": "python",
   "name": "jupyter_with_pkgs"
  },
  "language_info": {
   "codemirror_mode": {
    "name": "ipython",
    "version": 3
   },
   "file_extension": ".py",
   "mimetype": "text/x-python",
   "name": "python",
   "nbconvert_exporter": "python",
   "pygments_lexer": "ipython3",
   "version": "3.7.16"
  }
 },
 "nbformat": 4,
 "nbformat_minor": 5
}
