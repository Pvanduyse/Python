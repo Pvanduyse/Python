{
 "cells": [
  {
   "cell_type": "code",
   "execution_count": null,
   "id": "2bbb0b95-a02e-4a23-aabf-541f2430f00f",
   "metadata": {},
   "outputs": [],
   "source": [
    "from myengineerpkg import molecular_weights as mw_calc\n",
    "from myengineerpkg.all_imports import *"
   ]
  },
  {
   "cell_type": "markdown",
   "id": "fa1fd508-60d3-46b3-b5b7-96d62080fa27",
   "metadata": {},
   "source": [
    "### Class Definitions"
   ]
  },
  {
   "cell_type": "code",
   "execution_count": null,
   "id": "8aa4b3b8-b83c-4a76-b0c2-791dc082575a",
   "metadata": {},
   "outputs": [],
   "source": [
    "class Component:\n",
    "    def __init__(self, key, name=None, formula=None, mw=None, n=None, x=None, m=None, w=None, V=None):\n",
    "        self.key = key\n",
    "        self.name = name\n",
    "        self.formula = formula\n",
    "        self.mw = mw if mw != None else mw_calc.by_formula(formula) if formula != None else None\n",
    "        self.x = x\n",
    "        self.w = w\n",
    "\n",
    "class Stream:\n",
    "    def __init__(self, id, com, head=None, tail=None, m=None, n=None):\n",
    "        self.id = id\n",
    "        self.com = com\n",
    "        self.head = head\n",
    "        self.tail = tail\n",
    "        self.m = m\n",
    "        self.n = n\n",
    "        \n",
    "\n",
    "class System:\n",
    "    def __init__(self, streams=list()):\n",
    "        self.streams = streams\n",
    "\n",
    "    def addStream(self, id, com, head=None, tail=None, m=None, n=None):\n",
    "        self.streams[id] = Stream(id, com, head, tail, m, n)"
   ]
  },
  {
   "cell_type": "code",
   "execution_count": null,
   "id": "eae67cfa-b93e-432c-b0bf-e80b273e965c",
   "metadata": {},
   "outputs": [],
   "source": [
    "W = \"Water\"\n",
    "S = \"Salt (NaCl)\"\n",
    "\n",
    "s1 = Stream(\n",
    "    id=1,\n",
    "    com={\n",
    "        \"W\":Component(\n",
    "            key=\"W\",\n",
    "            name=W, \n",
    "            formula=\"H2O\",\n",
    "            x=0.95\n",
    "        ),\n",
    "        \"S\":Component(\n",
    "            key=\"S\",\n",
    "            name=S,\n",
    "            formula=\"NaCl\"\n",
    "        )\n",
    "    },\n",
    "    n=100 #mol/sec\n",
    ")"
   ]
  },
  {
   "cell_type": "code",
   "execution_count": null,
   "id": "e566c11c-b90d-493d-9b5e-9b5109d9dc13",
   "metadata": {},
   "outputs": [],
   "source": [
    "s1.com[\"S\"].x = 1 - s1.com[\"W\"].x\n",
    "s1.com[\"S\"].x"
   ]
  },
  {
   "cell_type": "code",
   "execution_count": null,
   "id": "f778bc5b-7974-4893-a3e6-fe5e7232319f",
   "metadata": {},
   "outputs": [],
   "source": [
    "n = 100 #mol/sec\n",
    "x_H2O = 0.95\n",
    "x_NaCl = 1 - x_H2O\n",
    "n_H2O = x_H2O*n\n",
    "n_NaCl = x_NaCl*n\n",
    "m_H2O = n_H2O*mw_calc.by_formula(\"H2O\")\n",
    "m_NaCl = n_NaCl*mw_calc.by_formula(\"NaCl\")\n",
    "m = m_H2O + m_NaCl\n",
    "print(n)\n",
    "print(m)\n",
    "print(n*mw_calc.from_mole_frac([\"H2O\",\"NaCl\"],[x_H2O, x_NaCl]))"
   ]
  },
  {
   "cell_type": "code",
   "execution_count": null,
   "id": "efdd8eeb-8727-4b63-82fa-9b593c7ee4bf",
   "metadata": {},
   "outputs": [],
   "source": [
    "print (\"n\\u0307\")"
   ]
  },
  {
   "cell_type": "code",
   "execution_count": null,
   "id": "1950f36d-7e2c-4524-a03b-8414bd2d923f",
   "metadata": {},
   "outputs": [],
   "source": []
  }
 ],
 "metadata": {
  "kernelspec": {
   "display_name": "Python 3 (ipykernel)",
   "language": "python",
   "name": "python3"
  },
  "language_info": {
   "codemirror_mode": {
    "name": "ipython",
    "version": 3
   },
   "file_extension": ".py",
   "mimetype": "text/x-python",
   "name": "python",
   "nbconvert_exporter": "python",
   "pygments_lexer": "ipython3",
   "version": "3.13.0"
  }
 },
 "nbformat": 4,
 "nbformat_minor": 5
}
