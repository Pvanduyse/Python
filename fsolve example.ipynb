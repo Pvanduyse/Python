{
 "cells": [
  {
   "cell_type": "code",
   "execution_count": 1,
   "id": "0012a68f-ad0a-48b9-b1b0-fc6643463662",
   "metadata": {},
   "outputs": [],
   "source": [
    "from myengineerpkg.all_imports import *\n",
    "import matplotlib                     # for saving to pdf\n",
    "matplotlib.use('PDF')                # for saving to pdf\n",
    "import matplotlib.pyplot as plt\n",
    "%matplotlib inline"
   ]
  },
  {
   "cell_type": "code",
   "execution_count": 2,
   "id": "56db099a-d4cc-4f92-8b86-c2593001542d",
   "metadata": {},
   "outputs": [],
   "source": [
    "func1 = lambda x: x[0] * np.cos(x[1]) - 4"
   ]
  },
  {
   "cell_type": "code",
   "execution_count": 3,
   "id": "46de6b91-6e3a-4185-842b-d27d6c0ce93b",
   "metadata": {},
   "outputs": [],
   "source": [
    "func2 = lambda x: x[1] * x[0] - x[1] - 5"
   ]
  },
  {
   "cell_type": "code",
   "execution_count": 4,
   "id": "7b94ff1b-2ee1-42e1-9b9e-e329336af05f",
   "metadata": {},
   "outputs": [],
   "source": [
    "func = lambda x: [func1(x), func2(x)]"
   ]
  },
  {
   "cell_type": "code",
   "execution_count": 5,
   "id": "100be41f-59a8-4f8e-9668-0934cda88a16",
   "metadata": {},
   "outputs": [
    {
     "data": {
      "text/plain": [
       "array([6.50409711, 0.90841421])"
      ]
     },
     "execution_count": 5,
     "metadata": {},
     "output_type": "execute_result"
    }
   ],
   "source": [
    "root = fsolve(func, [1, 1])\n",
    "root"
   ]
  },
  {
   "cell_type": "code",
   "execution_count": 6,
   "id": "9927f458-43ef-40bd-b00c-f839815e7313",
   "metadata": {},
   "outputs": [
    {
     "data": {
      "text/plain": [
       "array([ True,  True])"
      ]
     },
     "execution_count": 6,
     "metadata": {},
     "output_type": "execute_result"
    }
   ],
   "source": [
    "np.isclose(func(root), [0.0, 0.0])  # func(root) should be almost 0.0."
   ]
  }
 ],
 "metadata": {
  "kernelspec": {
   "display_name": "Python 3 (ipykernel)",
   "language": "python",
   "name": "python3"
  },
  "language_info": {
   "codemirror_mode": {
    "name": "ipython",
    "version": 3
   },
   "file_extension": ".py",
   "mimetype": "text/x-python",
   "name": "python",
   "nbconvert_exporter": "python",
   "pygments_lexer": "ipython3",
   "version": "3.12.5"
  }
 },
 "nbformat": 4,
 "nbformat_minor": 5
}
